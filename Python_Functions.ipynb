{
  "nbformat": 4,
  "nbformat_minor": 0,
  "metadata": {
    "kernelspec": {
      "language": "python",
      "display_name": "Python 3",
      "name": "python3"
    },
    "language_info": {
      "pygments_lexer": "ipython3",
      "nbconvert_exporter": "python",
      "version": "3.6.4",
      "file_extension": ".py",
      "codemirror_mode": {
        "name": "ipython",
        "version": 3
      },
      "name": "python",
      "mimetype": "text/x-python"
    },
    "colab": {
      "name": "Python Functions.ipynb",
      "provenance": [],
      "include_colab_link": true
    }
  },
  "cells": [
    {
      "cell_type": "markdown",
      "metadata": {
        "id": "view-in-github",
        "colab_type": "text"
      },
      "source": [
        "<a href=\"https://colab.research.google.com/github/pb111/Python/blob/master/Python_Functions.ipynb\" target=\"_parent\"><img src=\"https://colab.research.google.com/assets/colab-badge.svg\" alt=\"Open In Colab\"/></a>"
      ]
    },
    {
      "cell_type": "markdown",
      "metadata": {
        "id": "OQnA98lHYWY9",
        "colab_type": "text"
      },
      "source": [
        "# **Python Functions**\n",
        "\n",
        "\n",
        "In this kernel, we will learn about Python functions; what is a function, the syntax, components and types of a function. \n",
        "\n",
        "Also, we will learn to create a function in Python."
      ]
    },
    {
      "cell_type": "markdown",
      "metadata": {
        "id": "LaAZrsNiYWZA",
        "colab_type": "text"
      },
      "source": [
        "# **1. What is a function in Python**\n",
        "\n",
        "\n",
        "- In Python, function is a group of related statements that perform a specific task.\n",
        "\n",
        "- Functions help break our program into smaller and modular chunks. As our program grows larger and larger, functions make it more organized and manageable.\n",
        "\n",
        "- Furthermore, it avoids repetition and makes code reusable."
      ]
    },
    {
      "cell_type": "markdown",
      "metadata": {
        "id": "u-55QKzOYWZB",
        "colab_type": "text"
      },
      "source": [
        "- A function is a block of code which only runs when it is called.\n",
        "\n",
        "- You can pass data, known as parameters, into a function.\n",
        "\n",
        "- A function can return data as a result."
      ]
    },
    {
      "cell_type": "markdown",
      "metadata": {
        "id": "mzrjOZd6YWZD",
        "colab_type": "text"
      },
      "source": [
        "# **2. Syntax of Function**\n",
        "\n"
      ]
    },
    {
      "cell_type": "code",
      "metadata": {
        "_uuid": "8f2839f25d086af736a60e9eeb907d3b93b6e0e5",
        "_cell_guid": "b1076dfc-b9ad-4769-8c92-a6c4dae69d19",
        "trusted": true,
        "id": "dfn1jky4YWZE",
        "colab_type": "code",
        "colab": {}
      },
      "source": [
        "def function_name(parameters):\n",
        "        \"\"\"docstring\"\"\"\n",
        "        statement(s)"
      ],
      "execution_count": 0,
      "outputs": []
    },
    {
      "cell_type": "markdown",
      "metadata": {
        "id": "na1evfCuYWZL",
        "colab_type": "text"
      },
      "source": [
        "## **2.1 How Function works in Python?**\n"
      ]
    },
    {
      "cell_type": "markdown",
      "metadata": {
        "id": "d6mVQ3LlYWZM",
        "colab_type": "text"
      },
      "source": [
        "![How Function works in Python](https://cdn.programiz.com/sites/tutorial2program/files/python-how-function-works_1.jpg)"
      ]
    },
    {
      "cell_type": "markdown",
      "metadata": {
        "id": "hefnFEr0YWZN",
        "colab_type": "text"
      },
      "source": [
        "# **3. Creating a Function**\n",
        "\n",
        "- 1 In Python a function is defined using the def keyword followed by the function name and parentheses (()).\n",
        "- 2 Keyword def marks the start of function header.\n",
        "- 3 A function name to uniquely identify it. Function naming follows the same rules of writing identifiers in Python.\n",
        "- 4 Parameters (arguments) through which we pass values to a function. They are optional.\n",
        "- 5 A colon (:) to mark the end of function header.\n",
        "- 6 Optional documentation string (docstring) to describe what the function does.\n",
        "- 7 One or more valid python statements that make up the function body. Statements must have same indentation level (usually 4 spaces).\n",
        "- 8 An optional return statement to return a value from the function.\n",
        "\n",
        "\n",
        "[Python Keywords and Identifiers](https://www.programiz.com/python-programming/keywords-identifier#rules)"
      ]
    },
    {
      "cell_type": "markdown",
      "metadata": {
        "id": "wLvinn9zYWZO",
        "colab_type": "text"
      },
      "source": [
        "# **4. Example of Functions**"
      ]
    },
    {
      "cell_type": "markdown",
      "metadata": {
        "id": "WOATgMYgYWZP",
        "colab_type": "text"
      },
      "source": [
        "## **4.1 Example 1**"
      ]
    },
    {
      "cell_type": "code",
      "metadata": {
        "trusted": true,
        "id": "rLZFgfEpYWZQ",
        "colab_type": "code",
        "colab": {}
      },
      "source": [
        "def my_function():\n",
        "    print(\"Hello from a function\")"
      ],
      "execution_count": 0,
      "outputs": []
    },
    {
      "cell_type": "markdown",
      "metadata": {
        "id": "0P98xSlqYWZW",
        "colab_type": "text"
      },
      "source": [
        "## Call the function"
      ]
    },
    {
      "cell_type": "code",
      "metadata": {
        "trusted": true,
        "id": "2Jhql30xYWZW",
        "colab_type": "code",
        "colab": {
          "base_uri": "https://localhost:8080/",
          "height": 34
        },
        "outputId": "be09375e-0a78-4eb0-c00d-9e9885a26131"
      },
      "source": [
        "my_function()"
      ],
      "execution_count": 3,
      "outputs": [
        {
          "output_type": "stream",
          "text": [
            "Hello from a function\n"
          ],
          "name": "stdout"
        }
      ]
    },
    {
      "cell_type": "markdown",
      "metadata": {
        "id": "oEzJZ9ZrYWZb",
        "colab_type": "text"
      },
      "source": [
        "## **4.2 Example 2**"
      ]
    },
    {
      "cell_type": "code",
      "metadata": {
        "_uuid": "d629ff2d2480ee46fbb7e2d37f6b5fab8052498a",
        "_cell_guid": "79c7e3d0-c299-4dcb-8224-4455121ee9b0",
        "trusted": true,
        "id": "UZsH2mohYWZc",
        "colab_type": "code",
        "colab": {
          "base_uri": "https://localhost:8080/",
          "height": 34
        },
        "outputId": "3af8b1cc-8717-40ad-940f-25478fb4b7c6"
      },
      "source": [
        "def ex2():\n",
        "    x1=x2=5\n",
        "    print(\"The sum of x1 and x2 is\", x1+x2)\n",
        "ex2()"
      ],
      "execution_count": 4,
      "outputs": [
        {
          "output_type": "stream",
          "text": [
            "The sum of x1 and x2 is 10\n"
          ],
          "name": "stdout"
        }
      ]
    },
    {
      "cell_type": "markdown",
      "metadata": {
        "id": "3q_FHgHLYWZg",
        "colab_type": "text"
      },
      "source": [
        "# **5. How to define and call a function in Python**\n",
        "\n",
        "\n",
        "- Function in Python is defined by the `def` statement followed by the function name and parentheses (())."
      ]
    },
    {
      "cell_type": "code",
      "metadata": {
        "trusted": true,
        "id": "46wGfwY7YWZh",
        "colab_type": "code",
        "colab": {
          "base_uri": "https://localhost:8080/",
          "height": 34
        },
        "outputId": "df3f6a02-4d34-43d4-ddd1-5935c3b4c8ea"
      },
      "source": [
        "def func1():\n",
        "    print(\"I am learning Python Function\")  # function definition\n",
        "    \n",
        "func1()                            # function call"
      ],
      "execution_count": 5,
      "outputs": [
        {
          "output_type": "stream",
          "text": [
            "I am learning Python Function\n"
          ],
          "name": "stdout"
        }
      ]
    },
    {
      "cell_type": "markdown",
      "metadata": {
        "id": "VRBqKX9hYWZm",
        "colab_type": "text"
      },
      "source": [
        "![Function definition, call and output](https://www.guru99.com/images/Pythonnew/Python10.1.png)"
      ]
    },
    {
      "cell_type": "markdown",
      "metadata": {
        "id": "mviyi01LYWZm",
        "colab_type": "text"
      },
      "source": [
        "- The function call `func1()` calls our function `func1():` and print the command **\"I am learning Python.\"**\n",
        "\n",
        "- There are some set of rules in Python to define a function.\n",
        "\n",
        "  - Any args or input parameters should be placed within these parentheses\n",
        "\n",
        "  - The function first statement can be an optional statement- docstring or the documentation string of the function.\n",
        "  \n",
        "  - The code within every function starts with a colon (:) and should be indented (space).\n",
        "  \n",
        "  - The statement return (expression) exits a function, optionally passing back a value to the caller. A return statement with no args is the same as return None."
      ]
    },
    {
      "cell_type": "markdown",
      "metadata": {
        "id": "0IYn3eIUYWZn",
        "colab_type": "text"
      },
      "source": [
        "# **6. Docstring and input argument to a function**"
      ]
    },
    {
      "cell_type": "code",
      "metadata": {
        "trusted": true,
        "id": "QsZGfc3dYWZo",
        "colab_type": "code",
        "colab": {}
      },
      "source": [
        "def greet(name):\n",
        "    \"\"\"This function greets to the \n",
        "    person passed in as parameter\"\"\"\n",
        "    print(\"Hello \" + name + \", Good Morning!\")   \n"
      ],
      "execution_count": 0,
      "outputs": []
    },
    {
      "cell_type": "markdown",
      "metadata": {
        "id": "Z_fSE4mUYWZs",
        "colab_type": "text"
      },
      "source": [
        "## **6.1 How to call a function in Python**\n",
        "\n",
        "- Once we have defined a function, we can call it from another function, program or even the Python prompt. \n",
        "\n",
        "- To call a function we simply type the function name with appropriate parameters."
      ]
    },
    {
      "cell_type": "code",
      "metadata": {
        "trusted": true,
        "id": "itp4JYHIYWZt",
        "colab_type": "code",
        "colab": {
          "base_uri": "https://localhost:8080/",
          "height": 34
        },
        "outputId": "702e92c6-07b2-4e9d-f884-078ebb8d8d22"
      },
      "source": [
        "greet(\"Prashant\")"
      ],
      "execution_count": 7,
      "outputs": [
        {
          "output_type": "stream",
          "text": [
            "Hello Prashant, Good Morning!\n"
          ],
          "name": "stdout"
        }
      ]
    },
    {
      "cell_type": "markdown",
      "metadata": {
        "id": "DBorztbeYWZx",
        "colab_type": "text"
      },
      "source": [
        "## **6.2 Docstring**\n",
        "\n",
        "- The first string after the function header is called the docstring and is short for documentation string. It is used to explain in brief, what a function does.\n",
        "\n",
        "- Although optional, documentation is a good programming practice. Unless you can remember what you had for dinner last week, always document your code.\n",
        "\n",
        "- In the above example, we have a docstring immediately below the function header. We generally use triple quotes so that docstring can extend up to multiple lines. This string is available to us as __doc__ attribute of the function."
      ]
    },
    {
      "cell_type": "markdown",
      "metadata": {
        "id": "bY0A8XcZYWZx",
        "colab_type": "text"
      },
      "source": [
        "# **7. Significance of Indentation (Space) in Python**\n",
        "\n",
        "\n",
        "- Before we get familiarize with Python functions, it is important that we understand the indentation rule to declare Python functions and these rules are applicable to other elements of Python as well like declaring conditions, loops or variable.\n",
        "\n",
        "\n",
        "- Python follows a particular style of indentation to define the code, since Python functions don't have any explicit begin or end like curly braces to indicate the start and stop for the function, they have to rely on this indentation. \n",
        "\n",
        "- Here we take a simple example with \"print\" command. When we write \"print\" function right below the def func 2(): It will show an \"indentation error: expected an indented block\".\n",
        "\n"
      ]
    },
    {
      "cell_type": "markdown",
      "metadata": {
        "id": "5i2k-pvwYWZz",
        "colab_type": "text"
      },
      "source": [
        "![Indentation Error](https://www.guru99.com/images/Pythonnew/Python10.2.png)"
      ]
    },
    {
      "cell_type": "markdown",
      "metadata": {
        "id": "SwnkTHCiYWZ0",
        "colab_type": "text"
      },
      "source": [
        "- Now, when we add the indent (space) in front of \"print\" function, it should print as expected.\n",
        "\n"
      ]
    },
    {
      "cell_type": "code",
      "metadata": {
        "trusted": true,
        "id": "Jpi-Wa95YWZ3",
        "colab_type": "code",
        "colab": {
          "base_uri": "https://localhost:8080/",
          "height": 34
        },
        "outputId": "48fab5fb-f4d8-47d5-f518-2ad0fd46f2ea"
      },
      "source": [
        "def func1():\n",
        "    print(\"I am learning Python Functions\")\n",
        "\n",
        "func1()"
      ],
      "execution_count": 8,
      "outputs": [
        {
          "output_type": "stream",
          "text": [
            "I am learning Python Functions\n"
          ],
          "name": "stdout"
        }
      ]
    },
    {
      "cell_type": "markdown",
      "metadata": {
        "id": "9ShwmYi_YWZ-",
        "colab_type": "text"
      },
      "source": [
        "![Expected Output with no error](https://www.guru99.com/images/Pythonnew/Python10.3.png)"
      ]
    },
    {
      "cell_type": "markdown",
      "metadata": {
        "id": "0WD-5X-8YWZ-",
        "colab_type": "text"
      },
      "source": [
        "- At least, one indent is enough to make your code work successfully. \n",
        "\n",
        "- But as a best practice it is advisable to leave about 3-4 indent to call your function."
      ]
    },
    {
      "cell_type": "markdown",
      "metadata": {
        "id": "y0pOlF3_YWZ_",
        "colab_type": "text"
      },
      "source": [
        "- It is also necessary that while declaring indentation, you have to maintain the same indent for the rest of your code. \n",
        "\n",
        "- For example, in below screen shot when we call another statement **still in func1** and when it is not declared right below the first print statement it will show an indentation error **unindent does not match any other indentation level.**"
      ]
    },
    {
      "cell_type": "markdown",
      "metadata": {
        "id": "ON1tDxM3YWaA",
        "colab_type": "text"
      },
      "source": [
        "![Indentation Error](https://www.guru99.com/images/Pythonnew/Python10.4.png)"
      ]
    },
    {
      "cell_type": "markdown",
      "metadata": {
        "id": "GCUoASoDYWaA",
        "colab_type": "text"
      },
      "source": [
        "- Now, when we apply same indentation for both the statements and align them in the same line, it gives the expected output."
      ]
    },
    {
      "cell_type": "markdown",
      "metadata": {
        "id": "uzNGzjrwYWaB",
        "colab_type": "text"
      },
      "source": [
        "![Same indentation for the statements](https://www.guru99.com/images/Pythonnew/Python10.5.png)"
      ]
    },
    {
      "cell_type": "markdown",
      "metadata": {
        "id": "c-OOyPb7YWaE",
        "colab_type": "text"
      },
      "source": [
        "# **8. How Function Return Value - with Return Statement**"
      ]
    },
    {
      "cell_type": "markdown",
      "metadata": {
        "id": "CsSokbbgYWaF",
        "colab_type": "text"
      },
      "source": [
        "## **8.1 A Simple Example**"
      ]
    },
    {
      "cell_type": "code",
      "metadata": {
        "trusted": true,
        "id": "FBXUFOY9YWaF",
        "colab_type": "code",
        "colab": {
          "base_uri": "https://localhost:8080/",
          "height": 34
        },
        "outputId": "2984a545-7c10-48ea-f357-47415e37d4bc"
      },
      "source": [
        "def square(x):\n",
        "    print(x*x)  \n",
        "square(4)"
      ],
      "execution_count": 9,
      "outputs": [
        {
          "output_type": "stream",
          "text": [
            "16\n"
          ],
          "name": "stdout"
        }
      ]
    },
    {
      "cell_type": "markdown",
      "metadata": {
        "id": "ZXvof6EsYWaI",
        "colab_type": "text"
      },
      "source": [
        "## **8.2 Return Command in Python**\n",
        "\n",
        "- Return command in Python specifies what value to give back to the caller of the function.\n",
        "\n",
        "- Let's understand this with the following example."
      ]
    },
    {
      "cell_type": "markdown",
      "metadata": {
        "id": "xdJCovNJYWaJ",
        "colab_type": "text"
      },
      "source": [
        "- Here - we see when function is not \"return\". \n",
        "\n",
        "- For example, we want the square of 4, and it should give answer \"16\" when the code is executed. Which it gives when we simply use **print x x** code, but when you call function **print square** it gives **None** as an output. \n",
        "\n",
        "- This is because when you call the function, recursion does not happen and fall off the end of the function. Python returns **None** for failing off the end of the function."
      ]
    },
    {
      "cell_type": "code",
      "metadata": {
        "trusted": true,
        "id": "Ts_TEscUYWaK",
        "colab_type": "code",
        "colab": {
          "base_uri": "https://localhost:8080/",
          "height": 51
        },
        "outputId": "c845c57b-2bbf-4c3b-bc94-02accba97a4c"
      },
      "source": [
        "# define return function\n",
        "def square(x):\n",
        "    print(x*x)\n",
        "    \n",
        "print(square(4))"
      ],
      "execution_count": 10,
      "outputs": [
        {
          "output_type": "stream",
          "text": [
            "16\n",
            "None\n"
          ],
          "name": "stdout"
        }
      ]
    },
    {
      "cell_type": "markdown",
      "metadata": {
        "id": "p2UZzIpkYWaN",
        "colab_type": "text"
      },
      "source": [
        "![FUnction returns None](https://www.guru99.com/images/Pythonnew/Python10.6.png)"
      ]
    },
    {
      "cell_type": "markdown",
      "metadata": {
        "id": "bnHFbtonYWaO",
        "colab_type": "text"
      },
      "source": [
        "- To make this clearer we replace the print command with assignment command. Let's check the output."
      ]
    },
    {
      "cell_type": "markdown",
      "metadata": {
        "id": "hLY6_fbyYWaO",
        "colab_type": "text"
      },
      "source": [
        "- When you run the command **print square (4)** it actually returns the value of the object since we don't have any specific function to run over here it returns **None**."
      ]
    },
    {
      "cell_type": "code",
      "metadata": {
        "trusted": true,
        "id": "5VoRiH2cYWaP",
        "colab_type": "code",
        "colab": {
          "base_uri": "https://localhost:8080/",
          "height": 34
        },
        "outputId": "9cf563b5-43eb-4555-d277-6e9d3d93f843"
      },
      "source": [
        "def square(x):\n",
        "    y = x*x\n",
        "    \n",
        "print(square(4))"
      ],
      "execution_count": 11,
      "outputs": [
        {
          "output_type": "stream",
          "text": [
            "None\n"
          ],
          "name": "stdout"
        }
      ]
    },
    {
      "cell_type": "markdown",
      "metadata": {
        "id": "WY2pCzTnYWaS",
        "colab_type": "text"
      },
      "source": [
        "![Function returns None](https://www.guru99.com/images/Pythonnew/Python10.7.png)"
      ]
    },
    {
      "cell_type": "markdown",
      "metadata": {
        "id": "Kb0Pb4suYWaT",
        "colab_type": "text"
      },
      "source": [
        "- Now, here we will see how to retrieve the output using **return** command. When you use the **return** function and execute the code, it will give the output \"16.\""
      ]
    },
    {
      "cell_type": "code",
      "metadata": {
        "trusted": true,
        "id": "_4Olcn9DYWaT",
        "colab_type": "code",
        "colab": {
          "base_uri": "https://localhost:8080/",
          "height": 34
        },
        "outputId": "0ba3da21-2321-483d-bdeb-57d0c80e0522"
      },
      "source": [
        "def square(x):\n",
        "    return x*x\n",
        "    \n",
        "print(square(4))"
      ],
      "execution_count": 12,
      "outputs": [
        {
          "output_type": "stream",
          "text": [
            "16\n"
          ],
          "name": "stdout"
        }
      ]
    },
    {
      "cell_type": "markdown",
      "metadata": {
        "id": "njxOnUZdYWaY",
        "colab_type": "text"
      },
      "source": [
        "![Use of Return Command](https://www.guru99.com/images/Pythonnew/Python10.8.png)"
      ]
    },
    {
      "cell_type": "markdown",
      "metadata": {
        "id": "tAY0n8MOYWaY",
        "colab_type": "text"
      },
      "source": [
        "- Functions in Python are themselves an object, and an object has some value. \n",
        "\n",
        "- We will here see how Python treats an object. \n",
        "\n",
        "- When you run the command \"print square\" it returns the value of the object. \n",
        "\n",
        "- Since we have not passed any argument, we don't have any specific function to run over here it returns a default value (0x021B2D30) which is the location of the object. \n",
        "\n",
        "- **In practical Python program, you probably won't ever need to do this.**"
      ]
    },
    {
      "cell_type": "code",
      "metadata": {
        "trusted": true,
        "id": "RiIBixrOYWaZ",
        "colab_type": "code",
        "colab": {
          "base_uri": "https://localhost:8080/",
          "height": 34
        },
        "outputId": "e33cbac4-3e6c-42d6-ce88-e194bc741bf3"
      },
      "source": [
        "def square(x):\n",
        "    return x*x\n",
        "    \n",
        "print(square)"
      ],
      "execution_count": 13,
      "outputs": [
        {
          "output_type": "stream",
          "text": [
            "<function square at 0x7fcd35028f28>\n"
          ],
          "name": "stdout"
        }
      ]
    },
    {
      "cell_type": "markdown",
      "metadata": {
        "id": "X_h1HV-wYWac",
        "colab_type": "text"
      },
      "source": [
        "![Functions are themselves an object](https://www.guru99.com/images/Pythonnew/Python10.9.png)"
      ]
    },
    {
      "cell_type": "markdown",
      "metadata": {
        "id": "V473UElsYWad",
        "colab_type": "text"
      },
      "source": [
        "## **8.3 The return statement**\n",
        "\n",
        "- The **return statement** is used to exit a function and go back to the place from where it was called.\n",
        "\n",
        "- Syntax of return :\n",
        "\n",
        "   `return [expression_list]`\n",
        "   \n",
        "- This statement can contain expression which gets evaluated and the value is returned. If there is no expression in the statement or the return statement itself is not present inside a function, then the function will return the None object."
      ]
    },
    {
      "cell_type": "code",
      "metadata": {
        "trusted": true,
        "id": "QJWS5EfRYWae",
        "colab_type": "code",
        "colab": {
          "base_uri": "https://localhost:8080/",
          "height": 51
        },
        "outputId": "311e65b8-644a-4573-ac0b-b3cbd6f52e5e"
      },
      "source": [
        "print(greet(\"Prashant\"))"
      ],
      "execution_count": 14,
      "outputs": [
        {
          "output_type": "stream",
          "text": [
            "Hello Prashant, Good Morning!\n",
            "None\n"
          ],
          "name": "stdout"
        }
      ]
    },
    {
      "cell_type": "markdown",
      "metadata": {
        "id": "cr_u6q2LYWah",
        "colab_type": "text"
      },
      "source": [
        "## **8.4 Example of Return Statement**"
      ]
    },
    {
      "cell_type": "code",
      "metadata": {
        "trusted": true,
        "id": "WH2JMlAxYWai",
        "colab_type": "code",
        "colab": {}
      },
      "source": [
        "def absolute_value(num):\n",
        "    \"\"\"This function returns the \n",
        "    absolute value of the given number\"\"\"\n",
        "    \n",
        "    if num >=0:\n",
        "        return num\n",
        "    else:\n",
        "        return -num  \n"
      ],
      "execution_count": 0,
      "outputs": []
    },
    {
      "cell_type": "markdown",
      "metadata": {
        "id": "xvqd4PeEYWal",
        "colab_type": "text"
      },
      "source": [
        "### **Call the above function**"
      ]
    },
    {
      "cell_type": "code",
      "metadata": {
        "trusted": true,
        "id": "xnD8DTv4YWam",
        "colab_type": "code",
        "colab": {
          "base_uri": "https://localhost:8080/",
          "height": 34
        },
        "outputId": "4346b3bc-2ae9-455d-8518-f3a6e41e02c7"
      },
      "source": [
        "# Output : 2\n",
        "\n",
        "print(absolute_value(2))"
      ],
      "execution_count": 16,
      "outputs": [
        {
          "output_type": "stream",
          "text": [
            "2\n"
          ],
          "name": "stdout"
        }
      ]
    },
    {
      "cell_type": "code",
      "metadata": {
        "trusted": true,
        "id": "OPBgvHE7YWaq",
        "colab_type": "code",
        "colab": {
          "base_uri": "https://localhost:8080/",
          "height": 34
        },
        "outputId": "f05fed5d-ffcd-4b16-b86d-30412e3e0933"
      },
      "source": [
        "# Output : -4\n",
        "\n",
        "print(absolute_value(-4))"
      ],
      "execution_count": 17,
      "outputs": [
        {
          "output_type": "stream",
          "text": [
            "4\n"
          ],
          "name": "stdout"
        }
      ]
    },
    {
      "cell_type": "markdown",
      "metadata": {
        "id": "SsXErxOaYWau",
        "colab_type": "text"
      },
      "source": [
        "# **9. Scope and Lifetime of variables**\n",
        "\n",
        "- Scope of a variable is the portion of a program where the variable is recognized. Parameters and variables defined inside a function is not visible from outside. Hence, they have a local scope.\n",
        "\n",
        "- Lifetime of a variable is the period throughout which the variable exits in the memory. The lifetime of variables inside a function is as long as the function executes.\n",
        "\n",
        "- They are destroyed once we return from the function. Hence, a function does not remember the value of a variable from its previous calls.\n",
        "\n",
        "- Here is an example to illustrate the scope of a variable inside a function."
      ]
    },
    {
      "cell_type": "code",
      "metadata": {
        "trusted": true,
        "id": "lYJGia_FYWav",
        "colab_type": "code",
        "colab": {
          "base_uri": "https://localhost:8080/",
          "height": 51
        },
        "outputId": "216f1271-1728-41e7-e34d-2cac79fe980e"
      },
      "source": [
        "def my_func():\n",
        "    x=10\n",
        "    print(\"Value inside function:\", x)\n",
        "    \n",
        "x = 20\n",
        "my_func()\n",
        "print(\"Value outside function:\", x)"
      ],
      "execution_count": 18,
      "outputs": [
        {
          "output_type": "stream",
          "text": [
            "Value inside function: 10\n",
            "Value outside function: 20\n"
          ],
          "name": "stdout"
        }
      ]
    },
    {
      "cell_type": "markdown",
      "metadata": {
        "id": "2oh_RrE4YWaz",
        "colab_type": "text"
      },
      "source": [
        "- Here, we can see that the value of x is 20 initially. Even though the function my_func() changed the value of x to 10, it did not effect the value outside the function.\n",
        "\n",
        "- This is because the variable x inside the function is different (local to the function) from the one outside. Although they have same names, they are two different variables with different scope.\n",
        "\n",
        "- On the other hand, variables outside of the function are visible from inside. They have a global scope.\n",
        "\n",
        "- We can read these values from inside the function but cannot change (write) them. In order to modify the value of variables outside the function, they must be declared as global variables using the keyword global.\n",
        "\n"
      ]
    },
    {
      "cell_type": "markdown",
      "metadata": {
        "id": "XAqGOxk7YWaz",
        "colab_type": "text"
      },
      "source": [
        "# **10. Arguments in Functions**\n",
        "\n",
        "- The argument is a value that is passed to the function when it's called.\n",
        "\n",
        "- In other words on the calling side, it is an argument and on the function side it is a parameter.\n",
        "\n",
        "- Let see how Python Args works -"
      ]
    },
    {
      "cell_type": "markdown",
      "metadata": {
        "id": "em-vV0JoYWa0",
        "colab_type": "text"
      },
      "source": [
        "- Arguments are declared in the function definition. While calling the function, you can pass the values for that args as shown below"
      ]
    },
    {
      "cell_type": "code",
      "metadata": {
        "trusted": true,
        "id": "sN0cLBRsYWa1",
        "colab_type": "code",
        "colab": {
          "base_uri": "https://localhost:8080/",
          "height": 34
        },
        "outputId": "c6cade07-6964-4fb9-abf9-f1569e921f19"
      },
      "source": [
        "def multiply(x,y):\n",
        "    print(x*y)\n",
        "    \n",
        "multiply(2,8)"
      ],
      "execution_count": 19,
      "outputs": [
        {
          "output_type": "stream",
          "text": [
            "16\n"
          ],
          "name": "stdout"
        }
      ]
    },
    {
      "cell_type": "markdown",
      "metadata": {
        "id": "tlf9aIKBYWa4",
        "colab_type": "text"
      },
      "source": [
        "![Arguments in Functions](https://www.guru99.com/images/Pythonnew/Python10.10.png)"
      ]
    },
    {
      "cell_type": "markdown",
      "metadata": {
        "id": "sZltGqoMYWa4",
        "colab_type": "text"
      },
      "source": [
        "## **Default value of an argument**\n",
        "\n",
        "- To declare a default value of an argument, assign it a value at function definition as follows-"
      ]
    },
    {
      "cell_type": "markdown",
      "metadata": {
        "id": "i16Fful7YWa5",
        "colab_type": "text"
      },
      "source": [
        "![Default value of an argument](https://www.guru99.com/images/Pythonnew/Python10.11.png)"
      ]
    },
    {
      "cell_type": "markdown",
      "metadata": {
        "id": "beJuC_LVYWa6",
        "colab_type": "text"
      },
      "source": [
        "- x has no default values. \n",
        "\n",
        "- Default values of y=0. \n",
        "\n",
        "- When we supply only one argument while calling multiply function, Python assigns the supplied value to x while keeping the value of y=0. \n",
        "\n",
        "- Hence the multiply of x*y=0"
      ]
    },
    {
      "cell_type": "code",
      "metadata": {
        "trusted": true,
        "id": "zFJfl5_8YWa6",
        "colab_type": "code",
        "colab": {
          "base_uri": "https://localhost:8080/",
          "height": 34
        },
        "outputId": "a3e5a116-4010-4248-d517-5bfb0744c65e"
      },
      "source": [
        "def multiply(x,y=0):\n",
        "    return x*y\n",
        "\n",
        "print(multiply(4))"
      ],
      "execution_count": 20,
      "outputs": [
        {
          "output_type": "stream",
          "text": [
            "0\n"
          ],
          "name": "stdout"
        }
      ]
    },
    {
      "cell_type": "markdown",
      "metadata": {
        "id": "Il8v-_GRYWa9",
        "colab_type": "text"
      },
      "source": [
        "![Default value of y=0](https://www.guru99.com/images/Pythonnew/Python10.12.png)"
      ]
    },
    {
      "cell_type": "markdown",
      "metadata": {
        "id": "2PuS8RpuYWa_",
        "colab_type": "text"
      },
      "source": [
        "- This time we will change the value to y=2 instead of the default value y=0, and it will return the output as (4x2)=8."
      ]
    },
    {
      "cell_type": "code",
      "metadata": {
        "trusted": true,
        "id": "Othc1ey4YWbB",
        "colab_type": "code",
        "colab": {
          "base_uri": "https://localhost:8080/",
          "height": 34
        },
        "outputId": "e9e1655d-baf5-409f-aa8a-a76f89de62fb"
      },
      "source": [
        "def multiply(x,y=0):\n",
        "    return x*y\n",
        "\n",
        "print(multiply(4,y=2))"
      ],
      "execution_count": 21,
      "outputs": [
        {
          "output_type": "stream",
          "text": [
            "8\n"
          ],
          "name": "stdout"
        }
      ]
    },
    {
      "cell_type": "markdown",
      "metadata": {
        "id": "qJ1ZwAZjYWbH",
        "colab_type": "text"
      },
      "source": [
        "![Default value of argument changed](https://www.guru99.com/images/Pythonnew/Python10.13.png)"
      ]
    },
    {
      "cell_type": "markdown",
      "metadata": {
        "id": "4XioRr6QYWbI",
        "colab_type": "text"
      },
      "source": [
        "- You can also change the order in which the arguments can be passed in Python. Here we have reversed the order of the value x and y to x=4 and y=2.\n",
        "\n"
      ]
    },
    {
      "cell_type": "code",
      "metadata": {
        "trusted": true,
        "id": "oY1Qa9MsYWbJ",
        "colab_type": "code",
        "colab": {
          "base_uri": "https://localhost:8080/",
          "height": 68
        },
        "outputId": "6db0fc0e-e3d1-4fb6-dea6-dced5fc16968"
      },
      "source": [
        "def multiply(x,y=0):\n",
        "    print(\"Value of x=\",x)\n",
        "    print(\"Value of y=\",y)\n",
        "    return x*y\n",
        "\n",
        "print(multiply(y=2,x=4))"
      ],
      "execution_count": 22,
      "outputs": [
        {
          "output_type": "stream",
          "text": [
            "Value of x= 4\n",
            "Value of y= 2\n",
            "8\n"
          ],
          "name": "stdout"
        }
      ]
    },
    {
      "cell_type": "markdown",
      "metadata": {
        "id": "2CirMEDAYWbM",
        "colab_type": "text"
      },
      "source": [
        "![Change the order of arguments](https://www.guru99.com/images/Pythonnew/Python10.14.png)"
      ]
    },
    {
      "cell_type": "markdown",
      "metadata": {
        "id": "NydO-QzbYWbN",
        "colab_type": "text"
      },
      "source": [
        "- Multiple Arguments can also be passed as an array. Here in the example we call the multiple args (1,2,3,4,5) by calling the (*args) function.\n",
        "\n",
        "- Example: We declared multiple args as number (1,2,3,4,5) when we call the `(*args)` function; it prints out the output as (1,2,3,4,5)"
      ]
    },
    {
      "cell_type": "code",
      "metadata": {
        "trusted": true,
        "id": "qVrdJZ4pYWbN",
        "colab_type": "code",
        "colab": {
          "base_uri": "https://localhost:8080/",
          "height": 34
        },
        "outputId": "c8b3f246-657b-43ac-b5c2-bd29f58df1c6"
      },
      "source": [
        "#passing multiple arguments\n",
        "def guru99(*args):\n",
        "    \n",
        "    print(args)\n",
        "    \n",
        "guru99(1,2,3,4,5)"
      ],
      "execution_count": 23,
      "outputs": [
        {
          "output_type": "stream",
          "text": [
            "(1, 2, 3, 4, 5)\n"
          ],
          "name": "stdout"
        }
      ]
    },
    {
      "cell_type": "markdown",
      "metadata": {
        "id": "_WJS5TuKYWbR",
        "colab_type": "text"
      },
      "source": [
        "![Multiple Arguments in Function](https://www.guru99.com/images/Pythonnew/Python10.15.png)"
      ]
    },
    {
      "cell_type": "markdown",
      "metadata": {
        "id": "sIIrBHkUYWbR",
        "colab_type": "text"
      },
      "source": [
        "## **10.1 Arguments**\n",
        "\n",
        "- Information can be passed into functions as arguments.\n",
        "\n",
        "- Arguments are specified after the function name, inside the parentheses. \n",
        "\n",
        "- You can add as many arguments as you want, just separate them with a comma."
      ]
    },
    {
      "cell_type": "markdown",
      "metadata": {
        "id": "rAeUTDOHYWbS",
        "colab_type": "text"
      },
      "source": [
        "### **Example of function with argument**\n",
        "\n",
        "- The following example has a function with one argument (fname). \n",
        "\n",
        "- When the function is called, we pass along a first name, which is used inside the function to print the full name."
      ]
    },
    {
      "cell_type": "code",
      "metadata": {
        "trusted": true,
        "id": "fsuPD03nYWbT",
        "colab_type": "code",
        "colab": {}
      },
      "source": [
        "def my_function(fname):\n",
        "    print(fname + \" Refsnes\")"
      ],
      "execution_count": 0,
      "outputs": []
    },
    {
      "cell_type": "code",
      "metadata": {
        "trusted": true,
        "id": "szBak4IGYWbW",
        "colab_type": "code",
        "colab": {
          "base_uri": "https://localhost:8080/",
          "height": 34
        },
        "outputId": "f6b9f96c-bac5-42b5-de1a-dedf53313585"
      },
      "source": [
        "my_function(\"Emil\")"
      ],
      "execution_count": 25,
      "outputs": [
        {
          "output_type": "stream",
          "text": [
            "Emil Refsnes\n"
          ],
          "name": "stdout"
        }
      ]
    },
    {
      "cell_type": "code",
      "metadata": {
        "trusted": true,
        "id": "J_GXulNnYWba",
        "colab_type": "code",
        "colab": {
          "base_uri": "https://localhost:8080/",
          "height": 34
        },
        "outputId": "80790653-e1d2-49ed-8aa0-06d2ce1077bf"
      },
      "source": [
        "my_function(\"Tobias\")"
      ],
      "execution_count": 26,
      "outputs": [
        {
          "output_type": "stream",
          "text": [
            "Tobias Refsnes\n"
          ],
          "name": "stdout"
        }
      ]
    },
    {
      "cell_type": "code",
      "metadata": {
        "trusted": true,
        "id": "zXrchTUXYWbg",
        "colab_type": "code",
        "colab": {
          "base_uri": "https://localhost:8080/",
          "height": 34
        },
        "outputId": "97cd81b8-62fe-4f1f-8ca6-8931cd580c42"
      },
      "source": [
        "my_function(\"Linus\")"
      ],
      "execution_count": 27,
      "outputs": [
        {
          "output_type": "stream",
          "text": [
            "Linus Refsnes\n"
          ],
          "name": "stdout"
        }
      ]
    },
    {
      "cell_type": "markdown",
      "metadata": {
        "id": "cBjjn52IYWbk",
        "colab_type": "text"
      },
      "source": [
        "## **Arguments are often shortened to args in Python documentations.**\n",
        "\n",
        "\n",
        "[Python Functions](https://www.w3schools.com/python/python_functions.asp)"
      ]
    },
    {
      "cell_type": "markdown",
      "metadata": {
        "id": "jN2FeS5HYWbl",
        "colab_type": "text"
      },
      "source": [
        "## **Parameters or Arguments?**\n",
        "\n",
        "- The terms **parameter** and **argument** can be used for the same thing: information that are passed into a function.\n",
        "\n",
        "- From a function's perspective:\n",
        "\n",
        "  - **parameter** - A parameter is the variable listed inside the parentheses in the function definition.\n",
        "\n",
        "  - **argument** - An argument is the value that are sent to the function when it is called."
      ]
    },
    {
      "cell_type": "markdown",
      "metadata": {
        "id": "r3xlV79SYWbl",
        "colab_type": "text"
      },
      "source": [
        "# **Number of Arguments**\n",
        "\n",
        "By default, a function must be called with the correct number of arguments. Meaning that if your function expects 2 arguments, you have to call the function with 2 arguments, not more, and not less."
      ]
    },
    {
      "cell_type": "markdown",
      "metadata": {
        "id": "WopwZ-nuYWbm",
        "colab_type": "text"
      },
      "source": [
        "### Example\n",
        "\n",
        "- This function expects 2 arguments, and gets 2 arguments:"
      ]
    },
    {
      "cell_type": "code",
      "metadata": {
        "trusted": true,
        "id": "1BJaeAlWYWbm",
        "colab_type": "code",
        "colab": {
          "base_uri": "https://localhost:8080/",
          "height": 34
        },
        "outputId": "96043cf2-143c-4e0b-df4b-babbe99cddc3"
      },
      "source": [
        "def my_function(fname, lname):\n",
        "    print(fname + \" \" + lname)\n",
        "    \n",
        "my_function(\"Emil\", \"Refsnes\")"
      ],
      "execution_count": 28,
      "outputs": [
        {
          "output_type": "stream",
          "text": [
            "Emil Refsnes\n"
          ],
          "name": "stdout"
        }
      ]
    },
    {
      "cell_type": "markdown",
      "metadata": {
        "id": "jZ_3VCytYWbq",
        "colab_type": "text"
      },
      "source": [
        "If you try to call the function with 1 or 3 arguments, you will get an error."
      ]
    }
  ]
}