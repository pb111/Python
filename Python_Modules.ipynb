{
  "nbformat": 4,
  "nbformat_minor": 0,
  "metadata": {
    "colab": {
      "name": "Python Modules",
      "provenance": [],
      "authorship_tag": "ABX9TyOK44pWwo5Um2lormj8YX9K",
      "include_colab_link": true
    },
    "kernelspec": {
      "name": "python3",
      "display_name": "Python 3"
    }
  },
  "cells": [
    {
      "cell_type": "markdown",
      "metadata": {
        "id": "view-in-github",
        "colab_type": "text"
      },
      "source": [
        "<a href=\"https://colab.research.google.com/github/pb111/Python-tutorials-and-projects/blob/master/Python_Modules.ipynb\" target=\"_parent\"><img src=\"https://colab.research.google.com/assets/colab-badge.svg\" alt=\"Open In Colab\"/></a>"
      ]
    },
    {
      "cell_type": "markdown",
      "metadata": {
        "id": "yoDhqIOy7hQ9"
      },
      "source": [
        "# **Python Modules**\n",
        "\n",
        "\n",
        "- In this article, you will learn to create and import custom modules in Python. Also, you will find different techniques to import and use custom and built-in modules in Python."
      ]
    },
    {
      "cell_type": "markdown",
      "metadata": {
        "id": "8B9yQc987w5j"
      },
      "source": [
        "## **1. What are modules in Python?**\n",
        "\n",
        "- Modules refer to a file containing Python statements and definitions.\n",
        "\n",
        "- A file containing Python code, for example: `example.py`, is called a module, and its module name would be `example`.\n",
        "\n",
        "- We use modules to break down large programs into small manageable and organized files. Furthermore, modules provide reusability of code.\n",
        "\n",
        "- We can define our most used functions in a module and import it, instead of copying their definitions into different programs.\n",
        "\n",
        "- Let us create a module. Type the following and save it as `example.py`."
      ]
    },
    {
      "cell_type": "code",
      "metadata": {
        "id": "0FPRKZOM7apW"
      },
      "source": [
        "# Python Module - example.py\n",
        "\n",
        "def add(a, b):\n",
        "   \"\"\"This program adds two\n",
        "   numbers and return the result\"\"\"\n",
        "\n",
        "   result = a + b\n",
        "   return result"
      ],
      "execution_count": 1,
      "outputs": []
    },
    {
      "cell_type": "markdown",
      "metadata": {
        "id": "Xe9DKTO2-jf8"
      },
      "source": [
        "- Here, we have defined a [function](https://www.programiz.com/python-programming/function) `add()` inside a module named `example`. \n",
        "\n",
        "- The function takes in two numbers and returns their sum."
      ]
    },
    {
      "cell_type": "markdown",
      "metadata": {
        "id": "oOp7cDCR_Hb8"
      },
      "source": [
        "## **2. How to import modules in Python?**\n",
        "\n",
        "- We can import the definitions inside a module to another module or the interactive interpreter in Python.\n",
        "\n",
        "- We use the `import` keyword to do this. To import our previously defined module `example`, we type the following in the Python prompt.\n",
        "\n",
        "- `>>> import example`\n",
        "\n",
        "- This does not import the names of the functions defined in `example` directly in the current symbol table. It only imports the module name `example` there.\n",
        "\n",
        "\n",
        "- Using the module name, we can access the function using the `dot .` operator. For example:\n",
        "\n",
        "- `>>> example.add(4,5.5)`\n",
        "\n",
        "9.5"
      ]
    },
    {
      "cell_type": "markdown",
      "metadata": {
        "id": "tBXZ6hIYBVdi"
      },
      "source": [
        "## **3. Python Standard Modules**\n",
        "\n",
        "- Python has tons of standard modules. \n",
        "\n",
        "- You can check out the full list of [Python standard modules](https://docs.python.org/3/py-modindex.html) and their use cases. \n",
        "\n",
        "- These files are in the Lib directory inside the location where you installed Python.\n",
        "\n",
        "- Standard modules can be imported the same way as we import our user-defined modules.\n",
        "\n",
        "- There are various ways to import modules. They are listed below."
      ]
    },
    {
      "cell_type": "markdown",
      "metadata": {
        "id": "lnNe3wiEH-EP"
      },
      "source": [
        "## **4. Python import statement**\n",
        "\n",
        "- We can import a module using the `import` statement and access the definitions inside it using the dot operator as described above. \n",
        "- Here is an example."
      ]
    },
    {
      "cell_type": "code",
      "metadata": {
        "colab": {
          "base_uri": "https://localhost:8080/"
        },
        "id": "2FuBl4z7-XW0",
        "outputId": "2f15f206-60b4-4e6a-cc09-5dcf6b8ab545"
      },
      "source": [
        "# import statement example\n",
        "# to import standard module math\n",
        "\n",
        "import math\n",
        "print(\"The value of pi is\", math.pi)"
      ],
      "execution_count": 2,
      "outputs": [
        {
          "output_type": "stream",
          "text": [
            "The value of pi is 3.141592653589793\n"
          ],
          "name": "stdout"
        }
      ]
    },
    {
      "cell_type": "markdown",
      "metadata": {
        "id": "ofsQX6pxJSm1"
      },
      "source": [
        "## **5. Import with renaming**\n",
        "\n",
        "- We can import a module by renaming it as follows:"
      ]
    },
    {
      "cell_type": "code",
      "metadata": {
        "colab": {
          "base_uri": "https://localhost:8080/"
        },
        "id": "Z8InmDq0IQOw",
        "outputId": "d16fba7c-109f-46e4-d7ce-c9f7661688f4"
      },
      "source": [
        "# import module by renaming it\n",
        "\n",
        "import math as m\n",
        "print(\"The value of pi is\", m.pi)"
      ],
      "execution_count": 3,
      "outputs": [
        {
          "output_type": "stream",
          "text": [
            "The value of pi is 3.141592653589793\n"
          ],
          "name": "stdout"
        }
      ]
    },
    {
      "cell_type": "markdown",
      "metadata": {
        "id": "jRpt0ZkGJegF"
      },
      "source": [
        "- We have renamed the `math` module as `m`. This can save us typing time in some cases.\n",
        "\n",
        "- Note that the name `math` is not recognized in our scope. Hence, `math.pi` is invalid, and `m.pi` is the correct implementation."
      ]
    },
    {
      "cell_type": "markdown",
      "metadata": {
        "id": "sfQyzG67KMVV"
      },
      "source": [
        "## **6. Python from...import statement**\n",
        "\n",
        "- We can import specific names from a module without importing the module as a whole. Here is an example."
      ]
    },
    {
      "cell_type": "code",
      "metadata": {
        "colab": {
          "base_uri": "https://localhost:8080/"
        },
        "id": "cUWD7LHUKpjm",
        "outputId": "9e3b436b-9c07-4e3d-8a92-38acf4bb780e"
      },
      "source": [
        "# import only pi from math module\n",
        "\n",
        "from math import pi\n",
        "print(\"The value of pi is\", pi)"
      ],
      "execution_count": 4,
      "outputs": [
        {
          "output_type": "stream",
          "text": [
            "The value of pi is 3.141592653589793\n"
          ],
          "name": "stdout"
        }
      ]
    },
    {
      "cell_type": "markdown",
      "metadata": {
        "id": "p4IuKCrVLI1_"
      },
      "source": [
        "- Here, we imported only the `pi` attribute from the `math` module."
      ]
    },
    {
      "cell_type": "markdown",
      "metadata": {
        "id": "vKoGXGsDLR-q"
      },
      "source": [
        "- In such cases, we don't use the dot operator. We can also import multiple attributes as follows:"
      ]
    },
    {
      "cell_type": "code",
      "metadata": {
        "colab": {
          "base_uri": "https://localhost:8080/"
        },
        "id": "rPydrPcWLBez",
        "outputId": "25a19ca3-010b-42b3-e43b-9696e1878d00"
      },
      "source": [
        "from math import pi, e\n",
        "pi"
      ],
      "execution_count": 5,
      "outputs": [
        {
          "output_type": "execute_result",
          "data": {
            "text/plain": [
              "3.141592653589793"
            ]
          },
          "metadata": {
            "tags": []
          },
          "execution_count": 5
        }
      ]
    },
    {
      "cell_type": "code",
      "metadata": {
        "id": "n4PiJz08LlZu",
        "colab": {
          "base_uri": "https://localhost:8080/"
        },
        "outputId": "7005402e-1ae2-4a86-a18e-65c45c8495b5"
      },
      "source": [
        "e"
      ],
      "execution_count": 6,
      "outputs": [
        {
          "output_type": "execute_result",
          "data": {
            "text/plain": [
              "2.718281828459045"
            ]
          },
          "metadata": {
            "tags": []
          },
          "execution_count": 6
        }
      ]
    },
    {
      "cell_type": "markdown",
      "metadata": {
        "id": "rbcM9Mf89V6v"
      },
      "source": [
        "## **7. Import all names**\n",
        "\n",
        "- We can import all names(definitions) from a module using the following construct:"
      ]
    },
    {
      "cell_type": "code",
      "metadata": {
        "colab": {
          "base_uri": "https://localhost:8080/"
        },
        "id": "fkIQ7gla85jc",
        "outputId": "33f5d050-dc30-44cb-dc3d-4934c5cbd1cf"
      },
      "source": [
        "# import all names from the standard module math\n",
        "\n",
        "from math import *\n",
        "print(\"The value of pi is\", pi)"
      ],
      "execution_count": 7,
      "outputs": [
        {
          "output_type": "stream",
          "text": [
            "The value of pi is 3.141592653589793\n"
          ],
          "name": "stdout"
        }
      ]
    },
    {
      "cell_type": "markdown",
      "metadata": {
        "id": "2wSq4wiK9srg"
      },
      "source": [
        "- Here, we have imported all the definitions from the math module. This includes all names visible in our scope except those beginning with an underscore(private definitions)."
      ]
    },
    {
      "cell_type": "markdown",
      "metadata": {
        "id": "0heK82Mw-8pg"
      },
      "source": [
        "## **8. Python Module Search Path**\n",
        "\n",
        "While importing a module, Python looks at several places. Interpreter first looks for a built-in module. Then(if built-in module not found), Python looks into a list of directories defined in `sys.path`. The search is in this order.\n",
        "\n",
        "- The current directory.\n",
        "\n",
        "- PYTHONPATH (an environment variable with a list of directories).\n",
        "\n",
        "- The installation-dependent default directory."
      ]
    },
    {
      "cell_type": "code",
      "metadata": {
        "colab": {
          "base_uri": "https://localhost:8080/"
        },
        "id": "ZXB71H8R_SHq",
        "outputId": "fb409d10-ff99-4294-c764-15a6043dea10"
      },
      "source": [
        "import sys\n",
        "sys.path"
      ],
      "execution_count": 8,
      "outputs": [
        {
          "output_type": "execute_result",
          "data": {
            "text/plain": [
              "['',\n",
              " '/env/python',\n",
              " '/usr/lib/python36.zip',\n",
              " '/usr/lib/python3.6',\n",
              " '/usr/lib/python3.6/lib-dynload',\n",
              " '/usr/local/lib/python3.6/dist-packages',\n",
              " '/usr/lib/python3/dist-packages',\n",
              " '/usr/local/lib/python3.6/dist-packages/IPython/extensions',\n",
              " '/root/.ipython']"
            ]
          },
          "metadata": {
            "tags": []
          },
          "execution_count": 8
        }
      ]
    },
    {
      "cell_type": "markdown",
      "metadata": {
        "id": "JYx6cRov_dCG"
      },
      "source": [
        "We can add and modify this list to add our own path."
      ]
    },
    {
      "cell_type": "markdown",
      "metadata": {
        "id": "ihs9zNDbA1ZS"
      },
      "source": [
        "## **9. Reloading a module**\n",
        "\n",
        "- The Python interpreter imports a module only once during a session. This makes things more efficient. Here is an example to show how this works.\n",
        "\n",
        "- Suppose we have the following code in a module named `my_module`."
      ]
    },
    {
      "cell_type": "code",
      "metadata": {
        "colab": {
          "base_uri": "https://localhost:8080/"
        },
        "id": "FNfumsXM_eJ3",
        "outputId": "4e8e4777-0dbf-402a-b96b-8ed82b7efb61"
      },
      "source": [
        "# This module shows the effect of\n",
        "#  multiple imports and reload\n",
        "\n",
        "print(\"This code got executed\")"
      ],
      "execution_count": 9,
      "outputs": [
        {
          "output_type": "stream",
          "text": [
            "This code got executed\n"
          ],
          "name": "stdout"
        }
      ]
    },
    {
      "cell_type": "markdown",
      "metadata": {
        "id": "Vq3v-aHXBNok"
      },
      "source": [
        "Now we see the effect of multiple imports."
      ]
    },
    {
      "cell_type": "markdown",
      "metadata": {
        "id": "Izd_KFQmBbtZ"
      },
      "source": [
        "- `>>> import my_module`\n",
        "- This code got executed\n",
        "- `>>> import my_module`\n",
        "- `>>> import my_module`"
      ]
    },
    {
      "cell_type": "markdown",
      "metadata": {
        "id": "4CQYaeW0BtwZ"
      },
      "source": [
        "- We can see that our code got executed only once. This goes to say that our module was imported only once.\n",
        "\n",
        "- Now if our module changed during the course of the program, we would have to reload it.One way to do this is to restart the interpreter. But this does not help much.\n",
        "\n",
        "- Python provides a more efficient way of doing this. We can use the `reload()` function inside the `imp` module to reload a module. We can do it in the following ways:"
      ]
    },
    {
      "cell_type": "markdown",
      "metadata": {
        "id": "YIjC1wEbB9r3"
      },
      "source": [
        "- `>>> import imp`\n",
        "- `>>> import my_module`\n",
        "This code got executed\n",
        "- `>>> import my_module`\n",
        "- `>>> imp.reload(my_module)`\n",
        "This code got executed\n",
        "- `<module 'my_module' from '.\\\\my_module.py'>`"
      ]
    },
    {
      "cell_type": "markdown",
      "metadata": {
        "id": "DyAF04R2CXay"
      },
      "source": [
        "## **10. The dir() built-in function**\n",
        "\n",
        "- We can use the `dir()` function to find out names that are defined inside a module.\n",
        "\n",
        "- For example, we have defined a function `add()` in the module `example` that we had in the beginning.\n",
        "\n",
        "- We can use `dir` in `example` module in the following way:"
      ]
    },
    {
      "cell_type": "markdown",
      "metadata": {
        "id": "7iRaWK_YC1ao"
      },
      "source": [
        "- `>>> dir(example)`\n",
        "- ['__builtins__',\n",
        "- '__cached__',\n",
        "- '__doc__',\n",
        "- '__file__',\n",
        "- '__initializing__',\n",
        "- '__loader__',\n",
        "- '__name__',\n",
        "- '__package__',\n",
        "- 'add']"
      ]
    },
    {
      "cell_type": "markdown",
      "metadata": {
        "id": "OeeEBb-QDiQY"
      },
      "source": [
        "- Here, we can see a sorted list of names (along with `add`). \n",
        "\n",
        "- All other names that begin with an underscore are default Python attributes associated with the module (not user-defined)."
      ]
    },
    {
      "cell_type": "markdown",
      "metadata": {
        "id": "1Smpeu_pDt1d"
      },
      "source": [
        "- For example, the __name__ attribute contains the name of the module.\n",
        "\n",
        "\n",
        "- `>>> import example`\n",
        "- `>>> example.__name__`\n",
        "- `example`"
      ]
    },
    {
      "cell_type": "markdown",
      "metadata": {
        "id": "_xWGK_eLEDm5"
      },
      "source": [
        "- All the names defined in our current namespace can be found out using \n",
        "the `dir()` function without any arguments.\n",
        "\n",
        "\n",
        "- `>>> a = 1`\n",
        "- `>>> b = \"hello\"`\n",
        "- `>>> import math`\n",
        "- `>>> dir()`\n",
        "- ['__builtins__', '__doc__', '__name__', 'a', 'b', 'math', 'pyscripter']"
      ]
    },
    {
      "cell_type": "markdown",
      "metadata": {
        "id": "9Kr_MMvnKkmW"
      },
      "source": [
        "https://www.programiz.com/python-programming/modules"
      ]
    }
  ]
}