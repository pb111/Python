{
  "nbformat": 4,
  "nbformat_minor": 0,
  "metadata": {
    "colab": {
      "name": "Python Classes and Objects",
      "provenance": [],
      "authorship_tag": "ABX9TyN9LVGTNmgLQRKXq1PE+4Wi",
      "include_colab_link": true
    },
    "kernelspec": {
      "name": "python3",
      "display_name": "Python 3"
    }
  },
  "cells": [
    {
      "cell_type": "markdown",
      "metadata": {
        "id": "view-in-github",
        "colab_type": "text"
      },
      "source": [
        "<a href=\"https://colab.research.google.com/github/pb111/Python-tutorials-and-projects/blob/master/Python_Classes_and_Objects.ipynb\" target=\"_parent\"><img src=\"https://colab.research.google.com/assets/colab-badge.svg\" alt=\"Open In Colab\"/></a>"
      ]
    },
    {
      "cell_type": "markdown",
      "metadata": {
        "id": "aEpWin-7MUQd"
      },
      "source": [
        "# **Python Classes and Objects**"
      ]
    },
    {
      "cell_type": "markdown",
      "metadata": {
        "id": "QSoIqtZ3MlKp"
      },
      "source": [
        "## **1. Python Classes/Objects**\n",
        "\n",
        "- Python is an object oriented programming language.\n",
        "\n",
        "- Almost everything in Python is an object, with its properties and methods.\n",
        "\n",
        "- A Class is like an object constructor, or a \"blueprint\" for creating objects."
      ]
    },
    {
      "cell_type": "markdown",
      "metadata": {
        "id": "cG-iDersM_Nu"
      },
      "source": [
        "## **2. Create a Class**\n",
        "\n",
        "- To create a class, use the keyword **class**:"
      ]
    },
    {
      "cell_type": "markdown",
      "metadata": {
        "id": "cfATmgM3NTax"
      },
      "source": [
        "#### **Example**\n",
        "\n",
        "- Create a class named **MyClass**, with a property named x:"
      ]
    },
    {
      "cell_type": "code",
      "metadata": {
        "id": "Qqpkb_FIMH4T"
      },
      "source": [
        "class MyClass:\n",
        "    x = 5"
      ],
      "execution_count": 1,
      "outputs": []
    },
    {
      "cell_type": "markdown",
      "metadata": {
        "id": "S6Hp9jEqOOi9"
      },
      "source": [
        "## **3. Create Object**\n",
        "\n",
        "- Now we can use the class named **MyClass** to create objects:"
      ]
    },
    {
      "cell_type": "markdown",
      "metadata": {
        "id": "wgU00jVHOY_P"
      },
      "source": [
        "#### **Example**\n",
        "\n",
        "- Create an object named p1, and print the value of x:"
      ]
    },
    {
      "cell_type": "code",
      "metadata": {
        "colab": {
          "base_uri": "https://localhost:8080/"
        },
        "id": "8H9AN7haNxQc",
        "outputId": "c0c45577-cb76-4da5-b5ab-bccefb5eb32f"
      },
      "source": [
        "p1 = MyClass()\n",
        "print(p1.x)"
      ],
      "execution_count": 2,
      "outputs": [
        {
          "output_type": "stream",
          "text": [
            "5\n"
          ],
          "name": "stdout"
        }
      ]
    },
    {
      "cell_type": "markdown",
      "metadata": {
        "id": "cs-ImFRiPW9k"
      },
      "source": [
        "## **4. The `__init__()` Function**\n",
        "\n",
        "- The examples above are classes and objects in their simplest form, and are not really useful in real life applications.\n",
        "\n",
        "- To understand the meaning of classes we have to understand the built-in `__init__()` function.\n",
        "\n",
        "- All classes have a function called `__init__()`, which is always executed when the class is being initiated.\n",
        "\n",
        "- Use the `__init__()` function to assign values to object properties, or other operations that are necessary to do when the object is being created:"
      ]
    },
    {
      "cell_type": "markdown",
      "metadata": {
        "id": "OJFM4RMEPzbe"
      },
      "source": [
        "#### **Example**\n",
        "\n",
        "- Create a class named Person, use the `__init__()` function to assign values for name and age:"
      ]
    },
    {
      "cell_type": "code",
      "metadata": {
        "id": "6emsLy4uO4a0",
        "colab": {
          "base_uri": "https://localhost:8080/"
        },
        "outputId": "89094122-ed27-4cf0-d6d3-687546565651"
      },
      "source": [
        "# create a class\n",
        "class Person:\n",
        "    \n",
        "    # instance attribute\n",
        "    def __init__(self, name, age):\n",
        "        self.name = name\n",
        "        self.age = age\n",
        "        \n",
        "# instantiate the Person class\n",
        "p1 = Person(\"John\", 36)\n",
        "\n",
        "# access the instance attributes\n",
        "print(p1.name)\n",
        "print(p1.age)"
      ],
      "execution_count": 3,
      "outputs": [
        {
          "output_type": "stream",
          "text": [
            "John\n",
            "36\n"
          ],
          "name": "stdout"
        }
      ]
    },
    {
      "cell_type": "markdown",
      "metadata": {
        "id": "zKyr2zmYDtYN"
      },
      "source": [
        "- **Note**: The `__init__()` function is called automatically every time the class is being used to create a new object."
      ]
    },
    {
      "cell_type": "markdown",
      "metadata": {
        "id": "uRlNRTqRFuCi"
      },
      "source": [
        "## **5. Object Methods**\n",
        "\n",
        "- Objects can also contain methods. Methods in objects are functions that belong to the object.\n",
        "\n",
        "- Let us create a method in the Person class:"
      ]
    },
    {
      "cell_type": "code",
      "metadata": {
        "colab": {
          "base_uri": "https://localhost:8080/"
        },
        "id": "Bft9H-ksDfMx",
        "outputId": "c613662e-77c7-4841-9301-59fca57a190f"
      },
      "source": [
        "# create a class\n",
        "class Person:\n",
        "\n",
        "    # instance attribute\n",
        "    def __init__(self, name, age):\n",
        "        self.name = name\n",
        "        self.age = age\n",
        "\n",
        "    # instance method\n",
        "    def myfunc(self):\n",
        "        print(\"Hello my name is \" + self.name)\n",
        "\n",
        "# instantiate the Person class\n",
        "p1 = Person(\"John\", 36)\n",
        "\n",
        "# access the instance attributes\n",
        "print(p1.name)\n",
        "print(p1.age)\n",
        "\n",
        "# access the object method\n",
        "p1.myfunc()\n"
      ],
      "execution_count": 5,
      "outputs": [
        {
          "output_type": "stream",
          "text": [
            "John\n",
            "36\n",
            "Hello my name is John\n"
          ],
          "name": "stdout"
        }
      ]
    },
    {
      "cell_type": "markdown",
      "metadata": {
        "id": "NGVSFhuLJDgZ"
      },
      "source": [
        "- **Note**: The self parameter is a reference to the current instance of the class, and is used to access variables that belong to the class."
      ]
    },
    {
      "cell_type": "markdown",
      "metadata": {
        "id": "39Nn43wOJ7_j"
      },
      "source": [
        "## **6. The self Parameter**\n",
        "\n",
        "- The `self` parameter is a reference to the current instance of the class, and is used to access variables that belongs to the class.\n",
        "\n",
        "- It does not have to be named self , you can call it whatever you like, but it has to be the first parameter of any function in the class:"
      ]
    },
    {
      "cell_type": "markdown",
      "metadata": {
        "id": "2q0bvrOgKagp"
      },
      "source": [
        "#### **Example**\n",
        "\n",
        "- Use the words `mysillyobject` and `abc` instead of `self`:"
      ]
    },
    {
      "cell_type": "code",
      "metadata": {
        "colab": {
          "base_uri": "https://localhost:8080/"
        },
        "id": "6Y6WM8FQH45p",
        "outputId": "90ed2ade-288a-407a-ed38-c62b7e8a9fa3"
      },
      "source": [
        "class Person:\n",
        "  def __init__(mysillyobject, name, age):\n",
        "    mysillyobject.name = name\n",
        "    mysillyobject.age = age\n",
        "\n",
        "  def myfunc(abc):\n",
        "    print(\"Hello my name is \" + abc.name)\n",
        "\n",
        "p1 = Person(\"John\", 36)\n",
        "p1.myfunc()"
      ],
      "execution_count": 6,
      "outputs": [
        {
          "output_type": "stream",
          "text": [
            "Hello my name is John\n"
          ],
          "name": "stdout"
        }
      ]
    },
    {
      "cell_type": "markdown",
      "metadata": {
        "id": "6J1atSNFMhWP"
      },
      "source": [
        "## **7. Modify Object Properties**\n",
        "\n",
        "- You can modify properties on objects like this:"
      ]
    },
    {
      "cell_type": "markdown",
      "metadata": {
        "id": "vYoGwRLiM1zm"
      },
      "source": [
        "#### **Example**\n",
        "\n",
        "- Set the age of p1 to 40:\n",
        "\n",
        " - `p1.age = 40`"
      ]
    },
    {
      "cell_type": "markdown",
      "metadata": {
        "id": "bWFY1wrnNT3y"
      },
      "source": [
        "## **8. Delete Object Properties**\n",
        "\n",
        "- You can delete properties on objects by using the del keyword:"
      ]
    },
    {
      "cell_type": "markdown",
      "metadata": {
        "id": "FcRWbekbNak3"
      },
      "source": [
        "#### **Example**\n",
        "\n",
        "- Delete the age property from the p1 object:\n",
        "\n",
        "   - `del p1.age`"
      ]
    },
    {
      "cell_type": "markdown",
      "metadata": {
        "id": "iYjMQZt9N4qM"
      },
      "source": [
        "## **9. Delete Objects**\n",
        "\n",
        "- You can delete objects by using the del keyword:\n",
        "\n"
      ]
    },
    {
      "cell_type": "markdown",
      "metadata": {
        "id": "QGLMFFB2N98q"
      },
      "source": [
        "#### **Example**\n",
        "\n",
        "- Delete the p1 object:\n",
        "\n",
        "  - `del p1`"
      ]
    },
    {
      "cell_type": "markdown",
      "metadata": {
        "id": "TVvLu79hOMwP"
      },
      "source": [
        "## **10. The pass Statement**\n",
        "\n",
        "- `class` definitions cannot be empty, but if you for some reason have a `class` definition with no content,  put in the `pass` statement to avoid getting an error."
      ]
    },
    {
      "cell_type": "markdown",
      "metadata": {
        "id": "RM1eJb7DOnIy"
      },
      "source": [
        "#### **Example**"
      ]
    },
    {
      "cell_type": "code",
      "metadata": {
        "id": "waZwgOi8Kl79"
      },
      "source": [
        "class Person:\n",
        "  pass"
      ],
      "execution_count": 7,
      "outputs": []
    },
    {
      "cell_type": "markdown",
      "metadata": {
        "id": "kvEDBjU5MevX"
      },
      "source": [
        "https://www.w3schools.com/python/python_classes.asp"
      ]
    }
  ]
}