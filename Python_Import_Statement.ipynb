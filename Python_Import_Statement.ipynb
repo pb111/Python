{
  "nbformat": 4,
  "nbformat_minor": 0,
  "metadata": {
    "colab": {
      "name": "Python Import Statement",
      "provenance": [],
      "authorship_tag": "ABX9TyNfBs1vdWU2FjdHcBGDwRRn",
      "include_colab_link": true
    },
    "kernelspec": {
      "name": "python3",
      "display_name": "Python 3"
    }
  },
  "cells": [
    {
      "cell_type": "markdown",
      "metadata": {
        "id": "view-in-github",
        "colab_type": "text"
      },
      "source": [
        "<a href=\"https://colab.research.google.com/github/pb111/Python-tutorials-and-projects/blob/master/Python_Import_Statement.ipynb\" target=\"_parent\"><img src=\"https://colab.research.google.com/assets/colab-badge.svg\" alt=\"Open In Colab\"/></a>"
      ]
    },
    {
      "cell_type": "markdown",
      "metadata": {
        "id": "JjueT58CVzm7"
      },
      "source": [
        "# **Python Import with import statement**\r\n",
        "\r\n",
        "- In this notebook, we will learn about Python modules and how to import them with `import` statement."
      ]
    },
    {
      "cell_type": "markdown",
      "metadata": {
        "id": "TL86rr1MHrK2"
      },
      "source": [
        "## **1. Python Import**\r\n",
        "\r\n",
        "- When our program grows bigger, it is a good idea to break it into different modules.\r\n",
        "\r\n",
        "- A module is a file containing Python definitions and statements. \r\n",
        "\r\n",
        "- [Python modules](https://www.programiz.com/python-programming/modules) have a filename and end with the extension .py.\r\n",
        "\r\n",
        "- Definitions inside a module can be imported to another module or the interactive interpreter in Python. We use the `import` keyword to do this.\r\n",
        "\r\n",
        "- For example, we can import the `math` module by typing the following line:"
      ]
    },
    {
      "cell_type": "code",
      "metadata": {
        "id": "ftU-rHyGVqHr"
      },
      "source": [
        "import math"
      ],
      "execution_count": 1,
      "outputs": []
    },
    {
      "cell_type": "markdown",
      "metadata": {
        "id": "s_CKdXGPIuSG"
      },
      "source": [
        "- We can use the module in the following ways:"
      ]
    },
    {
      "cell_type": "code",
      "metadata": {
        "colab": {
          "base_uri": "https://localhost:8080/"
        },
        "id": "_MNR4SRnIoFv",
        "outputId": "db61b258-8499-4668-9b71-088ef36a069e"
      },
      "source": [
        "import math\r\n",
        "print(math.pi)"
      ],
      "execution_count": 2,
      "outputs": [
        {
          "output_type": "stream",
          "text": [
            "3.141592653589793\n"
          ],
          "name": "stdout"
        }
      ]
    },
    {
      "cell_type": "markdown",
      "metadata": {
        "id": "50Q1z6F3JMDm"
      },
      "source": [
        "- Now all the definitions inside `math` module are available in our scope. \r\n",
        "- We can also import some specific attributes and functions only, using the `from` keyword. \r\n",
        "- For example:"
      ]
    },
    {
      "cell_type": "code",
      "metadata": {
        "colab": {
          "base_uri": "https://localhost:8080/"
        },
        "id": "cCcjmxJrJgf7",
        "outputId": "626629bf-834b-4f75-97f5-8c987b09193b"
      },
      "source": [
        "from math import pi\r\n",
        "pi"
      ],
      "execution_count": 3,
      "outputs": [
        {
          "output_type": "execute_result",
          "data": {
            "text/plain": [
              "3.141592653589793"
            ]
          },
          "metadata": {
            "tags": []
          },
          "execution_count": 3
        }
      ]
    },
    {
      "cell_type": "markdown",
      "metadata": {
        "id": "bRMV5Ev1JtqT"
      },
      "source": [
        "- While importing a module, Python looks at several places defined in `sys.path`. It is a list of directory locations."
      ]
    },
    {
      "cell_type": "code",
      "metadata": {
        "colab": {
          "base_uri": "https://localhost:8080/"
        },
        "id": "zj9PjgLjJmOt",
        "outputId": "a3621dbe-80e9-4f65-f7d8-25d9268d1ca7"
      },
      "source": [
        "import sys\r\n",
        "sys.path"
      ],
      "execution_count": 4,
      "outputs": [
        {
          "output_type": "execute_result",
          "data": {
            "text/plain": [
              "['',\n",
              " '/env/python',\n",
              " '/usr/lib/python36.zip',\n",
              " '/usr/lib/python3.6',\n",
              " '/usr/lib/python3.6/lib-dynload',\n",
              " '/usr/local/lib/python3.6/dist-packages',\n",
              " '/usr/lib/python3/dist-packages',\n",
              " '/usr/local/lib/python3.6/dist-packages/IPython/extensions',\n",
              " '/root/.ipython']"
            ]
          },
          "metadata": {
            "tags": []
          },
          "execution_count": 4
        }
      ]
    },
    {
      "cell_type": "markdown",
      "metadata": {
        "id": "Lsm_4O_HJ_JU"
      },
      "source": [
        "We can also add our own location to this list."
      ]
    },
    {
      "cell_type": "markdown",
      "metadata": {
        "id": "Sh8Y6hpPV7mp"
      },
      "source": [
        "https://www.programiz.com/python-programming/input-output-import"
      ]
    }
  ]
}