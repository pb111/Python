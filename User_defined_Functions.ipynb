{
  "nbformat": 4,
  "nbformat_minor": 0,
  "metadata": {
    "colab": {
      "name": "User-defined Functions",
      "provenance": [],
      "authorship_tag": "ABX9TyNfFseFoVMzo8JKlYQ2SuY1",
      "include_colab_link": true
    },
    "kernelspec": {
      "name": "python3",
      "display_name": "Python 3"
    }
  },
  "cells": [
    {
      "cell_type": "markdown",
      "metadata": {
        "id": "view-in-github",
        "colab_type": "text"
      },
      "source": [
        "<a href=\"https://colab.research.google.com/github/pb111/Python-tutorials-and-projects/blob/master/User_defined_Functions.ipynb\" target=\"_parent\"><img src=\"https://colab.research.google.com/assets/colab-badge.svg\" alt=\"Open In Colab\"/></a>"
      ]
    },
    {
      "cell_type": "markdown",
      "metadata": {
        "id": "h5y34VKZDDRj"
      },
      "source": [
        "# **Python User-defined Functions**"
      ]
    },
    {
      "cell_type": "markdown",
      "metadata": {
        "id": "r6re9tgODNRt"
      },
      "source": [
        "In this tutorial, you will find the advantages of using user-defined functions and best practices to follow."
      ]
    },
    {
      "cell_type": "markdown",
      "metadata": {
        "id": "LxtLGH5SEdTD"
      },
      "source": [
        "## **1. What are user-defined functions in Python?**\n",
        "\n",
        "- Functions that we define ourselves to do certain specific task are referred to as **user-defined functions**. The way in which we define and call [functions in Python](https://www.programiz.com/python-programming/function) are already discussed.\n",
        "\n",
        "- Functions that readily come with Python are called built-in functions. If we use functions written by others in the form of library, it can be termed as library functions.\n",
        "\n",
        "- All the other functions that we write on our own fall under user-defined functions. So, our user-defined function could be a library function to someone else."
      ]
    },
    {
      "cell_type": "markdown",
      "metadata": {
        "id": "L3oB_wRHFUfb"
      },
      "source": [
        "## **2. Advantages of user-defined functions**\n",
        "\n",
        "- 1. User-defined functions help to decompose a large program into small segments which makes program easy to understand, maintain and debug.\n",
        "\n",
        "- 2. If repeated code occurs in a program. Function can be used to include those codes and execute when needed by calling that function.\n",
        "\n",
        "- 3. Programmars working on large project can divide the workload by making different functions."
      ]
    },
    {
      "cell_type": "markdown",
      "metadata": {
        "id": "l8sYErA4F75o"
      },
      "source": [
        "## **3. Example of a user-defined function**"
      ]
    },
    {
      "cell_type": "code",
      "metadata": {
        "colab": {
          "base_uri": "https://localhost:8080/"
        },
        "id": "1aYLaWdXE-ln",
        "outputId": "6e45853f-3c64-4b19-da96-824a4bcc6cbb"
      },
      "source": [
        "# Program to illustrate the use of\n",
        "# User-defined functions\n",
        "\n",
        "def add_numbers(x,y):\n",
        "  \"\"\" Program to add two numbers\"\"\"\n",
        "  sum = x+y\n",
        "  return sum\n",
        "\n",
        "num1 = 5\n",
        "num2 = 6\n",
        "\n",
        "print(\"The sum is\", add_numbers(num1,num2))\n",
        "\n",
        "\n"
      ],
      "execution_count": 2,
      "outputs": [
        {
          "output_type": "stream",
          "text": [
            "The sum is 11\n"
          ],
          "name": "stdout"
        }
      ]
    },
    {
      "cell_type": "markdown",
      "metadata": {
        "id": "y0pZNI2-HQj5"
      },
      "source": [
        "- Here, we have defined the function `add_numbers(x,y)` which adds two numbers and returns the result."
      ]
    },
    {
      "cell_type": "markdown",
      "metadata": {
        "id": "xgqSnNHvHhcE"
      },
      "source": [
        "- This is our user-defined function. We could have multiplied the two numbers inside our function (it's all up to us). But this operation would not be consistent with the name of the function. It would create ambiguity.\n",
        "\n",
        "- It is always a good idea to name functions according to the task they perform.\n",
        "\n",
        "- In the above example, print() is a built-in function in Python. \n",
        "\n",
        "- Please see [Python Built-in Functions](https://www.programiz.com/python-programming/methods/built-in) for complete reference.\n"
      ]
    }
  ]
}