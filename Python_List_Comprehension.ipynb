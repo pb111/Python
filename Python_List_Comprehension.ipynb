{
  "nbformat": 4,
  "nbformat_minor": 0,
  "metadata": {
    "colab": {
      "name": "Python List Comprehension",
      "provenance": [],
      "authorship_tag": "ABX9TyMitJkSI8bVBlvV5P9qBjEL",
      "include_colab_link": true
    },
    "kernelspec": {
      "name": "python3",
      "display_name": "Python 3"
    }
  },
  "cells": [
    {
      "cell_type": "markdown",
      "metadata": {
        "id": "view-in-github",
        "colab_type": "text"
      },
      "source": [
        "<a href=\"https://colab.research.google.com/github/pb111/Python-tutorials-and-projects/blob/master/Python_List_Comprehension.ipynb\" target=\"_parent\"><img src=\"https://colab.research.google.com/assets/colab-badge.svg\" alt=\"Open In Colab\"/></a>"
      ]
    },
    {
      "cell_type": "markdown",
      "metadata": {
        "id": "VQnCjyt0wlRo"
      },
      "source": [
        "# **Python List Comprehension**\n",
        "\n",
        "- In this article, we will learn about Python list comprehensions, and how to use it."
      ]
    },
    {
      "cell_type": "markdown",
      "metadata": {
        "id": "l9GgpNBMIKnw"
      },
      "source": [
        "## **1. List Comprehension: Elegant way to create new List**\n",
        "\n",
        "- List comprehension is an elegant and concise way to create a new list from an existing list in Python.\n",
        "\n",
        "- A list comprehension consists of an expression followed by for statement inside square brackets.\n",
        "\n",
        "- Here is an example to make a list with each item being increasing power of 2."
      ]
    },
    {
      "cell_type": "code",
      "metadata": {
        "colab": {
          "base_uri": "https://localhost:8080/"
        },
        "id": "MGwSwTP7IRlb",
        "outputId": "a8b0d69e-1622-466c-b2c4-1079e5702a4f"
      },
      "source": [
        "pow2 = [2 ** x for x in range(10)]\n",
        "print(pow2)"
      ],
      "execution_count": 1,
      "outputs": [
        {
          "output_type": "stream",
          "text": [
            "[1, 2, 4, 8, 16, 32, 64, 128, 256, 512]\n"
          ],
          "name": "stdout"
        }
      ]
    },
    {
      "cell_type": "markdown",
      "metadata": {
        "id": "3Sc6_ZS4JCaq"
      },
      "source": [
        "https://www.programiz.com/python-programming/list"
      ]
    },
    {
      "cell_type": "markdown",
      "metadata": {
        "id": "LVB4Joe-JFl6"
      },
      "source": [
        "This code is equivalent to:"
      ]
    },
    {
      "cell_type": "code",
      "metadata": {
        "colab": {
          "base_uri": "https://localhost:8080/"
        },
        "id": "vczWDfRrJKnd",
        "outputId": "c64c9f6d-d39e-4ceb-ae48-f726f96f957f"
      },
      "source": [
        "pow2 = []\n",
        "for x in range(10):\n",
        "   pow2.append(2 ** x)\n",
        "\n",
        "print(pow2)"
      ],
      "execution_count": 2,
      "outputs": [
        {
          "output_type": "stream",
          "text": [
            "[1, 2, 4, 8, 16, 32, 64, 128, 256, 512]\n"
          ],
          "name": "stdout"
        }
      ]
    },
    {
      "cell_type": "markdown",
      "metadata": {
        "id": "V6HsGfTHJZ3v"
      },
      "source": [
        "- A list comprehension can optionally contain more for or [if statements](https://www.programiz.com/python-programming/if-elif-else). \n",
        "- An optional `if` statement can filter out items for the new list. \n",
        "- Here are some examples."
      ]
    },
    {
      "cell_type": "code",
      "metadata": {
        "colab": {
          "base_uri": "https://localhost:8080/"
        },
        "id": "FiokNde5JTmx",
        "outputId": "32bf8db4-ac0f-43e8-bd3b-b332ae6b11e0"
      },
      "source": [
        "pow2 = [2 ** x for x in range(10) if x > 5]\n",
        "pow2"
      ],
      "execution_count": 3,
      "outputs": [
        {
          "output_type": "execute_result",
          "data": {
            "text/plain": [
              "[64, 128, 256, 512]"
            ]
          },
          "metadata": {
            "tags": []
          },
          "execution_count": 3
        }
      ]
    },
    {
      "cell_type": "code",
      "metadata": {
        "colab": {
          "base_uri": "https://localhost:8080/"
        },
        "id": "4eL9mbkRJ_zj",
        "outputId": "da6be7d8-e31a-490b-bea8-47cbb6aa5c17"
      },
      "source": [
        "odd = [x for x in range(20) if x%2 == 1]\n",
        "odd"
      ],
      "execution_count": 4,
      "outputs": [
        {
          "output_type": "execute_result",
          "data": {
            "text/plain": [
              "[1, 3, 5, 7, 9, 11, 13, 15, 17, 19]"
            ]
          },
          "metadata": {
            "tags": []
          },
          "execution_count": 4
        }
      ]
    },
    {
      "cell_type": "code",
      "metadata": {
        "colab": {
          "base_uri": "https://localhost:8080/"
        },
        "id": "XBGhwpwBKMVB",
        "outputId": "2aae7b99-2627-4713-860f-96717857197b"
      },
      "source": [
        "even = [x for x in range(20) if x%2 == 0]\n",
        "even"
      ],
      "execution_count": 5,
      "outputs": [
        {
          "output_type": "execute_result",
          "data": {
            "text/plain": [
              "[0, 2, 4, 6, 8, 10, 12, 14, 16, 18]"
            ]
          },
          "metadata": {
            "tags": []
          },
          "execution_count": 5
        }
      ]
    },
    {
      "cell_type": "code",
      "metadata": {
        "colab": {
          "base_uri": "https://localhost:8080/"
        },
        "id": "9VlhQ4JCKZqo",
        "outputId": "e66c2358-ee11-4d0b-dc02-8e2e02d6c55d"
      },
      "source": [
        "[x+y for x in ['Python ','C '] for y in ['Language','Programming']]"
      ],
      "execution_count": 6,
      "outputs": [
        {
          "output_type": "execute_result",
          "data": {
            "text/plain": [
              "['Python Language', 'Python Programming', 'C Language', 'C Programming']"
            ]
          },
          "metadata": {
            "tags": []
          },
          "execution_count": 6
        }
      ]
    },
    {
      "cell_type": "markdown",
      "metadata": {
        "id": "R_V7BM9lLDsP"
      },
      "source": [
        "https://www.programiz.com/python-programming/list"
      ]
    },
    {
      "cell_type": "markdown",
      "metadata": {
        "id": "iwzPr60vztx8"
      },
      "source": [
        "## **2. List Comprehension vs For Loop in Python**\n",
        "\n",
        "- Suppose, we want to separate the letters of the word `human` and add the letters as items of a list. \n",
        "- The first thing that comes in mind would be using [for loop](https://www.programiz.com/python-programming/for-loop)."
      ]
    },
    {
      "cell_type": "markdown",
      "metadata": {
        "id": "U80BLvOj0cWu"
      },
      "source": [
        "#### **Example 1: Iterating through a string Using for Loop**"
      ]
    },
    {
      "cell_type": "code",
      "metadata": {
        "colab": {
          "base_uri": "https://localhost:8080/"
        },
        "id": "84W8g6wz1D4U",
        "outputId": "6585cde4-8df8-4432-cf68-075d7bf043e2"
      },
      "source": [
        "h_letters = []\n",
        "\n",
        "for letter in 'human':\n",
        "    h_letters.append(letter)\n",
        "\n",
        "print(h_letters)"
      ],
      "execution_count": 7,
      "outputs": [
        {
          "output_type": "stream",
          "text": [
            "['h', 'u', 'm', 'a', 'n']\n"
          ],
          "name": "stdout"
        }
      ]
    },
    {
      "cell_type": "markdown",
      "metadata": {
        "id": "nUDeVZ6s15Yq"
      },
      "source": [
        "- However, Python has an easier way to solve this issue using List Comprehension. \n",
        "- List comprehension is an elegant way to define and create lists based on existing lists.\n",
        "\n",
        "- Let’s see how the above program can be written using list comprehensions."
      ]
    },
    {
      "cell_type": "markdown",
      "metadata": {
        "id": "X9ktct-J2_ap"
      },
      "source": [
        "#### **Example 2: Iterating through a string Using List Comprehension**"
      ]
    },
    {
      "cell_type": "code",
      "metadata": {
        "colab": {
          "base_uri": "https://localhost:8080/"
        },
        "id": "8a_evoWG1Mek",
        "outputId": "6b38e589-8156-4689-9daa-a55978ee5155"
      },
      "source": [
        "h_letters = [letter for letter in 'human']\n",
        "print(h_letters)"
      ],
      "execution_count": 8,
      "outputs": [
        {
          "output_type": "stream",
          "text": [
            "['h', 'u', 'm', 'a', 'n']\n"
          ],
          "name": "stdout"
        }
      ]
    },
    {
      "cell_type": "markdown",
      "metadata": {
        "id": "pGMCsZm33pLk"
      },
      "source": [
        "- In the above example, a new list is assigned to variable `h_letters`, and list contains the items of the iterable string 'human'. \n",
        "- We call `print()` function to receive the output.\n",
        "\n"
      ]
    },
    {
      "cell_type": "markdown",
      "metadata": {
        "id": "3mE3VLkK4F1l"
      },
      "source": [
        "#### **Syntax of List Comprehension**\n",
        "\n",
        "- [expression for item in list]\n"
      ]
    },
    {
      "cell_type": "markdown",
      "metadata": {
        "id": "OeAeouB54ZzD"
      },
      "source": [
        "![List Comprehension Syntax](https://cdn.programiz.com/sites/tutorial2program/files/lc.jpg)"
      ]
    },
    {
      "cell_type": "markdown",
      "metadata": {
        "id": "V7LUZ99h48v_"
      },
      "source": [
        "- We can now identify where list comprehensions are used.\n",
        "\n",
        "- If you noticed, `human` is a string, not a list. This is the power of list comprehension. It can identify when it receives a string or a tuple and work on it like a [list](https://www.programiz.com/python-programming/list).\n",
        "\n",
        "- You can do that using loops. However, not every loop can be rewritten as list comprehension. \n",
        "\n",
        "- But as you learn and get comfortable with list comprehensions, you will find yourself replacing more and more loops with this elegant syntax.\n",
        "\n"
      ]
    },
    {
      "cell_type": "markdown",
      "metadata": {
        "id": "pwFNBSc75bcM"
      },
      "source": [
        "## **3. List Comprehensions vs Lambda functions**\n",
        "\n",
        "- List comprehensions aren't the only way to work on lists. \n",
        "- Various built-in functions and [lambda functions](https://www.programiz.com/python-programming/anonymous-function) can create and modify lists in less lines of code."
      ]
    },
    {
      "cell_type": "markdown",
      "metadata": {
        "id": "1kwrRgiD6JvR"
      },
      "source": [
        "#### **Example 3: Using Lambda functions inside List**"
      ]
    },
    {
      "cell_type": "code",
      "metadata": {
        "colab": {
          "base_uri": "https://localhost:8080/"
        },
        "id": "7K20rD_b6kL0",
        "outputId": "54040062-c374-4eb0-ae9a-87fa81114cc6"
      },
      "source": [
        "letters = list(map(lambda x : x, 'human'))\n",
        "print(letters)"
      ],
      "execution_count": 9,
      "outputs": [
        {
          "output_type": "stream",
          "text": [
            "['h', 'u', 'm', 'a', 'n']\n"
          ],
          "name": "stdout"
        }
      ]
    },
    {
      "cell_type": "markdown",
      "metadata": {
        "id": "dhadkfcP8mUI"
      },
      "source": [
        "- However, list comprehensions are usually more human readable than lambda functions. It is easier to understand what the programmer was trying to accomplish when list comprehensions are used."
      ]
    },
    {
      "cell_type": "markdown",
      "metadata": {
        "id": "91gFHXa_8phV"
      },
      "source": [
        "## **4. Conditionals in List Comprehension**\n",
        "\n",
        "- List comprehensions can utilize conditional statement to modify existing list (or other tuples). \n",
        "- We will create list that uses mathematical operators, integers, and [range()](https://www.programiz.com/python-programming/methods/built-in/range)."
      ]
    },
    {
      "cell_type": "markdown",
      "metadata": {
        "id": "LRRgKNf4-27t"
      },
      "source": [
        "#### **Example 4: Using if with List Comprehension**"
      ]
    },
    {
      "cell_type": "code",
      "metadata": {
        "colab": {
          "base_uri": "https://localhost:8080/"
        },
        "id": "kJtDsJOS6pwf",
        "outputId": "ac4366a7-3811-459f-be65-e7e6c30f291c"
      },
      "source": [
        "number_list = [x for x in range(20) if x%2 == 0]\n",
        "number_list"
      ],
      "execution_count": 10,
      "outputs": [
        {
          "output_type": "execute_result",
          "data": {
            "text/plain": [
              "[0, 2, 4, 6, 8, 10, 12, 14, 16, 18]"
            ]
          },
          "metadata": {
            "tags": []
          },
          "execution_count": 10
        }
      ]
    },
    {
      "cell_type": "markdown",
      "metadata": {
        "id": "GmkfRf4__Q9u"
      },
      "source": [
        "- The list, `number_list`, will be populated by the items in range from 0-19 if the item's value is divisible by 2."
      ]
    },
    {
      "cell_type": "markdown",
      "metadata": {
        "id": "vRv0OJLZ_beE"
      },
      "source": [
        "#### **Example 5: Nested IF with List Comprehension**"
      ]
    },
    {
      "cell_type": "code",
      "metadata": {
        "colab": {
          "base_uri": "https://localhost:8080/"
        },
        "id": "vjf-YR2Q_HDj",
        "outputId": "16e6af54-de9e-424d-da67-937704e8d54b"
      },
      "source": [
        "num_list = [y for y in range(100) if y%2 == 0 if y%5 == 0]\n",
        "num_list"
      ],
      "execution_count": 11,
      "outputs": [
        {
          "output_type": "execute_result",
          "data": {
            "text/plain": [
              "[0, 10, 20, 30, 40, 50, 60, 70, 80, 90]"
            ]
          },
          "metadata": {
            "tags": []
          },
          "execution_count": 11
        }
      ]
    },
    {
      "cell_type": "markdown",
      "metadata": {
        "id": "fAX8GsYfAKc9"
      },
      "source": [
        "Here, list comprehension checks:\n",
        "\n",
        "- 1. Is `y` divisible by 2 or not?\n",
        "- 2. Is `y` divisible by 5 or not?\n",
        "\n",
        "If `y` satisfies both conditions, `y` is appended to `num_list`.\n",
        "\n"
      ]
    },
    {
      "cell_type": "markdown",
      "metadata": {
        "id": "7GAezDzYA0tE"
      },
      "source": [
        "#### **Example 6: if...else With List Comprehension**"
      ]
    },
    {
      "cell_type": "code",
      "metadata": {
        "colab": {
          "base_uri": "https://localhost:8080/"
        },
        "id": "nsN8xTC2_2ic",
        "outputId": "3c17cf96-b98f-4782-c637-8ce3a95f9dec"
      },
      "source": [
        "obj = [\"Even\" if i%2 == 0 else \"Odd\" for i in range(10)]\n",
        "obj"
      ],
      "execution_count": 12,
      "outputs": [
        {
          "output_type": "execute_result",
          "data": {
            "text/plain": [
              "['Even', 'Odd', 'Even', 'Odd', 'Even', 'Odd', 'Even', 'Odd', 'Even', 'Odd']"
            ]
          },
          "metadata": {
            "tags": []
          },
          "execution_count": 12
        }
      ]
    },
    {
      "cell_type": "markdown",
      "metadata": {
        "id": "goqxpgqSB1Ce"
      },
      "source": [
        "- Here, list comprehension will check the 10 numbers from 0 to 9. \n",
        "- If `i` is divisible by 2, then `Even` is appended to the `obj` list. \n",
        "- If not, `Odd` is appended."
      ]
    },
    {
      "cell_type": "markdown",
      "metadata": {
        "id": "xKVhR42ACjII"
      },
      "source": [
        "## **5. Nested Loops in List Comprehension**\n",
        "\n",
        "- Suppose, we need to compute the transpose of a matrix that requires nested for loop. \n",
        "- Let’s see how it is done using normal for loop first."
      ]
    },
    {
      "cell_type": "markdown",
      "metadata": {
        "id": "cyeblQBwDIZ2"
      },
      "source": [
        "#### **Example 7: Transpose of Matrix using Nested Loops**"
      ]
    },
    {
      "cell_type": "code",
      "metadata": {
        "colab": {
          "base_uri": "https://localhost:8080/"
        },
        "id": "4y15dt4eCUOO",
        "outputId": "5ec52fd4-a76f-456f-8dc6-18326ac97ffd"
      },
      "source": [
        "transposed = []\n",
        "matrix = [[1, 2, 3, 4], [4, 5, 6, 8]]\n",
        "\n",
        "for i in range(len(matrix[0])):\n",
        "    transposed_row = []\n",
        "\n",
        "    for row in matrix:\n",
        "        transposed_row.append(row[i])\n",
        "    transposed.append(transposed_row)\n",
        "\n",
        "print(transposed)"
      ],
      "execution_count": 13,
      "outputs": [
        {
          "output_type": "stream",
          "text": [
            "[[1, 4], [2, 5], [3, 6], [4, 8]]\n"
          ],
          "name": "stdout"
        }
      ]
    },
    {
      "cell_type": "markdown",
      "metadata": {
        "id": "boFj0-JZD9FQ"
      },
      "source": [
        "- The above code use two for loops to find transpose of the matrix.\n",
        "\n",
        "- We can also perform nested iteration inside a list comprehension. \n",
        "\n",
        "- In this section, we will find transpose of a matrix using nested loop inside list comprehension."
      ]
    },
    {
      "cell_type": "markdown",
      "metadata": {
        "id": "-_gRc5n3EHYu"
      },
      "source": [
        "#### **Example 8: Transpose of a Matrix using List Comprehension**"
      ]
    },
    {
      "cell_type": "code",
      "metadata": {
        "colab": {
          "base_uri": "https://localhost:8080/"
        },
        "id": "cjbB7YRhDyC8",
        "outputId": "c9ed424d-d3a7-4d28-c86b-71ab8639fff4"
      },
      "source": [
        "matrix = [[1, 2], [3,4], [5,6], [7,8]]\n",
        "transpose = [[row[i] for row in matrix] for i in range(2)]\n",
        "print (transpose)"
      ],
      "execution_count": 14,
      "outputs": [
        {
          "output_type": "stream",
          "text": [
            "[[1, 3, 5, 7], [2, 4, 6, 8]]\n"
          ],
          "name": "stdout"
        }
      ]
    },
    {
      "cell_type": "markdown",
      "metadata": {
        "id": "nbx6Dnh2EmR9"
      },
      "source": [
        "- In above program, we have a variable `matrix` which have `4` rows and `2` columns.\n",
        "- We need to find transpose of the `matrix`. \n",
        "- For that, we used list comprehension."
      ]
    },
    {
      "cell_type": "markdown",
      "metadata": {
        "id": "jR80JpWbE6it"
      },
      "source": [
        "- **Note**: \n",
        "\n",
        "- The nested loops in list comprehension don’t work like normal nested loops. \n",
        "- In the above program, for i in range(2) is executed before row[i] for row in matrix. \n",
        "- Hence at first, a value is assigned to i then item directed by row[i] is appended in the transpose variable."
      ]
    },
    {
      "cell_type": "markdown",
      "metadata": {
        "id": "FO22lARUFP5o"
      },
      "source": [
        "## **6. Key Points to Remember**\n",
        "\n",
        "- List comprehension is an elegant way to define and create lists based on existing lists.\n",
        "- List comprehension is generally more compact and faster than normal functions and loops for creating list.\n",
        "- However, we should avoid writing very long list comprehensions in one line to ensure that code is user-friendly.\n",
        "- Remember, every list comprehension can be rewritten in for loop, but every for loop can’t be rewritten in the form of list comprehension."
      ]
    },
    {
      "cell_type": "markdown",
      "metadata": {
        "id": "VObMxBUSFfoS"
      },
      "source": [
        "https://www.programiz.com/python-programming/list-comprehension"
      ]
    }
  ]
}