{
  "nbformat": 4,
  "nbformat_minor": 0,
  "metadata": {
    "colab": {
      "name": "Python Dictionaries",
      "provenance": [],
      "authorship_tag": "ABX9TyPRkif9K2uzjkfbRg23i9i4",
      "include_colab_link": true
    },
    "kernelspec": {
      "name": "python3",
      "display_name": "Python 3"
    }
  },
  "cells": [
    {
      "cell_type": "markdown",
      "metadata": {
        "id": "view-in-github",
        "colab_type": "text"
      },
      "source": [
        "<a href=\"https://colab.research.google.com/github/pb111/Python/blob/master/Python_Dictionaries.ipynb\" target=\"_parent\"><img src=\"https://colab.research.google.com/assets/colab-badge.svg\" alt=\"Open In Colab\"/></a>"
      ]
    },
    {
      "cell_type": "markdown",
      "metadata": {
        "id": "xg5lsLlkLJBY",
        "colab_type": "text"
      },
      "source": [
        "# **Python Dictionaries**"
      ]
    },
    {
      "cell_type": "markdown",
      "metadata": {
        "id": "sJRXVoAuPMNY",
        "colab_type": "text"
      },
      "source": [
        "## **1. Dictionary**\n",
        "\n",
        "- A **dictionary** is a collection which is unordered, changeable and indexed. \n",
        "\n",
        "- In Python, dictionaries are written with curly brackets, and they have keys and values, called **Key-Value Pairs**.\n"
      ]
    },
    {
      "cell_type": "code",
      "metadata": {
        "id": "4lAW6C4JPv9m",
        "colab_type": "code",
        "colab": {
          "base_uri": "https://localhost:8080/",
          "height": 34
        },
        "outputId": "8ee4ac38-dbf2-4f06-dfd8-6deab1086e1a"
      },
      "source": [
        "#Example - Create and print a dictionary:\n",
        "\n",
        "thisdict = {\n",
        "  \"brand\": \"Ford\",\n",
        "  \"model\": \"Mustang\",\n",
        "  \"year\": 1964\n",
        "}\n",
        "print(thisdict)"
      ],
      "execution_count": 1,
      "outputs": [
        {
          "output_type": "stream",
          "text": [
            "{'brand': 'Ford', 'model': 'Mustang', 'year': 1964}\n"
          ],
          "name": "stdout"
        }
      ]
    },
    {
      "cell_type": "markdown",
      "metadata": {
        "id": "QSE-n2X_RHrF",
        "colab_type": "text"
      },
      "source": [
        "## **2. Accessing Items**\n",
        "\n",
        "- You can access the items or values of a dictionary by referring to its key name, inside square brackets."
      ]
    },
    {
      "cell_type": "code",
      "metadata": {
        "id": "_Xb0JK2fRRWA",
        "colab_type": "code",
        "colab": {
          "base_uri": "https://localhost:8080/",
          "height": 35
        },
        "outputId": "1102fc95-54df-4af9-acd9-66766b5274ef"
      },
      "source": [
        "#Example - Get the value of the \"brand\" key.\n",
        "\n",
        "x = thisdict[\"brand\"]\n",
        "\n",
        "x"
      ],
      "execution_count": 3,
      "outputs": [
        {
          "output_type": "execute_result",
          "data": {
            "application/vnd.google.colaboratory.intrinsic+json": {
              "type": "string"
            },
            "text/plain": [
              "'Ford'"
            ]
          },
          "metadata": {
            "tags": []
          },
          "execution_count": 3
        }
      ]
    },
    {
      "cell_type": "code",
      "metadata": {
        "id": "LWw-ypynR417",
        "colab_type": "code",
        "colab": {
          "base_uri": "https://localhost:8080/",
          "height": 35
        },
        "outputId": "d51dd316-cc42-4bbb-a733-a73cff5d5dfc"
      },
      "source": [
        "#Example - Get the value of the \"model\" key.\n",
        "\n",
        "y = thisdict[\"model\"]\n",
        "\n",
        "y"
      ],
      "execution_count": 4,
      "outputs": [
        {
          "output_type": "execute_result",
          "data": {
            "application/vnd.google.colaboratory.intrinsic+json": {
              "type": "string"
            },
            "text/plain": [
              "'Mustang'"
            ]
          },
          "metadata": {
            "tags": []
          },
          "execution_count": 4
        }
      ]
    },
    {
      "cell_type": "code",
      "metadata": {
        "id": "93WkAR8HSKzt",
        "colab_type": "code",
        "colab": {
          "base_uri": "https://localhost:8080/",
          "height": 34
        },
        "outputId": "7c81cbef-9af4-4f93-9624-58a236409c91"
      },
      "source": [
        "#Example - Get the value of the \"year\" key.\n",
        "\n",
        "z = thisdict[\"year\"]\n",
        "\n",
        "z"
      ],
      "execution_count": 5,
      "outputs": [
        {
          "output_type": "execute_result",
          "data": {
            "text/plain": [
              "1964"
            ]
          },
          "metadata": {
            "tags": []
          },
          "execution_count": 5
        }
      ]
    },
    {
      "cell_type": "markdown",
      "metadata": {
        "id": "8l6RSfnyS7i0",
        "colab_type": "text"
      },
      "source": [
        "### 2.1 **get() method**\n",
        "\n",
        "\n",
        "- There is also a method called **get()** that will give you the same result."
      ]
    },
    {
      "cell_type": "code",
      "metadata": {
        "id": "pgkZBKA4TRIv",
        "colab_type": "code",
        "colab": {
          "base_uri": "https://localhost:8080/",
          "height": 35
        },
        "outputId": "d142f9a1-fece-4a91-f858-384e4b34cd04"
      },
      "source": [
        "#Example - Get the value of the \"brand\" key.\n",
        "\n",
        "x1 = thisdict.get(\"brand\")\n",
        "\n",
        "x1"
      ],
      "execution_count": 6,
      "outputs": [
        {
          "output_type": "execute_result",
          "data": {
            "application/vnd.google.colaboratory.intrinsic+json": {
              "type": "string"
            },
            "text/plain": [
              "'Ford'"
            ]
          },
          "metadata": {
            "tags": []
          },
          "execution_count": 6
        }
      ]
    },
    {
      "cell_type": "code",
      "metadata": {
        "id": "FELpU9NLTtA1",
        "colab_type": "code",
        "colab": {}
      },
      "source": [
        ""
      ],
      "execution_count": null,
      "outputs": []
    },
    {
      "cell_type": "code",
      "metadata": {
        "id": "jGMzw6izTOow",
        "colab_type": "code",
        "colab": {}
      },
      "source": [
        ""
      ],
      "execution_count": null,
      "outputs": []
    },
    {
      "cell_type": "code",
      "metadata": {
        "id": "WsCq5jKBTLPu",
        "colab_type": "code",
        "colab": {}
      },
      "source": [
        ""
      ],
      "execution_count": null,
      "outputs": []
    },
    {
      "cell_type": "code",
      "metadata": {
        "id": "A2zb3jNpTHu6",
        "colab_type": "code",
        "colab": {}
      },
      "source": [
        ""
      ],
      "execution_count": null,
      "outputs": []
    },
    {
      "cell_type": "code",
      "metadata": {
        "id": "yad8_ZiwLFRt",
        "colab_type": "code",
        "colab": {}
      },
      "source": [
        ""
      ],
      "execution_count": null,
      "outputs": []
    }
  ]
}