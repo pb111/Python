{
  "nbformat": 4,
  "nbformat_minor": 0,
  "metadata": {
    "colab": {
      "name": "Python Yield, Generators and Generator Expressions",
      "provenance": [],
      "collapsed_sections": [],
      "authorship_tag": "ABX9TyO8jLYMBzDWpYol4OIMGlYJ",
      "include_colab_link": true
    },
    "kernelspec": {
      "name": "python3",
      "display_name": "Python 3"
    }
  },
  "cells": [
    {
      "cell_type": "markdown",
      "metadata": {
        "id": "view-in-github",
        "colab_type": "text"
      },
      "source": [
        "<a href=\"https://colab.research.google.com/github/pb111/Python-tutorials-and-projects/blob/master/Python_Yield%2C_Generators_and_Generator_Expressions.ipynb\" target=\"_parent\"><img src=\"https://colab.research.google.com/assets/colab-badge.svg\" alt=\"Open In Colab\"/></a>"
      ]
    },
    {
      "cell_type": "markdown",
      "metadata": {
        "id": "e0e9IrENPps1"
      },
      "source": [
        "# **Python Generators**\r\n",
        "\r\n",
        "- In this tutorial, you'll learn \r\n",
        "  - how to create iterations easily using Python generators, \r\n",
        "  - how it is different from iterators and normal functions, and \r\n",
        "  - why you should use it."
      ]
    },
    {
      "cell_type": "markdown",
      "metadata": {
        "id": "6VPyxFG_JJzX"
      },
      "source": [
        "## **1. Generators in Python**\r\n",
        "\r\n",
        "- There is a lot of work in building an [iterator](https://www.programiz.com/python-programming/iterator) in Python. \r\n",
        "\r\n",
        "- We have to implement a class with `__iter__()` and `__next__()` method, keep track of internal states, and raise `StopIteration` when there are no values to be returned.\r\n",
        "\r\n",
        "- This is both lengthy and counterintuitive. Generator comes to the rescue in such situations.\r\n",
        "\r\n",
        "- **Python generators** are a simple way of creating iterators. All the work we mentioned above are automatically handled by generators in Python.\r\n",
        "\r\n",
        "- Simply speaking, **a generator is a function that returns an object (iterator) which we can iterate over (one value at a time)**.\r\n",
        "\r\n"
      ]
    },
    {
      "cell_type": "markdown",
      "metadata": {
        "id": "EhiUcd0XJWS3"
      },
      "source": [
        "## **2. Create Generators in Python**\r\n",
        "\r\n",
        "- It is fairly simple to create a generator in Python. It is as easy as defining a normal function, but with a `yield` statement instead of a `return` statement.\r\n",
        "\r\n",
        "- If a function contains at least one `yield` statement (it may contain other `yield` or `return` statements), it becomes a **generator function**. Both `yield` and `return` will return some value from a function.\r\n",
        "\r\n",
        "- The difference is that while a `return` statement terminates a function entirely, `yield` statement pauses the function saving all its states and later continues from there on successive calls."
      ]
    },
    {
      "cell_type": "markdown",
      "metadata": {
        "id": "VH9Q5RkzJb2Y"
      },
      "source": [
        "## **3. Generator function vs Normal function**\r\n",
        "\r\n",
        "Here is how a generator function differs from a normal [function](https://www.programiz.com/python-programming/function).\r\n",
        "\r\n",
        "- Generator function contains one or more `yield` statements.\r\n",
        "\r\n",
        "- When called, it returns an object (iterator) but does not start execution immediately.\r\n",
        "\r\n",
        "- Methods like `__iter__()` and `__next__()` are implemented automatically. So we can iterate through the items using `next()`.\r\n",
        "\r\n",
        "- Once the function yields, the function is paused and the control is transferred to the caller.\r\n",
        "\r\n",
        "- Local variables and their states are remembered between successive calls.\r\n",
        "\r\n",
        "- Finally, when the function terminates, `StopIteration` is raised automatically on further calls."
      ]
    },
    {
      "cell_type": "markdown",
      "metadata": {
        "id": "vDNWU4hbS8Fa"
      },
      "source": [
        "Here is an example to illustrate all of the points stated above. We have a generator function named `my_gen()` with several `yield` statements."
      ]
    },
    {
      "cell_type": "code",
      "metadata": {
        "id": "TqN62XV6TGHv"
      },
      "source": [
        "# A simple generator function\r\n",
        "def my_gen():\r\n",
        "    n = 1\r\n",
        "    print('This is printed first')\r\n",
        "    # Generator function contains yield statements\r\n",
        "    yield n\r\n",
        "\r\n",
        "    n += 1\r\n",
        "    print('This is printed second')\r\n",
        "    yield n\r\n",
        "\r\n",
        "    n += 1\r\n",
        "    print('This is printed at last')\r\n",
        "    yield n"
      ],
      "execution_count": 1,
      "outputs": []
    },
    {
      "cell_type": "markdown",
      "metadata": {
        "id": "KByEUEdaanrg"
      },
      "source": [
        "- An interactive run in the interpreter is given below. Run these in the Python shell to see the output."
      ]
    },
    {
      "cell_type": "code",
      "metadata": {
        "id": "tX9d1KHuaL8D"
      },
      "source": [
        "# It returns an object but does not start execution immediately.\r\n",
        "a = my_gen()"
      ],
      "execution_count": 2,
      "outputs": []
    },
    {
      "cell_type": "code",
      "metadata": {
        "colab": {
          "base_uri": "https://localhost:8080/"
        },
        "id": "P5r1WXttbRS7",
        "outputId": "7cee6eee-7e67-42a0-dc78-a9f6781446bd"
      },
      "source": [
        "# We can iterate through the items using next().\r\n",
        "next(a)"
      ],
      "execution_count": 3,
      "outputs": [
        {
          "output_type": "stream",
          "text": [
            "This is printed first\n"
          ],
          "name": "stdout"
        },
        {
          "output_type": "execute_result",
          "data": {
            "text/plain": [
              "1"
            ]
          },
          "metadata": {
            "tags": []
          },
          "execution_count": 3
        }
      ]
    },
    {
      "cell_type": "code",
      "metadata": {
        "colab": {
          "base_uri": "https://localhost:8080/"
        },
        "id": "N55LL6c4bnGE",
        "outputId": "382937fc-ad37-41ec-fa7a-3fc18dde5736"
      },
      "source": [
        "# Once the function yields, the function is paused and the control is transferred to the caller.\r\n",
        "\r\n",
        "# Local variables and theirs states are remembered between successive calls.\r\n",
        "next(a)"
      ],
      "execution_count": 4,
      "outputs": [
        {
          "output_type": "stream",
          "text": [
            "This is printed second\n"
          ],
          "name": "stdout"
        },
        {
          "output_type": "execute_result",
          "data": {
            "text/plain": [
              "2"
            ]
          },
          "metadata": {
            "tags": []
          },
          "execution_count": 4
        }
      ]
    },
    {
      "cell_type": "code",
      "metadata": {
        "colab": {
          "base_uri": "https://localhost:8080/"
        },
        "id": "762p55b3cVzX",
        "outputId": "17e2769e-33d1-4c12-b182-faee740144c5"
      },
      "source": [
        "next(a)"
      ],
      "execution_count": 5,
      "outputs": [
        {
          "output_type": "stream",
          "text": [
            "This is printed at last\n"
          ],
          "name": "stdout"
        },
        {
          "output_type": "execute_result",
          "data": {
            "text/plain": [
              "3"
            ]
          },
          "metadata": {
            "tags": []
          },
          "execution_count": 5
        }
      ]
    },
    {
      "cell_type": "code",
      "metadata": {
        "colab": {
          "base_uri": "https://localhost:8080/",
          "height": 180
        },
        "id": "I5Mqa-8zcaGE",
        "outputId": "c86dec86-f2fe-4504-878f-0b2b2ccc6328"
      },
      "source": [
        "# Finally, when the function terminates, StopIteration is raised automatically on further calls.\r\n",
        "next(a)"
      ],
      "execution_count": 6,
      "outputs": [
        {
          "output_type": "error",
          "ename": "StopIteration",
          "evalue": "ignored",
          "traceback": [
            "\u001b[0;31m---------------------------------------------------------------------------\u001b[0m",
            "\u001b[0;31mStopIteration\u001b[0m                             Traceback (most recent call last)",
            "\u001b[0;32m<ipython-input-6-23d7f63eb6ab>\u001b[0m in \u001b[0;36m<module>\u001b[0;34m()\u001b[0m\n\u001b[1;32m      1\u001b[0m \u001b[0;31m# Finally, when the function terminates, StopIteration is raised automatically on further calls.\u001b[0m\u001b[0;34m\u001b[0m\u001b[0;34m\u001b[0m\u001b[0;34m\u001b[0m\u001b[0m\n\u001b[0;32m----> 2\u001b[0;31m \u001b[0mnext\u001b[0m\u001b[0;34m(\u001b[0m\u001b[0ma\u001b[0m\u001b[0;34m)\u001b[0m\u001b[0;34m\u001b[0m\u001b[0;34m\u001b[0m\u001b[0m\n\u001b[0m",
            "\u001b[0;31mStopIteration\u001b[0m: "
          ]
        }
      ]
    },
    {
      "cell_type": "code",
      "metadata": {
        "colab": {
          "base_uri": "https://localhost:8080/",
          "height": 163
        },
        "id": "HEgm3Sk_cliB",
        "outputId": "004a236d-c4e4-4d71-f3a5-481d3b8a4a29"
      },
      "source": [
        "next(a)"
      ],
      "execution_count": 7,
      "outputs": [
        {
          "output_type": "error",
          "ename": "StopIteration",
          "evalue": "ignored",
          "traceback": [
            "\u001b[0;31m---------------------------------------------------------------------------\u001b[0m",
            "\u001b[0;31mStopIteration\u001b[0m                             Traceback (most recent call last)",
            "\u001b[0;32m<ipython-input-7-15841f3f11d4>\u001b[0m in \u001b[0;36m<module>\u001b[0;34m()\u001b[0m\n\u001b[0;32m----> 1\u001b[0;31m \u001b[0mnext\u001b[0m\u001b[0;34m(\u001b[0m\u001b[0ma\u001b[0m\u001b[0;34m)\u001b[0m\u001b[0;34m\u001b[0m\u001b[0;34m\u001b[0m\u001b[0m\n\u001b[0m",
            "\u001b[0;31mStopIteration\u001b[0m: "
          ]
        }
      ]
    },
    {
      "cell_type": "markdown",
      "metadata": {
        "id": "cU8D6J1fiSp4"
      },
      "source": [
        "- One interesting thing to note in the above example is that the value of variable `n` is remembered between each call.\r\n",
        "\r\n",
        "- Unlike normal functions, the local variables are not destroyed when the function yields. Furthermore, the generator object can be iterated only once.\r\n",
        "\r\n",
        "- To restart the process, we need to create another generator object using something like\r\n",
        "\r\n",
        "  - `a = my_gen()`\r\n",
        "\r\n",
        "- One final thing to note is that we can use generators with [for loops](https://www.programiz.com/python-programming/for-loop) directly.\r\n",
        "\r\n",
        "- This is because a `for` loop takes an iterator and iterates over it using `next()` function. It automatically ends when `StopIteration` is raised. \r\n",
        "\r\n",
        "- Check here to [know how a for loop is actually implemented in Python](https://www.programiz.com/python-programming/iterator#for-loop-working)."
      ]
    },
    {
      "cell_type": "code",
      "metadata": {
        "id": "ODnza8uxcvIu",
        "colab": {
          "base_uri": "https://localhost:8080/"
        },
        "outputId": "99d5ecdc-6862-4d17-d7fd-53c98daec172"
      },
      "source": [
        "# A simple generator function\r\n",
        "def my_gen():\r\n",
        "    n = 1\r\n",
        "    print('This is printed first')\r\n",
        "    # Generator function contains yield statements\r\n",
        "    yield n\r\n",
        "\r\n",
        "    n += 1\r\n",
        "    print('This is printed second')\r\n",
        "    yield n\r\n",
        "\r\n",
        "    n += 1\r\n",
        "    print('This is printed at last')\r\n",
        "    yield n\r\n",
        "\r\n",
        "\r\n",
        "# Using for loop\r\n",
        "for item in my_gen():\r\n",
        "    print(item)\r\n",
        "\r\n"
      ],
      "execution_count": 8,
      "outputs": [
        {
          "output_type": "stream",
          "text": [
            "This is printed first\n",
            "1\n",
            "This is printed second\n",
            "2\n",
            "This is printed at last\n",
            "3\n"
          ],
          "name": "stdout"
        }
      ]
    },
    {
      "cell_type": "markdown",
      "metadata": {
        "id": "4JYVFUZjJmvW"
      },
      "source": [
        "## **4. Python Generators with a Loop**\r\n",
        "\r\n",
        "- The above example is of less use and we studied it just to get an idea of what was happening in the background.\r\n",
        "\r\n",
        "- Normally, generator functions are implemented with a loop having a suitable terminating condition.\r\n",
        "\r\n",
        "- Let's take an example of a generator that reverses a string."
      ]
    },
    {
      "cell_type": "code",
      "metadata": {
        "colab": {
          "base_uri": "https://localhost:8080/"
        },
        "id": "pUpNYYSjppB8",
        "outputId": "65fbdd6a-1a05-4374-b386-c89d80283523"
      },
      "source": [
        "def rev_str(my_str):\r\n",
        "    length = len(my_str)\r\n",
        "    for i in range(length - 1, -1, -1):\r\n",
        "        yield my_str[i]\r\n",
        "\r\n",
        "\r\n",
        "# For loop to reverse the string\r\n",
        "for char in rev_str(\"hello\"):\r\n",
        "    print(char)\r\n",
        "\r\n",
        "\r\n",
        "\r\n"
      ],
      "execution_count": 9,
      "outputs": [
        {
          "output_type": "stream",
          "text": [
            "o\n",
            "l\n",
            "l\n",
            "e\n",
            "h\n"
          ],
          "name": "stdout"
        }
      ]
    },
    {
      "cell_type": "markdown",
      "metadata": {
        "id": "hL66q4FdsM0J"
      },
      "source": [
        "- In this example, we have used the `range()` function to get the index in reverse order using the for loop."
      ]
    },
    {
      "cell_type": "markdown",
      "metadata": {
        "id": "9r06YxUnsUCw"
      },
      "source": [
        "- **Note**: This generator function not only works with strings, but also with other kinds of iterables like [list](https://www.programiz.com/python-programming/list), [tuple](https://www.programiz.com/python-programming/tuple), etc."
      ]
    },
    {
      "cell_type": "markdown",
      "metadata": {
        "id": "rXrOcE8lJ858"
      },
      "source": [
        "## **5. Python Generator Expression**\r\n",
        "\r\n",
        "- Simple generators can be easily created on the fly using generator expressions. It makes building generators easy.\r\n",
        "\r\n",
        "- Similar to the lambda functions which create [anonymous functions](https://www.programiz.com/python-programming/anonymous-function), generator expressions create anonymous generator functions.\r\n",
        "\r\n",
        "- The syntax for generator expression is similar to that of a [list comprehension in Python](https://www.programiz.com/python-programming/list#list-comprehension). But the square brackets are replaced with round parentheses.\r\n",
        "\r\n",
        "- **The major difference between a list comprehension and a generator expression is that a list comprehension produces the entire list while the generator expression produces one item at a time.**\r\n",
        "\r\n",
        "- They have lazy execution ( producing items only when asked for ). For this reason, **a generator expression is much more memory efficient than an equivalent list comprehension.**"
      ]
    },
    {
      "cell_type": "code",
      "metadata": {
        "colab": {
          "base_uri": "https://localhost:8080/"
        },
        "id": "NapiHfH90gnQ",
        "outputId": "83635652-e344-4687-be75-285d1dc676c3"
      },
      "source": [
        "# Initialize the list\r\n",
        "my_list = [1, 3, 6, 10]\r\n",
        "\r\n",
        "# square each term using list comprehension\r\n",
        "list_ = [x**2 for x in my_list]\r\n",
        "\r\n",
        "# same thing can be done using a generator expression\r\n",
        "# generator expressions are surrounded by parenthesis ()\r\n",
        "generator = (x**2 for x in my_list)\r\n",
        "\r\n",
        "print(list_)\r\n",
        "print(generator)"
      ],
      "execution_count": 10,
      "outputs": [
        {
          "output_type": "stream",
          "text": [
            "[1, 9, 36, 100]\n",
            "<generator object <genexpr> at 0x7fb4a1e16830>\n"
          ],
          "name": "stdout"
        }
      ]
    },
    {
      "cell_type": "markdown",
      "metadata": {
        "id": "nsVI1I2b0_my"
      },
      "source": [
        "- We can see above that the generator expression did not produce the required result immediately. \r\n",
        "- Instead, it returned a generator object, which produces items only on demand."
      ]
    },
    {
      "cell_type": "markdown",
      "metadata": {
        "id": "3DOVTQku1OYB"
      },
      "source": [
        "- Here is how we can start getting items from the generator:"
      ]
    },
    {
      "cell_type": "code",
      "metadata": {
        "colab": {
          "base_uri": "https://localhost:8080/",
          "height": 265
        },
        "id": "CVNt8A9S0pf8",
        "outputId": "f00ab2bf-e89b-4442-d713-9100a546f2f0"
      },
      "source": [
        "# Initialize the list\r\n",
        "my_list = [1, 3, 6, 10]\r\n",
        "\r\n",
        "a = (x**2 for x in my_list)\r\n",
        "\r\n",
        "print(next(a))\r\n",
        "\r\n",
        "print(next(a))\r\n",
        "\r\n",
        "print(next(a))\r\n",
        "\r\n",
        "print(next(a))\r\n",
        "\r\n",
        "next(a)"
      ],
      "execution_count": 11,
      "outputs": [
        {
          "output_type": "stream",
          "text": [
            "1\n",
            "9\n",
            "36\n",
            "100\n"
          ],
          "name": "stdout"
        },
        {
          "output_type": "error",
          "ename": "StopIteration",
          "evalue": "ignored",
          "traceback": [
            "\u001b[0;31m---------------------------------------------------------------------------\u001b[0m",
            "\u001b[0;31mStopIteration\u001b[0m                             Traceback (most recent call last)",
            "\u001b[0;32m<ipython-input-11-f2b554cbcaf4>\u001b[0m in \u001b[0;36m<module>\u001b[0;34m()\u001b[0m\n\u001b[1;32m     12\u001b[0m \u001b[0mprint\u001b[0m\u001b[0;34m(\u001b[0m\u001b[0mnext\u001b[0m\u001b[0;34m(\u001b[0m\u001b[0ma\u001b[0m\u001b[0;34m)\u001b[0m\u001b[0;34m)\u001b[0m\u001b[0;34m\u001b[0m\u001b[0;34m\u001b[0m\u001b[0m\n\u001b[1;32m     13\u001b[0m \u001b[0;34m\u001b[0m\u001b[0m\n\u001b[0;32m---> 14\u001b[0;31m \u001b[0mnext\u001b[0m\u001b[0;34m(\u001b[0m\u001b[0ma\u001b[0m\u001b[0;34m)\u001b[0m\u001b[0;34m\u001b[0m\u001b[0;34m\u001b[0m\u001b[0m\n\u001b[0m",
            "\u001b[0;31mStopIteration\u001b[0m: "
          ]
        }
      ]
    },
    {
      "cell_type": "markdown",
      "metadata": {
        "id": "Dq0NvIcX1qPE"
      },
      "source": [
        "- Generator expressions can be used as function arguments. \r\n",
        "- When used in such a way, the round parentheses can be dropped."
      ]
    },
    {
      "cell_type": "code",
      "metadata": {
        "colab": {
          "base_uri": "https://localhost:8080/"
        },
        "id": "7riIIBWv1Yw9",
        "outputId": "7d662b52-02be-4a5a-838f-9b25e120b544"
      },
      "source": [
        "sum(x**2 for x in my_list)"
      ],
      "execution_count": 12,
      "outputs": [
        {
          "output_type": "execute_result",
          "data": {
            "text/plain": [
              "146"
            ]
          },
          "metadata": {
            "tags": []
          },
          "execution_count": 12
        }
      ]
    },
    {
      "cell_type": "code",
      "metadata": {
        "colab": {
          "base_uri": "https://localhost:8080/"
        },
        "id": "AGJkPa_n1zxR",
        "outputId": "e985a6da-bd48-4635-b9d1-3c99adb6ded2"
      },
      "source": [
        "max(x**2 for x in my_list)"
      ],
      "execution_count": 13,
      "outputs": [
        {
          "output_type": "execute_result",
          "data": {
            "text/plain": [
              "100"
            ]
          },
          "metadata": {
            "tags": []
          },
          "execution_count": 13
        }
      ]
    },
    {
      "cell_type": "markdown",
      "metadata": {
        "id": "9UOia5v_KBHN"
      },
      "source": [
        "## **6. Use of Python Generators**\r\n",
        "\r\n",
        "- There are several reasons that make generators a powerful implementation."
      ]
    },
    {
      "cell_type": "markdown",
      "metadata": {
        "id": "0qPvl0AY22Wu"
      },
      "source": [
        "### **1. Easy to Implement**\r\n",
        "\r\n",
        "- Generators can be implemented in a clear and concise way as compared to their iterator class counterpart. Following is an example to implement a sequence of power of 2 using an iterator class."
      ]
    },
    {
      "cell_type": "code",
      "metadata": {
        "id": "ngCh3-wn3Bg4"
      },
      "source": [
        "class PowTwo:\r\n",
        "    def __init__(self, max=0):\r\n",
        "        self.n = 0\r\n",
        "        self.max = max\r\n",
        "\r\n",
        "    def __iter__(self):\r\n",
        "        return self\r\n",
        "\r\n",
        "    def __next__(self):\r\n",
        "        if self.n > self.max:\r\n",
        "            raise StopIteration\r\n",
        "\r\n",
        "        result = 2 ** self.n\r\n",
        "        self.n += 1\r\n",
        "        return result"
      ],
      "execution_count": 14,
      "outputs": []
    },
    {
      "cell_type": "markdown",
      "metadata": {
        "id": "BNXbItKT3Slw"
      },
      "source": [
        "- The above program was lengthy and confusing. Now, let's do the same using a generator function."
      ]
    },
    {
      "cell_type": "code",
      "metadata": {
        "id": "utsSoRAW3HwF"
      },
      "source": [
        "def PowTwoGen(max=0):\r\n",
        "    n = 0\r\n",
        "    while n < max:\r\n",
        "        yield 2 ** n\r\n",
        "        n += 1"
      ],
      "execution_count": 15,
      "outputs": []
    },
    {
      "cell_type": "markdown",
      "metadata": {
        "id": "R0u8gOT73nbh"
      },
      "source": [
        "- Since generators keep track of details automatically, the implementation was concise and much cleaner."
      ]
    },
    {
      "cell_type": "markdown",
      "metadata": {
        "id": "PefsyOxs3qWJ"
      },
      "source": [
        "### **2. Memory Efficient**\r\n",
        "\r\n",
        "- A normal function to return a sequence will create the entire sequence in memory before returning the result. This is an overkill, if the number of items in the sequence is very large.\r\n",
        "\r\n",
        "- Generator implementation of such sequences is memory friendly and is preferred since it only produces one item at a time."
      ]
    },
    {
      "cell_type": "markdown",
      "metadata": {
        "id": "Oi_x8SIr5Ekf"
      },
      "source": [
        "### **3. Represent Infinite Stream**\r\n",
        "\r\n",
        "- Generators are excellent mediums to represent an infinite stream of data. Infinite streams cannot be stored in memory, and since generators produce only one item at a time, they can represent an infinite stream of data.\r\n",
        "\r\n",
        "- The following generator function can generate all the even numbers (at least in theory)."
      ]
    },
    {
      "cell_type": "code",
      "metadata": {
        "id": "p0mXyoZg3gPz"
      },
      "source": [
        "def all_even():\r\n",
        "    n = 0\r\n",
        "    while True:\r\n",
        "        yield n\r\n",
        "        n += 2"
      ],
      "execution_count": 16,
      "outputs": []
    },
    {
      "cell_type": "markdown",
      "metadata": {
        "id": "yfP61raN6VdG"
      },
      "source": [
        "### **4. Pipelining Generators**\r\n",
        "\r\n",
        "- Multiple generators can be used to pipeline a series of operations. This is best illustrated using an example.\r\n",
        "\r\n",
        "- Suppose we have a generator that produces the numbers in the Fibonacci series. And we have another generator for squaring numbers.\r\n",
        "\r\n",
        "- If we want to find out the sum of squares of numbers in the Fibonacci series, we can do it in the following way by pipelining the output of generator functions together."
      ]
    },
    {
      "cell_type": "code",
      "metadata": {
        "colab": {
          "base_uri": "https://localhost:8080/"
        },
        "id": "v1q-XeYS50zM",
        "outputId": "1ea9957b-aec6-4356-e4a8-626f244b5727"
      },
      "source": [
        "def fibonacci_numbers(nums):\r\n",
        "    x, y = 0, 1\r\n",
        "    for _ in range(nums):\r\n",
        "        x, y = y, x+y\r\n",
        "        yield x\r\n",
        "\r\n",
        "def square(nums):\r\n",
        "    for num in nums:\r\n",
        "        yield num**2\r\n",
        "\r\n",
        "print(sum(square(fibonacci_numbers(10))))"
      ],
      "execution_count": 17,
      "outputs": [
        {
          "output_type": "stream",
          "text": [
            "4895\n"
          ],
          "name": "stdout"
        }
      ]
    },
    {
      "cell_type": "markdown",
      "metadata": {
        "id": "csNuefbI6uPk"
      },
      "source": [
        "- This pipelining is efficient and easy to read (and yes, a lot cooler!)."
      ]
    },
    {
      "cell_type": "markdown",
      "metadata": {
        "id": "CfdCo8KmP38v"
      },
      "source": [
        "https://www.programiz.com/python-programming/generator"
      ]
    }
  ]
}