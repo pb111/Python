{
  "nbformat": 4,
  "nbformat_minor": 0,
  "metadata": {
    "colab": {
      "name": "Python Operator Overloading",
      "provenance": [],
      "authorship_tag": "ABX9TyPfZU8wI/8riINy0Tq3TZnZ",
      "include_colab_link": true
    },
    "kernelspec": {
      "name": "python3",
      "display_name": "Python 3"
    }
  },
  "cells": [
    {
      "cell_type": "markdown",
      "metadata": {
        "id": "view-in-github",
        "colab_type": "text"
      },
      "source": [
        "<a href=\"https://colab.research.google.com/github/pb111/Python-tutorials-and-projects/blob/master/Python_Operator_Overloading.ipynb\" target=\"_parent\"><img src=\"https://colab.research.google.com/assets/colab-badge.svg\" alt=\"Open In Colab\"/></a>"
      ]
    },
    {
      "cell_type": "markdown",
      "metadata": {
        "id": "yvWEOqb1PGDa"
      },
      "source": [
        "# **Python Operator Overloading**\n",
        "\n",
        "\n",
        "- You can change the meaning of an operator in Python depending upon the operands used. In this tutorial, you will learn how to use operator overloading in Python Object Oriented Programming."
      ]
    },
    {
      "cell_type": "markdown",
      "metadata": {
        "id": "9uVsgS5LdD0s"
      },
      "source": [
        "## **1. Python Operator Overloading**\n",
        "\n",
        "- [Python operators](https://www.programiz.com/python-programming/operators) work for built-in classes. But the same operator behaves differently with different types. For example, the `+` operator will perform arithmetic addition on two numbers, merge two lists, or concatenate two strings.\n",
        "\n",
        "\n",
        "- This feature in Python that allows the same operator to have different meaning according to the context is called **operator overloading**.\n",
        "\n",
        "\n",
        "- So what happens when we use them with objects of a user-defined class? \n",
        "\n",
        "- Let us consider the following class, which tries to simulate a point in 2-D coordinate system."
      ]
    },
    {
      "cell_type": "code",
      "metadata": {
        "colab": {
          "base_uri": "https://localhost:8080/",
          "height": 197
        },
        "id": "9E5P03Mcd_vM",
        "outputId": "a178874f-27fd-4a41-94d8-f6b2321a48b9"
      },
      "source": [
        "class Point:\n",
        "    def __init__(self, x=0, y=0):\n",
        "        self.x = x\n",
        "        self.y = y\n",
        "\n",
        "\n",
        "p1 = Point(1, 2)\n",
        "p2 = Point(2, 3)\n",
        "print(p1 + p2)"
      ],
      "execution_count": 1,
      "outputs": [
        {
          "output_type": "error",
          "ename": "TypeError",
          "evalue": "ignored",
          "traceback": [
            "\u001b[0;31m---------------------------------------------------------------------------\u001b[0m",
            "\u001b[0;31mTypeError\u001b[0m                                 Traceback (most recent call last)",
            "\u001b[0;32m<ipython-input-1-0c5a78958f9a>\u001b[0m in \u001b[0;36m<module>\u001b[0;34m()\u001b[0m\n\u001b[1;32m      7\u001b[0m \u001b[0mp1\u001b[0m \u001b[0;34m=\u001b[0m \u001b[0mPoint\u001b[0m\u001b[0;34m(\u001b[0m\u001b[0;36m1\u001b[0m\u001b[0;34m,\u001b[0m \u001b[0;36m2\u001b[0m\u001b[0;34m)\u001b[0m\u001b[0;34m\u001b[0m\u001b[0;34m\u001b[0m\u001b[0m\n\u001b[1;32m      8\u001b[0m \u001b[0mp2\u001b[0m \u001b[0;34m=\u001b[0m \u001b[0mPoint\u001b[0m\u001b[0;34m(\u001b[0m\u001b[0;36m2\u001b[0m\u001b[0;34m,\u001b[0m \u001b[0;36m3\u001b[0m\u001b[0;34m)\u001b[0m\u001b[0;34m\u001b[0m\u001b[0;34m\u001b[0m\u001b[0m\n\u001b[0;32m----> 9\u001b[0;31m \u001b[0mprint\u001b[0m\u001b[0;34m(\u001b[0m\u001b[0mp1\u001b[0m \u001b[0;34m+\u001b[0m \u001b[0mp2\u001b[0m\u001b[0;34m)\u001b[0m\u001b[0;34m\u001b[0m\u001b[0;34m\u001b[0m\u001b[0m\n\u001b[0m",
            "\u001b[0;31mTypeError\u001b[0m: unsupported operand type(s) for +: 'Point' and 'Point'"
          ]
        }
      ]
    },
    {
      "cell_type": "markdown",
      "metadata": {
        "id": "_Jd_7s6fl4W6"
      },
      "source": [
        "- Here, we can see that a `TypeError` was raised, since Python didn't know how to add two `Point` objects together.\n",
        "\n",
        "- However, we can achieve this task in Python through operator overloading. But first, let's get a notion about special functions."
      ]
    },
    {
      "cell_type": "markdown",
      "metadata": {
        "id": "LM60d_6ITUyD"
      },
      "source": [
        "## **2. Python Special Functions**\n",
        "\n",
        "- Class functions that begin with double underscore `__` are called **special functions in Python**.\n",
        "\n",
        "- These functions are not the typical functions that we define for a class. The `__init__()` function we defined above is one of them. It gets called every time we create a new object of that class.\n",
        "\n",
        "- There are numerous other special functions in Python. Visit [Python Special Functions](https://docs.python.org/3/reference/datamodel.html#special-method-names) to learn more about them.\n",
        "\n",
        "\n",
        "- Using special functions, we can make our class compatible with built-in functions."
      ]
    },
    {
      "cell_type": "code",
      "metadata": {
        "id": "TCywT-QKlYOE",
        "colab": {
          "base_uri": "https://localhost:8080/"
        },
        "outputId": "5e600adb-4bba-4da7-c469-a47970afe92e"
      },
      "source": [
        "p1 = Point(2,3)\n",
        "print(p1)"
      ],
      "execution_count": 2,
      "outputs": [
        {
          "output_type": "stream",
          "text": [
            "<__main__.Point object at 0x7fa46e4581d0>\n"
          ],
          "name": "stdout"
        }
      ]
    },
    {
      "cell_type": "markdown",
      "metadata": {
        "id": "FURTZy1zzYbL"
      },
      "source": [
        "- Suppose we want the `print()` function to print the coordinates of the `Point` object instead of what we got. \n",
        "- We can define a `__str__()` method in our class that controls how the object gets printed. \n",
        "- Let's look at how we can achieve this:"
      ]
    },
    {
      "cell_type": "code",
      "metadata": {
        "id": "z1i9R37hyhYU"
      },
      "source": [
        "class Point:\n",
        "    def __init__(self, x=0, y=0):\n",
        "        self.x = x\n",
        "        self.y = y\n",
        "\n",
        "    def __str__(self):\n",
        "        return \"({0},{1})\".format(self.x,self.y)\n",
        "        "
      ],
      "execution_count": 6,
      "outputs": []
    },
    {
      "cell_type": "markdown",
      "metadata": {
        "id": "ibfsODS408jW"
      },
      "source": [
        "- Now, let's try the `print()` function again"
      ]
    },
    {
      "cell_type": "code",
      "metadata": {
        "colab": {
          "base_uri": "https://localhost:8080/"
        },
        "id": "MYiFtKNX06nc",
        "outputId": "e64d635e-0c64-4347-cef8-429ce4ecdf1d"
      },
      "source": [
        "class Point:\n",
        "    def __init__(self, x=0, y=0):\n",
        "        self.x = x\n",
        "        self.y = y\n",
        "\n",
        "    def __str__(self):\n",
        "      return \"({0},{1})\".format(self.x,self.y)\n",
        "\n",
        "\n",
        "p1 = Point(2,3)\n",
        "print(p1)"
      ],
      "execution_count": 7,
      "outputs": [
        {
          "output_type": "stream",
          "text": [
            "(2,3)\n"
          ],
          "name": "stdout"
        }
      ]
    },
    {
      "cell_type": "markdown",
      "metadata": {
        "id": "VdJBBiAy4A5H"
      },
      "source": [
        "- That's better. Turns out, that this same method is invoked when we use the built-in function `str()` or `format()`."
      ]
    },
    {
      "cell_type": "code",
      "metadata": {
        "id": "0knDf-GZN70k",
        "colab": {
          "base_uri": "https://localhost:8080/",
          "height": 35
        },
        "outputId": "7186da5e-be2c-4235-9909-53b6b8b50104"
      },
      "source": [
        "str(p1)"
      ],
      "execution_count": 8,
      "outputs": [
        {
          "output_type": "execute_result",
          "data": {
            "application/vnd.google.colaboratory.intrinsic+json": {
              "type": "string"
            },
            "text/plain": [
              "'(2,3)'"
            ]
          },
          "metadata": {
            "tags": []
          },
          "execution_count": 8
        }
      ]
    },
    {
      "cell_type": "code",
      "metadata": {
        "colab": {
          "base_uri": "https://localhost:8080/",
          "height": 35
        },
        "id": "IknL8T424P0w",
        "outputId": "526160bb-cec3-4564-b4ed-05f4eae2a5d7"
      },
      "source": [
        "format(p1)"
      ],
      "execution_count": 9,
      "outputs": [
        {
          "output_type": "execute_result",
          "data": {
            "application/vnd.google.colaboratory.intrinsic+json": {
              "type": "string"
            },
            "text/plain": [
              "'(2,3)'"
            ]
          },
          "metadata": {
            "tags": []
          },
          "execution_count": 9
        }
      ]
    },
    {
      "cell_type": "markdown",
      "metadata": {
        "id": "nYYm8aZM4rwh"
      },
      "source": [
        "- So, when you use `str(p1)` or `format(p1)`, Python internally calls the `p1.__str__()` method. Hence the name, **special functions**."
      ]
    },
    {
      "cell_type": "markdown",
      "metadata": {
        "id": "igQ8MB1n5Dbb"
      },
      "source": [
        "- Now let's go back to **operator overloading**."
      ]
    },
    {
      "cell_type": "markdown",
      "metadata": {
        "id": "ajzvzm8j5HrZ"
      },
      "source": [
        "## **3. Overloading the + Operator**\n",
        "\n",
        "- To overload the `+` operator, we will need to implement `__add__()` function in the class. With great power comes great responsibility. We can do whatever we like, inside this function. But it is more sensible to return a `Point` object of the coordinate sum."
      ]
    },
    {
      "cell_type": "code",
      "metadata": {
        "id": "Dp35d29y4hsD"
      },
      "source": [
        "class Point:\n",
        "    def __init__(self, x=0, y=0):\n",
        "        self.x = x\n",
        "        self.y = y\n",
        "\n",
        "    def __str__(self):\n",
        "        return \"({0},{1})\".format(self.x, self.y)\n",
        "\n",
        "    def __add__(self, other):\n",
        "        x = self.x + other.x\n",
        "        y = self.y + other.y\n",
        "        return Point(x,y)\n"
      ],
      "execution_count": 10,
      "outputs": []
    },
    {
      "cell_type": "markdown",
      "metadata": {
        "id": "9XdUDolN__CN"
      },
      "source": [
        "- Now let's try the addition operation again:"
      ]
    },
    {
      "cell_type": "code",
      "metadata": {
        "colab": {
          "base_uri": "https://localhost:8080/"
        },
        "id": "vHsbalzgABhM",
        "outputId": "c7a89807-c9e2-436e-82bb-df299d19a529"
      },
      "source": [
        "class Point:\n",
        "    def __init__(self, x=0, y=0):\n",
        "        self.x = x\n",
        "        self.y = y\n",
        "\n",
        "    def __str__(self):\n",
        "        return \"({0},{1})\".format(self.x, self.y)\n",
        "\n",
        "    def __add__(self, other):\n",
        "        x = self.x + other.x\n",
        "        y = self.y + other.y\n",
        "        return Point(x,y)\n",
        "\n",
        "p1 = Point(1, 2)\n",
        "p2 = Point(2, 3)\n",
        "\n",
        "print(p1 + p2)"
      ],
      "execution_count": 12,
      "outputs": [
        {
          "output_type": "stream",
          "text": [
            "(3,5)\n"
          ],
          "name": "stdout"
        }
      ]
    },
    {
      "cell_type": "markdown",
      "metadata": {
        "id": "f8wBhv8oA_RZ"
      },
      "source": [
        "- What actually happens is that, when you use `p1 + p2`, Python calls `p1.__add__(p2)` which in turn is `Point.__add__(p1,p2)`. \n",
        "\n",
        "- After this, the addition operation is carried out the way we specified."
      ]
    },
    {
      "cell_type": "markdown",
      "metadata": {
        "id": "URiSaL6iB3Sb"
      },
      "source": [
        "- Similarly, we can overload other operators as well. The special function that we need to implement is tabulated below."
      ]
    },
    {
      "cell_type": "markdown",
      "metadata": {
        "id": "s4pEK7WKCwwB"
      },
      "source": [
        "- **Operator**\t- **Expression** - **Internally**\n",
        "- `Addition`\t  -    `p1 + p2`   - \t`p1.__add__(p2)`\n",
        "- `Subtraction` -   `p1 - p2`    -\t`p1.__sub__(p2)`\n",
        "- `Multiplication` -`p1 * p2`    -\t`p1.__mul__(p2)`\n",
        "- `Power`\t      -   `p1 ** p2`   -\t`p1.__pow__(p2)`\n",
        "- `Division`\t  -   `p1 / p2`\t   -  `p1.__truediv__(p2)`\n",
        "- `Floor Division` -`p1 // p2`   -  `p1.__floordiv__(p2)`\n",
        "- `Remainder (modulo)` -`p1 % p2`\t- `p1.__mod__(p2)`\n",
        "- `Bitwise Left Shift` -`p1 << p2` -`p1.__lshift__(p2)`\n",
        "- `Bitwise Right Shift`-`p1 >> p2` -`p1.__rshift__(p2)`\n",
        "- `Bitwise AND`-\t`p1 & p2` -\t`p1.__and__(p2)`\n",
        "- `Bitwise OR` -  `p1 | p2` - `p1.__or__(p2)`\n",
        "- `Bitwise XOR`-  `p1 ^ p2` - `p1.__xor__(p2)`\n",
        "- `Bitwise NOT`-  `~p1`     - `p1.__invert__()`"
      ]
    },
    {
      "cell_type": "markdown",
      "metadata": {
        "id": "VoB1nmqpH-bt"
      },
      "source": [
        "## **4. Overloading Comparison Operators**\n",
        "\n",
        "- Python does not limit operator overloading to arithmetic operators only. We can overload comparison operators as well. Suppose we wanted to implement the less than symbol `<` symbol in our `Point` class.\n",
        "\n",
        "- Let us compare the magnitude of these points from the origin and return the result for this purpose. It can be implemented as follows."
      ]
    },
    {
      "cell_type": "code",
      "metadata": {
        "colab": {
          "base_uri": "https://localhost:8080/"
        },
        "id": "IWkoE4WEAaG8",
        "outputId": "a800970e-5264-47a2-c546-e9b5a59f3fd9"
      },
      "source": [
        "# overloading the less than operator\n",
        "class Point:\n",
        "    def __init__(self, x=0, y=0):\n",
        "        self.x = x\n",
        "        self.y = y\n",
        "\n",
        "    def __str__(self):\n",
        "        return \"({0},{1})\".format(self.x, self.y)\n",
        "\n",
        "    def __lt__(self, other):\n",
        "        self_mag = (self.x ** 2) + (self.y ** 2)\n",
        "        other_mag = (other.x ** 2) + (other.y ** 2)\n",
        "        return self_mag < other_mag\n",
        "\n",
        "p1 = Point(1,1)\n",
        "p2 = Point(-2,-3)\n",
        "p3 = Point(1,-1)\n",
        "\n",
        "# use less than\n",
        "print(p1<p2)\n",
        "print(p2<p3)\n",
        "print(p1<p3)\n"
      ],
      "execution_count": 13,
      "outputs": [
        {
          "output_type": "stream",
          "text": [
            "True\n",
            "False\n",
            "False\n"
          ],
          "name": "stdout"
        }
      ]
    },
    {
      "cell_type": "markdown",
      "metadata": {
        "id": "hDmafc0yRVcp"
      },
      "source": [
        "- Similarly, the special functions that we need to implement, to overload other comparison operators are tabulated below."
      ]
    },
    {
      "cell_type": "markdown",
      "metadata": {
        "id": "ljsBpiktRc18"
      },
      "source": [
        "- **Operator**\t- **Expression**\t - **Internally**\n",
        "- `Less than`   -\t`p1 < p2`  -\t`p1.__lt__(p2)`\n",
        "- `Less than or equal to` -\t`p1 <= p2` -\t`p1.__le__(p2)`\n",
        "- `Equal to` -\t`p1 == p2` -\t`p1.__eq__(p2)`\n",
        "- `Not equal to` -\t`p1 != p2` - `p1.__ne__(p2)`\n",
        "- `Greater than` -\t`p1 > p2`  - `p1.__gt__(p2)`\n",
        "- `Greater than or equal to` -\t`p1 >= p2` -\t`p1.__ge__(p2)`\n"
      ]
    },
    {
      "cell_type": "markdown",
      "metadata": {
        "id": "8oNJzeZYPLgx"
      },
      "source": [
        "https://www.programiz.com/python-programming/operator-overloading"
      ]
    }
  ]
}