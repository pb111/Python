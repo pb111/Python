{
  "nbformat": 4,
  "nbformat_minor": 0,
  "metadata": {
    "colab": {
      "name": "Python Strings",
      "provenance": [],
      "authorship_tag": "ABX9TyNxX78oblwvKJ4xNGZDCJSJ",
      "include_colab_link": true
    },
    "kernelspec": {
      "name": "python3",
      "display_name": "Python 3"
    }
  },
  "cells": [
    {
      "cell_type": "markdown",
      "metadata": {
        "id": "view-in-github",
        "colab_type": "text"
      },
      "source": [
        "<a href=\"https://colab.research.google.com/github/pb111/Python/blob/master/Python_Strings.ipynb\" target=\"_parent\"><img src=\"https://colab.research.google.com/assets/colab-badge.svg\" alt=\"Open In Colab\"/></a>"
      ]
    },
    {
      "cell_type": "markdown",
      "metadata": {
        "id": "sKZJ5FEGGc1b",
        "colab_type": "text"
      },
      "source": [
        "# **Python Strings**"
      ]
    },
    {
      "cell_type": "markdown",
      "metadata": {
        "id": "NTRLlFBmMm_F",
        "colab_type": "text"
      },
      "source": [
        "## **1. String Literals**\n",
        "\n",
        "- String literals in python are surrounded by either single quotation marks, or double quotation marks.\n",
        "\n",
        "- 'hello' is the same as \"hello\".\n",
        "\n",
        "- You can display a string literal with the **print()** function:"
      ]
    },
    {
      "cell_type": "code",
      "metadata": {
        "id": "w9ScglODM_p5",
        "colab_type": "code",
        "colab": {
          "base_uri": "https://localhost:8080/",
          "height": 51
        },
        "outputId": "93b19482-8208-4cbb-f41e-8747c78af715"
      },
      "source": [
        "# Example\n",
        "\n",
        "print(\"Hello\")\n",
        "\n",
        "print('Hello')"
      ],
      "execution_count": 1,
      "outputs": [
        {
          "output_type": "stream",
          "text": [
            "Hello\n",
            "Hello\n"
          ],
          "name": "stdout"
        }
      ]
    },
    {
      "cell_type": "markdown",
      "metadata": {
        "id": "m0oN8pY5Nc-8",
        "colab_type": "text"
      },
      "source": [
        "## **2. Assign String to a Variable**\n",
        "\n",
        "- Assigning a string to a variable is done with the variable name followed by an equal sign and the string."
      ]
    },
    {
      "cell_type": "code",
      "metadata": {
        "id": "wwQHj-mUNo1e",
        "colab_type": "code",
        "colab": {
          "base_uri": "https://localhost:8080/",
          "height": 34
        },
        "outputId": "a061d02f-90bf-4e98-c3bc-a650f1919751"
      },
      "source": [
        "# Example\n",
        "\n",
        "a = \"Hello\"\n",
        "print(a)"
      ],
      "execution_count": 2,
      "outputs": [
        {
          "output_type": "stream",
          "text": [
            "Hello\n"
          ],
          "name": "stdout"
        }
      ]
    },
    {
      "cell_type": "markdown",
      "metadata": {
        "id": "jcmflKlmK2Ld",
        "colab_type": "text"
      },
      "source": [
        "## **3. Multiline Strings**\n",
        "\n",
        "- You can assign a multiline string to a variable by using three quotes."
      ]
    },
    {
      "cell_type": "code",
      "metadata": {
        "id": "54wTipjHK_O4",
        "colab_type": "code",
        "colab": {
          "base_uri": "https://localhost:8080/",
          "height": 85
        },
        "outputId": "8f1e9a6f-c21a-48d7-ca45-49527b115285"
      },
      "source": [
        "# Example - You can use three double quotes:\n",
        "\n",
        "a = \"\"\"Lorem ipsum dolor sit amet,\n",
        "consectetur adipiscing elit,\n",
        "sed do eiusmod tempor incididunt\n",
        "ut labore et dolore magna aliqua.\"\"\"\n",
        "\n",
        "print(a)"
      ],
      "execution_count": 3,
      "outputs": [
        {
          "output_type": "stream",
          "text": [
            "Lorem ipsum dolor sit amet,\n",
            "consectetur adipiscing elit,\n",
            "sed do eiusmod tempor incididunt\n",
            "ut labore et dolore magna aliqua.\n"
          ],
          "name": "stdout"
        }
      ]
    },
    {
      "cell_type": "markdown",
      "metadata": {
        "id": "27-FPIrvMByt",
        "colab_type": "text"
      },
      "source": [
        "Or three single quotes:"
      ]
    },
    {
      "cell_type": "code",
      "metadata": {
        "id": "81BV_OLFLGCq",
        "colab_type": "code",
        "colab": {
          "base_uri": "https://localhost:8080/",
          "height": 85
        },
        "outputId": "7a5198f8-72d9-4fc3-dfcf-a9d374d4ff56"
      },
      "source": [
        "# Example\n",
        "\n",
        "a1 = '''Lorem ipsum dolor sit amet,\n",
        "consectetur adipiscing elit,\n",
        "sed do eiusmod tempor incididunt\n",
        "ut labore et dolore magna aliqua.'''\n",
        "\n",
        "print(a1)"
      ],
      "execution_count": 4,
      "outputs": [
        {
          "output_type": "stream",
          "text": [
            "Lorem ipsum dolor sit amet,\n",
            "consectetur adipiscing elit,\n",
            "sed do eiusmod tempor incididunt\n",
            "ut labore et dolore magna aliqua.\n"
          ],
          "name": "stdout"
        }
      ]
    },
    {
      "cell_type": "markdown",
      "metadata": {
        "id": "pe3cCSgwMfkH",
        "colab_type": "text"
      },
      "source": [
        "- **Note**: In the result, the line breaks are inserted at the same position as in the code."
      ]
    },
    {
      "cell_type": "markdown",
      "metadata": {
        "id": "Oy7qTelsM61a",
        "colab_type": "text"
      },
      "source": [
        "## **4. Strings are Arrays**\n",
        "\n",
        "- Like many other popular programming languages, strings in Python are arrays of bytes representing unicode characters.\n",
        "\n",
        "- However, Python does not have a character data type, a single character is simply a string with a length of 1.\n",
        "\n",
        "- Square brackets can be used to access elements of the string."
      ]
    },
    {
      "cell_type": "code",
      "metadata": {
        "id": "UkwYc6pKNJrs",
        "colab_type": "code",
        "colab": {
          "base_uri": "https://localhost:8080/",
          "height": 34
        },
        "outputId": "daac5749-7180-48bd-e30f-6274fbea01bd"
      },
      "source": [
        "# Example - Get the character at position 1 (remember that the first character has the position 0):\n",
        "\n",
        "a = \"Hello, World!\"\n",
        "print(a[1])"
      ],
      "execution_count": 5,
      "outputs": [
        {
          "output_type": "stream",
          "text": [
            "e\n"
          ],
          "name": "stdout"
        }
      ]
    },
    {
      "cell_type": "markdown",
      "metadata": {
        "id": "Yx_zAx41NxAs",
        "colab_type": "text"
      },
      "source": [
        "## **5. Slicing**\n",
        "\n",
        "- You can return a range of characters by using the slice syntax.\n",
        "\n",
        "- Specify the start index and the end index, separated by a colon, to return a part of the string.\n"
      ]
    },
    {
      "cell_type": "code",
      "metadata": {
        "id": "q6-HH-yOOBmc",
        "colab_type": "code",
        "colab": {
          "base_uri": "https://localhost:8080/",
          "height": 34
        },
        "outputId": "82537777-788b-4b55-d4c5-03e3741404dc"
      },
      "source": [
        "# Example - Get the characters from position 2 to position 5 (not included)\n",
        "\n",
        "b = \"Hello, World!\"\n",
        "print(b[2:5])"
      ],
      "execution_count": 6,
      "outputs": [
        {
          "output_type": "stream",
          "text": [
            "llo\n"
          ],
          "name": "stdout"
        }
      ]
    },
    {
      "cell_type": "markdown",
      "metadata": {
        "id": "dKYdYQf_Ob0O",
        "colab_type": "text"
      },
      "source": [
        "## **6. Negative Indexing**\n",
        "\n",
        "- Use negative indexes to start the slice from the end of the string."
      ]
    },
    {
      "cell_type": "code",
      "metadata": {
        "id": "2w-XmrIXOoWt",
        "colab_type": "code",
        "colab": {
          "base_uri": "https://localhost:8080/",
          "height": 34
        },
        "outputId": "a5ec8d5a-49f2-4736-e24b-37a2d749daee"
      },
      "source": [
        "# Example - Get the characters from position 5 to position 1 (not included), starting the count from the end of the string:\n",
        "\n",
        "b = \"Hello, World!\"\n",
        "print(b[-5:-2])"
      ],
      "execution_count": 7,
      "outputs": [
        {
          "output_type": "stream",
          "text": [
            "orl\n"
          ],
          "name": "stdout"
        }
      ]
    },
    {
      "cell_type": "markdown",
      "metadata": {
        "id": "0ACBIc3tPFx4",
        "colab_type": "text"
      },
      "source": [
        "## **7. String Length**\n",
        "\n",
        "- To get the length of a string, use the **len()** function.\n",
        "\n"
      ]
    },
    {
      "cell_type": "code",
      "metadata": {
        "id": "YoCdpgfyOvDN",
        "colab_type": "code",
        "colab": {
          "base_uri": "https://localhost:8080/",
          "height": 34
        },
        "outputId": "426e4afc-e52f-40bc-c6d0-2807f3ec9e00"
      },
      "source": [
        "# Example - The len() function returns the length of a string\n",
        "\n",
        "a = \"Hello, World!\"\n",
        "print(len(a))"
      ],
      "execution_count": 8,
      "outputs": [
        {
          "output_type": "stream",
          "text": [
            "13\n"
          ],
          "name": "stdout"
        }
      ]
    },
    {
      "cell_type": "markdown",
      "metadata": {
        "id": "3PMcAGu5QUnJ",
        "colab_type": "text"
      },
      "source": [
        "## **8. String Methods**\n",
        "\n",
        "- Python has a set of built-in methods that you can use on strings."
      ]
    },
    {
      "cell_type": "code",
      "metadata": {
        "id": "cZ7rG5pRQels",
        "colab_type": "code",
        "colab": {
          "base_uri": "https://localhost:8080/",
          "height": 34
        },
        "outputId": "348ee0f8-e84f-4274-d0c0-99eb76aa1ce4"
      },
      "source": [
        "# Example - The strip() method removes any whitespace from the beginning or the end:\n",
        "\n",
        "a = \" Hello, World! \"\n",
        "print(a.strip()) # returns \"Hello, World!\""
      ],
      "execution_count": 9,
      "outputs": [
        {
          "output_type": "stream",
          "text": [
            "Hello, World!\n"
          ],
          "name": "stdout"
        }
      ]
    },
    {
      "cell_type": "code",
      "metadata": {
        "id": "HCp4E8Q1Qsoe",
        "colab_type": "code",
        "colab": {
          "base_uri": "https://localhost:8080/",
          "height": 34
        },
        "outputId": "d837b42d-cc1b-4f00-97e9-f16142682935"
      },
      "source": [
        "# Example - The lower() method returns the string in lower case:\n",
        "\n",
        "a = \"Hello, World!\"\n",
        "print(a.lower())"
      ],
      "execution_count": 10,
      "outputs": [
        {
          "output_type": "stream",
          "text": [
            "hello, world!\n"
          ],
          "name": "stdout"
        }
      ]
    },
    {
      "cell_type": "code",
      "metadata": {
        "id": "vG_-1wirRFIs",
        "colab_type": "code",
        "colab": {
          "base_uri": "https://localhost:8080/",
          "height": 34
        },
        "outputId": "9a321308-74dd-42b0-e803-7d723b54ae15"
      },
      "source": [
        "# Example - The upper() method returns the string in upper case:\n",
        "\n",
        "a = \"Hello, World!\"\n",
        "print(a.upper())"
      ],
      "execution_count": 11,
      "outputs": [
        {
          "output_type": "stream",
          "text": [
            "HELLO, WORLD!\n"
          ],
          "name": "stdout"
        }
      ]
    },
    {
      "cell_type": "code",
      "metadata": {
        "id": "Px1115JnRQzF",
        "colab_type": "code",
        "colab": {
          "base_uri": "https://localhost:8080/",
          "height": 34
        },
        "outputId": "461ce0bb-30ea-4d73-a12c-641161a47d30"
      },
      "source": [
        "# Example - The replace() method replaces a string with another string:\n",
        "\n",
        "a = \"Hello, World!\"\n",
        "print(a.replace(\"H\", \"J\"))"
      ],
      "execution_count": 12,
      "outputs": [
        {
          "output_type": "stream",
          "text": [
            "Jello, World!\n"
          ],
          "name": "stdout"
        }
      ]
    },
    {
      "cell_type": "code",
      "metadata": {
        "id": "JBXhDK-gRdQy",
        "colab_type": "code",
        "colab": {
          "base_uri": "https://localhost:8080/",
          "height": 34
        },
        "outputId": "e7310ab0-d1ec-4c8d-dfd6-adfcdac83955"
      },
      "source": [
        "# Example - The split() method splits the string into substrings if it finds instances of the separator:\n",
        "\n",
        "a = \"Hello, World!\"\n",
        "print(a.split(\",\")) # returns ['Hello', ' World!']"
      ],
      "execution_count": 13,
      "outputs": [
        {
          "output_type": "stream",
          "text": [
            "['Hello', ' World!']\n"
          ],
          "name": "stdout"
        }
      ]
    },
    {
      "cell_type": "markdown",
      "metadata": {
        "id": "17TdsPV2R47g",
        "colab_type": "text"
      },
      "source": [
        "- Learn more about String Methods with our [String Methods Reference](https://www.w3schools.com/python/python_ref_string.asp)"
      ]
    },
    {
      "cell_type": "markdown",
      "metadata": {
        "id": "nHQJpYhmTR8G",
        "colab_type": "text"
      },
      "source": [
        "## **9. Check String**\n",
        "\n",
        "- To check if a certain phrase or character is present in a string, we can use the keywords **in** or **not in**."
      ]
    },
    {
      "cell_type": "code",
      "metadata": {
        "id": "alVbiwiRTlcH",
        "colab_type": "code",
        "colab": {
          "base_uri": "https://localhost:8080/",
          "height": 34
        },
        "outputId": "8c1b0ab6-95aa-4390-e239-ce01badc63c7"
      },
      "source": [
        "# Example - Check if the phrase \"ain\" is present in the following text:\n",
        "\n",
        "txt = \"The rain in Spain stays mainly in the plain\"\n",
        "x = \"ain\" in txt\n",
        "print(x)"
      ],
      "execution_count": 14,
      "outputs": [
        {
          "output_type": "stream",
          "text": [
            "True\n"
          ],
          "name": "stdout"
        }
      ]
    },
    {
      "cell_type": "code",
      "metadata": {
        "id": "LRwFRNqeT4Cl",
        "colab_type": "code",
        "colab": {
          "base_uri": "https://localhost:8080/",
          "height": 34
        },
        "outputId": "a1815ddb-1ebf-4eeb-b77a-91c41efa01b7"
      },
      "source": [
        "# Example - Check if the phrase \"ain\" is NOT present in the following text:\n",
        "\n",
        "txt = \"The rain in Spain stays mainly in the plain\"\n",
        "x = \"ain\" not in txt\n",
        "print(x) "
      ],
      "execution_count": 15,
      "outputs": [
        {
          "output_type": "stream",
          "text": [
            "False\n"
          ],
          "name": "stdout"
        }
      ]
    },
    {
      "cell_type": "markdown",
      "metadata": {
        "id": "JWsMX--OVEBN",
        "colab_type": "text"
      },
      "source": [
        "## **10. String Concatenation**\n",
        "\n",
        "- To concatenate, or combine, two strings you can use the + operator."
      ]
    },
    {
      "cell_type": "code",
      "metadata": {
        "id": "eknThVncVSWd",
        "colab_type": "code",
        "colab": {
          "base_uri": "https://localhost:8080/",
          "height": 34
        },
        "outputId": "442384e7-fb4e-4b23-8b46-812c4cfe6485"
      },
      "source": [
        "# Example - Merge variable a with variable b into variable c:\n",
        "\n",
        "a = \"Hello\"\n",
        "b = \"World\"\n",
        "c = a + b\n",
        "print(c)"
      ],
      "execution_count": 16,
      "outputs": [
        {
          "output_type": "stream",
          "text": [
            "HelloWorld\n"
          ],
          "name": "stdout"
        }
      ]
    },
    {
      "cell_type": "code",
      "metadata": {
        "id": "rXScG-jyb08c",
        "colab_type": "code",
        "colab": {
          "base_uri": "https://localhost:8080/",
          "height": 34
        },
        "outputId": "a5b3526c-2c32-4f2c-80c1-7cc33bf50330"
      },
      "source": [
        "# Example - To add a space between them, add a \" \":\n",
        "\n",
        "a = \"Hello\"\n",
        "b = \"World\"\n",
        "c = a + \" \" + b\n",
        "print(c)"
      ],
      "execution_count": 17,
      "outputs": [
        {
          "output_type": "stream",
          "text": [
            "Hello World\n"
          ],
          "name": "stdout"
        }
      ]
    },
    {
      "cell_type": "markdown",
      "metadata": {
        "id": "2Atr4HErcZCb",
        "colab_type": "text"
      },
      "source": [
        "## **11. String Format**\n",
        "\n",
        "- As we learned in the Python Variables chapter, we cannot combine strings and numbers like this."
      ]
    },
    {
      "cell_type": "markdown",
      "metadata": {
        "id": "Nhlv39J2co8F",
        "colab_type": "text"
      },
      "source": [
        "-  Example\n",
        "- age = 36\n",
        "- txt = \"My name is John, I am \" + age\n",
        "- print(txt)\n",
        "- 3 age = 36\n",
        "----> 4 txt = \"My name is John, I am \" + age\n",
        "- 5 print(txt)\n",
        "- TypeError: must be str, not int"
      ]
    },
    {
      "cell_type": "markdown",
      "metadata": {
        "id": "NJWcDEKhdfza",
        "colab_type": "text"
      },
      "source": [
        "- But we can combine strings and numbers by using the **format()** method.\n",
        "\n",
        "- The **format()** method takes the passed arguments, formats them, and places them in the string where the placeholders {} are."
      ]
    },
    {
      "cell_type": "code",
      "metadata": {
        "id": "NoZSOfSBdpuP",
        "colab_type": "code",
        "colab": {
          "base_uri": "https://localhost:8080/",
          "height": 34
        },
        "outputId": "a2298654-f083-4e5e-d41a-f1c2eac62092"
      },
      "source": [
        "# Example - Use the format() method to insert numbers into strings:\n",
        "\n",
        "age = 36\n",
        "txt = \"My name is John, and I am {}\"\n",
        "print(txt.format(age))"
      ],
      "execution_count": 19,
      "outputs": [
        {
          "output_type": "stream",
          "text": [
            "My name is John, and I am 36\n"
          ],
          "name": "stdout"
        }
      ]
    },
    {
      "cell_type": "markdown",
      "metadata": {
        "id": "eTqRaQT5eHeA",
        "colab_type": "text"
      },
      "source": [
        "- The **format()** method takes unlimited number of arguments, and are placed into the respective placeholders."
      ]
    },
    {
      "cell_type": "code",
      "metadata": {
        "id": "8MtFXfY7UOYO",
        "colab_type": "code",
        "colab": {
          "base_uri": "https://localhost:8080/",
          "height": 34
        },
        "outputId": "7c6223c7-53c9-4a42-f2ba-76ed78cab876"
      },
      "source": [
        "# Example\n",
        "\n",
        "quantity = 3\n",
        "itemno = 567\n",
        "price = 49.95\n",
        "myorder = \"I want {} pieces of item {} for {} dollars.\"\n",
        "print(myorder.format(quantity, itemno, price))\n"
      ],
      "execution_count": 20,
      "outputs": [
        {
          "output_type": "stream",
          "text": [
            "I want 3 pieces of item 567 for 49.95 dollars.\n"
          ],
          "name": "stdout"
        }
      ]
    },
    {
      "cell_type": "markdown",
      "metadata": {
        "id": "lkHCWPuHeniQ",
        "colab_type": "text"
      },
      "source": [
        "- You can use index numbers {0} to be sure the arguments are placed in the correct placeholders."
      ]
    },
    {
      "cell_type": "code",
      "metadata": {
        "id": "q_rOYd7Leqjh",
        "colab_type": "code",
        "colab": {
          "base_uri": "https://localhost:8080/",
          "height": 34
        },
        "outputId": "6e5aaba5-f7f6-4027-d6ba-d63c77449daf"
      },
      "source": [
        "# Example\n",
        "\n",
        "quantity = 3\n",
        "itemno = 567\n",
        "price = 49.95\n",
        "myorder = \"I want to pay {2} dollars for {0} pieces of item {1}.\"\n",
        "print(myorder.format(quantity, itemno, price))"
      ],
      "execution_count": 21,
      "outputs": [
        {
          "output_type": "stream",
          "text": [
            "I want to pay 49.95 dollars for 3 pieces of item 567.\n"
          ],
          "name": "stdout"
        }
      ]
    },
    {
      "cell_type": "markdown",
      "metadata": {
        "id": "6IUNiMV4hctU",
        "colab_type": "text"
      },
      "source": [
        "## **12. Escape Character**\n",
        "\n",
        "- To insert characters that are illegal in a string, use an escape character.\n",
        "\n",
        "- An escape character is a backslash \\ followed by the character you want to insert.\n",
        "\n",
        "- An example of an illegal character is a double quote inside a string that is surrounded by double quotes:"
      ]
    },
    {
      "cell_type": "markdown",
      "metadata": {
        "id": "WVzK6I3Mh1OU",
        "colab_type": "text"
      },
      "source": [
        "- Example \n",
        "\n",
        "- You will get an error if you use double quotes inside a string that is surrounded by double quotes.\n",
        "\n",
        "- txt = \"We are the so-called \"Vikings\" from the north.\"\n",
        "\n",
        "- File \"demo_string_escape_error.py\", line 1\n",
        "    txt = \"We are the so-called \"Vikings\" from the north.\"\n",
        "\n",
        "- SyntaxError: invalid syntax"
      ]
    },
    {
      "cell_type": "markdown",
      "metadata": {
        "id": "vd6sMxr1icWK",
        "colab_type": "text"
      },
      "source": [
        "- **Escape character**\n",
        "\n",
        "To fix this problem, use the escape character \\\":\n",
        "\n"
      ]
    },
    {
      "cell_type": "code",
      "metadata": {
        "id": "o8ghs9WSjSXG",
        "colab_type": "code",
        "colab": {
          "base_uri": "https://localhost:8080/",
          "height": 35
        },
        "outputId": "6e9caa33-f53a-4491-f78d-3041829980fa"
      },
      "source": [
        "# Example - The escape character allows you to use double quotes when you normally would not be allowed:\n",
        "\n",
        "txt = \"We are the so-called \\\"Vikings\\\" from the north.\"\n",
        "\n",
        "txt"
      ],
      "execution_count": 22,
      "outputs": [
        {
          "output_type": "execute_result",
          "data": {
            "application/vnd.google.colaboratory.intrinsic+json": {
              "type": "string"
            },
            "text/plain": [
              "'We are the so-called \"Vikings\" from the north.'"
            ]
          },
          "metadata": {
            "tags": []
          },
          "execution_count": 22
        }
      ]
    },
    {
      "cell_type": "markdown",
      "metadata": {
        "id": "OoR5I8ZSjzKf",
        "colab_type": "text"
      },
      "source": [
        "## **13. String Methods**\n",
        "\n",
        "- Python has a set of built-in methods that you can use on strings.\n",
        "\n",
        "- **Note**: All string methods returns new values. They do not change the original string.\n",
        "\n"
      ]
    },
    {
      "cell_type": "markdown",
      "metadata": {
        "id": "rRby-g4ikGqT",
        "colab_type": "text"
      },
      "source": [
        "- **Method**\t**Description**\n",
        "\n",
        "- capitalize()\tConverts the first character to upper case\n",
        "- casefold()\tConverts string into lower case\n",
        "- center()\tReturns a centered string\n",
        "- count()\tReturns the number of times a specified value occurs in a string\n",
        "- encode()\tReturns an encoded version of the string\n",
        "- endswith()\tReturns true if the string ends with the specified value\n",
        "- expandtabs()\tSets the tab size of the string\n",
        "- find()\tSearches the string for a specified value and returns the position of where it was found\n",
        "- format()\tFormats specified values in a string\n",
        "- format_map()\tFormats specified values in a string\n",
        "- index()\tSearches the string for a specified value and returns the position of where it was found\n",
        "- isalnum()\tReturns True if all characters in the string are alphanumeric\n",
        "- isalpha()\tReturns True if all characters in the string are in the alphabet\n",
        "- isdecimal()\tReturns True if all characters in the string are decimals\n",
        "- isdigit()\tReturns True if all characters in the string are digits\n",
        "- isidentifier()\tReturns True if the string is an identifier\n",
        "- islower()\tReturns True if all characters in the string are lower case\n",
        "- isnumeric()\tReturns True if all characters in the string are numeric\n",
        "- isprintable()\tReturns True if all characters in the string are printable\n",
        "- isspace()\tReturns True if all characters in the string are whitespaces\n",
        "- istitle()\tReturns True if the string follows the rules of a title\n",
        "- isupper()\tReturns True if all characters in the string are upper case\n",
        "- join()\tJoins the elements of an iterable to the end of the string\n",
        "- ljust()\tReturns a left justified version of the string\n",
        "- lower()\tConverts a string into lower case\n",
        "- lstrip()\tReturns a left trim version of the string\n",
        "- maketrans()\tReturns a translation table to be used in translations\n",
        "- partition()\tReturns a tuple where the string is parted into three parts\n",
        "- replace()\tReturns a string where a specified value is replaced with a specified value\n",
        "- rfind()\tSearches the string for a specified value and returns the last position of where it was found\n",
        "- rindex()\tSearches the string for a specified value and returns the last position of where it was found\n",
        "- rjust()\tReturns a right justified version of the string\n",
        "- rpartition()\tReturns a tuple where the string is parted into three parts\n",
        "- rsplit()\tSplits the string at the specified separator, and returns a list\n",
        "- rstrip()\tReturns a right trim version of the string\n",
        "- split()\tSplits the string at the specified separator, and returns a list\n",
        "- splitlines()\tSplits the string at line breaks and returns a list\n",
        "- startswith()\tReturns true if the string starts with the specified value\n",
        "- strip()\tReturns a trimmed version of the string\n",
        "- swapcase()\tSwaps cases, lower case becomes upper case and vice versa\n",
        "- title()\tConverts the first character of each word to upper case\n",
        "- translate()\tReturns a translated string\n",
        "- upper()\tConverts a string into upper case\n",
        "- zfill()\tFills the string with a specified number of 0 values at the beginning"
      ]
    },
    {
      "cell_type": "markdown",
      "metadata": {
        "id": "zY0ZzeUDoLzM",
        "colab_type": "text"
      },
      "source": [
        "Reference : https://www.w3schools.com/python/python_strings.asp"
      ]
    }
  ]
}