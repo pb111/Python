{
  "nbformat": 4,
  "nbformat_minor": 0,
  "metadata": {
    "colab": {
      "name": "Python Packages",
      "provenance": [],
      "authorship_tag": "ABX9TyPec504CUJf7zQi9Z9NK0Pt",
      "include_colab_link": true
    },
    "kernelspec": {
      "name": "python3",
      "display_name": "Python 3"
    }
  },
  "cells": [
    {
      "cell_type": "markdown",
      "metadata": {
        "id": "view-in-github",
        "colab_type": "text"
      },
      "source": [
        "<a href=\"https://colab.research.google.com/github/pb111/Python-tutorials-and-projects/blob/master/Python_Packages.ipynb\" target=\"_parent\"><img src=\"https://colab.research.google.com/assets/colab-badge.svg\" alt=\"Open In Colab\"/></a>"
      ]
    },
    {
      "cell_type": "markdown",
      "metadata": {
        "id": "nJiH59EgFjK7"
      },
      "source": [
        "# **Python Packages**\n",
        "\n",
        "- In this article, you'll learn to divide your code base into clean, efficient modules using Python packages. Also, you'll learn to import and use your own or third party packages in your Python program."
      ]
    },
    {
      "cell_type": "markdown",
      "metadata": {
        "id": "qMuDvYfCJwSJ"
      },
      "source": [
        "## **1. What are packages?**\n",
        "\n",
        "- We don't usually store all of our files on our computer in the same location. We use a well-organized hierarchy of directories for easier access.\n",
        "\n",
        "- Similar files are kept in the same directory, for example, we may keep all the songs in the **music** directory. Analogous to this, Python has packages for directories and [modules](https://www.programiz.com/python-programming/modules) for files.\n",
        "\n",
        "- As our application program grows larger in size with a lot of modules, we place similar modules in one package and different modules in different packages. This makes a project (program) easy to manage and conceptually clear.\n",
        "\n",
        "- Similarly, as a directory can contain subdirectories and files, a Python package can have sub-packages and modules.\n",
        "\n",
        "- A directory must contain a file named `__init__.py` in order for Python to consider it as a package. This file can be left empty but we generally place the initialization code for that package in this file.\n",
        "\n",
        "- Here is an example. Suppose we are developing a game. One possible organization of packages and modules could be as shown in the figure below."
      ]
    },
    {
      "cell_type": "markdown",
      "metadata": {
        "id": "y-UD1BqPLXMH"
      },
      "source": [
        "- **Package Module Structure in Python Programming**\n",
        "\n",
        "![Package Module Structure in Python Programming](https://cdn.programiz.com/sites/tutorial2program/files/PackageModuleStructure.jpg)"
      ]
    },
    {
      "cell_type": "markdown",
      "metadata": {
        "id": "t5QJP6Y8RjO8"
      },
      "source": [
        "## **2. Importing module from a package**\n",
        "\n",
        "- We can import modules from packages using the dot (.) operator.\n",
        "\n",
        "- For example, if we want to import the `start` module in the above example, it can be done as follows:"
      ]
    },
    {
      "cell_type": "markdown",
      "metadata": {
        "id": "2TE4kqZMRvM0"
      },
      "source": [
        "   - `import Game.Level.start`"
      ]
    },
    {
      "cell_type": "markdown",
      "metadata": {
        "id": "T7Vi30mSSQ53"
      },
      "source": [
        "- Now, if this module contains a [function](https://www.programiz.com/python-programming/function) named `select_difficulty()`, we must use the full name to reference it."
      ]
    },
    {
      "cell_type": "markdown",
      "metadata": {
        "id": "lLa8PvX0Sfhf"
      },
      "source": [
        "- `Game.Level.start.select_difficulty(2)`"
      ]
    },
    {
      "cell_type": "markdown",
      "metadata": {
        "id": "QJzuEPqDSrTH"
      },
      "source": [
        "- If this construct seems lengthy, we can import the module without the package prefix as follows:"
      ]
    },
    {
      "cell_type": "markdown",
      "metadata": {
        "id": "NL3k3TdkSoL1"
      },
      "source": [
        "- `from Game.Level import start`"
      ]
    },
    {
      "cell_type": "markdown",
      "metadata": {
        "id": "eSdI9rsUS6Vk"
      },
      "source": [
        "- We can now call the function simply as follows:"
      ]
    },
    {
      "cell_type": "markdown",
      "metadata": {
        "id": "nybniv6FTGz0"
      },
      "source": [
        "- `start.select_difficulty(2)`"
      ]
    },
    {
      "cell_type": "markdown",
      "metadata": {
        "id": "ON9Vc1QRTSYL"
      },
      "source": [
        "- Another way of importing just the required function (or class or variable) from a module within a package would be as follows:"
      ]
    },
    {
      "cell_type": "markdown",
      "metadata": {
        "id": "_kL9YqQ3TbBf"
      },
      "source": [
        "- `from Game.Level.start import select_difficulty`"
      ]
    },
    {
      "cell_type": "markdown",
      "metadata": {
        "id": "ErkqbwDwTiar"
      },
      "source": [
        "- Now, we can directly call this function."
      ]
    },
    {
      "cell_type": "markdown",
      "metadata": {
        "id": "xAytQJfiTqD_"
      },
      "source": [
        "- `select_difficulty(2)`"
      ]
    },
    {
      "cell_type": "markdown",
      "metadata": {
        "id": "Z1IiPY1lT1p8"
      },
      "source": [
        "- Although easier, this method is not recommended. \n",
        "\n",
        "- Using the full [namespace](https://www.programiz.com/python-programming/namespace) avoids confusion and prevents two same identifier names from colliding."
      ]
    },
    {
      "cell_type": "markdown",
      "metadata": {
        "id": "xWdG2LSiUPXx"
      },
      "source": [
        "- While importing packages, Python looks in the list of directories defined in `sys.path`, similar as for [module search path](https://www.programiz.com/python-programming/modules#search)."
      ]
    },
    {
      "cell_type": "markdown",
      "metadata": {
        "id": "gxJ9C967Udqx"
      },
      "source": [
        "https://www.programiz.com/python-programming/package"
      ]
    }
  ]
}