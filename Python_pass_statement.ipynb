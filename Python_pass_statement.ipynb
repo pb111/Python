{
  "nbformat": 4,
  "nbformat_minor": 0,
  "metadata": {
    "colab": {
      "name": "Python pass statement",
      "provenance": [],
      "authorship_tag": "ABX9TyNWFTrz0xissY3lO6+oPiOK",
      "include_colab_link": true
    },
    "kernelspec": {
      "name": "python3",
      "display_name": "Python 3"
    }
  },
  "cells": [
    {
      "cell_type": "markdown",
      "metadata": {
        "id": "view-in-github",
        "colab_type": "text"
      },
      "source": [
        "<a href=\"https://colab.research.google.com/github/pb111/Python/blob/master/Python_pass_statement.ipynb\" target=\"_parent\"><img src=\"https://colab.research.google.com/assets/colab-badge.svg\" alt=\"Open In Colab\"/></a>"
      ]
    },
    {
      "cell_type": "markdown",
      "metadata": {
        "id": "F9PeAMLgeBP2",
        "colab_type": "text"
      },
      "source": [
        "# **Python pass statement**"
      ]
    },
    {
      "cell_type": "markdown",
      "metadata": {
        "id": "TkPQHOrhejXw",
        "colab_type": "text"
      },
      "source": [
        "In this article, you'll learn about pass statement. It is used as a placeholder for future implementation of functions, loops, etc."
      ]
    },
    {
      "cell_type": "markdown",
      "metadata": {
        "id": "Gac4o5kHfr2i",
        "colab_type": "text"
      },
      "source": [
        "## **1. What is pass statement in Python?**\n",
        "\n",
        "- In Python programming, the pass statement is a null statement. \n",
        "\n",
        "- The difference between a comment and a pass statement in Python is that while the interpreter ignores a comment entirely, pass is not ignored.\n",
        "\n",
        "- However, nothing happens when the pass is executed. It results in no operation (NOP)."
      ]
    },
    {
      "cell_type": "markdown",
      "metadata": {
        "id": "OCBke3m8kIAf",
        "colab_type": "text"
      },
      "source": [
        "## **2. Syntax of pass**\n",
        "\n",
        "- *pass*"
      ]
    },
    {
      "cell_type": "markdown",
      "metadata": {
        "id": "kT_tQclJker1",
        "colab_type": "text"
      },
      "source": [
        "We generally use it as a placeholder."
      ]
    },
    {
      "cell_type": "markdown",
      "metadata": {
        "id": "q_2Ao5I8k82a",
        "colab_type": "text"
      },
      "source": [
        "- Suppose we have a loop or a function that is not implemented yet, but we want to implement it in the future. They cannot have an empty body. The interpreter would give an error. \n",
        "\n",
        "- So, we use the pass statement to construct a body that does nothing."
      ]
    },
    {
      "cell_type": "markdown",
      "metadata": {
        "id": "HttZ7oLnmDZO",
        "colab_type": "text"
      },
      "source": [
        "## **3. Example: pass Statement**\n"
      ]
    },
    {
      "cell_type": "code",
      "metadata": {
        "id": "w6B4_mmQmSdU",
        "colab_type": "code",
        "colab": {}
      },
      "source": [
        "'''pass is just a placeholder for \n",
        "functionality to be added later.'''\n",
        "\n",
        "sequence = {'p','a','s','s'}\n",
        "for val in sequence:\n",
        "  pass"
      ],
      "execution_count": 1,
      "outputs": []
    },
    {
      "cell_type": "markdown",
      "metadata": {
        "id": "UtSArurfnBmI",
        "colab_type": "text"
      },
      "source": [
        "- We can do the same thing in an empty function or class as well."
      ]
    },
    {
      "cell_type": "code",
      "metadata": {
        "id": "Qb5VTvMnnFe3",
        "colab_type": "code",
        "colab": {}
      },
      "source": [
        "def function(args):\n",
        "  pass"
      ],
      "execution_count": 2,
      "outputs": []
    },
    {
      "cell_type": "code",
      "metadata": {
        "id": "6D6ESUfwnJkJ",
        "colab_type": "code",
        "colab": {}
      },
      "source": [
        "class Example:\n",
        "  pass"
      ],
      "execution_count": 3,
      "outputs": []
    }
  ]
}