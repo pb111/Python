{
  "nbformat": 4,
  "nbformat_minor": 0,
  "metadata": {
    "colab": {
      "name": "Polymorphism ",
      "provenance": [],
      "authorship_tag": "ABX9TyN/FDHbmw5GHqRalvwwqTal",
      "include_colab_link": true
    },
    "kernelspec": {
      "name": "python3",
      "display_name": "Python 3"
    }
  },
  "cells": [
    {
      "cell_type": "markdown",
      "metadata": {
        "id": "view-in-github",
        "colab_type": "text"
      },
      "source": [
        "<a href=\"https://colab.research.google.com/github/pb111/Python-tutorials-and-projects/blob/master/Polymorphism.ipynb\" target=\"_parent\"><img src=\"https://colab.research.google.com/assets/colab-badge.svg\" alt=\"Open In Colab\"/></a>"
      ]
    },
    {
      "cell_type": "markdown",
      "metadata": {
        "id": "7_Wi1UD6PsCW"
      },
      "source": [
        "# **Polymorphism**\n",
        "\n",
        "\n",
        "- **Polymorphism** is an ability (in OOP) to use a common interface for multiple forms (data types).\n",
        "\n",
        "- Suppose, we need to color a shape, there are multiple shape options (rectangle, square, circle). However we could use the same method to color any shape. This concept is called **Polymorphism**."
      ]
    },
    {
      "cell_type": "markdown",
      "metadata": {
        "id": "OaAzer2f170H"
      },
      "source": [
        "#### **Example 5: Using Polymorphism in Python**"
      ]
    },
    {
      "cell_type": "code",
      "metadata": {
        "id": "Yp3GluThPdWo",
        "colab": {
          "base_uri": "https://localhost:8080/"
        },
        "outputId": "128a891e-3f90-4518-be87-4a6bac9b3cf2"
      },
      "source": [
        "class Parrot:\n",
        "    \n",
        "    def fly(self):\n",
        "        print(\"Parrot can fly\")\n",
        "\n",
        "    def swim(self):\n",
        "        print(\"Parrot can't swim\")\n",
        "\n",
        "class Penguin:\n",
        "\n",
        "    def fly(self):\n",
        "        print(\"Penguin can't fly\")\n",
        "\n",
        "    def swim(self):\n",
        "        print(\"Penguin can swim\")\n",
        "\n",
        "# common interface\n",
        "def flying_test(bird):\n",
        "    bird.fly()\n",
        "\n",
        "# instantiate objects\n",
        "blu = Parrot()\n",
        "peggy = Penguin()\n",
        "\n",
        "# passing the object\n",
        "flying_test(blu)\n",
        "flying_test(peggy)"
      ],
      "execution_count": 1,
      "outputs": [
        {
          "output_type": "stream",
          "text": [
            "Parrot can fly\n",
            "Penguin can't fly\n"
          ],
          "name": "stdout"
        }
      ]
    },
    {
      "cell_type": "markdown",
      "metadata": {
        "id": "cIDbgGrz5HGJ"
      },
      "source": [
        "- In the above program, we defined two classes `Parrot` and `Penguin`. Each of them have a common `fly()` method. However, their functions are different.\n",
        "\n",
        "- To use **polymorphism**, we created a common interface i.e `flying_test()` function that takes any object and calls the object's `fly()` method. Thus, when we passed the `blu` and `peggy` objects in the `flying_test()` function, it ran effectively.\n",
        "\n"
      ]
    },
    {
      "cell_type": "markdown",
      "metadata": {
        "id": "iqodUe_tP4o8"
      },
      "source": [
        "https://www.programiz.com/python-programming/object-oriented-programming"
      ]
    }
  ]
}