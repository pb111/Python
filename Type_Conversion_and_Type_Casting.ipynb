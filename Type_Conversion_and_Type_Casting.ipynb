{
  "nbformat": 4,
  "nbformat_minor": 0,
  "metadata": {
    "colab": {
      "name": "Type Conversion and Type Casting",
      "provenance": [],
      "authorship_tag": "ABX9TyMSJuuhFdLTeH2cydk2iDPf",
      "include_colab_link": true
    },
    "kernelspec": {
      "name": "python3",
      "display_name": "Python 3"
    }
  },
  "cells": [
    {
      "cell_type": "markdown",
      "metadata": {
        "id": "view-in-github",
        "colab_type": "text"
      },
      "source": [
        "<a href=\"https://colab.research.google.com/github/pb111/Python/blob/master/Type_Conversion_and_Type_Casting.ipynb\" target=\"_parent\"><img src=\"https://colab.research.google.com/assets/colab-badge.svg\" alt=\"Open In Colab\"/></a>"
      ]
    },
    {
      "cell_type": "markdown",
      "metadata": {
        "id": "P0EWUp_LQYPt",
        "colab_type": "text"
      },
      "source": [
        "# **Python Type Conversion and Type Casting**"
      ]
    },
    {
      "cell_type": "markdown",
      "metadata": {
        "id": "y27zhiQ2Qo8O",
        "colab_type": "text"
      },
      "source": [
        "- In this article, you will learn about the Type conversion and uses of type conversion.\n",
        "\n",
        "- Before learning Type Conversion in Python, you should have knowledge about [Python Data Types](https://www.programiz.com/python-programming/variables-datatypes)."
      ]
    },
    {
      "cell_type": "markdown",
      "metadata": {
        "id": "F56kcjW8RBYX",
        "colab_type": "text"
      },
      "source": [
        "## **1. Type Conversion**\n",
        "\n",
        "- The process of converting the value of one data type (integer, string, float, etc.) to another data type is called **type conversion**. \n",
        "\n",
        "- Python has two types of type conversion.\n",
        "\n",
        "1. Implicit Type Conversion\n",
        "\n",
        "2. Explicit Type Conversion"
      ]
    },
    {
      "cell_type": "markdown",
      "metadata": {
        "id": "dJW8EEDfRjt2",
        "colab_type": "text"
      },
      "source": [
        "## **2. Implicit Type Conversion**\n",
        "\n",
        "- In Implicit type conversion, Python automatically converts one data type to another data type. This process doesn't need any user involvement.\n",
        "\n",
        "- Let's see an example where Python promotes the conversion of the lower data type (integer) to the higher data type (float) to avoid data loss."
      ]
    },
    {
      "cell_type": "markdown",
      "metadata": {
        "id": "zk_4RAgBT7Zr",
        "colab_type": "text"
      },
      "source": [
        "#### **Example 1: Converting integer to float**"
      ]
    },
    {
      "cell_type": "code",
      "metadata": {
        "id": "0rXSGoBZUBp5",
        "colab_type": "code",
        "colab": {
          "base_uri": "https://localhost:8080/",
          "height": 119
        },
        "outputId": "b325c0ed-0c3c-47a8-9366-84842016c0a8"
      },
      "source": [
        "num_int = 123\n",
        "num_flo = 1.23\n",
        "\n",
        "num_new = num_int + num_flo\n",
        "\n",
        "print(\"datatype of num_int:\",type(num_int))\n",
        "print(\"datatype of num_flo:\",type(num_flo))\n",
        "\n",
        "print('\\n')\n",
        "\n",
        "print(\"Value of num_new:\",num_new)\n",
        "print(\"datatype of num_new:\",type(num_new))"
      ],
      "execution_count": 1,
      "outputs": [
        {
          "output_type": "stream",
          "text": [
            "datatype of num_int: <class 'int'>\n",
            "datatype of num_flo: <class 'float'>\n",
            "\n",
            "\n",
            "Value of num_new: 124.23\n",
            "datatype of num_new: <class 'float'>\n"
          ],
          "name": "stdout"
        }
      ]
    },
    {
      "cell_type": "markdown",
      "metadata": {
        "id": "E2-F-uJAVRKC",
        "colab_type": "text"
      },
      "source": [
        "In the above program,\n",
        "\n",
        "- We add two variables **num_int** and **num_flo**, storing the value in num_new.\n",
        "\n",
        "- We will look at the data type of all three objects respectively.\n",
        "\n",
        "- In the output, we can see the **data type of num_int is an integer** while the **data type of num_flo is a float**.\n",
        "\n",
        "- Also, we can see the **num_new has a float data type** because Python always converts smaller data types to larger data types to avoid the loss of data.\n"
      ]
    },
    {
      "cell_type": "markdown",
      "metadata": {
        "id": "LBce0gW7WYMv",
        "colab_type": "text"
      },
      "source": [
        "Now, let's try adding a string and an integer, and see how Python deals with it."
      ]
    },
    {
      "cell_type": "markdown",
      "metadata": {
        "id": "R87tL3cvWeCN",
        "colab_type": "text"
      },
      "source": [
        "#### **Example 2: Addition of string(higher) data type and integer(lower) datatype**"
      ]
    },
    {
      "cell_type": "code",
      "metadata": {
        "id": "tuTrgtoVWhAi",
        "colab_type": "code",
        "colab": {
          "base_uri": "https://localhost:8080/",
          "height": 51
        },
        "outputId": "c39ad67a-f851-4898-9702-b86a3a7191c4"
      },
      "source": [
        "num_int = 123\n",
        "num_str = \"456\"\n",
        "\n",
        "print(\"Data type of num_int:\",type(num_int))\n",
        "print(\"Data type of num_str:\",type(num_str))\n"
      ],
      "execution_count": 2,
      "outputs": [
        {
          "output_type": "stream",
          "text": [
            "Data type of num_int: <class 'int'>\n",
            "Data type of num_str: <class 'str'>\n"
          ],
          "name": "stdout"
        }
      ]
    },
    {
      "cell_type": "markdown",
      "metadata": {
        "id": "YZC5yt-pW3kx",
        "colab_type": "text"
      },
      "source": [
        "##### **Now, we run the below command**\n",
        "\n",
        "\n",
        "- print(num_int+num_str)\n",
        "\n",
        "\n",
        "---------------------------------------------------------------------------\n",
        "\n",
        "##### **We get the following output**\n",
        "\n",
        "\n",
        "- TypeError                                 Traceback (most recent call last)\n",
        "- <ipython-input-6-9da633d766d2> in <module>()\n",
        "----> 1 print(num_int+num_str)\n",
        "\n",
        "- TypeError: unsupported operand type(s) for +: 'int' and 'str'"
      ]
    },
    {
      "cell_type": "markdown",
      "metadata": {
        "id": "6whoR9uTYEGZ",
        "colab_type": "text"
      },
      "source": [
        "In the above program,\n",
        "\n",
        "- We add two variables **num_int** and **num_str**.\n",
        "\n",
        "- As we can see from the output, we got TypeError. Python is not able to use Implicit Conversion in such conditions.\n",
        "\n",
        "- However, Python has a solution for these types of situations which is known as **Explicit Conversion**.\n"
      ]
    },
    {
      "cell_type": "markdown",
      "metadata": {
        "id": "rj8pi075ZlR3",
        "colab_type": "text"
      },
      "source": [
        "## **3. Explicit Type Conversion** or **Typecasting**\n",
        "\n",
        "\n",
        "- In Explicit Type Conversion, users convert the data type of an object to required data type. We use the predefined functions like **int()**, **float()**, **str()**, etc to perform explicit type conversion.\n",
        "\n",
        "- This type of conversion is also called **typecasting** because the user casts (changes) the data type of the objects.\n",
        "\n",
        "\n",
        "- Syntax :\n",
        "\n",
        " 'required_datatype(expression)'\n",
        "\n",
        "\n",
        "- **Typecasting** can be done by assigning the required data type function to the expression.\n",
        "\n",
        "\n"
      ]
    },
    {
      "cell_type": "markdown",
      "metadata": {
        "id": "8VYWcS9Obapu",
        "colab_type": "text"
      },
      "source": [
        "- For more information on typecasting, please visit [Type Conversion in Python](https://www.geeksforgeeks.org/type-conversion-python/)."
      ]
    },
    {
      "cell_type": "markdown",
      "metadata": {
        "id": "NWwxoPgscFH5",
        "colab_type": "text"
      },
      "source": [
        "#### **Example 3: Addition of string and integer using explicit conversion**"
      ]
    },
    {
      "cell_type": "code",
      "metadata": {
        "id": "Eo6VNIescJWU",
        "colab_type": "code",
        "colab": {
          "base_uri": "https://localhost:8080/",
          "height": 51
        },
        "outputId": "f877c705-1c82-4c75-90a5-14b7b251609d"
      },
      "source": [
        "num_int = 123\n",
        "num_str = \"456\"\n",
        "\n",
        "print(\"Data type of num_int:\",type(num_int))\n",
        "print(\"Data type of num_str before Type Casting:\",type(num_str))"
      ],
      "execution_count": 3,
      "outputs": [
        {
          "output_type": "stream",
          "text": [
            "Data type of num_int: <class 'int'>\n",
            "Data type of num_str before Type Casting: <class 'str'>\n"
          ],
          "name": "stdout"
        }
      ]
    },
    {
      "cell_type": "code",
      "metadata": {
        "id": "EbxYiQ20cXL5",
        "colab_type": "code",
        "colab": {
          "base_uri": "https://localhost:8080/",
          "height": 34
        },
        "outputId": "ead0ea6c-d162-4dae-b559-5df13e5039d2"
      },
      "source": [
        "num_str = int(num_str)\n",
        "print(\"Data type of num_str after Type Casting:\",type(num_str))"
      ],
      "execution_count": 4,
      "outputs": [
        {
          "output_type": "stream",
          "text": [
            "Data type of num_str after Type Casting: <class 'int'>\n"
          ],
          "name": "stdout"
        }
      ]
    },
    {
      "cell_type": "code",
      "metadata": {
        "id": "sOlG9sADchnn",
        "colab_type": "code",
        "colab": {
          "base_uri": "https://localhost:8080/",
          "height": 51
        },
        "outputId": "9dbf5cc5-ccbb-4c60-eb07-65f7ad096289"
      },
      "source": [
        "num_sum = num_int + num_str\n",
        "\n",
        "print(\"Sum of num_int and num_str:\",num_sum)\n",
        "print(\"Data type of the sum:\",type(num_sum))"
      ],
      "execution_count": 5,
      "outputs": [
        {
          "output_type": "stream",
          "text": [
            "Sum of num_int and num_str: 579\n",
            "Data type of the sum: <class 'int'>\n"
          ],
          "name": "stdout"
        }
      ]
    },
    {
      "cell_type": "markdown",
      "metadata": {
        "id": "bZ1eSzUbc8VJ",
        "colab_type": "text"
      },
      "source": [
        "In the above program,\n",
        "\n",
        "- We add **num_str** and **num_int** variable.\n",
        "\n",
        "- We converted **num_str** from string(higher) to integer(lower) type using **int() function** to perform the addition.\n",
        "\n",
        "- After converting **num_str** to an integer value, Python is able to add these two variables.\n",
        "\n",
        "- We got the **num_sum** value and data type to be an integer."
      ]
    },
    {
      "cell_type": "markdown",
      "metadata": {
        "id": "MWYxX7V7du-f",
        "colab_type": "text"
      },
      "source": [
        "## **4. Key Points to Remember**\n",
        "\n",
        "- **Type Conversion** is the conversion of object from one data type to another data type.\n",
        "\n",
        "- Implicit Type Conversion is automatically performed by the Python interpreter.\n",
        "Python avoids the loss of data in Implicit Type Conversion.\n",
        "\n",
        "- **Explicit Type Conversion is also called Type Casting**, the data types of objects are converted using predefined functions by the user.\n",
        "\n",
        "- In Type Casting, loss of data may occur as we enforce the object to a specific data type."
      ]
    },
    {
      "cell_type": "markdown",
      "metadata": {
        "id": "oBScyx5DeFia",
        "colab_type": "text"
      },
      "source": [
        "For more information on typecasting, please visit [Type Conversion in Python](https://www.geeksforgeeks.org/type-conversion-python/)."
      ]
    }
  ]
}