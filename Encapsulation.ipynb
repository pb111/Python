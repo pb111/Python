{
  "nbformat": 4,
  "nbformat_minor": 0,
  "metadata": {
    "colab": {
      "name": "Encapsulation",
      "provenance": [],
      "authorship_tag": "ABX9TyN9JEo3I1C0VCKX8Wr8FgR5",
      "include_colab_link": true
    },
    "kernelspec": {
      "name": "python3",
      "display_name": "Python 3"
    }
  },
  "cells": [
    {
      "cell_type": "markdown",
      "metadata": {
        "id": "view-in-github",
        "colab_type": "text"
      },
      "source": [
        "<a href=\"https://colab.research.google.com/github/pb111/Python-tutorials-and-projects/blob/master/Encapsulation.ipynb\" target=\"_parent\"><img src=\"https://colab.research.google.com/assets/colab-badge.svg\" alt=\"Open In Colab\"/></a>"
      ]
    },
    {
      "cell_type": "markdown",
      "metadata": {
        "id": "KgMdro-MO_aA"
      },
      "source": [
        "# **Encapsulation**"
      ]
    },
    {
      "cell_type": "markdown",
      "metadata": {
        "id": "Om46ASU6QrxI"
      },
      "source": [
        "- Using OOP in Python, we can restrict access to methods and variables. \n",
        "- This prevents data from direct modification which is called **encapsulation**. \n",
        "- In Python, we denote private attributes using underscore as the prefix i.e single _ or double __."
      ]
    },
    {
      "cell_type": "markdown",
      "metadata": {
        "id": "LW0sHeFpRJrD"
      },
      "source": [
        "#### **Example 4: Data Encapsulation in Python**"
      ]
    },
    {
      "cell_type": "code",
      "metadata": {
        "id": "UALk_q0wJH7Q",
        "colab": {
          "base_uri": "https://localhost:8080/"
        },
        "outputId": "ab9a01af-36ee-44a9-e4c6-cb3581cb1d41"
      },
      "source": [
        "class Computer:\n",
        "\n",
        "    def __init__(self):\n",
        "        self.__maxprice = 900\n",
        "\n",
        "    def sell(self):\n",
        "        print(\"Selling Price: {}\".format(self.__maxprice))\n",
        "\n",
        "    def setMaxPrice(self, price):\n",
        "        self.__maxprice = price\n",
        "\n",
        "c = Computer()\n",
        "c.sell()\n",
        "\n",
        "# change the price\n",
        "c.__maxprice = 1000\n",
        "c.sell()\n",
        "\n",
        "# using setter function\n",
        "c.setMaxPrice(1000)\n",
        "c.sell()"
      ],
      "execution_count": 1,
      "outputs": [
        {
          "output_type": "stream",
          "text": [
            "Selling Price: 900\n",
            "Selling Price: 900\n",
            "Selling Price: 1000\n"
          ],
          "name": "stdout"
        }
      ]
    },
    {
      "cell_type": "markdown",
      "metadata": {
        "id": "7dIF8v6ITymt"
      },
      "source": [
        "- In the above program, we defined a `Computer` class.\n",
        "\n",
        "- We used `__init__()` method to store the maximum selling price of `Computer`. We tried to modify the price. However, we can't change it because Python treats the `__maxprice` as private attributes.\n",
        "\n",
        "- As shown, to change the value, we have to use a setter function i.e `setMaxPrice()` which takes price as a parameter."
      ]
    },
    {
      "cell_type": "markdown",
      "metadata": {
        "id": "Kf-7a271O9Db"
      },
      "source": [
        "https://www.programiz.com/python-programming/object-oriented-programming"
      ]
    }
  ]
}