{
  "nbformat": 4,
  "nbformat_minor": 0,
  "metadata": {
    "colab": {
      "name": "Python Directory and Files Management",
      "provenance": [],
      "authorship_tag": "ABX9TyP6j7OPbiI3uxYGYXCOrfXw",
      "include_colab_link": true
    },
    "kernelspec": {
      "name": "python3",
      "display_name": "Python 3"
    }
  },
  "cells": [
    {
      "cell_type": "markdown",
      "metadata": {
        "id": "view-in-github",
        "colab_type": "text"
      },
      "source": [
        "<a href=\"https://colab.research.google.com/github/pb111/Python-tutorials-and-projects/blob/master/Python_Directory_and_Files_Management.ipynb\" target=\"_parent\"><img src=\"https://colab.research.google.com/assets/colab-badge.svg\" alt=\"Open In Colab\"/></a>"
      ]
    },
    {
      "cell_type": "markdown",
      "metadata": {
        "id": "kBpaxyEm4fzp"
      },
      "source": [
        "# **Python Directory and Files Management**\r\n",
        "\r\n",
        "- In this tutorial, you'll learn about file and directory management in Python, i.e. \r\n",
        "  - creating a directory, \r\n",
        "  - renaming it, \r\n",
        "  - listing all directories, and \r\n",
        "  - working with them."
      ]
    },
    {
      "cell_type": "markdown",
      "metadata": {
        "id": "iCC5P5Wi5E12"
      },
      "source": [
        "## **1. Python Directory**\r\n",
        "\r\n",
        "- If there are a large number of [files](https://www.programiz.com/python-programming/file-operation) to handle in our Python program, we can arrange our code within different directories to make things more manageable.\r\n",
        "\r\n",
        "- A directory or folder is a collection of files and subdirectories. \r\n",
        "\r\n",
        "- Python has the `os` [module](https://www.programiz.com/python-programming/modules) that provides us with many useful methods to work with directories (and files as well).\r\n",
        "\r\n"
      ]
    },
    {
      "cell_type": "markdown",
      "metadata": {
        "id": "Zf4LPtVI54v2"
      },
      "source": [
        "## **2. Get Current Directory**\r\n",
        "\r\n",
        "- We can get the present working directory using the `getcwd()` method of the `os` module.\r\n",
        "\r\n",
        "- This method returns the current working directory in the form of a string. \r\n",
        "\r\n",
        "- We can also use the `getcwdb()` method to get it as bytes object."
      ]
    },
    {
      "cell_type": "code",
      "metadata": {
        "colab": {
          "base_uri": "https://localhost:8080/",
          "height": 35
        },
        "id": "7q-jqsE84XUR",
        "outputId": "b8e4053b-7e91-49d1-a56a-18824e594474"
      },
      "source": [
        "import os\r\n",
        "os.getcwd()"
      ],
      "execution_count": 1,
      "outputs": [
        {
          "output_type": "execute_result",
          "data": {
            "application/vnd.google.colaboratory.intrinsic+json": {
              "type": "string"
            },
            "text/plain": [
              "'/content'"
            ]
          },
          "metadata": {
            "tags": []
          },
          "execution_count": 1
        }
      ]
    },
    {
      "cell_type": "code",
      "metadata": {
        "colab": {
          "base_uri": "https://localhost:8080/"
        },
        "id": "Qvi8iuH57jkh",
        "outputId": "de8a3d38-4022-43aa-e1d0-3c508149d0ff"
      },
      "source": [
        "os.getcwdb()"
      ],
      "execution_count": 2,
      "outputs": [
        {
          "output_type": "execute_result",
          "data": {
            "text/plain": [
              "b'/content'"
            ]
          },
          "metadata": {
            "tags": []
          },
          "execution_count": 2
        }
      ]
    },
    {
      "cell_type": "markdown",
      "metadata": {
        "id": "luus15Lk8IK-"
      },
      "source": [
        "- The extra backslash implies an escape sequence. The `print()` function will render this properly."
      ]
    },
    {
      "cell_type": "code",
      "metadata": {
        "colab": {
          "base_uri": "https://localhost:8080/"
        },
        "id": "VIV_AnfL7wjD",
        "outputId": "25c2a2ef-b15a-49d0-dfb6-33bd057e4dba"
      },
      "source": [
        "print(os.getcwd())"
      ],
      "execution_count": 3,
      "outputs": [
        {
          "output_type": "stream",
          "text": [
            "/content\n"
          ],
          "name": "stdout"
        }
      ]
    },
    {
      "cell_type": "markdown",
      "metadata": {
        "id": "zkQGkWHs942-"
      },
      "source": [
        "## **3. Changing Directory** \r\n",
        "\r\n",
        "- We can change the current working directory by using the `chdir()` method.\r\n",
        "\r\n",
        "- The new path that we want to change into must be supplied as a string to this method. We can use both the forward-slash `/` or the backward-slash `\\` to separate the path elements.\r\n",
        "\r\n",
        "- It is safer to use an escape sequence when using the backward slash."
      ]
    },
    {
      "cell_type": "markdown",
      "metadata": {
        "id": "bE26nbDk_UsR"
      },
      "source": [
        "- `os.chdir('C:\\Users\\Prashant\\Desktop\\1_Python')`"
      ]
    },
    {
      "cell_type": "markdown",
      "metadata": {
        "id": "5Z6OEBua_diS"
      },
      "source": [
        "- `print(os.getcwd())`"
      ]
    },
    {
      "cell_type": "markdown",
      "metadata": {
        "id": "1ZexOwOe_-if"
      },
      "source": [
        "## **4. List Directories and Files**\r\n",
        "\r\n",
        "- All files and sub-directories inside a directory can be retrieved using the `listdir()` method.\r\n",
        "\r\n",
        "- This method takes in a path and returns a list of subdirectories and files in that path. If no path is specified, it returns the list of subdirectories and files from the current working directory."
      ]
    },
    {
      "cell_type": "code",
      "metadata": {
        "colab": {
          "base_uri": "https://localhost:8080/"
        },
        "id": "MA_aYmO--MZt",
        "outputId": "f86b8aa3-d717-4447-a55b-7eb6e6585b0a"
      },
      "source": [
        "print(os.getcwd())"
      ],
      "execution_count": 4,
      "outputs": [
        {
          "output_type": "stream",
          "text": [
            "/content\n"
          ],
          "name": "stdout"
        }
      ]
    },
    {
      "cell_type": "code",
      "metadata": {
        "colab": {
          "base_uri": "https://localhost:8080/"
        },
        "id": "sqd7hXKKFcor",
        "outputId": "6ce80ac7-b992-4716-9f6d-9ff1da83eccb"
      },
      "source": [
        "os.listdir()"
      ],
      "execution_count": 5,
      "outputs": [
        {
          "output_type": "execute_result",
          "data": {
            "text/plain": [
              "['.config', 'sample_data']"
            ]
          },
          "metadata": {
            "tags": []
          },
          "execution_count": 5
        }
      ]
    },
    {
      "cell_type": "markdown",
      "metadata": {
        "id": "N2h0JWjhAHdu"
      },
      "source": [
        "## **5. Making a New Directory**\r\n",
        "\r\n",
        "- We can make a new directory using the `mkdir()` method.\r\n",
        "\r\n",
        "- This method takes in the path of the new directory. If the full path is not specified, the new directory is created in the current working directory."
      ]
    },
    {
      "cell_type": "code",
      "metadata": {
        "id": "3ae_VnBRATUv"
      },
      "source": [
        "os.mkdir('test')"
      ],
      "execution_count": 6,
      "outputs": []
    },
    {
      "cell_type": "code",
      "metadata": {
        "colab": {
          "base_uri": "https://localhost:8080/"
        },
        "id": "Hv4hNTYdG6c4",
        "outputId": "964e08bd-fdb9-43e0-fd3e-580e48206d12"
      },
      "source": [
        "os.listdir()"
      ],
      "execution_count": 7,
      "outputs": [
        {
          "output_type": "execute_result",
          "data": {
            "text/plain": [
              "['.config', 'test', 'sample_data']"
            ]
          },
          "metadata": {
            "tags": []
          },
          "execution_count": 7
        }
      ]
    },
    {
      "cell_type": "markdown",
      "metadata": {
        "id": "9zsc6-JQAKn4"
      },
      "source": [
        "## **6. Renaming a Directory or a File**\r\n",
        "\r\n",
        "- The `rename()` method can rename a directory or a file.\r\n",
        "\r\n",
        "- For renaming any directory or file, the `rename()` method takes in two basic arguments: \r\n",
        "  - the old name as the first argument, and \r\n",
        "  - the new name as the second argument."
      ]
    },
    {
      "cell_type": "code",
      "metadata": {
        "colab": {
          "base_uri": "https://localhost:8080/"
        },
        "id": "dfXHe-JrHXHH",
        "outputId": "9aa68f5a-ce9b-4615-9363-edc569ac08d0"
      },
      "source": [
        "os.listdir()\r\n"
      ],
      "execution_count": 8,
      "outputs": [
        {
          "output_type": "execute_result",
          "data": {
            "text/plain": [
              "['.config', 'test', 'sample_data']"
            ]
          },
          "metadata": {
            "tags": []
          },
          "execution_count": 8
        }
      ]
    },
    {
      "cell_type": "code",
      "metadata": {
        "id": "UKvPPhv9HY8a"
      },
      "source": [
        "os.rename('test','new_one')"
      ],
      "execution_count": 9,
      "outputs": []
    },
    {
      "cell_type": "code",
      "metadata": {
        "id": "1pi1pww5HcQW",
        "colab": {
          "base_uri": "https://localhost:8080/"
        },
        "outputId": "95b07dbb-6084-4aa2-e6b1-4f2438fa1738"
      },
      "source": [
        "os.listdir()"
      ],
      "execution_count": 10,
      "outputs": [
        {
          "output_type": "execute_result",
          "data": {
            "text/plain": [
              "['.config', 'new_one', 'sample_data']"
            ]
          },
          "metadata": {
            "tags": []
          },
          "execution_count": 10
        }
      ]
    },
    {
      "cell_type": "markdown",
      "metadata": {
        "id": "YITwuU5cASj_"
      },
      "source": [
        "## **7. Removing Directory or File**\r\n",
        "\r\n",
        "- A file can be removed (deleted) using the `remove()` method.\r\n",
        "\r\n",
        "- Similarly, the `rmdir()` method removes an empty directory."
      ]
    },
    {
      "cell_type": "code",
      "metadata": {
        "colab": {
          "base_uri": "https://localhost:8080/"
        },
        "id": "i6NmeJG_Lq7T",
        "outputId": "2a17fb50-2cd5-49bf-c831-539156d615fb"
      },
      "source": [
        "os.listdir()"
      ],
      "execution_count": 11,
      "outputs": [
        {
          "output_type": "execute_result",
          "data": {
            "text/plain": [
              "['.config', 'new_one', 'sample_data']"
            ]
          },
          "metadata": {
            "tags": []
          },
          "execution_count": 11
        }
      ]
    },
    {
      "cell_type": "markdown",
      "metadata": {
        "id": "-xtA_IwHMYiT"
      },
      "source": [
        "- `os.remove('new_one.txt')`\r\n",
        "- `os.listdir()`"
      ]
    },
    {
      "cell_type": "code",
      "metadata": {
        "colab": {
          "base_uri": "https://localhost:8080/"
        },
        "id": "Pk_C970xLvGP",
        "outputId": "d5cc4bfa-da72-41c9-9d0c-3c68127f1e5b"
      },
      "source": [
        "os.rmdir('new_one')\r\n",
        "os.listdir()"
      ],
      "execution_count": 16,
      "outputs": [
        {
          "output_type": "execute_result",
          "data": {
            "text/plain": [
              "['.config', 'sample_data']"
            ]
          },
          "metadata": {
            "tags": []
          },
          "execution_count": 16
        }
      ]
    },
    {
      "cell_type": "markdown",
      "metadata": {
        "id": "3xtMmyjNM3h1"
      },
      "source": [
        "- **Note** : The `rmdir()` method can only remove empty directories."
      ]
    },
    {
      "cell_type": "markdown",
      "metadata": {
        "id": "l2Gy-lS1NDr5"
      },
      "source": [
        "- In order to remove a non-empty directory, we can use the `rmtree()` method inside the `shutil` module."
      ]
    },
    {
      "cell_type": "code",
      "metadata": {
        "colab": {
          "base_uri": "https://localhost:8080/"
        },
        "id": "okmWqJtaNNxu",
        "outputId": "58dbfdce-ec32-4872-bcd5-f917e9b3611f"
      },
      "source": [
        "os.listdir()"
      ],
      "execution_count": 17,
      "outputs": [
        {
          "output_type": "execute_result",
          "data": {
            "text/plain": [
              "['.config', 'sample_data']"
            ]
          },
          "metadata": {
            "tags": []
          },
          "execution_count": 17
        }
      ]
    },
    {
      "cell_type": "code",
      "metadata": {
        "colab": {
          "base_uri": "https://localhost:8080/",
          "height": 163
        },
        "id": "uhPM05_bNVhz",
        "outputId": "48a8a944-7033-4960-96e8-b85851b23407"
      },
      "source": [
        "os.rmdir('sample_data')"
      ],
      "execution_count": 18,
      "outputs": [
        {
          "output_type": "error",
          "ename": "OSError",
          "evalue": "ignored",
          "traceback": [
            "\u001b[0;31m---------------------------------------------------------------------------\u001b[0m",
            "\u001b[0;31mOSError\u001b[0m                                   Traceback (most recent call last)",
            "\u001b[0;32m<ipython-input-18-895f957aed1d>\u001b[0m in \u001b[0;36m<module>\u001b[0;34m()\u001b[0m\n\u001b[0;32m----> 1\u001b[0;31m \u001b[0mos\u001b[0m\u001b[0;34m.\u001b[0m\u001b[0mrmdir\u001b[0m\u001b[0;34m(\u001b[0m\u001b[0;34m'sample_data'\u001b[0m\u001b[0;34m)\u001b[0m\u001b[0;34m\u001b[0m\u001b[0;34m\u001b[0m\u001b[0m\n\u001b[0m",
            "\u001b[0;31mOSError\u001b[0m: [Errno 39] Directory not empty: 'sample_data'"
          ]
        }
      ]
    },
    {
      "cell_type": "code",
      "metadata": {
        "colab": {
          "base_uri": "https://localhost:8080/"
        },
        "id": "977ypeI6Ndyw",
        "outputId": "33c2f392-3e60-4baf-95f9-87717194be76"
      },
      "source": [
        "import shutil\r\n",
        "shutil.rmtree('sample_data')\r\n",
        "os.listdir()"
      ],
      "execution_count": 20,
      "outputs": [
        {
          "output_type": "execute_result",
          "data": {
            "text/plain": [
              "['.config']"
            ]
          },
          "metadata": {
            "tags": []
          },
          "execution_count": 20
        }
      ]
    },
    {
      "cell_type": "markdown",
      "metadata": {
        "id": "0PD3NkjB4yLt"
      },
      "source": [
        "https://www.programiz.com/python-programming/directory"
      ]
    }
  ]
}