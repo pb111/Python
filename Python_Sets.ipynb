{
  "nbformat": 4,
  "nbformat_minor": 0,
  "metadata": {
    "colab": {
      "name": "Python Sets",
      "provenance": [],
      "authorship_tag": "ABX9TyMUFIJJs+f7U2ImTwKyakOG",
      "include_colab_link": true
    },
    "kernelspec": {
      "name": "python3",
      "display_name": "Python 3"
    }
  },
  "cells": [
    {
      "cell_type": "markdown",
      "metadata": {
        "id": "view-in-github",
        "colab_type": "text"
      },
      "source": [
        "<a href=\"https://colab.research.google.com/github/pb111/Python/blob/master/Python_Sets.ipynb\" target=\"_parent\"><img src=\"https://colab.research.google.com/assets/colab-badge.svg\" alt=\"Open In Colab\"/></a>"
      ]
    },
    {
      "cell_type": "markdown",
      "metadata": {
        "id": "QwCW2Ly8G78Z",
        "colab_type": "text"
      },
      "source": [
        "# **Python Sets**"
      ]
    },
    {
      "cell_type": "markdown",
      "metadata": {
        "id": "Fi5WPQT4HoKY",
        "colab_type": "text"
      },
      "source": [
        "## **1. Set**\n",
        "\n",
        "- A set is a collection which is unordered and unindexed. \n",
        "\n",
        "- In Python sets are written with curly brackets."
      ]
    },
    {
      "cell_type": "code",
      "metadata": {
        "id": "BlEqS1zoGvC6",
        "colab_type": "code",
        "colab": {
          "base_uri": "https://localhost:8080/",
          "height": 34
        },
        "outputId": "843abd04-cf26-417e-a702-412e7ef93e73"
      },
      "source": [
        "# Create a Set\n",
        "\n",
        "thisset = {\"apple\", \"banana\", \"cherry\"}\n",
        "print(thisset)"
      ],
      "execution_count": 1,
      "outputs": [
        {
          "output_type": "stream",
          "text": [
            "{'banana', 'apple', 'cherry'}\n"
          ],
          "name": "stdout"
        }
      ]
    },
    {
      "cell_type": "markdown",
      "metadata": {
        "id": "emYLQoOzIQtU",
        "colab_type": "text"
      },
      "source": [
        "- **Note**: Sets are unordered, so you cannot be sure in which order the items will appear.\n"
      ]
    },
    {
      "cell_type": "markdown",
      "metadata": {
        "id": "nEy5wJtZJH9W",
        "colab_type": "text"
      },
      "source": [
        "## **2. Access Items**\n",
        "\n",
        "- You cannot access items in a set by referring to an index, since sets are unordered the items has no index.\n",
        "\n",
        "- But you can loop through the set items using a for loop, or ask if a specified value is present in a set, by using the **in** keyword."
      ]
    },
    {
      "cell_type": "code",
      "metadata": {
        "id": "WkKJlLB_JUKY",
        "colab_type": "code",
        "colab": {
          "base_uri": "https://localhost:8080/",
          "height": 68
        },
        "outputId": "7ed861e3-8d70-4184-f9d0-4707ed640d7a"
      },
      "source": [
        "# Loop through the set, and print the values\n",
        "\n",
        "thisset = {\"apple\", \"banana\", \"cherry\"}\n",
        "\n",
        "for x in thisset:\n",
        "  print(x)\n"
      ],
      "execution_count": 2,
      "outputs": [
        {
          "output_type": "stream",
          "text": [
            "banana\n",
            "apple\n",
            "cherry\n"
          ],
          "name": "stdout"
        }
      ]
    },
    {
      "cell_type": "code",
      "metadata": {
        "id": "KkrgKDtbJfLW",
        "colab_type": "code",
        "colab": {
          "base_uri": "https://localhost:8080/",
          "height": 34
        },
        "outputId": "59409aac-25fb-4da5-9822-4480169d98f1"
      },
      "source": [
        "# Example - Check if \"banana\" is present in the set\n",
        "\n",
        "thisset = {\"apple\", \"banana\", \"cherry\"}\n",
        "\n",
        "print(\"banana\" in thisset)"
      ],
      "execution_count": 3,
      "outputs": [
        {
          "output_type": "stream",
          "text": [
            "True\n"
          ],
          "name": "stdout"
        }
      ]
    },
    {
      "cell_type": "code",
      "metadata": {
        "id": "K_WPH3UDJ14C",
        "colab_type": "code",
        "colab": {}
      },
      "source": [
        ""
      ],
      "execution_count": null,
      "outputs": []
    },
    {
      "cell_type": "code",
      "metadata": {
        "id": "TbqyFSbPIPLO",
        "colab_type": "code",
        "colab": {}
      },
      "source": [
        ""
      ],
      "execution_count": null,
      "outputs": []
    }
  ]
}