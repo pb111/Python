{
  "nbformat": 4,
  "nbformat_minor": 0,
  "metadata": {
    "colab": {
      "name": "Python Property",
      "provenance": [],
      "authorship_tag": "ABX9TyPXHuuqG7LzgJXIJYuauclr",
      "include_colab_link": true
    },
    "kernelspec": {
      "name": "python3",
      "display_name": "Python 3"
    }
  },
  "cells": [
    {
      "cell_type": "markdown",
      "metadata": {
        "id": "view-in-github",
        "colab_type": "text"
      },
      "source": [
        "<a href=\"https://colab.research.google.com/github/pb111/Python-tutorials-and-projects/blob/master/Python_Property.ipynb\" target=\"_parent\"><img src=\"https://colab.research.google.com/assets/colab-badge.svg\" alt=\"Open In Colab\"/></a>"
      ]
    },
    {
      "cell_type": "markdown",
      "metadata": {
        "id": "mRguHx5qRuq1"
      },
      "source": [
        "# **Python @property decorator**\r\n",
        "\r\n",
        "- In this tutorial, you will learn about **Python @property decorator**; \r\n",
        "\r\n",
        "- a pythonic way to use getters and setters in object-oriented programming.\r\n",
        "\r\n"
      ]
    },
    {
      "cell_type": "markdown",
      "metadata": {
        "id": "riUV2MGVQ4aO"
      },
      "source": [
        "## **1. Introduction**\r\n",
        "\r\n",
        "- Python programming provides us with a built-in `@property` decorator which makes usage of getter and setters much easier in Object-Oriented Programming.\r\n",
        "\r\n",
        "- Before going into details on what `@property` decorator is, let us first build an intuition on why it would be needed in the first place."
      ]
    },
    {
      "cell_type": "markdown",
      "metadata": {
        "id": "xJkvOUOiQ7Xo"
      },
      "source": [
        "## **2. Class Without Getters and Setters**\r\n",
        "\r\n",
        "- Let us assume that we decide to make a [class](https://www.programiz.com/python-programming/class) that stores the temperature in degrees Celsius. \r\n",
        "- It would also implement a method to convert the temperature into degrees Fahrenheit. \r\n",
        "- One way of doing this is as follows:"
      ]
    },
    {
      "cell_type": "code",
      "metadata": {
        "id": "sVHaWpGuamY9"
      },
      "source": [
        "class Celsius:\r\n",
        "    def __init__(self, temperature = 0):\r\n",
        "        self.temperature = temperature\r\n",
        "\r\n",
        "    def to_fahrenheit(self):\r\n",
        "        return (self.temperature * 1.8) + 32"
      ],
      "execution_count": 1,
      "outputs": []
    },
    {
      "cell_type": "markdown",
      "metadata": {
        "id": "Vinu-81LbmSP"
      },
      "source": [
        "- We can make objects out of this class and manipulate the `temperature` attribute as we wish:"
      ]
    },
    {
      "cell_type": "code",
      "metadata": {
        "colab": {
          "base_uri": "https://localhost:8080/"
        },
        "id": "TnEYCwMeagzB",
        "outputId": "561244c6-7bee-46d8-d5fe-c2aefb4849c7"
      },
      "source": [
        "# Basic method of setting and getting attributes in Python\r\n",
        "class Celsius:\r\n",
        "    def __init__(self, temperature=0):\r\n",
        "        self.temperature = temperature\r\n",
        "\r\n",
        "    def to_fahrenheit(self):\r\n",
        "        return (self.temperature * 1.8) + 32\r\n",
        "\r\n",
        "\r\n",
        "# Create a new object\r\n",
        "human = Celsius()\r\n",
        "\r\n",
        "# Set the temperature\r\n",
        "human.temperature = 37\r\n",
        "\r\n",
        "# Get the temperature attribute\r\n",
        "print(human.temperature)\r\n",
        "\r\n",
        "# Get the to_fahrenheit method\r\n",
        "print(human.to_fahrenheit())"
      ],
      "execution_count": 2,
      "outputs": [
        {
          "output_type": "stream",
          "text": [
            "37\n",
            "98.60000000000001\n"
          ],
          "name": "stdout"
        }
      ]
    },
    {
      "cell_type": "markdown",
      "metadata": {
        "id": "xyXC-8bvdnKV"
      },
      "source": [
        "- The extra decimal places when converting into Fahrenheit is due to the floating point arithmetic error. \r\n",
        "- To learn more, visit [Python Floating Point Arithmetic Error](https://www.programiz.com/python-programming/numbers#dec)."
      ]
    },
    {
      "cell_type": "markdown",
      "metadata": {
        "id": "rJZQykmBep-K"
      },
      "source": [
        "- Whenever we assign or retrieve any object attribute like `temperature` as shown above, Python searches it in the object's built-in `__dict__` dictionary attribute."
      ]
    },
    {
      "cell_type": "code",
      "metadata": {
        "colab": {
          "base_uri": "https://localhost:8080/"
        },
        "id": "-LIenSMyde7V",
        "outputId": "77201148-8839-4151-bdee-9ad133d38c01"
      },
      "source": [
        "human.__dict__"
      ],
      "execution_count": 3,
      "outputs": [
        {
          "output_type": "execute_result",
          "data": {
            "text/plain": [
              "{'temperature': 37}"
            ]
          },
          "metadata": {
            "tags": []
          },
          "execution_count": 3
        }
      ]
    },
    {
      "cell_type": "markdown",
      "metadata": {
        "id": "dshAox0YgCSM"
      },
      "source": [
        "- Therefore, `man.temperature` internally becomes `man.__dict__['temperature']`."
      ]
    },
    {
      "cell_type": "markdown",
      "metadata": {
        "id": "AiaCANHTREup"
      },
      "source": [
        "## **3. Using Getters and Setters**\r\n",
        "\r\n",
        "- Suppose we want to extend the usability of the `Celsius` class defined above. We know that the temperature of any object cannot reach below -273.15 degrees Celsius (Absolute Zero in Thermodynamics).\r\n",
        "\r\n",
        "- Let's update our code to implement this value constraint.\r\n",
        "\r\n",
        "- An obvious solution to the above restriction will be to hide the attribute `temperature` (make it private) and define new getter and setter methods to manipulate it. This can be done as follows:"
      ]
    },
    {
      "cell_type": "code",
      "metadata": {
        "id": "LzybIovbhZNA"
      },
      "source": [
        "# Making Getters and Setter methods\r\n",
        "class Celsius:\r\n",
        "    def __init__(self, temperature=0):\r\n",
        "        self.set_temperature(temperature)\r\n",
        "\r\n",
        "    def to_fahrenheit(self):\r\n",
        "        return (self.get_temperature() * 1.8) + 32\r\n",
        "\r\n",
        "    # getter method\r\n",
        "    def get_temperature(self):\r\n",
        "        return self._temperature\r\n",
        "\r\n",
        "    # setter method\r\n",
        "    def set_temperature(self, value):\r\n",
        "        if value < -273.15:\r\n",
        "            raise ValueError(\"Temperature below -273.15 is not possible.\")\r\n",
        "        self._temperature = value"
      ],
      "execution_count": 4,
      "outputs": []
    },
    {
      "cell_type": "markdown",
      "metadata": {
        "id": "KmeEXfK3l231"
      },
      "source": [
        "- As we can see, the above method introduces two new `get_temperature()` and `set_temperature()` methods.\r\n",
        "\r\n",
        "- Furthermore, `temperature` was replaced with `_temperature`. \r\n",
        "\r\n",
        "- An underscore `_` at the beginning is used to denote private variables in Python."
      ]
    },
    {
      "cell_type": "markdown",
      "metadata": {
        "id": "wY_hlscwmZUG"
      },
      "source": [
        "- Now, let's use this implementation:"
      ]
    },
    {
      "cell_type": "code",
      "metadata": {
        "colab": {
          "base_uri": "https://localhost:8080/",
          "height": 384
        },
        "id": "DMA0MM_Qlu4P",
        "outputId": "941c034e-646b-4f07-eee4-85cc560db365"
      },
      "source": [
        "# Making Getters and Setter methods\r\n",
        "class Celsius:\r\n",
        "    def __init__(self, temperature=0):\r\n",
        "        self.set_temperature(temperature)\r\n",
        "\r\n",
        "    def to_fahrenheit(self):\r\n",
        "        return (self.get_temperature() * 1.8) + 32\r\n",
        "\r\n",
        "    # getter method\r\n",
        "    def get_temperature(self):\r\n",
        "        return self._temperature\r\n",
        "\r\n",
        "    # setter method\r\n",
        "    def set_temperature(self, value):\r\n",
        "        if value < -273.15:\r\n",
        "            raise ValueError(\"Temperature below -273.15 is not possible.\")\r\n",
        "        self._temperature = value\r\n",
        "\r\n",
        "\r\n",
        "# Create a new object, set_temperature() internally called by __init__\r\n",
        "human = Celsius(37)\r\n",
        "\r\n",
        "# Get the temperature attribute via a getter\r\n",
        "print(human.get_temperature())\r\n",
        "\r\n",
        "# Get the to_fahrenheit method, get_temperature() called by the method itself\r\n",
        "print(human.to_fahrenheit())\r\n",
        "\r\n",
        "# new constraint implementation\r\n",
        "human.set_temperature(-300)\r\n",
        "\r\n",
        "# Get the to_fahreheit method\r\n",
        "print(human.to_fahrenheit())"
      ],
      "execution_count": 5,
      "outputs": [
        {
          "output_type": "stream",
          "text": [
            "37\n",
            "98.60000000000001\n"
          ],
          "name": "stdout"
        },
        {
          "output_type": "error",
          "ename": "ValueError",
          "evalue": "ignored",
          "traceback": [
            "\u001b[0;31m---------------------------------------------------------------------------\u001b[0m",
            "\u001b[0;31mValueError\u001b[0m                                Traceback (most recent call last)",
            "\u001b[0;32m<ipython-input-5-f7d40ce0c112>\u001b[0m in \u001b[0;36m<module>\u001b[0;34m()\u001b[0m\n\u001b[1;32m     28\u001b[0m \u001b[0;34m\u001b[0m\u001b[0m\n\u001b[1;32m     29\u001b[0m \u001b[0;31m# new constraint implementation\u001b[0m\u001b[0;34m\u001b[0m\u001b[0;34m\u001b[0m\u001b[0;34m\u001b[0m\u001b[0m\n\u001b[0;32m---> 30\u001b[0;31m \u001b[0mhuman\u001b[0m\u001b[0;34m.\u001b[0m\u001b[0mset_temperature\u001b[0m\u001b[0;34m(\u001b[0m\u001b[0;34m-\u001b[0m\u001b[0;36m300\u001b[0m\u001b[0;34m)\u001b[0m\u001b[0;34m\u001b[0m\u001b[0;34m\u001b[0m\u001b[0m\n\u001b[0m\u001b[1;32m     31\u001b[0m \u001b[0;34m\u001b[0m\u001b[0m\n\u001b[1;32m     32\u001b[0m \u001b[0;31m# Get the to_fahreheit method\u001b[0m\u001b[0;34m\u001b[0m\u001b[0;34m\u001b[0m\u001b[0;34m\u001b[0m\u001b[0m\n",
            "\u001b[0;32m<ipython-input-5-f7d40ce0c112>\u001b[0m in \u001b[0;36mset_temperature\u001b[0;34m(self, value)\u001b[0m\n\u001b[1;32m     14\u001b[0m     \u001b[0;32mdef\u001b[0m \u001b[0mset_temperature\u001b[0m\u001b[0;34m(\u001b[0m\u001b[0mself\u001b[0m\u001b[0;34m,\u001b[0m \u001b[0mvalue\u001b[0m\u001b[0;34m)\u001b[0m\u001b[0;34m:\u001b[0m\u001b[0;34m\u001b[0m\u001b[0;34m\u001b[0m\u001b[0m\n\u001b[1;32m     15\u001b[0m         \u001b[0;32mif\u001b[0m \u001b[0mvalue\u001b[0m \u001b[0;34m<\u001b[0m \u001b[0;34m-\u001b[0m\u001b[0;36m273.15\u001b[0m\u001b[0;34m:\u001b[0m\u001b[0;34m\u001b[0m\u001b[0;34m\u001b[0m\u001b[0m\n\u001b[0;32m---> 16\u001b[0;31m             \u001b[0;32mraise\u001b[0m \u001b[0mValueError\u001b[0m\u001b[0;34m(\u001b[0m\u001b[0;34m\"Temperature below -273.15 is not possible.\"\u001b[0m\u001b[0;34m)\u001b[0m\u001b[0;34m\u001b[0m\u001b[0;34m\u001b[0m\u001b[0m\n\u001b[0m\u001b[1;32m     17\u001b[0m         \u001b[0mself\u001b[0m\u001b[0;34m.\u001b[0m\u001b[0m_temperature\u001b[0m \u001b[0;34m=\u001b[0m \u001b[0mvalue\u001b[0m\u001b[0;34m\u001b[0m\u001b[0;34m\u001b[0m\u001b[0m\n\u001b[1;32m     18\u001b[0m \u001b[0;34m\u001b[0m\u001b[0m\n",
            "\u001b[0;31mValueError\u001b[0m: Temperature below -273.15 is not possible."
          ]
        }
      ]
    },
    {
      "cell_type": "markdown",
      "metadata": {
        "id": "whA8E_TXnvbx"
      },
      "source": [
        "- This update successfully implemented the new restriction. We are no longer allowed to set the temperature below -273.15 degrees Celsius."
      ]
    },
    {
      "cell_type": "markdown",
      "metadata": {
        "id": "7Pyyl0x5n35F"
      },
      "source": [
        "- **Note** : The private variables don't actually exist in Python. \r\n",
        "- There are simply norms to be followed. \r\n",
        "- The language itself doesn't apply any restrictions."
      ]
    },
    {
      "cell_type": "code",
      "metadata": {
        "colab": {
          "base_uri": "https://localhost:8080/"
        },
        "id": "QQ9lcgqJoF61",
        "outputId": "585b6833-3ff3-4bbc-bd56-075f43763999"
      },
      "source": [
        "human._temperature = -300\r\n",
        "human.get_temperature()"
      ],
      "execution_count": 6,
      "outputs": [
        {
          "output_type": "execute_result",
          "data": {
            "text/plain": [
              "-300"
            ]
          },
          "metadata": {
            "tags": []
          },
          "execution_count": 6
        }
      ]
    },
    {
      "cell_type": "markdown",
      "metadata": {
        "id": "EYttzLRPoVNN"
      },
      "source": [
        "- However, the bigger problem with the above update is that all the programs that implemented our previous class have to modify their code from \r\n",
        "  \r\n",
        "  -`obj.temperature` to `obj.get_temperature()` \r\n",
        "  \r\n",
        "- and all expressions like `obj.temperature = val` to `obj.set_temperature(val)`.\r\n",
        "\r\n",
        "- This refactoring can cause problems while dealing with hundreds of thousands of lines of codes.\r\n",
        "\r\n",
        "- All in all, our new update was not backwards compatible. This is where `@property` comes to rescue."
      ]
    },
    {
      "cell_type": "markdown",
      "metadata": {
        "id": "AF8nwPsGRLDN"
      },
      "source": [
        "## **4. The property Class**\r\n",
        "\r\n",
        "- A pythonic way to deal with the above problem is to use the `property` class. \r\n",
        "\r\n",
        "- Here is how we can update our code:"
      ]
    },
    {
      "cell_type": "code",
      "metadata": {
        "id": "STXoYssWpZgW"
      },
      "source": [
        "# using property class\r\n",
        "class Celsius:\r\n",
        "    def __init__(self, temperature=0):\r\n",
        "        self.temperature = temperature\r\n",
        "\r\n",
        "    def to_fahrenheit(self):\r\n",
        "        return (self.temperature * 1.8) + 32\r\n",
        "\r\n",
        "    # getter\r\n",
        "    def get_temperature(self):\r\n",
        "        print(\"Getting value...\")\r\n",
        "        return self._temperature\r\n",
        "\r\n",
        "    # setter\r\n",
        "    def set_temperature(self, value):\r\n",
        "        print(\"Setting value...\")\r\n",
        "        if value < -273.15:\r\n",
        "            raise ValueError(\"Temperature below -273.15 is not possible\")\r\n",
        "        self._temperature = value\r\n",
        "\r\n",
        "    # creating a property object\r\n",
        "    temperature = property(get_temperature, set_temperature)"
      ],
      "execution_count": 7,
      "outputs": []
    },
    {
      "cell_type": "markdown",
      "metadata": {
        "id": "ngEsYcgVxCfW"
      },
      "source": [
        "- We added a `print()` function inside `get_temperature()` and `set_temperature()` to clearly observe that they are being executed.\r\n",
        "\r\n",
        "- The last line of the code makes a property object `temperature`. Simply put, property attaches some code (`get_temperature` and `set_temperature`) to the member attribute accesses (`temperature`).\r\n",
        "\r\n",
        "- Let's use this update code:"
      ]
    },
    {
      "cell_type": "code",
      "metadata": {
        "colab": {
          "base_uri": "https://localhost:8080/",
          "height": 418
        },
        "id": "gmio9bnbtJYx",
        "outputId": "bc128576-84c4-43fd-bff0-41484a295c54"
      },
      "source": [
        "# using property class\r\n",
        "class Celsius:\r\n",
        "    def __init__(self, temperature=0):\r\n",
        "        self.temperature = temperature\r\n",
        "\r\n",
        "    def to_fahrenheit(self):\r\n",
        "        return (self.temperature * 1.8) + 32\r\n",
        "\r\n",
        "    # getter\r\n",
        "    def get_temperature(self):\r\n",
        "        print(\"Getting value...\")\r\n",
        "        return self._temperature\r\n",
        "\r\n",
        "    # setter\r\n",
        "    def set_temperature(self, value):\r\n",
        "        print(\"Setting value...\")\r\n",
        "        if value < -273.15:\r\n",
        "            raise ValueError(\"Temperature below -273.15 is not possible\")\r\n",
        "        self._temperature = value\r\n",
        "\r\n",
        "    # creating a property object\r\n",
        "    temperature = property(get_temperature, set_temperature)\r\n",
        "\r\n",
        "\r\n",
        "human = Celsius(37)\r\n",
        "\r\n",
        "print(human.temperature)\r\n",
        "\r\n",
        "print(human.to_fahrenheit())\r\n",
        "\r\n",
        "human.temperature = -300"
      ],
      "execution_count": 8,
      "outputs": [
        {
          "output_type": "stream",
          "text": [
            "Setting value...\n",
            "Getting value...\n",
            "37\n",
            "Getting value...\n",
            "98.60000000000001\n",
            "Setting value...\n"
          ],
          "name": "stdout"
        },
        {
          "output_type": "error",
          "ename": "ValueError",
          "evalue": "ignored",
          "traceback": [
            "\u001b[0;31m---------------------------------------------------------------------------\u001b[0m",
            "\u001b[0;31mValueError\u001b[0m                                Traceback (most recent call last)",
            "\u001b[0;32m<ipython-input-8-dd6f749658a4>\u001b[0m in \u001b[0;36m<module>\u001b[0;34m()\u001b[0m\n\u001b[1;32m     29\u001b[0m \u001b[0mprint\u001b[0m\u001b[0;34m(\u001b[0m\u001b[0mhuman\u001b[0m\u001b[0;34m.\u001b[0m\u001b[0mto_fahrenheit\u001b[0m\u001b[0;34m(\u001b[0m\u001b[0;34m)\u001b[0m\u001b[0;34m)\u001b[0m\u001b[0;34m\u001b[0m\u001b[0;34m\u001b[0m\u001b[0m\n\u001b[1;32m     30\u001b[0m \u001b[0;34m\u001b[0m\u001b[0m\n\u001b[0;32m---> 31\u001b[0;31m \u001b[0mhuman\u001b[0m\u001b[0;34m.\u001b[0m\u001b[0mtemperature\u001b[0m \u001b[0;34m=\u001b[0m \u001b[0;34m-\u001b[0m\u001b[0;36m300\u001b[0m\u001b[0;34m\u001b[0m\u001b[0;34m\u001b[0m\u001b[0m\n\u001b[0m",
            "\u001b[0;32m<ipython-input-8-dd6f749658a4>\u001b[0m in \u001b[0;36mset_temperature\u001b[0;34m(self, value)\u001b[0m\n\u001b[1;32m     16\u001b[0m         \u001b[0mprint\u001b[0m\u001b[0;34m(\u001b[0m\u001b[0;34m\"Setting value...\"\u001b[0m\u001b[0;34m)\u001b[0m\u001b[0;34m\u001b[0m\u001b[0;34m\u001b[0m\u001b[0m\n\u001b[1;32m     17\u001b[0m         \u001b[0;32mif\u001b[0m \u001b[0mvalue\u001b[0m \u001b[0;34m<\u001b[0m \u001b[0;34m-\u001b[0m\u001b[0;36m273.15\u001b[0m\u001b[0;34m:\u001b[0m\u001b[0;34m\u001b[0m\u001b[0;34m\u001b[0m\u001b[0m\n\u001b[0;32m---> 18\u001b[0;31m             \u001b[0;32mraise\u001b[0m \u001b[0mValueError\u001b[0m\u001b[0;34m(\u001b[0m\u001b[0;34m\"Temperature below -273.15 is not possible\"\u001b[0m\u001b[0;34m)\u001b[0m\u001b[0;34m\u001b[0m\u001b[0;34m\u001b[0m\u001b[0m\n\u001b[0m\u001b[1;32m     19\u001b[0m         \u001b[0mself\u001b[0m\u001b[0;34m.\u001b[0m\u001b[0m_temperature\u001b[0m \u001b[0;34m=\u001b[0m \u001b[0mvalue\u001b[0m\u001b[0;34m\u001b[0m\u001b[0;34m\u001b[0m\u001b[0m\n\u001b[1;32m     20\u001b[0m \u001b[0;34m\u001b[0m\u001b[0m\n",
            "\u001b[0;31mValueError\u001b[0m: Temperature below -273.15 is not possible"
          ]
        }
      ]
    },
    {
      "cell_type": "markdown",
      "metadata": {
        "id": "jSXoTcM0yJLk"
      },
      "source": [
        "- As we can see, any code that retrieves the value of `temperature` will automatically call `get_temperature()` instead of a dictionary (__dict__) look-up. \r\n",
        "- Similarly, any code that assigns a value to `temperature` will automatically call `set_temperature()`."
      ]
    },
    {
      "cell_type": "markdown",
      "metadata": {
        "id": "zlxdGOHhyhwu"
      },
      "source": [
        "- We can even see above that `set_temperature()` was called even when we created an object."
      ]
    },
    {
      "cell_type": "code",
      "metadata": {
        "colab": {
          "base_uri": "https://localhost:8080/"
        },
        "id": "mfkMJ30kxtRa",
        "outputId": "834e9ce1-71d0-4620-c968-d88e3c7d1ec5"
      },
      "source": [
        "human = Celsius(37)"
      ],
      "execution_count": 9,
      "outputs": [
        {
          "output_type": "stream",
          "text": [
            "Setting value...\n"
          ],
          "name": "stdout"
        }
      ]
    },
    {
      "cell_type": "markdown",
      "metadata": {
        "id": "N3hLhsEByyaK"
      },
      "source": [
        "#### **Can you guess why?**\r\n",
        "\r\n",
        "- The reason is that when an object is created, the `__init__()` method gets called. This method has the line `self.temperature = temperature`. This expression automatically calls `set_temperature()`.\r\n",
        "\r\n",
        "- Similarly, any access like `c.temperature` automatically calls `get_temperature()`. This is what property does. \r\n",
        "\r\n",
        "- Here are a few more examples."
      ]
    },
    {
      "cell_type": "code",
      "metadata": {
        "colab": {
          "base_uri": "https://localhost:8080/"
        },
        "id": "iv9kjBzuyrIy",
        "outputId": "5da1715f-9092-40ee-9067-669decf8713a"
      },
      "source": [
        "human.temperature"
      ],
      "execution_count": 10,
      "outputs": [
        {
          "output_type": "stream",
          "text": [
            "Getting value...\n"
          ],
          "name": "stdout"
        },
        {
          "output_type": "execute_result",
          "data": {
            "text/plain": [
              "37"
            ]
          },
          "metadata": {
            "tags": []
          },
          "execution_count": 10
        }
      ]
    },
    {
      "cell_type": "code",
      "metadata": {
        "colab": {
          "base_uri": "https://localhost:8080/"
        },
        "id": "IjbojtsEzPrP",
        "outputId": "e46d7600-61c2-40fb-d206-f0716a151621"
      },
      "source": [
        "human.temperature = 37"
      ],
      "execution_count": 11,
      "outputs": [
        {
          "output_type": "stream",
          "text": [
            "Setting value...\n"
          ],
          "name": "stdout"
        }
      ]
    },
    {
      "cell_type": "code",
      "metadata": {
        "colab": {
          "base_uri": "https://localhost:8080/"
        },
        "id": "gUZAggVhzT6u",
        "outputId": "5a66258e-2146-41ce-e773-2eac23cc9fd4"
      },
      "source": [
        "human.to_fahrenheit()"
      ],
      "execution_count": 13,
      "outputs": [
        {
          "output_type": "stream",
          "text": [
            "Getting value...\n"
          ],
          "name": "stdout"
        },
        {
          "output_type": "execute_result",
          "data": {
            "text/plain": [
              "98.60000000000001"
            ]
          },
          "metadata": {
            "tags": []
          },
          "execution_count": 13
        }
      ]
    },
    {
      "cell_type": "markdown",
      "metadata": {
        "id": "pm0S0BHmz9Rw"
      },
      "source": [
        "- By using `property`, we can see that no modification is required in the implementation of the value constraint. Thus, our implementation is backward compatible."
      ]
    },
    {
      "cell_type": "markdown",
      "metadata": {
        "id": "zN0quu7o0KPN"
      },
      "source": [
        "- **Note** : The actual temperature value is stored in the private `_temperature` variable. The `temperature` attribute is a property object which provides an interface to this private variable."
      ]
    },
    {
      "cell_type": "markdown",
      "metadata": {
        "id": "g0AzQdMrRWR4"
      },
      "source": [
        "## **5. The @property Decorator**\r\n",
        "\r\n",
        "In Python, `property()` is a built-in function that creates and returns a `property` object. The syntax of this function is:\r\n",
        "\r\n",
        "  - property(fget=`None`, fset=`None`, fdel=`None`, doc=`None`)\r\n",
        "\r\n",
        "where,\r\n",
        "\r\n",
        "- `fget` is function to get value of the attribute\r\n",
        "- `fset` is function to set value of the attribute\r\n",
        "- `fdel` is function to delete the attribute\r\n",
        "- `doc` is a string (like a comment)\r\n"
      ]
    },
    {
      "cell_type": "markdown",
      "metadata": {
        "id": "0GOZGHHz1rKh"
      },
      "source": [
        "- As seen from the implementation, these function arguments are optional. So, a property object can simply be created as follows."
      ]
    },
    {
      "cell_type": "code",
      "metadata": {
        "id": "cG0y_PwqRpX1",
        "colab": {
          "base_uri": "https://localhost:8080/"
        },
        "outputId": "02049315-d0ce-4c93-e8d0-7d3e6414de54"
      },
      "source": [
        "property()"
      ],
      "execution_count": 14,
      "outputs": [
        {
          "output_type": "execute_result",
          "data": {
            "text/plain": [
              "<property at 0x7f32cb57f098>"
            ]
          },
          "metadata": {
            "tags": []
          },
          "execution_count": 14
        }
      ]
    },
    {
      "cell_type": "markdown",
      "metadata": {
        "id": "F-e9Ujii2Pj2"
      },
      "source": [
        "A property object has three methods, \r\n",
        "\r\n",
        "- `getter()`, \r\n",
        "- `setter()`, and \r\n",
        "- `deleter()` to specify \r\n",
        "\r\n",
        "`fget`, `fset` and `fdel` at a later point. \r\n",
        "\r\n",
        "This means, the line:\r\n",
        "\r\n",
        "  - `temperature = property(get_temperature,set_temperature)`\r\n",
        "\r\n",
        "can be broken down as\r\n",
        "\r\n",
        "- `# make empty property`\r\n",
        "- `temperature = property()`\r\n",
        "- `# assign fget`\r\n",
        "- `temperature = temperature.getter(get_temperature)`\r\n",
        "- `# assign fset`\r\n",
        "- `temperature = temperature.setter(set_temperature)`"
      ]
    },
    {
      "cell_type": "markdown",
      "metadata": {
        "id": "zViNWoHN4Qdv"
      },
      "source": [
        "These two pieces of codes are equivalent."
      ]
    },
    {
      "cell_type": "markdown",
      "metadata": {
        "id": "Lgibw60_4gpQ"
      },
      "source": [
        "- Programmers familiar with [Python Decorators](https://www.programiz.com/python-programming/decorator) can recognize that the above construct can be implemented as decorators.\r\n",
        "\r\n",
        "- We can even not define the names `get_temperature` and `set_temperature` as they are unnecessary and pollute the class namespace.\r\n",
        "\r\n",
        "- For this, we reuse the `temperature` name while defining our getter and setter functions. \r\n",
        "\r\n",
        "- Let's look at how to implement this as a decorator:\r\n",
        "\r\n"
      ]
    },
    {
      "cell_type": "code",
      "metadata": {
        "colab": {
          "base_uri": "https://localhost:8080/",
          "height": 442
        },
        "id": "DO66fO-33zEM",
        "outputId": "c8c2dedc-51fc-4838-b8a2-61644aedb73f"
      },
      "source": [
        "# Using @property decorator\r\n",
        "class Celsius:\r\n",
        "    def __init__(self, temperature=0):\r\n",
        "        self.temperature = temperature\r\n",
        "\r\n",
        "    def to_fahrenheit(self):\r\n",
        "        return (self.temperature * 1.8) + 32\r\n",
        "\r\n",
        "    @property\r\n",
        "    def temperature(self):\r\n",
        "        print(\"Getting value...\")\r\n",
        "        return self._temperature\r\n",
        "\r\n",
        "    @temperature.setter\r\n",
        "    def temperature(self, value):\r\n",
        "        print(\"Setting value...\")\r\n",
        "        if value < -273.15:\r\n",
        "            raise ValueError(\"Temperature below -273 is not possible\")\r\n",
        "        self._temperature = value\r\n",
        "\r\n",
        "\r\n",
        "# create an object\r\n",
        "human = Celsius(37)\r\n",
        "\r\n",
        "print(human.temperature)\r\n",
        "\r\n",
        "print(human.to_fahrenheit())\r\n",
        "\r\n",
        "coldest_thing = Celsius(-300)"
      ],
      "execution_count": 17,
      "outputs": [
        {
          "output_type": "stream",
          "text": [
            "Setting value...\n",
            "Getting value...\n",
            "37\n",
            "Getting value...\n",
            "98.60000000000001\n",
            "Setting value...\n"
          ],
          "name": "stdout"
        },
        {
          "output_type": "error",
          "ename": "ValueError",
          "evalue": "ignored",
          "traceback": [
            "\u001b[0;31m---------------------------------------------------------------------------\u001b[0m",
            "\u001b[0;31mValueError\u001b[0m                                Traceback (most recent call last)",
            "\u001b[0;32m<ipython-input-17-aebf63a39376>\u001b[0m in \u001b[0;36m<module>\u001b[0;34m()\u001b[0m\n\u001b[1;32m     27\u001b[0m \u001b[0mprint\u001b[0m\u001b[0;34m(\u001b[0m\u001b[0mhuman\u001b[0m\u001b[0;34m.\u001b[0m\u001b[0mto_fahrenheit\u001b[0m\u001b[0;34m(\u001b[0m\u001b[0;34m)\u001b[0m\u001b[0;34m)\u001b[0m\u001b[0;34m\u001b[0m\u001b[0;34m\u001b[0m\u001b[0m\n\u001b[1;32m     28\u001b[0m \u001b[0;34m\u001b[0m\u001b[0m\n\u001b[0;32m---> 29\u001b[0;31m \u001b[0mcoldest_thing\u001b[0m \u001b[0;34m=\u001b[0m \u001b[0mCelsius\u001b[0m\u001b[0;34m(\u001b[0m\u001b[0;34m-\u001b[0m\u001b[0;36m300\u001b[0m\u001b[0;34m)\u001b[0m\u001b[0;34m\u001b[0m\u001b[0;34m\u001b[0m\u001b[0m\n\u001b[0m",
            "\u001b[0;32m<ipython-input-17-aebf63a39376>\u001b[0m in \u001b[0;36m__init__\u001b[0;34m(self, temperature)\u001b[0m\n\u001b[1;32m      2\u001b[0m \u001b[0;32mclass\u001b[0m \u001b[0mCelsius\u001b[0m\u001b[0;34m:\u001b[0m\u001b[0;34m\u001b[0m\u001b[0;34m\u001b[0m\u001b[0m\n\u001b[1;32m      3\u001b[0m     \u001b[0;32mdef\u001b[0m \u001b[0m__init__\u001b[0m\u001b[0;34m(\u001b[0m\u001b[0mself\u001b[0m\u001b[0;34m,\u001b[0m \u001b[0mtemperature\u001b[0m\u001b[0;34m=\u001b[0m\u001b[0;36m0\u001b[0m\u001b[0;34m)\u001b[0m\u001b[0;34m:\u001b[0m\u001b[0;34m\u001b[0m\u001b[0;34m\u001b[0m\u001b[0m\n\u001b[0;32m----> 4\u001b[0;31m         \u001b[0mself\u001b[0m\u001b[0;34m.\u001b[0m\u001b[0mtemperature\u001b[0m \u001b[0;34m=\u001b[0m \u001b[0mtemperature\u001b[0m\u001b[0;34m\u001b[0m\u001b[0;34m\u001b[0m\u001b[0m\n\u001b[0m\u001b[1;32m      5\u001b[0m \u001b[0;34m\u001b[0m\u001b[0m\n\u001b[1;32m      6\u001b[0m     \u001b[0;32mdef\u001b[0m \u001b[0mto_fahrenheit\u001b[0m\u001b[0;34m(\u001b[0m\u001b[0mself\u001b[0m\u001b[0;34m)\u001b[0m\u001b[0;34m:\u001b[0m\u001b[0;34m\u001b[0m\u001b[0;34m\u001b[0m\u001b[0m\n",
            "\u001b[0;32m<ipython-input-17-aebf63a39376>\u001b[0m in \u001b[0;36mtemperature\u001b[0;34m(self, value)\u001b[0m\n\u001b[1;32m     16\u001b[0m         \u001b[0mprint\u001b[0m\u001b[0;34m(\u001b[0m\u001b[0;34m\"Setting value...\"\u001b[0m\u001b[0;34m)\u001b[0m\u001b[0;34m\u001b[0m\u001b[0;34m\u001b[0m\u001b[0m\n\u001b[1;32m     17\u001b[0m         \u001b[0;32mif\u001b[0m \u001b[0mvalue\u001b[0m \u001b[0;34m<\u001b[0m \u001b[0;34m-\u001b[0m\u001b[0;36m273.15\u001b[0m\u001b[0;34m:\u001b[0m\u001b[0;34m\u001b[0m\u001b[0;34m\u001b[0m\u001b[0m\n\u001b[0;32m---> 18\u001b[0;31m             \u001b[0;32mraise\u001b[0m \u001b[0mValueError\u001b[0m\u001b[0;34m(\u001b[0m\u001b[0;34m\"Temperature below -273 is not possible\"\u001b[0m\u001b[0;34m)\u001b[0m\u001b[0;34m\u001b[0m\u001b[0;34m\u001b[0m\u001b[0m\n\u001b[0m\u001b[1;32m     19\u001b[0m         \u001b[0mself\u001b[0m\u001b[0;34m.\u001b[0m\u001b[0m_temperature\u001b[0m \u001b[0;34m=\u001b[0m \u001b[0mvalue\u001b[0m\u001b[0;34m\u001b[0m\u001b[0;34m\u001b[0m\u001b[0m\n\u001b[1;32m     20\u001b[0m \u001b[0;34m\u001b[0m\u001b[0m\n",
            "\u001b[0;31mValueError\u001b[0m: Temperature below -273 is not possible"
          ]
        }
      ]
    },
    {
      "cell_type": "markdown",
      "metadata": {
        "id": "ER9CGuKQ5a3k"
      },
      "source": [
        "- The above implementation is simple and efficient. \r\n",
        "\r\n",
        "- It is the recommended way to use `property`."
      ]
    },
    {
      "cell_type": "markdown",
      "metadata": {
        "id": "T4JrK7NmR3hk"
      },
      "source": [
        "https://www.programiz.com/python-programming/property"
      ]
    }
  ]
}