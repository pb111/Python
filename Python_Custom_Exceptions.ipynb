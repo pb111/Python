{
  "nbformat": 4,
  "nbformat_minor": 0,
  "metadata": {
    "colab": {
      "name": "Python Custom Exceptions",
      "provenance": [],
      "authorship_tag": "ABX9TyOuTG9PlnUb1KwkSWFCSSQN",
      "include_colab_link": true
    },
    "kernelspec": {
      "name": "python3",
      "display_name": "Python 3"
    }
  },
  "cells": [
    {
      "cell_type": "markdown",
      "metadata": {
        "id": "view-in-github",
        "colab_type": "text"
      },
      "source": [
        "<a href=\"https://colab.research.google.com/github/pb111/Python-tutorials-and-projects/blob/master/Python_Custom_Exceptions.ipynb\" target=\"_parent\"><img src=\"https://colab.research.google.com/assets/colab-badge.svg\" alt=\"Open In Colab\"/></a>"
      ]
    },
    {
      "cell_type": "markdown",
      "metadata": {
        "id": "ceve44bFKfGU"
      },
      "source": [
        "# **Python Custom Exceptions**\r\n",
        "\r\n",
        "- In this tutorial, you will learn how to define custom exceptions depending upon your requirements with the help of examples.\r\n",
        "\r\n"
      ]
    },
    {
      "cell_type": "markdown",
      "metadata": {
        "id": "qJyveehx-4tp"
      },
      "source": [
        "## **1. Introduction**\r\n",
        "\r\n",
        "\r\n",
        "- Python has numerous [built-in exceptions](https://www.programiz.com/python-programming/exceptions) that force your program to output an error when something in the program goes wrong.\r\n",
        "\r\n",
        "- However, sometimes you may need to create your own custom exceptions that serve your purpose."
      ]
    },
    {
      "cell_type": "markdown",
      "metadata": {
        "id": "yZezWpAs_VM3"
      },
      "source": [
        "## **2. Creating Custom Exceptions**\r\n",
        "\r\n",
        "- In Python, users can define custom exceptions by creating a new class. \r\n",
        "- This exception class has to be derived, either directly or indirectly, from the built-in `Exception` class. \r\n",
        "- Most of the built-in exceptions are also derived from this class."
      ]
    },
    {
      "cell_type": "code",
      "metadata": {
        "id": "EMLso9kYBx2c"
      },
      "source": [
        "class CustomError(Exception):\r\n",
        "    pass"
      ],
      "execution_count": 1,
      "outputs": []
    },
    {
      "cell_type": "code",
      "metadata": {
        "colab": {
          "base_uri": "https://localhost:8080/",
          "height": 163
        },
        "id": "_mjDXZSZFasZ",
        "outputId": "5876c434-0ee4-4704-bd28-c94f80417605"
      },
      "source": [
        "raise CustomError"
      ],
      "execution_count": 2,
      "outputs": [
        {
          "output_type": "error",
          "ename": "CustomError",
          "evalue": "ignored",
          "traceback": [
            "\u001b[0;31m---------------------------------------------------------------------------\u001b[0m",
            "\u001b[0;31mCustomError\u001b[0m                               Traceback (most recent call last)",
            "\u001b[0;32m<ipython-input-2-dfca0b041b3d>\u001b[0m in \u001b[0;36m<module>\u001b[0;34m()\u001b[0m\n\u001b[0;32m----> 1\u001b[0;31m \u001b[0;32mraise\u001b[0m \u001b[0mCustomError\u001b[0m\u001b[0;34m\u001b[0m\u001b[0;34m\u001b[0m\u001b[0m\n\u001b[0m",
            "\u001b[0;31mCustomError\u001b[0m: "
          ]
        }
      ]
    },
    {
      "cell_type": "code",
      "metadata": {
        "colab": {
          "base_uri": "https://localhost:8080/",
          "height": 163
        },
        "id": "HL9oJ7FKFkX9",
        "outputId": "aacde0bb-fd99-4d09-dd00-52c95635e797"
      },
      "source": [
        "raise CustomError(\"An error occurred\")"
      ],
      "execution_count": 3,
      "outputs": [
        {
          "output_type": "error",
          "ename": "CustomError",
          "evalue": "ignored",
          "traceback": [
            "\u001b[0;31m---------------------------------------------------------------------------\u001b[0m",
            "\u001b[0;31mCustomError\u001b[0m                               Traceback (most recent call last)",
            "\u001b[0;32m<ipython-input-3-d75c9779269a>\u001b[0m in \u001b[0;36m<module>\u001b[0;34m()\u001b[0m\n\u001b[0;32m----> 1\u001b[0;31m \u001b[0;32mraise\u001b[0m \u001b[0mCustomError\u001b[0m\u001b[0;34m(\u001b[0m\u001b[0;34m\"An error occurred\"\u001b[0m\u001b[0;34m)\u001b[0m\u001b[0;34m\u001b[0m\u001b[0;34m\u001b[0m\u001b[0m\n\u001b[0m",
            "\u001b[0;31mCustomError\u001b[0m: An error occurred"
          ]
        }
      ]
    },
    {
      "cell_type": "markdown",
      "metadata": {
        "id": "rCs5OdquGbNL"
      },
      "source": [
        "- Here, we have created a user-defined exception called `CustomError` which inherits from the `Exception` class. This new exception, like other exceptions, can be raised using the `raise` statement with an optional error message.\r\n",
        "\r\n",
        "- When we are developing a large Python program, it is a good practice to place all the user-defined exceptions that our program raises in a separate file. Many standard modules do this. They define their exceptions separately as `exceptions.py` or `errors.py` (generally but not always).\r\n",
        "\r\n",
        "- User-defined exception class can implement everything a normal class can do, but we generally make them simple and concise. Most implementations declare a custom base class and derive others exception classes from this base class. This concept is made clearer in the following example."
      ]
    },
    {
      "cell_type": "markdown",
      "metadata": {
        "id": "e9h5wEOJHOpu"
      },
      "source": [
        "#### **Example: User-Defined Exception in Python**\r\n",
        "\r\n",
        "- In this example, we will illustrate how user-defined exceptions can be used in a program to raise and catch errors.\r\n",
        "\r\n",
        "- This program will ask the user to enter a number until they guess a stored number correctly. To help them figure it out, a hint is provided whether their guess is greater than or less than the stored number."
      ]
    },
    {
      "cell_type": "code",
      "metadata": {
        "colab": {
          "base_uri": "https://localhost:8080/"
        },
        "id": "Opv-Yi35HdxR",
        "outputId": "886c028f-f450-4c55-84af-6d3810e26887"
      },
      "source": [
        "# define Python user-defined exceptions\r\n",
        "class Error(Exception):\r\n",
        "    \"\"\"Base class for other exceptions\"\"\"\r\n",
        "    pass\r\n",
        "\r\n",
        "\r\n",
        "class ValueTooSmallError(Error):\r\n",
        "    \"\"\"Raised when the input value is too small\"\"\"\r\n",
        "    pass\r\n",
        "\r\n",
        "\r\n",
        "class ValueTooLargeError(Error):\r\n",
        "    \"\"\"Raised when the input value is too large\"\"\"\r\n",
        "    pass\r\n",
        "\r\n",
        "\r\n",
        "# you need to guess this number\r\n",
        "number = 10\r\n",
        "\r\n",
        "# user guesses a number until he/she gets it right\r\n",
        "while True:\r\n",
        "    try:\r\n",
        "        i_num = int(input(\"Enter a number: \"))\r\n",
        "        if i_num < number:\r\n",
        "            raise ValueTooSmallError\r\n",
        "        elif i_num > number:\r\n",
        "            raise ValueTooLargeError\r\n",
        "        break\r\n",
        "    except ValueTooSmallError:\r\n",
        "        print(\"This value is too small, try again!\")\r\n",
        "        print()\r\n",
        "    except ValueTooLargeError:\r\n",
        "        print(\"This value is too large, try again!\")\r\n",
        "        print()\r\n",
        "\r\n",
        "print(\"Congratulations! You guessed it correctly.\")"
      ],
      "execution_count": 4,
      "outputs": [
        {
          "output_type": "stream",
          "text": [
            "Enter a number: 12\n",
            "This value is too large, try again!\n",
            "\n",
            "Enter a number: 0\n",
            "This value is too small, try again!\n",
            "\n",
            "Enter a number: 8\n",
            "This value is too small, try again!\n",
            "\n",
            "Enter a number: 10\n",
            "Congratulations! You guessed it correctly.\n"
          ],
          "name": "stdout"
        }
      ]
    },
    {
      "cell_type": "markdown",
      "metadata": {
        "id": "jHxFG1YHJOHP"
      },
      "source": [
        "- We have defined a base class called `Error`.\r\n",
        "\r\n",
        "- The other two exceptions (`ValueTooSmallError` and `ValueTooLargeError`) that are actually raised by our program are derived from this class. This is the standard way to define user-defined exceptions in Python programming, but you are not limited to this way only.\r\n",
        "\r\n"
      ]
    },
    {
      "cell_type": "markdown",
      "metadata": {
        "id": "3Z1HumkU_gPG"
      },
      "source": [
        "## **3. Customizing Exception Classes**\r\n",
        "\r\n",
        "\r\n",
        "- We can further customize this class to accept other arguments as per our needs.\r\n",
        "\r\n",
        "- To learn about customizing the Exception classes, you need to have the basic knowledge of Object-Oriented programming.\r\n",
        "\r\n",
        "- Visit [Python Object Oriented Programming](https://www.programiz.com/python-programming/object-oriented-programming) to start learning about Object-Oriented programming in Python."
      ]
    },
    {
      "cell_type": "markdown",
      "metadata": {
        "id": "lkBVVXnPKN_R"
      },
      "source": [
        "Let's look at one example:"
      ]
    },
    {
      "cell_type": "code",
      "metadata": {
        "colab": {
          "base_uri": "https://localhost:8080/",
          "height": 214
        },
        "id": "ChVGEUWpKQ1w",
        "outputId": "f32d8ff3-d743-44f4-a1b6-f083a1016fa9"
      },
      "source": [
        "class SalaryNotInRangeError(Exception):\r\n",
        "    \"\"\"Exception raised for errors in the input salary.\r\n",
        "\r\n",
        "    Attributes:\r\n",
        "        salary -- input salary which caused the error\r\n",
        "        message -- explanation of the error\r\n",
        "    \"\"\"\r\n",
        "\r\n",
        "    def __init__(self, salary, message=\"Salary is not in (5000, 15000) range\"):\r\n",
        "        self.salary = salary\r\n",
        "        self.message = message\r\n",
        "        super().__init__(self.message)\r\n",
        "\r\n",
        "\r\n",
        "salary = int(input(\"Enter salary amount: \"))\r\n",
        "if not 5000 < salary < 15000:\r\n",
        "    raise SalaryNotInRangeError(salary)"
      ],
      "execution_count": 5,
      "outputs": [
        {
          "output_type": "stream",
          "text": [
            "Enter salary amount: 2000\n"
          ],
          "name": "stdout"
        },
        {
          "output_type": "error",
          "ename": "SalaryNotInRangeError",
          "evalue": "ignored",
          "traceback": [
            "\u001b[0;31m---------------------------------------------------------------------------\u001b[0m",
            "\u001b[0;31mSalaryNotInRangeError\u001b[0m                     Traceback (most recent call last)",
            "\u001b[0;32m<ipython-input-5-6ab0f28c63a7>\u001b[0m in \u001b[0;36m<module>\u001b[0;34m()\u001b[0m\n\u001b[1;32m     15\u001b[0m \u001b[0msalary\u001b[0m \u001b[0;34m=\u001b[0m \u001b[0mint\u001b[0m\u001b[0;34m(\u001b[0m\u001b[0minput\u001b[0m\u001b[0;34m(\u001b[0m\u001b[0;34m\"Enter salary amount: \"\u001b[0m\u001b[0;34m)\u001b[0m\u001b[0;34m)\u001b[0m\u001b[0;34m\u001b[0m\u001b[0;34m\u001b[0m\u001b[0m\n\u001b[1;32m     16\u001b[0m \u001b[0;32mif\u001b[0m \u001b[0;32mnot\u001b[0m \u001b[0;36m5000\u001b[0m \u001b[0;34m<\u001b[0m \u001b[0msalary\u001b[0m \u001b[0;34m<\u001b[0m \u001b[0;36m15000\u001b[0m\u001b[0;34m:\u001b[0m\u001b[0;34m\u001b[0m\u001b[0;34m\u001b[0m\u001b[0m\n\u001b[0;32m---> 17\u001b[0;31m     \u001b[0;32mraise\u001b[0m \u001b[0mSalaryNotInRangeError\u001b[0m\u001b[0;34m(\u001b[0m\u001b[0msalary\u001b[0m\u001b[0;34m)\u001b[0m\u001b[0;34m\u001b[0m\u001b[0;34m\u001b[0m\u001b[0m\n\u001b[0m",
            "\u001b[0;31mSalaryNotInRangeError\u001b[0m: Salary is not in (5000, 15000) range"
          ]
        }
      ]
    },
    {
      "cell_type": "markdown",
      "metadata": {
        "id": "SVjeF3eOLN5I"
      },
      "source": [
        "- Here, we have overridden the constructor of the `Exception` class to accept our own custom arguments `salary` and `message`. Then, the constructor of the parent `Exception` class is called manually with the `self.message` argument using `super()`.\r\n",
        "\r\n",
        "- The custom `self.salary` attribute is defined to be used later.\r\n",
        "\r\n",
        "- The inherited `__str__` method of the `Exception` class is then used to display the corresponding message when `SalaryNotInRangeError` is raised.\r\n",
        "\r\n",
        "- We can also customize the `__str__` method itself by overriding it."
      ]
    },
    {
      "cell_type": "code",
      "metadata": {
        "colab": {
          "base_uri": "https://localhost:8080/",
          "height": 214
        },
        "id": "_W7wpov9Ka-K",
        "outputId": "9035ae51-3ba8-4c47-b693-d976380e8d10"
      },
      "source": [
        "class SalaryNotInRangeError(Exception):\r\n",
        "    \"\"\"Exception raised for errors in the input salary.\r\n",
        "\r\n",
        "    Attributes:\r\n",
        "        salary -- input salary which caused the error\r\n",
        "        message -- explanation of the error\r\n",
        "    \"\"\"\r\n",
        "\r\n",
        "    def __init__(self, salary, message=\"Salary is not in (5000, 15000) range\"):\r\n",
        "        self.salary = salary\r\n",
        "        self.message = message\r\n",
        "        super().__init__(self.message)\r\n",
        "\r\n",
        "    def __str__(self):\r\n",
        "        return f'{self.salary} -> {self.message}'\r\n",
        "\r\n",
        "\r\n",
        "salary = int(input(\"Enter salary amount: \"))\r\n",
        "if not 5000 < salary < 15000:\r\n",
        "    raise SalaryNotInRangeError(salary)"
      ],
      "execution_count": 6,
      "outputs": [
        {
          "output_type": "stream",
          "text": [
            "Enter salary amount: 2000\n"
          ],
          "name": "stdout"
        },
        {
          "output_type": "error",
          "ename": "SalaryNotInRangeError",
          "evalue": "ignored",
          "traceback": [
            "\u001b[0;31m---------------------------------------------------------------------------\u001b[0m",
            "\u001b[0;31mSalaryNotInRangeError\u001b[0m                     Traceback (most recent call last)",
            "\u001b[0;32m<ipython-input-6-c454c1331524>\u001b[0m in \u001b[0;36m<module>\u001b[0;34m()\u001b[0m\n\u001b[1;32m     18\u001b[0m \u001b[0msalary\u001b[0m \u001b[0;34m=\u001b[0m \u001b[0mint\u001b[0m\u001b[0;34m(\u001b[0m\u001b[0minput\u001b[0m\u001b[0;34m(\u001b[0m\u001b[0;34m\"Enter salary amount: \"\u001b[0m\u001b[0;34m)\u001b[0m\u001b[0;34m)\u001b[0m\u001b[0;34m\u001b[0m\u001b[0;34m\u001b[0m\u001b[0m\n\u001b[1;32m     19\u001b[0m \u001b[0;32mif\u001b[0m \u001b[0;32mnot\u001b[0m \u001b[0;36m5000\u001b[0m \u001b[0;34m<\u001b[0m \u001b[0msalary\u001b[0m \u001b[0;34m<\u001b[0m \u001b[0;36m15000\u001b[0m\u001b[0;34m:\u001b[0m\u001b[0;34m\u001b[0m\u001b[0;34m\u001b[0m\u001b[0m\n\u001b[0;32m---> 20\u001b[0;31m     \u001b[0;32mraise\u001b[0m \u001b[0mSalaryNotInRangeError\u001b[0m\u001b[0;34m(\u001b[0m\u001b[0msalary\u001b[0m\u001b[0;34m)\u001b[0m\u001b[0;34m\u001b[0m\u001b[0;34m\u001b[0m\u001b[0m\n\u001b[0m",
            "\u001b[0;31mSalaryNotInRangeError\u001b[0m: 2000 -> Salary is not in (5000, 15000) range"
          ]
        }
      ]
    },
    {
      "cell_type": "markdown",
      "metadata": {
        "id": "Fg8YrE_FMXFb"
      },
      "source": [
        "- To learn more about how you can handle exceptions in Python, visit [Python Exception Handling](https://www.programiz.com/python-programming/exception-handling)."
      ]
    },
    {
      "cell_type": "markdown",
      "metadata": {
        "id": "Li-Kn5Ly65yB"
      },
      "source": [
        "https://www.programiz.com/python-programming/user-defined-exception"
      ]
    }
  ]
}