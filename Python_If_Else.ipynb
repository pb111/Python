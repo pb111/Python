{
  "nbformat": 4,
  "nbformat_minor": 0,
  "metadata": {
    "colab": {
      "name": "Python If...Else",
      "provenance": [],
      "authorship_tag": "ABX9TyPpjoplHbta7bYyRSYcNYUb",
      "include_colab_link": true
    },
    "kernelspec": {
      "name": "python3",
      "display_name": "Python 3"
    }
  },
  "cells": [
    {
      "cell_type": "markdown",
      "metadata": {
        "id": "view-in-github",
        "colab_type": "text"
      },
      "source": [
        "<a href=\"https://colab.research.google.com/github/pb111/Python/blob/master/Python_If_Else.ipynb\" target=\"_parent\"><img src=\"https://colab.research.google.com/assets/colab-badge.svg\" alt=\"Open In Colab\"/></a>"
      ]
    },
    {
      "cell_type": "markdown",
      "metadata": {
        "id": "KZ-JSn4Yv70m",
        "colab_type": "text"
      },
      "source": [
        "# **Python If...Else**"
      ]
    },
    {
      "cell_type": "markdown",
      "metadata": {
        "id": "1-rlT3UKwEDV",
        "colab_type": "text"
      },
      "source": [
        "## **1. If Statement**\n",
        "\n",
        "- An \"if statement\" is written by using the if keyword."
      ]
    },
    {
      "cell_type": "code",
      "metadata": {
        "id": "U2j27b_fukIG",
        "colab_type": "code",
        "colab": {
          "base_uri": "https://localhost:8080/",
          "height": 34
        },
        "outputId": "5f3e4485-1e36-4889-b76e-aa46018065ff"
      },
      "source": [
        "# Example - If statement:\n",
        "\n",
        "a = 33\n",
        "b = 200\n",
        "if b > a:\n",
        "  print(\"b is greater than a\")"
      ],
      "execution_count": 1,
      "outputs": [
        {
          "output_type": "stream",
          "text": [
            "b is greater than a\n"
          ],
          "name": "stdout"
        }
      ]
    },
    {
      "cell_type": "markdown",
      "metadata": {
        "id": "cKtftIDyyCLk",
        "colab_type": "text"
      },
      "source": [
        "- In this example we use two variables, a and b, which are used as part of the if statement to test whether b is greater than a. As a is 33, and b is 200, we know that 200 is greater than 33, and so we print to screen that \"b is greater than a\"."
      ]
    },
    {
      "cell_type": "markdown",
      "metadata": {
        "id": "a1aHUa4vyb_K",
        "colab_type": "text"
      },
      "source": [
        "## **2. Indentation**\n",
        "\n",
        "- Python relies on indentation (whitespace at the beginning of a line) to define scope in the code. Other programming languages often use curly-brackets for this purpose."
      ]
    },
    {
      "cell_type": "markdown",
      "metadata": {
        "id": "lNA3zt0OymB9",
        "colab_type": "text"
      },
      "source": [
        "- Example - If statement, without indentation (will raise an error):\n",
        "\n",
        "- a = 33\n",
        "- b = 200\n",
        "- if b > a:\n",
        "- print(\"b is greater than a\") # you will get an error\n",
        "\n",
        "- File \"demo_if_error.py\", line 4\n",
        "    print(\"b is greater than a\")\n",
        "        ^\n",
        "- IndentationError: expected an indented block"
      ]
    },
    {
      "cell_type": "code",
      "metadata": {
        "id": "t24wTt__y2c2",
        "colab_type": "code",
        "colab": {
          "base_uri": "https://localhost:8080/",
          "height": 34
        },
        "outputId": "ae6c0fa3-b4c6-4b8f-d2b9-deb35a4108c4"
      },
      "source": [
        "# Example - If statement with indentation block\n",
        "\n",
        "a = 33\n",
        "b = 200\n",
        "if b > a:\n",
        "  print(\"b is greater than a\")"
      ],
      "execution_count": 2,
      "outputs": [
        {
          "output_type": "stream",
          "text": [
            "b is greater than a\n"
          ],
          "name": "stdout"
        }
      ]
    },
    {
      "cell_type": "markdown",
      "metadata": {
        "id": "7rxu5j_a4HN8",
        "colab_type": "text"
      },
      "source": [
        "## **3. Elif**\n",
        "\n",
        "The elif keyword is pythons way of saying **\"if the previous conditions were not true, then try this condition\".**"
      ]
    },
    {
      "cell_type": "code",
      "metadata": {
        "id": "A5YoSpif4NHu",
        "colab_type": "code",
        "colab": {
          "base_uri": "https://localhost:8080/",
          "height": 34
        },
        "outputId": "796188e4-42dc-41fd-e38c-3b5bf248e256"
      },
      "source": [
        "# Example\n",
        "\n",
        "a = 33\n",
        "b = 33\n",
        "if b > a:\n",
        "  print(\"b is greater than a\")\n",
        "elif a == b:\n",
        "  print(\"a and b are equal\")"
      ],
      "execution_count": 3,
      "outputs": [
        {
          "output_type": "stream",
          "text": [
            "a and b are equal\n"
          ],
          "name": "stdout"
        }
      ]
    },
    {
      "cell_type": "markdown",
      "metadata": {
        "id": "6nk0RchoGKad",
        "colab_type": "text"
      },
      "source": [
        "- In this example a is equal to b, so the first condition is not true, but the elif condition is true, so we print to screen that \"a and b are equal\"."
      ]
    },
    {
      "cell_type": "markdown",
      "metadata": {
        "id": "vtn5CbsVGbwh",
        "colab_type": "text"
      },
      "source": [
        "## **4. Else**\n",
        "\n",
        "- The else keyword catches anything which isn't caught by the preceding conditions."
      ]
    },
    {
      "cell_type": "code",
      "metadata": {
        "id": "yvQY_JqJGgqB",
        "colab_type": "code",
        "colab": {
          "base_uri": "https://localhost:8080/",
          "height": 34
        },
        "outputId": "aa0c7e24-4e48-458b-a4ed-970373b03dce"
      },
      "source": [
        "a = 200\n",
        "b = 33\n",
        "if b > a:\n",
        "  print(\"b is greater than a\")\n",
        "elif a == b:\n",
        "  print(\"a and b are equal\")\n",
        "else:\n",
        "  print(\"a is greater than b\")"
      ],
      "execution_count": 4,
      "outputs": [
        {
          "output_type": "stream",
          "text": [
            "a is greater than b\n"
          ],
          "name": "stdout"
        }
      ]
    },
    {
      "cell_type": "markdown",
      "metadata": {
        "id": "RZmIc851Gymb",
        "colab_type": "text"
      },
      "source": [
        "- In this example a is greater than b, so the first condition is not true, also the elif condition is not true, so we go to the else condition and print to screen that \"a is greater than b\"."
      ]
    },
    {
      "cell_type": "markdown",
      "metadata": {
        "id": "RDGTeyiiG3cy",
        "colab_type": "text"
      },
      "source": [
        "- You can also have an else without the elif:"
      ]
    },
    {
      "cell_type": "code",
      "metadata": {
        "id": "KZfHvHAEG8Mf",
        "colab_type": "code",
        "colab": {
          "base_uri": "https://localhost:8080/",
          "height": 34
        },
        "outputId": "ab6796b2-cb67-4538-bf45-874ceb3b9afe"
      },
      "source": [
        "#Example\n",
        "\n",
        "a = 200\n",
        "b = 33\n",
        "if b > a:\n",
        "  print(\"b is greater than a\")\n",
        "else:\n",
        "  print(\"b is not greater than a\")\n"
      ],
      "execution_count": 5,
      "outputs": [
        {
          "output_type": "stream",
          "text": [
            "b is not greater than a\n"
          ],
          "name": "stdout"
        }
      ]
    },
    {
      "cell_type": "markdown",
      "metadata": {
        "id": "-K3s_lEMHUac",
        "colab_type": "text"
      },
      "source": [
        "## **5. Short Hand If**\n",
        "\n",
        "- If you have only one statement to execute, you can put it on the same line as the if statement."
      ]
    },
    {
      "cell_type": "code",
      "metadata": {
        "id": "TeGct-2-HcqU",
        "colab_type": "code",
        "colab": {
          "base_uri": "https://localhost:8080/",
          "height": 34
        },
        "outputId": "e90cafc5-814e-49a0-9e9b-8e3405070fc5"
      },
      "source": [
        "# Example - One line if statement:\n",
        "\n",
        "if a > b : print(\"a is greater than b\")"
      ],
      "execution_count": 6,
      "outputs": [
        {
          "output_type": "stream",
          "text": [
            "a is greater than b\n"
          ],
          "name": "stdout"
        }
      ]
    },
    {
      "cell_type": "markdown",
      "metadata": {
        "id": "E3dXHER1JDSx",
        "colab_type": "text"
      },
      "source": [
        "## **6. Short Hand If ... Else**\n",
        "\n",
        "- If you have only one statement to execute, one for if, and one for else, you can put it all on the same line."
      ]
    },
    {
      "cell_type": "code",
      "metadata": {
        "id": "R1vaJotEJNCr",
        "colab_type": "code",
        "colab": {
          "base_uri": "https://localhost:8080/",
          "height": 34
        },
        "outputId": "5620853c-92cf-4019-81c4-c69da392c648"
      },
      "source": [
        "# Example - One line if else statement:\n",
        "\n",
        "a = 2\n",
        "b = 330\n",
        "print(\"A\") if a > b else print(\"B\")"
      ],
      "execution_count": 7,
      "outputs": [
        {
          "output_type": "stream",
          "text": [
            "B\n"
          ],
          "name": "stdout"
        }
      ]
    },
    {
      "cell_type": "markdown",
      "metadata": {
        "id": "gMxS7oFsJh1t",
        "colab_type": "text"
      },
      "source": [
        "- This technique is known as **Ternary Operators**, or **Conditional Expressions**.\n"
      ]
    },
    {
      "cell_type": "markdown",
      "metadata": {
        "id": "BY7EK2bHJrLc",
        "colab_type": "text"
      },
      "source": [
        "- You can also have multiple else statements on the same line:"
      ]
    },
    {
      "cell_type": "code",
      "metadata": {
        "id": "Mp51VSAYJtSy",
        "colab_type": "code",
        "colab": {
          "base_uri": "https://localhost:8080/",
          "height": 34
        },
        "outputId": "ed573dab-9d86-4410-b46a-e74f38d2337d"
      },
      "source": [
        "# Example - One line if else statement, with 3 conditions:\n",
        "\n",
        "a = 330\n",
        "b = 330\n",
        "print(\"A\") if a > b else print(\"=\") if a == b else print(\"B\")"
      ],
      "execution_count": 8,
      "outputs": [
        {
          "output_type": "stream",
          "text": [
            "=\n"
          ],
          "name": "stdout"
        }
      ]
    },
    {
      "cell_type": "markdown",
      "metadata": {
        "id": "xSJPYS1K2JYz",
        "colab_type": "text"
      },
      "source": [
        "## **7. And**\n",
        "\n",
        "- The and keyword is a logical operator, and is used to combine conditional statements."
      ]
    },
    {
      "cell_type": "code",
      "metadata": {
        "id": "I41O7mCc2btm",
        "colab_type": "code",
        "colab": {
          "base_uri": "https://localhost:8080/",
          "height": 34
        },
        "outputId": "5960c4c6-48f1-4039-e5f0-426de66e4195"
      },
      "source": [
        "# Example - Test if a is greater than b, AND if c is greater than a:\n",
        "\n",
        "a = 200\n",
        "b = 33\n",
        "c = 500\n",
        "if a > b and c > a:\n",
        "  print(\"Both conditions are True\")"
      ],
      "execution_count": 9,
      "outputs": [
        {
          "output_type": "stream",
          "text": [
            "Both conditions are True\n"
          ],
          "name": "stdout"
        }
      ]
    },
    {
      "cell_type": "markdown",
      "metadata": {
        "id": "Jg8YZg6L2wdj",
        "colab_type": "text"
      },
      "source": [
        "## **8. Or**\n",
        "\n",
        "- The or keyword is a logical operator, and is used to combine conditional statements."
      ]
    },
    {
      "cell_type": "code",
      "metadata": {
        "id": "XUwiHNyy23RP",
        "colab_type": "code",
        "colab": {
          "base_uri": "https://localhost:8080/",
          "height": 34
        },
        "outputId": "3c4375cd-cd5a-4b3d-accd-78182ecacb5b"
      },
      "source": [
        "# Example - Test if a is greater than b, OR if a is greater than c:\n",
        "\n",
        "a = 200\n",
        "b = 33\n",
        "c = 500\n",
        "if a > b or a > c:\n",
        "  print(\"At least one of the conditions is True\")"
      ],
      "execution_count": 10,
      "outputs": [
        {
          "output_type": "stream",
          "text": [
            "At least one of the conditions is True\n"
          ],
          "name": "stdout"
        }
      ]
    },
    {
      "cell_type": "markdown",
      "metadata": {
        "id": "D8fQ9z0e3UC3",
        "colab_type": "text"
      },
      "source": [
        "## **9. Nested If**\n",
        "\n",
        "- You can have if statements inside if statements, this is called nested if statements.\n",
        "\n"
      ]
    },
    {
      "cell_type": "code",
      "metadata": {
        "id": "0tVaQInV3Ayw",
        "colab_type": "code",
        "colab": {
          "base_uri": "https://localhost:8080/",
          "height": 51
        },
        "outputId": "69cf043d-1651-4af0-c7aa-869ac816e7b3"
      },
      "source": [
        "# Example \n",
        "\n",
        "x = 41\n",
        "\n",
        "if x > 10:\n",
        "  print(\"Above ten,\")\n",
        "  if x > 20:\n",
        "    print(\"and also above 20!\")\n",
        "  else:\n",
        "    print(\"but not above 20.\")"
      ],
      "execution_count": 11,
      "outputs": [
        {
          "output_type": "stream",
          "text": [
            "Above ten,\n",
            "and also above 20!\n"
          ],
          "name": "stdout"
        }
      ]
    },
    {
      "cell_type": "markdown",
      "metadata": {
        "id": "QqPVM70X5JBa",
        "colab_type": "text"
      },
      "source": [
        "## **10. The pass Statement**\n",
        "\n",
        "if statements cannot be empty, but if you for some reason have an if statement with no content, put in the pass statement to avoid getting an error."
      ]
    },
    {
      "cell_type": "code",
      "metadata": {
        "id": "mXA3KLPv3vjh",
        "colab_type": "code",
        "colab": {}
      },
      "source": [
        "# Example\n",
        "\n",
        "a = 33\n",
        "b = 200\n",
        "\n",
        "if b > a:\n",
        "  pass"
      ],
      "execution_count": 12,
      "outputs": []
    }
  ]
}