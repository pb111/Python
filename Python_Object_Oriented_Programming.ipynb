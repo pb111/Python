{
  "nbformat": 4,
  "nbformat_minor": 0,
  "metadata": {
    "colab": {
      "name": "Python Object Oriented Programming",
      "provenance": [],
      "authorship_tag": "ABX9TyNnJMTYl2Cj4DrfVsZ9Ah2p",
      "include_colab_link": true
    },
    "kernelspec": {
      "name": "python3",
      "display_name": "Python 3"
    }
  },
  "cells": [
    {
      "cell_type": "markdown",
      "metadata": {
        "id": "view-in-github",
        "colab_type": "text"
      },
      "source": [
        "<a href=\"https://colab.research.google.com/github/pb111/Python-tutorials-and-projects/blob/master/Python_Object_Oriented_Programming.ipynb\" target=\"_parent\"><img src=\"https://colab.research.google.com/assets/colab-badge.svg\" alt=\"Open In Colab\"/></a>"
      ]
    },
    {
      "cell_type": "markdown",
      "metadata": {
        "id": "82bGfewMZLn2"
      },
      "source": [
        "# **Python Object Oriented Programming**\n",
        "\n",
        "- In this tutorial, you’ll learn about Object-Oriented Programming (OOP) in Python and its fundamental concept with the help of examples."
      ]
    },
    {
      "cell_type": "markdown",
      "metadata": {
        "id": "Tv2Y4zMVZLgi"
      },
      "source": [
        "## **1. Object Oriented Programming**\n",
        "\n",
        "\n",
        "- Python is a multi-paradigm programming language. It supports different programming approaches.\n",
        "\n",
        "- One of the popular approaches to solve a programming problem is by creating objects. This is known as **Object-Oriented Programming (OOP)**.\n",
        "\n",
        "- An object has two characteristics:\n",
        "\n",
        "  - attributes\n",
        "  - behavior\n",
        "\n",
        "\n",
        "- Let's take an example:\n",
        "\n",
        "- A parrot is can be an object,as it has the following properties:\n",
        "\n",
        " - name, age, color as attributes\n",
        " - singing, dancing as behavior\n",
        "\n",
        "- The concept of OOP in Python focuses on creating reusable code. This concept is also known as **DRY (Don't Repeat Yourself)**.\n",
        "\n",
        "- In Python, the concept of OOP follows some basic principles:"
      ]
    },
    {
      "cell_type": "markdown",
      "metadata": {
        "id": "SQlKsC7RwVRu"
      },
      "source": [
        "## **2. Class**\n",
        "\n",
        "- A class is a blueprint for the object.\n",
        "\n",
        "- We can think of class as a sketch of a parrot with labels. It contains all the details about the name, colors, size etc. Based on these descriptions, we can study about the parrot. Here, a parrot is an object.\n",
        "\n",
        "- The example for class of parrot can be :"
      ]
    },
    {
      "cell_type": "code",
      "metadata": {
        "id": "HS2w9Us8xAhg"
      },
      "source": [
        "class Parrot:\n",
        "  pass"
      ],
      "execution_count": 1,
      "outputs": []
    },
    {
      "cell_type": "markdown",
      "metadata": {
        "id": "Qq2ZRq4MxVY_"
      },
      "source": [
        "- Here, we use the `class` keyword to define an empty class `Parrot`. \n",
        "- From class, we construct **instances**. \n",
        "- An **instance** is a specific object created from a particular class."
      ]
    },
    {
      "cell_type": "markdown",
      "metadata": {
        "id": "UQQcVlPbxm18"
      },
      "source": [
        "## **3. Object**\n",
        "\n",
        "- An object (instance) is an instantiation of a class. When class is defined, only the description for the object is defined. Therefore, no memory or storage is allocated.\n",
        "\n",
        "- The example for object of parrot class can be:"
      ]
    },
    {
      "cell_type": "code",
      "metadata": {
        "id": "RYLaj7r4xKlE"
      },
      "source": [
        "obj = Parrot()"
      ],
      "execution_count": 2,
      "outputs": []
    },
    {
      "cell_type": "markdown",
      "metadata": {
        "id": "D6HDzdNyz2Bn"
      },
      "source": [
        "- Here, `obj` is an object of class `Parrot`.\n",
        "\n",
        "- Suppose we have details of parrots. Now, we are going to show how to build the class and objects of parrots."
      ]
    },
    {
      "cell_type": "markdown",
      "metadata": {
        "id": "ORsFGLXh1lWf"
      },
      "source": [
        "#### **Example 1: Creating Class and Object in Python**"
      ]
    },
    {
      "cell_type": "code",
      "metadata": {
        "colab": {
          "base_uri": "https://localhost:8080/"
        },
        "id": "pKjgGOGczv8E",
        "outputId": "2447492d-9e11-4945-8dff-f027a6c4537f"
      },
      "source": [
        "class Parrot:\n",
        "\n",
        "    # class attribute\n",
        "    species = \"bird\"\n",
        "\n",
        "    # instance attribute\n",
        "    def __init__(self, name, age):\n",
        "        self.name = name\n",
        "        self.age = age\n",
        "\n",
        "# instantiate the Parrot class\n",
        "blu = Parrot(\"Blu\", 10)\n",
        "woo = Parrot(\"Woo\", 15)\n",
        "\n",
        "# access the class attributes\n",
        "print(\"Blu is a {}\".format(blu.__class__.species))\n",
        "print(\"Woo is also a {}\".format(woo.__class__.species))\n",
        "\n",
        "# access the instance attributes\n",
        "print(\"{} is {} years old\".format(blu.name, blu.age))\n",
        "print(\"{} is {} years old\".format(woo.name, woo.age))"
      ],
      "execution_count": 5,
      "outputs": [
        {
          "output_type": "stream",
          "text": [
            "Blu is a bird\n",
            "Woo is also a bird\n",
            "Blu is 10 years old\n",
            "Woo is 15 years old\n"
          ],
          "name": "stdout"
        }
      ]
    },
    {
      "cell_type": "markdown",
      "metadata": {
        "id": "X1UDpine9Tp1"
      },
      "source": [
        "- In the above program, we created a class with the name `Parrot`. Then, we define attributes. The attributes are a characteristic of an object.\n",
        "\n",
        "- These attributes are defined inside the `__init__` method of the class. It is the initializer method that is first run as soon as the object is created.\n",
        "\n",
        "- Then, we create instances of the `Parrot` class. Here, `blu` and `woo` are references (value) to our new objects.\n",
        "\n",
        "- We can access the class attribute using `__class__.species.` Class attributes are the same for all instances of a class. \n",
        "\n",
        "- Similarly, we access the instance attributes using `blu.name` and `blu.age`. However, instance attributes are different for every instance of a class."
      ]
    },
    {
      "cell_type": "markdown",
      "metadata": {
        "id": "2qGyljfB-Vji"
      },
      "source": [
        "- To learn more about classes and objects, go to [Python Classes and Objects](https://www.programiz.com/python-programming/class)\n",
        "\n"
      ]
    },
    {
      "cell_type": "markdown",
      "metadata": {
        "id": "7F9B1Upf_lcu"
      },
      "source": [
        "## **4. Methods**\n",
        "\n",
        "- Methods are functions defined inside the body of a class. They are used to define the behaviors of an object."
      ]
    },
    {
      "cell_type": "markdown",
      "metadata": {
        "id": "J7tDNGvO___e"
      },
      "source": [
        "#### **Example 2 : Creating Methods in Python**"
      ]
    },
    {
      "cell_type": "code",
      "metadata": {
        "colab": {
          "base_uri": "https://localhost:8080/"
        },
        "id": "1bXY1Ee-7ed5",
        "outputId": "78978ef0-46ca-409c-cbb6-e8b93ff61b32"
      },
      "source": [
        "class Parrot:\n",
        "    \n",
        "    # instance attributes\n",
        "    def __init__(self, name, age):\n",
        "        self.name = name\n",
        "        self.age = age\n",
        "\n",
        "    # instance method\n",
        "    def sing(self, song):\n",
        "        return \"{} sings {}\".format(self.name, song)\n",
        "\n",
        "    def dance(self):\n",
        "        return \"{} is now dancing\".format(self.name)\n",
        "\n",
        "# instantiate the object\n",
        "blu = Parrot(\"Blu\", 10)\n",
        "\n",
        "# call our instance methods\n",
        "print(blu.sing(\"'Happy'\"))\n",
        "print(blu.dance())"
      ],
      "execution_count": 6,
      "outputs": [
        {
          "output_type": "stream",
          "text": [
            "Blu sings 'Happy'\n",
            "Blu is now dancing\n"
          ],
          "name": "stdout"
        }
      ]
    },
    {
      "cell_type": "markdown",
      "metadata": {
        "id": "Nb0ObtCRERfq"
      },
      "source": [
        "- In the above program, we define two methods i.e `sing()` and `dance()`. \n",
        "- These are called **instance methods** because they are called on an instance object i.e `blu`."
      ]
    },
    {
      "cell_type": "markdown",
      "metadata": {
        "id": "ht89U7cHEilN"
      },
      "source": [
        "https://www.programiz.com/python-programming/object-oriented-programming"
      ]
    }
  ]
}