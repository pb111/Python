{
  "nbformat": 4,
  "nbformat_minor": 0,
  "metadata": {
    "colab": {
      "name": "Constructors in Python",
      "provenance": [],
      "authorship_tag": "ABX9TyOgKKP4A6SDUUJreIt4uVii",
      "include_colab_link": true
    },
    "kernelspec": {
      "name": "python3",
      "display_name": "Python 3"
    }
  },
  "cells": [
    {
      "cell_type": "markdown",
      "metadata": {
        "id": "view-in-github",
        "colab_type": "text"
      },
      "source": [
        "<a href=\"https://colab.research.google.com/github/pb111/Python-tutorials-and-projects/blob/master/Constructors_in_Python.ipynb\" target=\"_parent\"><img src=\"https://colab.research.google.com/assets/colab-badge.svg\" alt=\"Open In Colab\"/></a>"
      ]
    },
    {
      "cell_type": "markdown",
      "metadata": {
        "id": "eVfB8crGqoMq"
      },
      "source": [
        "# **Constructors in Python**\r\n",
        "\r\n",
        "- In this tutorial, we will learn about **Constructors in Python**."
      ]
    },
    {
      "cell_type": "markdown",
      "metadata": {
        "id": "1MYwy04brPK3"
      },
      "source": [
        "## **1. Constructors in Python**\r\n",
        "\r\n",
        "- Class functions that begin with double underscore `__` are called **special functions** as they have special meaning.\r\n",
        "\r\n",
        "- Of one particular interest is the `__init__()` function. This special function gets called whenever a new object of that class is instantiated.\r\n",
        "\r\n",
        "- This type of function is also called **Constructors in Object Oriented Programming (OOP)**. We normally use it to initialize all the variables."
      ]
    },
    {
      "cell_type": "code",
      "metadata": {
        "id": "ofkKqOwhp4Vh",
        "colab": {
          "base_uri": "https://localhost:8080/",
          "height": 231
        },
        "outputId": "7adb496e-010c-4fda-cb1f-d9f6af09b7f9"
      },
      "source": [
        "class ComplexNumber:\r\n",
        "    def __init__(self, r=0, i=0):\r\n",
        "        self.real = r\r\n",
        "        self.imag = i\r\n",
        "\r\n",
        "    def get_data(self):\r\n",
        "        print(f'{self.real}+{self.imag}j')\r\n",
        "\r\n",
        "\r\n",
        "# Create a new ComplexNumber object\r\n",
        "num1 = ComplexNumber(2, 3)\r\n",
        "\r\n",
        "# Call get_data() method\r\n",
        "# Output: 2+3j\r\n",
        "num1.get_data()\r\n",
        "\r\n",
        "# Create another ComplexNumber object\r\n",
        "# and create a new attribute 'attr'\r\n",
        "num2 = ComplexNumber(5)\r\n",
        "num2.attr = 10\r\n",
        "\r\n",
        "# Output: (5, 0, 10)\r\n",
        "print((num2.real, num2.imag, num2.attr))\r\n",
        "\r\n",
        "# but c1 object doesn't have attribute 'attr'\r\n",
        "# AttributeError: 'ComplexNumber' object has no attribute 'attr'\r\n",
        "print(num1.attr)"
      ],
      "execution_count": 1,
      "outputs": [
        {
          "output_type": "stream",
          "text": [
            "2+3j\n",
            "(5, 0, 10)\n"
          ],
          "name": "stdout"
        },
        {
          "output_type": "error",
          "ename": "AttributeError",
          "evalue": "ignored",
          "traceback": [
            "\u001b[0;31m---------------------------------------------------------------------------\u001b[0m",
            "\u001b[0;31mAttributeError\u001b[0m                            Traceback (most recent call last)",
            "\u001b[0;32m<ipython-input-1-afa66228e4bc>\u001b[0m in \u001b[0;36m<module>\u001b[0;34m()\u001b[0m\n\u001b[1;32m     25\u001b[0m \u001b[0;31m# but c1 object doesn't have attribute 'attr'\u001b[0m\u001b[0;34m\u001b[0m\u001b[0;34m\u001b[0m\u001b[0;34m\u001b[0m\u001b[0m\n\u001b[1;32m     26\u001b[0m \u001b[0;31m# AttributeError: 'ComplexNumber' object has no attribute 'attr'\u001b[0m\u001b[0;34m\u001b[0m\u001b[0;34m\u001b[0m\u001b[0;34m\u001b[0m\u001b[0m\n\u001b[0;32m---> 27\u001b[0;31m \u001b[0mprint\u001b[0m\u001b[0;34m(\u001b[0m\u001b[0mnum1\u001b[0m\u001b[0;34m.\u001b[0m\u001b[0mattr\u001b[0m\u001b[0;34m)\u001b[0m\u001b[0;34m\u001b[0m\u001b[0;34m\u001b[0m\u001b[0m\n\u001b[0m",
            "\u001b[0;31mAttributeError\u001b[0m: 'ComplexNumber' object has no attribute 'attr'"
          ]
        }
      ]
    },
    {
      "cell_type": "markdown",
      "metadata": {
        "id": "9L5lrmyu2Aap"
      },
      "source": [
        "- In the above example, we defined a new class to represent complex numbers. It has two functions, `__init__()` to initialize the variables (defaults to zero) and `get_data()` to display the number properly.\r\n",
        "\r\n",
        "- An interesting thing to note in the above step is that attributes of an object can be created on the fly. We created a new attribute `attr` for object `num2` and read it as well. But this does not create that attribute for object `num1`."
      ]
    },
    {
      "cell_type": "markdown",
      "metadata": {
        "id": "gH8Pac8bqglL"
      },
      "source": [
        "https://www.programiz.com/python-programming/class"
      ]
    }
  ]
}