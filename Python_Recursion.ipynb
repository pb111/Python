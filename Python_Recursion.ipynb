{
  "nbformat": 4,
  "nbformat_minor": 0,
  "metadata": {
    "colab": {
      "name": "Python Recursion",
      "provenance": [],
      "authorship_tag": "ABX9TyP0ZG3tjGTeuUyuTpECiIb2",
      "include_colab_link": true
    },
    "kernelspec": {
      "name": "python3",
      "display_name": "Python 3"
    }
  },
  "cells": [
    {
      "cell_type": "markdown",
      "metadata": {
        "id": "view-in-github",
        "colab_type": "text"
      },
      "source": [
        "<a href=\"https://colab.research.google.com/github/pb111/Python-tutorials-and-projects/blob/master/Python_Recursion.ipynb\" target=\"_parent\"><img src=\"https://colab.research.google.com/assets/colab-badge.svg\" alt=\"Open In Colab\"/></a>"
      ]
    },
    {
      "cell_type": "markdown",
      "metadata": {
        "id": "YNq10vVYLgHu"
      },
      "source": [
        "# **Python Recursion**\n",
        "\n",
        "- In this tutorial, you will learn to create a recursive function (a function that calls itself)."
      ]
    },
    {
      "cell_type": "markdown",
      "metadata": {
        "id": "Zu3Om9uWLsQ5"
      },
      "source": [
        "## **1. What is recursion?**\n",
        "\n",
        "- **Recursion** is the process of defining something in terms of itself.\n",
        "\n",
        "- A physical world example would be to place two parallel mirrors facing each other. Any object in between them would be reflected recursively.\n",
        "\n"
      ]
    },
    {
      "cell_type": "markdown",
      "metadata": {
        "id": "X7du8W_QMu7R"
      },
      "source": [
        "## **2. Python Recursive Function**\n",
        "\n",
        "- In Python, we know that a [function](https://www.programiz.com/python-programming/function) can call other functions. It is even possible for the function to call itself. These types of construct are termed as recursive functions.\n",
        "\n",
        "- The following image shows the working of a recursive function called `recurse`."
      ]
    },
    {
      "cell_type": "markdown",
      "metadata": {
        "id": "ooAgOdKONDNs"
      },
      "source": [
        "![Recursive Function in Python](https://cdn.programiz.com/sites/tutorial2program/files/python-recursion-function.png)"
      ]
    },
    {
      "cell_type": "markdown",
      "metadata": {
        "id": "oSxv4DAkNVI2"
      },
      "source": [
        "- Following is an example of a recursive function to find the factorial of an integer.\n",
        "\n",
        "- Factorial of a number is the product of all the integers from 1 to that number. For example, the factorial of 6 (denoted as 6!) is `1*2*3*4*5*6` = 720.\n"
      ]
    },
    {
      "cell_type": "markdown",
      "metadata": {
        "id": "vmdikpUlNqm6"
      },
      "source": [
        "## **3. Example of a recursive function**"
      ]
    },
    {
      "cell_type": "code",
      "metadata": {
        "colab": {
          "base_uri": "https://localhost:8080/"
        },
        "id": "PLtkd1KzNZLc",
        "outputId": "8675527e-9fec-4fc6-af41-bb6c84f2f4ea"
      },
      "source": [
        "def factorial(x):\n",
        "    \"\"\"This is a recursive function to\n",
        "    find the factorial of an integer\"\"\"\n",
        "\n",
        "    if x == 1:\n",
        "        return 1\n",
        "    else:\n",
        "        return (x * factorial(x-1))\n",
        "\n",
        "num = 3\n",
        "\n",
        "print(\"The factorial of\",num, \"is\", factorial(num))"
      ],
      "execution_count": 1,
      "outputs": [
        {
          "output_type": "stream",
          "text": [
            "The factorial of 3 is 6\n"
          ],
          "name": "stdout"
        }
      ]
    },
    {
      "cell_type": "markdown",
      "metadata": {
        "id": "lRw922dZO6xN"
      },
      "source": [
        "- In the above example, `factorial()` is a recursive function as it calls itself."
      ]
    },
    {
      "cell_type": "markdown",
      "metadata": {
        "id": "oOIENSVWPcxt"
      },
      "source": [
        "- When we call this function with a positive integer, it will recursively call itself by decreasing the number.\n",
        "\n",
        "- Each function multiplies the number with the factorial of the number below it until it is equal to one. This recursive call can be explained in the following steps."
      ]
    },
    {
      "cell_type": "markdown",
      "metadata": {
        "id": "r7NfVF5oPny9"
      },
      "source": [
        "`factorial(3)          # 1st call with 3`\n",
        "\n",
        "`3 * factorial(2)      # 2nd call with 2`\n",
        "\n",
        "`3 * 2 * factorial(1)  # 3rd call with 1`\n",
        "\n",
        "`3 * 2 * 1             # return from 3rd call as number=1`\n",
        "\n",
        "`3 * 2                 # return from 2nd call`\n",
        "\n",
        "`6                     # return from 1st call`"
      ]
    },
    {
      "cell_type": "markdown",
      "metadata": {
        "id": "GxVWRm08P6Tl"
      },
      "source": [
        "- Let's look at an image that shows a step-by-step process of what is going on:"
      ]
    },
    {
      "cell_type": "markdown",
      "metadata": {
        "id": "bCf4p8WTQA-I"
      },
      "source": [
        "![Working of a recursive factorial function](https://cdn.programiz.com/sites/tutorial2program/files/python-factorial-function.png)\n"
      ]
    },
    {
      "cell_type": "markdown",
      "metadata": {
        "id": "SjZ0_jENQurj"
      },
      "source": [
        "- Our recursion ends when the number reduces to 1. This is called the base condition.\n",
        "\n",
        "- Every recursive function must have a base condition that stops the recursion or else the function calls itself infinitely.\n",
        "\n",
        "- The Python interpreter limits the depths of recursion to help avoid infinite recursions, resulting in stack overflows.\n",
        "\n",
        "- By default, the maximum depth of recursion is 1000. If the limit is crossed, it results in RecursionError.\n",
        "\n",
        "- Let's look at one such condition."
      ]
    },
    {
      "cell_type": "code",
      "metadata": {
        "colab": {
          "base_uri": "https://localhost:8080/",
          "height": 340
        },
        "id": "cZ2vSon3Q3xE",
        "outputId": "99eecc1b-a966-4d21-9c17-08b2d04c1b4a"
      },
      "source": [
        "def recursor():\n",
        "    recursor()\n",
        "recursor()"
      ],
      "execution_count": 2,
      "outputs": [
        {
          "output_type": "error",
          "ename": "RecursionError",
          "evalue": "ignored",
          "traceback": [
            "\u001b[0;31m---------------------------------------------------------------------------\u001b[0m",
            "\u001b[0;31mRecursionError\u001b[0m                            Traceback (most recent call last)",
            "\u001b[0;32m<ipython-input-2-3ec8c6652eef>\u001b[0m in \u001b[0;36m<module>\u001b[0;34m()\u001b[0m\n\u001b[1;32m      1\u001b[0m \u001b[0;32mdef\u001b[0m \u001b[0mrecursor\u001b[0m\u001b[0;34m(\u001b[0m\u001b[0;34m)\u001b[0m\u001b[0;34m:\u001b[0m\u001b[0;34m\u001b[0m\u001b[0;34m\u001b[0m\u001b[0m\n\u001b[1;32m      2\u001b[0m     \u001b[0mrecursor\u001b[0m\u001b[0;34m(\u001b[0m\u001b[0;34m)\u001b[0m\u001b[0;34m\u001b[0m\u001b[0;34m\u001b[0m\u001b[0m\n\u001b[0;32m----> 3\u001b[0;31m \u001b[0mrecursor\u001b[0m\u001b[0;34m(\u001b[0m\u001b[0;34m)\u001b[0m\u001b[0;34m\u001b[0m\u001b[0;34m\u001b[0m\u001b[0m\n\u001b[0m",
            "\u001b[0;32m<ipython-input-2-3ec8c6652eef>\u001b[0m in \u001b[0;36mrecursor\u001b[0;34m()\u001b[0m\n\u001b[1;32m      1\u001b[0m \u001b[0;32mdef\u001b[0m \u001b[0mrecursor\u001b[0m\u001b[0;34m(\u001b[0m\u001b[0;34m)\u001b[0m\u001b[0;34m:\u001b[0m\u001b[0;34m\u001b[0m\u001b[0;34m\u001b[0m\u001b[0m\n\u001b[0;32m----> 2\u001b[0;31m     \u001b[0mrecursor\u001b[0m\u001b[0;34m(\u001b[0m\u001b[0;34m)\u001b[0m\u001b[0;34m\u001b[0m\u001b[0;34m\u001b[0m\u001b[0m\n\u001b[0m\u001b[1;32m      3\u001b[0m \u001b[0mrecursor\u001b[0m\u001b[0;34m(\u001b[0m\u001b[0;34m)\u001b[0m\u001b[0;34m\u001b[0m\u001b[0;34m\u001b[0m\u001b[0m\n",
            "... last 1 frames repeated, from the frame below ...\n",
            "\u001b[0;32m<ipython-input-2-3ec8c6652eef>\u001b[0m in \u001b[0;36mrecursor\u001b[0;34m()\u001b[0m\n\u001b[1;32m      1\u001b[0m \u001b[0;32mdef\u001b[0m \u001b[0mrecursor\u001b[0m\u001b[0;34m(\u001b[0m\u001b[0;34m)\u001b[0m\u001b[0;34m:\u001b[0m\u001b[0;34m\u001b[0m\u001b[0;34m\u001b[0m\u001b[0m\n\u001b[0;32m----> 2\u001b[0;31m     \u001b[0mrecursor\u001b[0m\u001b[0;34m(\u001b[0m\u001b[0;34m)\u001b[0m\u001b[0;34m\u001b[0m\u001b[0;34m\u001b[0m\u001b[0m\n\u001b[0m\u001b[1;32m      3\u001b[0m \u001b[0mrecursor\u001b[0m\u001b[0;34m(\u001b[0m\u001b[0;34m)\u001b[0m\u001b[0;34m\u001b[0m\u001b[0;34m\u001b[0m\u001b[0m\n",
            "\u001b[0;31mRecursionError\u001b[0m: maximum recursion depth exceeded"
          ]
        }
      ]
    },
    {
      "cell_type": "markdown",
      "metadata": {
        "id": "U42Cfwf2RLG4"
      },
      "source": [
        "## **4. Advantages of Recursion**\n",
        "\n",
        "- 1. Recursive functions make the code look clean and elegant.\n",
        "\n",
        "- 2. A complex task can be broken down into simpler sub-problems using recursion.\n",
        "\n",
        "- 3. Sequence generation is easier with recursion than using some nested iteration."
      ]
    },
    {
      "cell_type": "markdown",
      "metadata": {
        "id": "F6ysK33vRuok"
      },
      "source": [
        "## **5. Disadvantages of Recursion**\n",
        "\n",
        "- 1. Sometimes the logic behind recursion is hard to follow through.\n",
        "\n",
        "- 2. Recursive calls are expensive (inefficient) as they take up a lot of memory and time.\n",
        "\n",
        "- 3. Recursive functions are hard to debug."
      ]
    },
    {
      "cell_type": "markdown",
      "metadata": {
        "id": "KtKKKJqkSG6N"
      },
      "source": [
        "https://www.programiz.com/python-programming/recursion\n"
      ]
    }
  ]
}