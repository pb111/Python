{
  "nbformat": 4,
  "nbformat_minor": 0,
  "metadata": {
    "colab": {
      "name": "Python break and continue",
      "provenance": [],
      "authorship_tag": "ABX9TyM0QT4Vob02n7cyo6zVMwxK",
      "include_colab_link": true
    },
    "kernelspec": {
      "name": "python3",
      "display_name": "Python 3"
    }
  },
  "cells": [
    {
      "cell_type": "markdown",
      "metadata": {
        "id": "view-in-github",
        "colab_type": "text"
      },
      "source": [
        "<a href=\"https://colab.research.google.com/github/pb111/Python/blob/master/Python_break_and_continue.ipynb\" target=\"_parent\"><img src=\"https://colab.research.google.com/assets/colab-badge.svg\" alt=\"Open In Colab\"/></a>"
      ]
    },
    {
      "cell_type": "markdown",
      "metadata": {
        "id": "h5cY_hZZSkuE",
        "colab_type": "text"
      },
      "source": [
        "# **Python break and continue**"
      ]
    },
    {
      "cell_type": "markdown",
      "metadata": {
        "id": "G3O34AgeTgz3",
        "colab_type": "text"
      },
      "source": [
        "## **1. What is the use of break and continue in Python?**\n",
        "\n",
        "- In Python, **break and continue** statements can alter the flow of a normal loop.\n",
        "\n",
        "- Loops iterate over a block of code until the test expression is false, but sometimes we wish to terminate the current iteration or even the whole loop without checking test expression.\n",
        "\n",
        "- The **break and continue** statements are used in these cases."
      ]
    },
    {
      "cell_type": "markdown",
      "metadata": {
        "id": "B4MUnGmpT1mf",
        "colab_type": "text"
      },
      "source": [
        "## **2. Python break statement**\n",
        "\n",
        "- The break statement terminates the loop containing it. Control of the program flows to the statement immediately after the body of the loop.\n",
        "\n",
        "- If the break statement is inside a nested loop (loop inside another loop), the break statement will terminate the innermost loop."
      ]
    },
    {
      "cell_type": "markdown",
      "metadata": {
        "id": "gSynoVWdUQvH",
        "colab_type": "text"
      },
      "source": [
        "### **Syntax of break**\n",
        "\n",
        "- *break*"
      ]
    },
    {
      "cell_type": "markdown",
      "metadata": {
        "id": "-7o3_ixAUgtD",
        "colab_type": "text"
      },
      "source": [
        "### **Flowchart of break**"
      ]
    },
    {
      "cell_type": "markdown",
      "metadata": {
        "id": "ZUvKnBHBUqOe",
        "colab_type": "text"
      },
      "source": [
        "![Flowchart of break](https://cdn.programiz.com/sites/tutorial2program/files/flowchart-break-statement.jpg)"
      ]
    },
    {
      "cell_type": "markdown",
      "metadata": {
        "id": "PSZw4DqbVB6_",
        "colab_type": "text"
      },
      "source": [
        "The working of break statement in for loop and while loop is shown below."
      ]
    },
    {
      "cell_type": "markdown",
      "metadata": {
        "id": "D-8tde3IVJ9k",
        "colab_type": "text"
      },
      "source": [
        "![Break statement in for loop](https://cdn.programiz.com/sites/tutorial2program/files/how-break-statement-works.jpg)"
      ]
    },
    {
      "cell_type": "markdown",
      "metadata": {
        "id": "IU1RCynqVdPJ",
        "colab_type": "text"
      },
      "source": [
        "### **Example: Python break**"
      ]
    },
    {
      "cell_type": "code",
      "metadata": {
        "id": "sfmwerE_Vh7R",
        "colab_type": "code",
        "colab": {
          "base_uri": "https://localhost:8080/",
          "height": 85
        },
        "outputId": "e4638605-8663-491c-bbc2-3287fbe84068"
      },
      "source": [
        "# Use of break statement inside the loop\n",
        "\n",
        "for val in \"string\":\n",
        "  if val == \"i\":\n",
        "    break\n",
        "  print(val)\n",
        "\n",
        "print(\"The end\")"
      ],
      "execution_count": 1,
      "outputs": [
        {
          "output_type": "stream",
          "text": [
            "s\n",
            "t\n",
            "r\n",
            "The end\n"
          ],
          "name": "stdout"
        }
      ]
    },
    {
      "cell_type": "markdown",
      "metadata": {
        "id": "aLAL3eYjXux9",
        "colab_type": "text"
      },
      "source": [
        "- In this program, we iterate through the \"string\" sequence. We check if the letter is i, upon which we break from the loop. Hence, we see in our output that all the letters up till i gets printed. After that, the loop terminates.\n",
        "\n"
      ]
    },
    {
      "cell_type": "markdown",
      "metadata": {
        "id": "UEq7xdxaYaSg",
        "colab_type": "text"
      },
      "source": [
        "## **3. Python continue statement**\n",
        "\n",
        "- The continue statement is used to skip the rest of the code inside a loop for the current iteration only. Loop does not terminate but continues on with the next iteration."
      ]
    },
    {
      "cell_type": "markdown",
      "metadata": {
        "id": "mfw7aD8GZSJD",
        "colab_type": "text"
      },
      "source": [
        "### **Syntax of Continue**\n",
        "\n",
        "- *continue*"
      ]
    },
    {
      "cell_type": "markdown",
      "metadata": {
        "id": "9TFtyDLxZmDu",
        "colab_type": "text"
      },
      "source": [
        "### **Flowchart of continue**"
      ]
    },
    {
      "cell_type": "markdown",
      "metadata": {
        "id": "NFXpP9Q8ZvmP",
        "colab_type": "text"
      },
      "source": [
        "![Flowchart of continue](https://cdn.programiz.com/sites/tutorial2program/files/continue-statement-flowchart.jpg)"
      ]
    },
    {
      "cell_type": "markdown",
      "metadata": {
        "id": "9YKtckgFaLV4",
        "colab_type": "text"
      },
      "source": [
        "The working of continue statement in for and while loop is shown below."
      ]
    },
    {
      "cell_type": "markdown",
      "metadata": {
        "id": "zuonNoQSaWLT",
        "colab_type": "text"
      },
      "source": [
        "![Continue statement in for and while loop](https://cdn.programiz.com/sites/tutorial2program/files/how-continue-statment-works.jpg)"
      ]
    },
    {
      "cell_type": "markdown",
      "metadata": {
        "id": "CjCW6b-Mavzs",
        "colab_type": "text"
      },
      "source": [
        "### **Example: Python continue**\n"
      ]
    },
    {
      "cell_type": "code",
      "metadata": {
        "id": "Mj4kH5hua0Nb",
        "colab_type": "code",
        "colab": {
          "base_uri": "https://localhost:8080/",
          "height": 119
        },
        "outputId": "82ff0d99-ff44-4e7e-9a8c-f2f18eed232b"
      },
      "source": [
        "# Program to show the use of continue statement inside loops\n",
        "\n",
        "for val in \"string\":\n",
        "  if val == \"i\":\n",
        "    continue\n",
        "  print(val)\n",
        "\n",
        "print(\"The end\")"
      ],
      "execution_count": 2,
      "outputs": [
        {
          "output_type": "stream",
          "text": [
            "s\n",
            "t\n",
            "r\n",
            "n\n",
            "g\n",
            "The end\n"
          ],
          "name": "stdout"
        }
      ]
    },
    {
      "cell_type": "markdown",
      "metadata": {
        "id": "Bqc0OiiEbaei",
        "colab_type": "text"
      },
      "source": [
        "- This program is same as the above example except the break statement has been replaced with continue.\n",
        "\n",
        "- We continue with the loop, if the string is i, not executing the rest of the block. Hence, we see in our output that all the letters except i gets printed."
      ]
    }
  ]
}