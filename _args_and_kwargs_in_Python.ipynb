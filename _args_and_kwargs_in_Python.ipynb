{
  "nbformat": 4,
  "nbformat_minor": 0,
  "metadata": {
    "colab": {
      "name": "*args and **kwargs in Python",
      "provenance": [],
      "authorship_tag": "ABX9TyMhjmv4TOcHZd+jKAYVSR5b",
      "include_colab_link": true
    },
    "kernelspec": {
      "name": "python3",
      "display_name": "Python 3"
    }
  },
  "cells": [
    {
      "cell_type": "markdown",
      "metadata": {
        "id": "view-in-github",
        "colab_type": "text"
      },
      "source": [
        "<a href=\"https://colab.research.google.com/github/pb111/Python-tutorials-and-projects/blob/master/_args_and_kwargs_in_Python.ipynb\" target=\"_parent\"><img src=\"https://colab.research.google.com/assets/colab-badge.svg\" alt=\"Open In Colab\"/></a>"
      ]
    },
    {
      "cell_type": "markdown",
      "metadata": {
        "id": "LUirywQGAPk5"
      },
      "source": [
        "# **`*args and **kwargs in Python`**"
      ]
    },
    {
      "cell_type": "markdown",
      "metadata": {
        "id": "QjG4stXZB1av"
      },
      "source": [
        "In Python, we can pass a variable number of arguments to a function using special symbols. There are two special symbols:"
      ]
    },
    {
      "cell_type": "markdown",
      "metadata": {
        "id": "o7pNLKKyCCmE"
      },
      "source": [
        "![*args and **kwargs in Python](https://media.geeksforgeeks.org/wp-content/uploads/20200907141910/keyword-300x176.PNG)"
      ]
    },
    {
      "cell_type": "markdown",
      "metadata": {
        "id": "f_o7eYUdCqJ1"
      },
      "source": [
        "Special Symbols Used for passing arguments:-\n",
        "\n",
        "1.)*args (Non-Keyword Arguments)\n",
        "\n",
        "2.)**kwargs (Keyword Arguments)"
      ]
    },
    {
      "cell_type": "markdown",
      "metadata": {
        "id": "XHMmRoaXDPz1"
      },
      "source": [
        "“We use *args and **kwargs as an argument when we have no doubt about the number of  arguments we should pass in a function.”"
      ]
    },
    {
      "cell_type": "markdown",
      "metadata": {
        "id": "F2GoenWcvhqE"
      },
      "source": [
        "### **1.) *args**\n",
        "\n",
        "The special syntax *args in function definitions in python is used to pass a variable number of arguments to a function. It is used to pass a non-key worded, variable-length argument list. \n",
        "\n",
        "- The syntax is to use the symbol * to take in a variable number of arguments; by convention, it is often used with the word args.\n",
        "\n",
        "- What *args allows you to do is take in more arguments than the number of formal arguments that you previously defined. With *args, any number of extra arguments can be tacked on to your current formal parameters (including zero extra arguments).\n",
        "\n",
        "- For example : we want to make a multiply function that takes any number of arguments and able to multiply them all together. It can be done using *args.\n",
        "\n",
        "- Using the *, the variable that we associate with the * becomes an iterable meaning you can do things like iterate over it, run some higher-order functions such as map and filter, etc."
      ]
    },
    {
      "cell_type": "markdown",
      "metadata": {
        "id": "2PksEFIOF7c9"
      },
      "source": [
        "#### **Example for usage of *args:**"
      ]
    },
    {
      "cell_type": "code",
      "metadata": {
        "colab": {
          "base_uri": "https://localhost:8080/"
        },
        "id": "9p2fBTm9wI3U",
        "outputId": "82513591-2734-43cc-c332-2e9a572fadec"
      },
      "source": [
        "# Python program to illustrate\n",
        "# *args for variable number of arguments\n",
        "def myFun(*argv):\n",
        "    for arg in argv:\n",
        "        print(arg)\n",
        "\n",
        "myFun('Hello','Welcome','to','GeeksforGeeks')"
      ],
      "execution_count": 1,
      "outputs": [
        {
          "output_type": "stream",
          "text": [
            "Hello\n",
            "Welcome\n",
            "to\n",
            "GeeksforGeeks\n"
          ],
          "name": "stdout"
        }
      ]
    },
    {
      "cell_type": "code",
      "metadata": {
        "id": "mnCkOanuxJ8T",
        "colab": {
          "base_uri": "https://localhost:8080/"
        },
        "outputId": "ff63c9eb-ab94-4257-8b33-7bf3b454f7f3"
      },
      "source": [
        "# Python program to illustrate\n",
        "# *args with first extra argument\n",
        "def myFun(arg1,*argv):\n",
        "    print(\"First argument :\", arg1)\n",
        "    for arg in argv:\n",
        "        print(\"Next argument through *argv :\", arg)\n",
        "\n",
        "myFun('Hello', 'Welcome', 'to', 'GeeksforGeeks')"
      ],
      "execution_count": 2,
      "outputs": [
        {
          "output_type": "stream",
          "text": [
            "First argument : Hello\n",
            "Next argument through *argv : Welcome\n",
            "Next argument through *argv : to\n",
            "Next argument through *argv : GeeksforGeeks\n"
          ],
          "name": "stdout"
        }
      ]
    },
    {
      "cell_type": "markdown",
      "metadata": {
        "id": "3gWBuJjSEHyD"
      },
      "source": [
        "### **2.) **kwargs**\n",
        "\n",
        "The special syntax **kwargs in function definitions in python is used to pass a keyworded, variable-length argument list. We use the name kwargs with the double star. The reason is because the double star allows us to pass through keyword arguments (and any number of them).\n",
        "\n",
        "- A keyword argument is where you provide a name to the variable as you pass it into the function.\n",
        "- One can think of the *kwargs* as being a dictionary that maps each keyword to the value that we pass alongside it. That is why when we iterate over the *kwargs* there doesn’t seem to be any order in which they were printed out."
      ]
    },
    {
      "cell_type": "markdown",
      "metadata": {
        "id": "qu5XxyqMFuqO"
      },
      "source": [
        "#### **Example for usage of **kwargs:**"
      ]
    },
    {
      "cell_type": "code",
      "metadata": {
        "colab": {
          "base_uri": "https://localhost:8080/"
        },
        "id": "iFnUuhaUDgXd",
        "outputId": "c0021824-7ff9-4669-ff5e-b59516e4cc98"
      },
      "source": [
        "# Python program to illustrate\n",
        "# **kwargs for variable number of keyword arguments\n",
        "\n",
        "def myFun1(**kwargs):\n",
        "    for key,value in kwargs.items():\n",
        "        print(\"%s == %s\" %(key, value))\n",
        "\n",
        "# Driver code\n",
        "myFun1(first=\"Geeks\", mid=\"for\", last=\"Geeks\")"
      ],
      "execution_count": 3,
      "outputs": [
        {
          "output_type": "stream",
          "text": [
            "first == Geeks\n",
            "mid == for\n",
            "last == Geeks\n"
          ],
          "name": "stdout"
        }
      ]
    },
    {
      "cell_type": "code",
      "metadata": {
        "colab": {
          "base_uri": "https://localhost:8080/"
        },
        "id": "zJUoTVqdH_YE",
        "outputId": "da65d4ba-77db-48ec-fd0c-de80d37051f9"
      },
      "source": [
        "# Python program to illustrate **kargs for \n",
        "# variable number of keyword arguments with \n",
        "# one extra argument. \n",
        "\n",
        "def myFun2(arg1, **kwargs): \n",
        "\tfor key, value in kwargs.items(): \n",
        "\t\tprint (\"%s == %s\" %(key, value)) \n",
        "\n",
        "# Driver code \n",
        "myFun2(\"Hi\", first ='Geeks', mid ='for', last='Geeks')\n"
      ],
      "execution_count": 4,
      "outputs": [
        {
          "output_type": "stream",
          "text": [
            "first == Geeks\n",
            "mid == for\n",
            "last == Geeks\n"
          ],
          "name": "stdout"
        }
      ]
    },
    {
      "cell_type": "markdown",
      "metadata": {
        "id": "0d9Gozw0LVTg"
      },
      "source": [
        "###  **3. Using `*args` and **kwargs to call a function**"
      ]
    },
    {
      "cell_type": "code",
      "metadata": {
        "colab": {
          "base_uri": "https://localhost:8080/"
        },
        "id": "EbrHhFcvJ_I_",
        "outputId": "4f6ba8af-1024-4484-bbdf-8e2116bd097e"
      },
      "source": [
        "def myFun(arg1, arg2, arg3): \n",
        "\tprint(\"arg1:\", arg1) \n",
        "\tprint(\"arg2:\", arg2) \n",
        "\tprint(\"arg3:\", arg3) \n",
        "\t\n",
        "# Now we can use *args or **kwargs to \n",
        "# pass arguments to this function : \n",
        "args = (\"Geeks\", \"for\", \"Geeks\") \n",
        "myFun(*args) \n",
        "\n",
        "kwargs = {\"arg1\" : \"Geeks\", \"arg2\" : \"for\", \"arg3\" : \"Geeks\"} \n",
        "myFun(**kwargs) \n"
      ],
      "execution_count": 5,
      "outputs": [
        {
          "output_type": "stream",
          "text": [
            "arg1: Geeks\n",
            "arg2: for\n",
            "arg3: Geeks\n",
            "arg1: Geeks\n",
            "arg2: for\n",
            "arg3: Geeks\n"
          ],
          "name": "stdout"
        }
      ]
    },
    {
      "cell_type": "markdown",
      "metadata": {
        "id": "X1ra4ijENASj"
      },
      "source": [
        "### **4. Using `*args` and **kwargs in same line to call a function**"
      ]
    },
    {
      "cell_type": "code",
      "metadata": {
        "colab": {
          "base_uri": "https://localhost:8080/"
        },
        "id": "4MoD4lnXME2C",
        "outputId": "4356b895-188d-4a04-efb0-6ace52321728"
      },
      "source": [
        "def myFun(*args,**kwargs): \n",
        "\tprint(\"args: \", args) \n",
        "\tprint(\"kwargs: \", kwargs) \n",
        "\n",
        "\n",
        "# Now we can use both *args ,**kwargs \n",
        "# to pass arguments to this function : \n",
        "myFun('geeks','for','geeks', first=\"Geeks\", mid=\"for\", last=\"Geeks\") \n"
      ],
      "execution_count": 6,
      "outputs": [
        {
          "output_type": "stream",
          "text": [
            "args:  ('geeks', 'for', 'geeks')\n",
            "kwargs:  {'first': 'Geeks', 'mid': 'for', 'last': 'Geeks'}\n"
          ],
          "name": "stdout"
        }
      ]
    },
    {
      "cell_type": "markdown",
      "metadata": {
        "id": "BVAa2JCcBkg_"
      },
      "source": [
        "https://www.geeksforgeeks.org/args-kwargs-python/"
      ]
    }
  ]
}