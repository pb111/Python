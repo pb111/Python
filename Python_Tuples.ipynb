{
  "nbformat": 4,
  "nbformat_minor": 0,
  "metadata": {
    "colab": {
      "name": "Python Tuples",
      "provenance": [],
      "authorship_tag": "ABX9TyPyxjLVFYasWfcYK6QL50nE",
      "include_colab_link": true
    },
    "kernelspec": {
      "name": "python3",
      "display_name": "Python 3"
    }
  },
  "cells": [
    {
      "cell_type": "markdown",
      "metadata": {
        "id": "view-in-github",
        "colab_type": "text"
      },
      "source": [
        "<a href=\"https://colab.research.google.com/github/pb111/Python/blob/master/Python_Tuples.ipynb\" target=\"_parent\"><img src=\"https://colab.research.google.com/assets/colab-badge.svg\" alt=\"Open In Colab\"/></a>"
      ]
    },
    {
      "cell_type": "markdown",
      "metadata": {
        "id": "AbXZWqfSxQuF",
        "colab_type": "text"
      },
      "source": [
        "\n",
        "\n",
        "# **Python Tuples**\n",
        "\n"
      ]
    },
    {
      "cell_type": "markdown",
      "metadata": {
        "id": "iBKkL2aP0OYs",
        "colab_type": "text"
      },
      "source": [
        "## **1. Tuple**\n",
        "\n",
        "- A tuple is a collection which is **ordered** and **unchangeable**. \n",
        "\n",
        "- In Python tuples are written with round brackets."
      ]
    },
    {
      "cell_type": "markdown",
      "metadata": {
        "id": "xNKrwOlp0l5p",
        "colab_type": "text"
      },
      "source": [
        "### Difference between Lists and Tuples\n",
        "\n",
        "- A list is written with square brackets but a tuple is written with round bracketts.\n",
        "\n",
        "- A list is a collection which is ordered and changeable while a tuple is a collection which is ordered and unchangeable."
      ]
    },
    {
      "cell_type": "code",
      "metadata": {
        "id": "kv033wSI1NSv",
        "colab_type": "code",
        "colab": {
          "base_uri": "https://localhost:8080/",
          "height": 34
        },
        "outputId": "ea61104e-8f59-4c7c-f05d-7e02f70ac81c"
      },
      "source": [
        "# create a tuple\n",
        "thistuple = (\"apple\", \"banana\", \"cherry\")\n",
        "print(thistuple)"
      ],
      "execution_count": 1,
      "outputs": [
        {
          "output_type": "stream",
          "text": [
            "('apple', 'banana', 'cherry')\n"
          ],
          "name": "stdout"
        }
      ]
    },
    {
      "cell_type": "markdown",
      "metadata": {
        "id": "nkK_jUBQ57RC",
        "colab_type": "text"
      },
      "source": [
        "## **2. Access Tuple Items**\n",
        "\n",
        "- You can access tuple items by referring to the index number, inside square brackets.\n"
      ]
    },
    {
      "cell_type": "code",
      "metadata": {
        "id": "YWDXlbaC6If7",
        "colab_type": "code",
        "colab": {
          "base_uri": "https://localhost:8080/",
          "height": 34
        },
        "outputId": "630acd28-93af-4002-cde4-29247777bd58"
      },
      "source": [
        "# Print the second item in the tuple\n",
        "thistuple = (\"apple\", \"banana\", \"cherry\")\n",
        "print(thistuple[1])"
      ],
      "execution_count": 2,
      "outputs": [
        {
          "output_type": "stream",
          "text": [
            "banana\n"
          ],
          "name": "stdout"
        }
      ]
    },
    {
      "cell_type": "markdown",
      "metadata": {
        "id": "86ojvDHJ7ns4",
        "colab_type": "text"
      },
      "source": [
        "### 2.1 Negative Indexing\n",
        "\n",
        "- Negative indexing means beginning from the end, -1 refers to the last item, -2 refers to the second last item etc."
      ]
    },
    {
      "cell_type": "code",
      "metadata": {
        "id": "f6V3xwyQ76QQ",
        "colab_type": "code",
        "colab": {
          "base_uri": "https://localhost:8080/",
          "height": 34
        },
        "outputId": "c3dd121c-5d07-4fd2-ba71-f279f94f1560"
      },
      "source": [
        "# Print the last item of the tuple\n",
        "thistuple = (\"apple\", \"banana\", \"cherry\")\n",
        "print(thistuple[-1])"
      ],
      "execution_count": 3,
      "outputs": [
        {
          "output_type": "stream",
          "text": [
            "cherry\n"
          ],
          "name": "stdout"
        }
      ]
    },
    {
      "cell_type": "markdown",
      "metadata": {
        "id": "UrzEIdFL8g5b",
        "colab_type": "text"
      },
      "source": [
        "### 2.2 Range of Indexes\n",
        "\n",
        "- You can specify a range of indexes by specifying where to start and where to end the range.\n",
        "\n",
        "- When specifying a range, the return value will be a new tuple with the specified items."
      ]
    },
    {
      "cell_type": "code",
      "metadata": {
        "id": "2WG5wlE18Bq6",
        "colab_type": "code",
        "colab": {
          "base_uri": "https://localhost:8080/",
          "height": 34
        },
        "outputId": "50b9efad-3d5d-4cc7-a01e-6d1733dc9d4d"
      },
      "source": [
        "# Return the third, fourth, and fifth item\n",
        "thistuple = (\"apple\", \"banana\", \"cherry\", \"orange\", \"kiwi\", \"melon\", \"mango\")\n",
        "print(thistuple[2:5])"
      ],
      "execution_count": 4,
      "outputs": [
        {
          "output_type": "stream",
          "text": [
            "('cherry', 'orange', 'kiwi')\n"
          ],
          "name": "stdout"
        }
      ]
    },
    {
      "cell_type": "markdown",
      "metadata": {
        "id": "lT00R9X5-ILe",
        "colab_type": "text"
      },
      "source": [
        "- **Note**: The search will start at index 2 (included) and end at index 5 (not included).\n",
        "\n",
        "- Remember that the first item has index 0.\n"
      ]
    },
    {
      "cell_type": "markdown",
      "metadata": {
        "id": "G2O3g_eR-Ir0",
        "colab_type": "text"
      },
      "source": [
        "### 2.3 Range of Negative Indexes\n",
        "\n",
        "- Specify negative indexes if you want to start the search from the end of the tuple."
      ]
    },
    {
      "cell_type": "code",
      "metadata": {
        "id": "8etyn4WZ_JLr",
        "colab_type": "code",
        "colab": {
          "base_uri": "https://localhost:8080/",
          "height": 34
        },
        "outputId": "f63fcd9e-dc85-4e79-a46a-1096f2097625"
      },
      "source": [
        "# This example returns the items from index -4 (included) to index -1 (excluded)\n",
        "\n",
        "thistuple = (\"apple\", \"banana\", \"cherry\", \"orange\", \"kiwi\", \"melon\", \"mango\")\n",
        "print(thistuple[-4:-1])"
      ],
      "execution_count": 5,
      "outputs": [
        {
          "output_type": "stream",
          "text": [
            "('orange', 'kiwi', 'melon')\n"
          ],
          "name": "stdout"
        }
      ]
    },
    {
      "cell_type": "markdown",
      "metadata": {
        "id": "pzfme_XR_37B",
        "colab_type": "text"
      },
      "source": [
        "## **3. Change Tuple Values**\n",
        "\n",
        "- Once a tuple is created, you cannot change its values. Tuples are **unchangeable**, or **immutable** as it also is called.\n",
        "\n",
        "- But there is a workaround. You can convert the tuple into a list, change the list, and convert the list back into a tuple."
      ]
    },
    {
      "cell_type": "code",
      "metadata": {
        "id": "2ryXke7UAFQM",
        "colab_type": "code",
        "colab": {
          "base_uri": "https://localhost:8080/",
          "height": 34
        },
        "outputId": "9c75b1e4-9b28-484e-ae35-6da0c1a5fb6b"
      },
      "source": [
        "# Convert the tuple into a list to be able to change it\n",
        "\n",
        "x = (\"apple\", \"banana\", \"cherry\")\n",
        "y = list(x)\n",
        "y[1] = \"kiwi\"\n",
        "x = tuple(y)\n",
        "print(x)"
      ],
      "execution_count": 6,
      "outputs": [
        {
          "output_type": "stream",
          "text": [
            "('apple', 'kiwi', 'cherry')\n"
          ],
          "name": "stdout"
        }
      ]
    },
    {
      "cell_type": "markdown",
      "metadata": {
        "id": "Bi0cnyK0Av9_",
        "colab_type": "text"
      },
      "source": [
        "## **4. Loop Through a Tuple**\n",
        "\n",
        "- You can loop through the tuple items by using a for loop."
      ]
    },
    {
      "cell_type": "code",
      "metadata": {
        "id": "I43ER3VsBAPK",
        "colab_type": "code",
        "colab": {
          "base_uri": "https://localhost:8080/",
          "height": 68
        },
        "outputId": "86cae290-1e04-4aaa-9555-ec9b0e03a1a4"
      },
      "source": [
        "# Iterate through the items and print the values:\n",
        "\n",
        "thistuple = (\"apple\", \"banana\", \"cherry\")\n",
        "for x in thistuple:\n",
        "  print(x)"
      ],
      "execution_count": 7,
      "outputs": [
        {
          "output_type": "stream",
          "text": [
            "apple\n",
            "banana\n",
            "cherry\n"
          ],
          "name": "stdout"
        }
      ]
    },
    {
      "cell_type": "markdown",
      "metadata": {
        "id": "Jz1bx_LSBO2P",
        "colab_type": "text"
      },
      "source": [
        "## **5. Check if Item Exists**\n",
        "\n",
        "- To determine if a specified item is present in a tuple use the in keyword."
      ]
    },
    {
      "cell_type": "code",
      "metadata": {
        "id": "MfV9tiZrBaPo",
        "colab_type": "code",
        "colab": {
          "base_uri": "https://localhost:8080/",
          "height": 34
        },
        "outputId": "15ab4966-3e3f-48a1-e954-f71ad4834cfc"
      },
      "source": [
        "# Check if \"apple\" is present in the tuple:\n",
        "\n",
        "thistuple = (\"apple\", \"banana\", \"cherry\")\n",
        "if \"apple\" in thistuple:\n",
        "  print(\"Yes, 'apple' is in the fruits tuple\")"
      ],
      "execution_count": 8,
      "outputs": [
        {
          "output_type": "stream",
          "text": [
            "Yes, 'apple' is in the fruits tuple\n"
          ],
          "name": "stdout"
        }
      ]
    },
    {
      "cell_type": "markdown",
      "metadata": {
        "id": "b1QojsQjB9Ff",
        "colab_type": "text"
      },
      "source": [
        "## **6. Tuple Length**\n",
        "\n",
        "- To determine how many items a tuple has, use the **len()** method."
      ]
    },
    {
      "cell_type": "code",
      "metadata": {
        "id": "saYpoKeDCGE_",
        "colab_type": "code",
        "colab": {
          "base_uri": "https://localhost:8080/",
          "height": 34
        },
        "outputId": "94e1fff4-6fb2-4bc1-baea-b1d7b5e69ec8"
      },
      "source": [
        "# Print the number of items in the tuple:\n",
        "\n",
        "thistuple = (\"apple\", \"banana\", \"cherry\")\n",
        "print(len(thistuple))"
      ],
      "execution_count": 9,
      "outputs": [
        {
          "output_type": "stream",
          "text": [
            "3\n"
          ],
          "name": "stdout"
        }
      ]
    },
    {
      "cell_type": "markdown",
      "metadata": {
        "id": "PnprbwivCVh2",
        "colab_type": "text"
      },
      "source": [
        "## **7. Add Items**\n",
        "\n",
        "- Once a tuple is created, you cannot add items to it. Tuples are unchangeable."
      ]
    },
    {
      "cell_type": "code",
      "metadata": {
        "id": "DFJi6QkqCjus",
        "colab_type": "code",
        "colab": {}
      },
      "source": [
        "# You cannot add items to a tuple:\n",
        "\n",
        "# thistuple = (\"apple\", \"banana\", \"cherry\")\n",
        "# thistuple[3] = \"orange\" # This will raise an error\n",
        "# print(thistuple)"
      ],
      "execution_count": 11,
      "outputs": []
    },
    {
      "cell_type": "code",
      "metadata": {
        "id": "ErsYGCDfCnha",
        "colab_type": "code",
        "colab": {}
      },
      "source": [
        ""
      ],
      "execution_count": null,
      "outputs": []
    },
    {
      "cell_type": "code",
      "metadata": {
        "id": "X3Am-R4i93V4",
        "colab_type": "code",
        "colab": {}
      },
      "source": [
        ""
      ],
      "execution_count": null,
      "outputs": []
    }
  ]
}