{
  "nbformat": 4,
  "nbformat_minor": 0,
  "metadata": {
    "colab": {
      "name": "Python Function Arguments",
      "provenance": [],
      "authorship_tag": "ABX9TyPVWZeiDL/9Y2mzYcv4MEPi",
      "include_colab_link": true
    },
    "kernelspec": {
      "name": "python3",
      "display_name": "Python 3"
    }
  },
  "cells": [
    {
      "cell_type": "markdown",
      "metadata": {
        "id": "view-in-github",
        "colab_type": "text"
      },
      "source": [
        "<a href=\"https://colab.research.google.com/github/pb111/Python-tutorials-and-projects/blob/master/Python_Function_Arguments.ipynb\" target=\"_parent\"><img src=\"https://colab.research.google.com/assets/colab-badge.svg\" alt=\"Open In Colab\"/></a>"
      ]
    },
    {
      "cell_type": "markdown",
      "metadata": {
        "id": "xA3UP_453x4s"
      },
      "source": [
        "# **Python Function Arguments**\n",
        "\n",
        "\n",
        "- In Python, you can define a function that takes variable number of arguments. - In this article, you will learn to define such functions using default, keyword and arbitrary arguments."
      ]
    },
    {
      "cell_type": "markdown",
      "metadata": {
        "id": "7HH809En4ihO"
      },
      "source": [
        "## **1. Arguments**\n",
        "\n",
        "- In the [user-defined function](https://www.programiz.com/python-programming/user-defined-function) topic, we learned about defining a function and calling it. Otherwise, the function call will result in an error. Here is an example."
      ]
    },
    {
      "cell_type": "code",
      "metadata": {
        "colab": {
          "base_uri": "https://localhost:8080/"
        },
        "id": "Clwio6fY43nt",
        "outputId": "bd55f4d6-d250-4b0c-97a8-18d3228c4240"
      },
      "source": [
        "def greet(name, msg):\n",
        "    \"\"\"This function greets to\n",
        "    the person with the provided message\"\"\"\n",
        "    print(\"Hello\", name + ', ' + msg)\n",
        "\n",
        "greet(\"Monica\", \"Good morning!\")"
      ],
      "execution_count": 1,
      "outputs": [
        {
          "output_type": "stream",
          "text": [
            "Hello Monica, Good morning!\n"
          ],
          "name": "stdout"
        }
      ]
    },
    {
      "cell_type": "markdown",
      "metadata": {
        "id": "Hl0ZQZ_c5ZsC"
      },
      "source": [
        "- Here, the function **greet()** has two parameters.\n",
        "\n",
        "- Since we have called this function with two arguments, it runs smoothly and we do not get any error.\n",
        "\n",
        "- If we call it with a different number of arguments, the interpreter will show an error message. Below is a call to this function with one and no arguments along with their respective error messages."
      ]
    },
    {
      "cell_type": "markdown",
      "metadata": {
        "id": "fJGs6UgI5wpf"
      },
      "source": [
        ">>> greet(\"Monica\")    # only one argument\n",
        "TypeError: greet() missing 1 required positional argument: 'msg'"
      ]
    },
    {
      "cell_type": "markdown",
      "metadata": {
        "id": "JFeYiViv56F9"
      },
      "source": [
        ">>> greet()    # no arguments\n",
        "TypeError: greet() missing 2 required positional arguments: 'name' and 'msg'\n"
      ]
    },
    {
      "cell_type": "markdown",
      "metadata": {
        "id": "fQsXUmaq6_BD"
      },
      "source": [
        "## **2. Variable Function Arguments**\n",
        "\n",
        "- Up until now, functions had a fixed number of arguments. \n",
        "\n",
        "- In Python, there are other ways to define a function that can take variable number of arguments.\n",
        "\n",
        "- Three different forms of this type are described below."
      ]
    },
    {
      "cell_type": "markdown",
      "metadata": {
        "id": "rEhwKrnf7XM8"
      },
      "source": [
        "### **2.1 Python Default Arguments**\n",
        "\n",
        "- Function arguments can have default values in Python.\n",
        "\n",
        "- We can provide a default value to an argument by using the assignment operator (=). Here is an example."
      ]
    },
    {
      "cell_type": "code",
      "metadata": {
        "colab": {
          "base_uri": "https://localhost:8080/"
        },
        "id": "ISn0GXXi7go5",
        "outputId": "357d7568-72f4-4151-853b-92e1131746ee"
      },
      "source": [
        "def greet(name, msg=\"Good morning!\"):\n",
        "    \"\"\"\n",
        "    This function greets to\n",
        "    the person with the\n",
        "    provided message.\n",
        "\n",
        "    If the message is not provided,\n",
        "    it defaults to \"Good\n",
        "    morning!\"\n",
        "    \"\"\"\n",
        "\n",
        "    print(\"Hello\", name + ', ' + msg)\n",
        "\n",
        "greet(\"Kate\")\n",
        "greet(\"Bruce\", \"How do you do?\")"
      ],
      "execution_count": 2,
      "outputs": [
        {
          "output_type": "stream",
          "text": [
            "Hello Kate, Good morning!\n",
            "Hello Bruce, How do you do?\n"
          ],
          "name": "stdout"
        }
      ]
    },
    {
      "cell_type": "markdown",
      "metadata": {
        "id": "e6pW3sC98RiV"
      },
      "source": [
        "- In this function, the parameter name does not have a default value and is required (mandatory) during a call.\n",
        "\n",
        "- On the other hand, the parameter msg has a default value of \"Good morning!\". So, it is optional during a call. If a value is provided, it will overwrite the default value.\n",
        "\n",
        "- Any number of arguments in a function can have a default value. But once we have a default argument, all the arguments to its right must also have default values.\n",
        "\n",
        "- This means to say, non-default arguments cannot follow default arguments. For example, if we had defined the function header above as:"
      ]
    },
    {
      "cell_type": "markdown",
      "metadata": {
        "id": "rrIoFxNy806H"
      },
      "source": [
        "def greet(msg = \"Good morning!\", name):"
      ]
    },
    {
      "cell_type": "markdown",
      "metadata": {
        "id": "EjDNyJiK890x"
      },
      "source": [
        "- We would get an error as:"
      ]
    },
    {
      "cell_type": "markdown",
      "metadata": {
        "id": "-V-LIHnf9OAL"
      },
      "source": [
        "SyntaxError: non-default argument follows default argument\n"
      ]
    },
    {
      "cell_type": "markdown",
      "metadata": {
        "id": "-Goq7RbP9fZL"
      },
      "source": [
        "### **2.2 Python Keyword Arguments**\n",
        "\n",
        "- When we call a function with some values, these values get assigned to the arguments according to their position."
      ]
    },
    {
      "cell_type": "markdown",
      "metadata": {
        "id": "NS8KlRfC-RcE"
      },
      "source": [
        "- For example, in the above function greet(), when we called it as - \n",
        "\n",
        "`greet(\"Bruce\", \"How do you do?\")`, the value \"Bruce\" gets assigned to the argument `name` and similarly `\"How do you do?\"` to `msg`.\n",
        "\n",
        "- Python allows functions to be called using keyword arguments. When we call functions in this way, the order (position) of the arguments can be changed. Following calls to the above function are all valid and produce the same result."
      ]
    },
    {
      "cell_type": "code",
      "metadata": {
        "colab": {
          "base_uri": "https://localhost:8080/"
        },
        "id": "uMtcRWfyCaIJ",
        "outputId": "be41b67f-ed84-4be1-c822-137035a0af4e"
      },
      "source": [
        "# 2 keyword arguments\n",
        "greet(name = \"Bruce\",msg = \"How do you do?\")"
      ],
      "execution_count": 3,
      "outputs": [
        {
          "output_type": "stream",
          "text": [
            "Hello Bruce, How do you do?\n"
          ],
          "name": "stdout"
        }
      ]
    },
    {
      "cell_type": "code",
      "metadata": {
        "colab": {
          "base_uri": "https://localhost:8080/"
        },
        "id": "8v4SGMARCk0o",
        "outputId": "0f1deebd-6501-460b-83e8-7aa62600888d"
      },
      "source": [
        "# 2 keyword arguments (out of order)\n",
        "greet(msg = \"How do you do?\",name = \"Bruce\") "
      ],
      "execution_count": 4,
      "outputs": [
        {
          "output_type": "stream",
          "text": [
            "Hello Bruce, How do you do?\n"
          ],
          "name": "stdout"
        }
      ]
    },
    {
      "cell_type": "code",
      "metadata": {
        "colab": {
          "base_uri": "https://localhost:8080/"
        },
        "id": "2taSCcClCxlE",
        "outputId": "661406e8-93f4-4344-a694-ff348ee891b7"
      },
      "source": [
        "# 1 positional, 1 keyword argument\n",
        "greet(\"Bruce\", msg = \"How do you do?\")        "
      ],
      "execution_count": 5,
      "outputs": [
        {
          "output_type": "stream",
          "text": [
            "Hello Bruce, How do you do?\n"
          ],
          "name": "stdout"
        }
      ]
    },
    {
      "cell_type": "markdown",
      "metadata": {
        "id": "mqrAQtLEDGBZ"
      },
      "source": [
        "- As we can see, we can mix positional arguments with keyword arguments during a function call. But we must keep in mind that keyword arguments must follow positional arguments."
      ]
    },
    {
      "cell_type": "markdown",
      "metadata": {
        "id": "fGhcQwAQDKk8"
      },
      "source": [
        "- Having a positional argument after keyword arguments will result in errors. For example, the function call as follows:"
      ]
    },
    {
      "cell_type": "markdown",
      "metadata": {
        "id": "rO2t320tDiGe"
      },
      "source": [
        "`greet(name=\"Bruce\",\"How do you do?\")`"
      ]
    },
    {
      "cell_type": "markdown",
      "metadata": {
        "id": "w5KieEZhDoQa"
      },
      "source": [
        "- Will result in an error:"
      ]
    },
    {
      "cell_type": "markdown",
      "metadata": {
        "id": "nuAwmyO7DxhT"
      },
      "source": [
        "`SyntaxError: non-keyword arg after keyword arg`"
      ]
    },
    {
      "cell_type": "markdown",
      "metadata": {
        "id": "L0eHUsumD8gh"
      },
      "source": [
        "### **2.3 Python Arbitrary Arguments**\n",
        "\n",
        "\n",
        "- Sometimes, we do not know in advance the number of arguments that will be passed into a function. Python allows us to handle this kind of situation through function calls with an arbitrary number of arguments.\n",
        "\n",
        "- In the function definition, we use an asterisk (*) before the parameter name to denote this kind of argument. Here is an example."
      ]
    },
    {
      "cell_type": "code",
      "metadata": {
        "id": "6m2S-_VrD0Y3",
        "colab": {
          "base_uri": "https://localhost:8080/"
        },
        "outputId": "3ca225ff-e50b-43a3-d5e1-c5ae04c9d59a"
      },
      "source": [
        "def greet(*names):\n",
        "    \"\"\"This function greets all\n",
        "    the person in the names tuple.\"\"\"\n",
        "\n",
        "    # names is a tuple with arguments\n",
        "    for name in names:\n",
        "        print(\"Hello\", name)\n",
        "\n",
        "\n",
        "greet(\"Monica\", \"Luke\", \"Steve\", \"John\")"
      ],
      "execution_count": 6,
      "outputs": [
        {
          "output_type": "stream",
          "text": [
            "Hello Monica\n",
            "Hello Luke\n",
            "Hello Steve\n",
            "Hello John\n"
          ],
          "name": "stdout"
        }
      ]
    },
    {
      "cell_type": "markdown",
      "metadata": {
        "id": "5gAapJ68BUAw"
      },
      "source": [
        "- Here, we have called the function with multiple arguments. These arguments get wrapped up into a tuple before being passed into the function. Inside the function, we use a for loop to retrieve all the arguments back."
      ]
    }
  ]
}