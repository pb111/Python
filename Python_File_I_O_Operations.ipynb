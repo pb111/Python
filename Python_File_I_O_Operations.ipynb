{
  "nbformat": 4,
  "nbformat_minor": 0,
  "metadata": {
    "colab": {
      "name": "Python File I/O Operations",
      "provenance": [],
      "authorship_tag": "ABX9TyOPbU8Ntt3h/ttU88CBhw+u",
      "include_colab_link": true
    },
    "kernelspec": {
      "name": "python3",
      "display_name": "Python 3"
    }
  },
  "cells": [
    {
      "cell_type": "markdown",
      "metadata": {
        "id": "view-in-github",
        "colab_type": "text"
      },
      "source": [
        "<a href=\"https://colab.research.google.com/github/pb111/Python-tutorials-and-projects/blob/master/Python_File_I_O_Operations.ipynb\" target=\"_parent\"><img src=\"https://colab.research.google.com/assets/colab-badge.svg\" alt=\"Open In Colab\"/></a>"
      ]
    },
    {
      "cell_type": "markdown",
      "metadata": {
        "id": "LbbvzvIkC2YQ"
      },
      "source": [
        "# **Python File I/O Operations**\r\n",
        "\r\n",
        "- In this tutorial, you'll learn about Python file operations. \r\n",
        "- More specifically, \r\n",
        "  - opening a file, \r\n",
        "  - reading from it, \r\n",
        "  - writing into it, \r\n",
        "  - closing it, and \r\n",
        "  - various file methods that you should be aware of."
      ]
    },
    {
      "cell_type": "markdown",
      "metadata": {
        "id": "VK5srKylPTmK"
      },
      "source": [
        "## **1. Files**\r\n",
        "\r\n",
        "- **Files** are named locations on disk to store related information. They are used to permanently store data in a non-volatile memory (e.g. hard disk).\r\n",
        "\r\n",
        "- Since Random Access Memory (RAM) is volatile (which loses its data when the computer is turned off), we use files for future use of the data by permanently storing them.\r\n",
        "\r\n",
        "- When we want to read from or write to a file, we need to open it first. When we are done, it needs to be closed so that the resources that are tied with the file are freed.\r\n",
        "\r\n",
        "- Hence, in Python, a file operation takes place in the following order:\r\n",
        "\r\n",
        "  1. Open a file\r\n",
        "  2. Read or write (perform operation)\r\n",
        "  3. Close the file\r\n",
        "\r\n",
        "\r\n",
        " "
      ]
    },
    {
      "cell_type": "markdown",
      "metadata": {
        "id": "kxzKGwm4C8gK"
      },
      "source": [
        "## **2. Opening Files in Python**\r\n",
        "\r\n",
        "- Python has a built-in `open()` function to open a file. \r\n",
        "\r\n",
        "- This function returns a file object, also called a **handle**, as it is used to read or modify the file accordingly.\r\n",
        "\r\n",
        "\r\n",
        "  - `f = open(\"test.txt\")    # open file in current directory`\r\n",
        "\r\n",
        "  - `f = open(\"C:/Python38/README.txt\")  # specifying full path`"
      ]
    },
    {
      "cell_type": "markdown",
      "metadata": {
        "id": "trq3r60aJoWr"
      },
      "source": [
        "- We can specify the mode while opening a file. In mode, we specify whether we want to read `r`, write `w` or append `a` to the file. We can also specify if we want to open the file in text mode or binary mode.\r\n",
        "\r\n",
        "\r\n",
        "- The default is reading in text mode. In this mode, we get strings when reading from the file.\r\n",
        "\r\n",
        "\r\n",
        "- On the other hand, binary mode returns bytes and this is the mode to be used when dealing with non-text files like images or executable files."
      ]
    },
    {
      "cell_type": "markdown",
      "metadata": {
        "id": "3M5G0qmLKPy8"
      },
      "source": [
        "- **Mode** - **Description**\r\n",
        "- `r` -\t`Opens a file for reading. (default)`\r\n",
        "- `w`\t- `Opens a file for writing. Creates a new file if it does not exist or truncates the file if it exists.`\r\n",
        "- `x`\t- `Opens a file for exclusive creation. If the file already exists, the operation fails.`\r\n",
        "- `a`\t- `Opens a file for appending at the end of the file without truncating it. Creates a new file if it does not exist.`\r\n",
        "- `t`\t- `Opens in text mode. (default)`\r\n",
        "- `b`\t- `Opens in binary mode.`\r\n",
        "- `+`\t- `Opens a file for updating (reading and writing).`"
      ]
    },
    {
      "cell_type": "markdown",
      "metadata": {
        "id": "k8HUvvRFLIFU"
      },
      "source": [
        "- `f = open(\"test.txt\")      # equivalent to 'r' or 'rt'`\r\n",
        "- `f = open(\"test.txt\",'w')  # write in text mode`\r\n",
        "- `f = open(\"img.bmp\",'r+b') # read and write in binary mode`"
      ]
    },
    {
      "cell_type": "markdown",
      "metadata": {
        "id": "3C_0eQzrLnHP"
      },
      "source": [
        "- Unlike other languages, the character `a` does not imply the number 97 until it is encoded using `ASCII` (or other equivalent encodings).\r\n",
        "\r\n",
        "- Moreover, the default encoding is platform dependent. In windows, it is `cp1252` but `utf-8` in Linux.\r\n",
        "\r\n",
        "- So, we must not also rely on the default encoding or else our code will behave differently in different platforms.\r\n",
        "\r\n",
        "- Hence, when working with files in text mode, it is highly recommended to specify the encoding type."
      ]
    },
    {
      "cell_type": "markdown",
      "metadata": {
        "id": "rtVtIvJVMKRD"
      },
      "source": [
        "- `f = open(\"test.txt\", mode='r', encoding='utf-8')`"
      ]
    },
    {
      "cell_type": "markdown",
      "metadata": {
        "id": "pK9KOKYSMNrg"
      },
      "source": [
        "## **3. Closing Files in Python**\r\n",
        "\r\n",
        "\r\n",
        "- When we are done with performing operations on the file, we need to properly close the file.\r\n",
        "\r\n",
        "- Closing a file will free up the resources that were tied with the file. It is done using the `close()` method available in Python.\r\n",
        "\r\n",
        "- Python has a [garbage collector](https://docs.python.org/3/library/gc.html) to clean up unreferenced objects but we must not rely on it to close the file."
      ]
    },
    {
      "cell_type": "markdown",
      "metadata": {
        "id": "MSahitWCf13D"
      },
      "source": [
        "- `f = open(\"test.txt\", encoding = 'utf-8')`\r\n",
        "- `# perform file operations`\r\n",
        "- `f.close()`"
      ]
    },
    {
      "cell_type": "markdown",
      "metadata": {
        "id": "n3a_grfggAJJ"
      },
      "source": [
        "- This method is not entirely safe. If an exception occurs when we are performing some operation with the file, the code exits without closing the file.\r\n",
        "\r\n",
        "- A safer way is to use a [try...finally](https://www.programiz.com/python-programming/exception-handling) block."
      ]
    },
    {
      "cell_type": "markdown",
      "metadata": {
        "id": "8Pqe0xZkhWbw"
      },
      "source": [
        "- `try:`\r\n",
        "  - `f = open(\"test.txt\", encoding = 'utf-8')`\r\n",
        "  - `# perform file operations`\r\n",
        "- `finally:`\r\n",
        "  - `f.close()`"
      ]
    },
    {
      "cell_type": "markdown",
      "metadata": {
        "id": "EcqiGumiiQj3"
      },
      "source": [
        "- This way, we are guaranteeing that the file is properly closed even if an exception is raised that causes program flow to stop.\r\n",
        "\r\n",
        "- The best way to close a file is by using the `with` statement. This ensures that the file is closed when the block inside the `with` statement is exited.\r\n",
        "\r\n",
        "- We don't need to explicitly call the `close()` method. It is done internally."
      ]
    },
    {
      "cell_type": "markdown",
      "metadata": {
        "id": "ZE4eglTWirDt"
      },
      "source": [
        "- `with open(\"test.txt\", encoding = 'utf-8') as f:`\r\n",
        "   - `# perform file operations`"
      ]
    },
    {
      "cell_type": "markdown",
      "metadata": {
        "id": "JMl5CM0-MxFP"
      },
      "source": [
        "## **4. Writing to Files in Python**"
      ]
    },
    {
      "cell_type": "markdown",
      "metadata": {
        "id": "fKJkm-0ljGp5"
      },
      "source": [
        "- In order to write into a file in Python, we need to open it in write `w`, append `a` or exclusive creation `x` mode.\r\n",
        "\r\n",
        "- We need to be careful with the `w` mode, as it will overwrite into the file if it already exists. Due to this, all the previous data are erased.\r\n",
        "\r\n",
        "- Writing a string or sequence of bytes (for binary files) is done using the `write()` method. This method returns the number of characters written to the file."
      ]
    },
    {
      "cell_type": "code",
      "metadata": {
        "id": "vL7uSu5BM4wv"
      },
      "source": [
        "with open(\"test.txt\",'w',encoding = 'utf-8') as f:\r\n",
        "   f.write(\"my first file\\n\")\r\n",
        "   f.write(\"This file\\n\\n\")\r\n",
        "   f.write(\"contains three lines\\n\")"
      ],
      "execution_count": 1,
      "outputs": []
    },
    {
      "cell_type": "markdown",
      "metadata": {
        "id": "8JxKLelajyVr"
      },
      "source": [
        "- This program will create a new file named `test.txt` in the current directory if it does not exist. If it does exist, it is overwritten.\r\n",
        "\r\n",
        "- We must include the newline characters ourselves to distinguish the different lines."
      ]
    },
    {
      "cell_type": "markdown",
      "metadata": {
        "id": "p9yj8F6ZM3mx"
      },
      "source": [
        "## **5. Reading Files in Python**\r\n",
        "\r\n",
        "- To read a file in Python, we must open the file in reading `r` mode.\r\n",
        "\r\n",
        "- There are various methods available for this purpose. We can use the `read(size)` method to read in the `size` number of data. If the `size` parameter is not specified, it reads and returns up to the end of the file.\r\n",
        "\r\n",
        "- We can read the `text.txt` file we wrote in the above section in the following way:"
      ]
    },
    {
      "cell_type": "code",
      "metadata": {
        "id": "dw2uS2E8NBSr",
        "colab": {
          "base_uri": "https://localhost:8080/",
          "height": 35
        },
        "outputId": "047d903c-5003-46a7-e640-8e9df20a2c21"
      },
      "source": [
        "f = open(\"test.txt\",'r',encoding = 'utf-8')\r\n",
        "f.read(4)    # read the first 4 data"
      ],
      "execution_count": 2,
      "outputs": [
        {
          "output_type": "execute_result",
          "data": {
            "application/vnd.google.colaboratory.intrinsic+json": {
              "type": "string"
            },
            "text/plain": [
              "'my f'"
            ]
          },
          "metadata": {
            "tags": []
          },
          "execution_count": 2
        }
      ]
    },
    {
      "cell_type": "code",
      "metadata": {
        "colab": {
          "base_uri": "https://localhost:8080/",
          "height": 35
        },
        "id": "1g6FPHxrlZXM",
        "outputId": "9ee3d47f-73ed-4a79-8472-1a21f5c63be7"
      },
      "source": [
        "f.read(4)    # read the next 4 data"
      ],
      "execution_count": 3,
      "outputs": [
        {
          "output_type": "execute_result",
          "data": {
            "application/vnd.google.colaboratory.intrinsic+json": {
              "type": "string"
            },
            "text/plain": [
              "'irst'"
            ]
          },
          "metadata": {
            "tags": []
          },
          "execution_count": 3
        }
      ]
    },
    {
      "cell_type": "code",
      "metadata": {
        "colab": {
          "base_uri": "https://localhost:8080/",
          "height": 35
        },
        "id": "iT73zrr6lkqd",
        "outputId": "7c4eb884-8625-49f8-da94-186cbda422a3"
      },
      "source": [
        "f.read()     # read in the rest till end of file"
      ],
      "execution_count": 4,
      "outputs": [
        {
          "output_type": "execute_result",
          "data": {
            "application/vnd.google.colaboratory.intrinsic+json": {
              "type": "string"
            },
            "text/plain": [
              "' file\\nThis file\\n\\ncontains three lines\\n'"
            ]
          },
          "metadata": {
            "tags": []
          },
          "execution_count": 4
        }
      ]
    },
    {
      "cell_type": "code",
      "metadata": {
        "colab": {
          "base_uri": "https://localhost:8080/",
          "height": 35
        },
        "id": "8httJucIlsMD",
        "outputId": "bbf30c97-7aed-4f80-f637-3ee012f4549f"
      },
      "source": [
        "f.read()  # further reading returns empty sting"
      ],
      "execution_count": 5,
      "outputs": [
        {
          "output_type": "execute_result",
          "data": {
            "application/vnd.google.colaboratory.intrinsic+json": {
              "type": "string"
            },
            "text/plain": [
              "''"
            ]
          },
          "metadata": {
            "tags": []
          },
          "execution_count": 5
        }
      ]
    },
    {
      "cell_type": "markdown",
      "metadata": {
        "id": "48DxQMRzmDfv"
      },
      "source": [
        "- We can see that the `read()` method returns a newline as `'\\n'`. Once the end of the file is reached, we get an empty string on further reading.\r\n",
        "\r\n",
        "- We can change our current file cursor (position) using the `seek()` method. \r\n",
        "\r\n",
        "- Similarly, the `tell()` method returns our current position (in number of bytes)."
      ]
    },
    {
      "cell_type": "code",
      "metadata": {
        "colab": {
          "base_uri": "https://localhost:8080/"
        },
        "id": "fau4VanJlyQA",
        "outputId": "9bd5cb53-f670-4868-c30b-6e83837ee79b"
      },
      "source": [
        "f.tell()    # get the current file position"
      ],
      "execution_count": 6,
      "outputs": [
        {
          "output_type": "execute_result",
          "data": {
            "text/plain": [
              "46"
            ]
          },
          "metadata": {
            "tags": []
          },
          "execution_count": 6
        }
      ]
    },
    {
      "cell_type": "code",
      "metadata": {
        "colab": {
          "base_uri": "https://localhost:8080/"
        },
        "id": "PfIrlgXtmdK7",
        "outputId": "951a9d53-6062-46ab-ca55-64feb417d008"
      },
      "source": [
        "f.seek(0)   # bring file cursor to initial position"
      ],
      "execution_count": 7,
      "outputs": [
        {
          "output_type": "execute_result",
          "data": {
            "text/plain": [
              "0"
            ]
          },
          "metadata": {
            "tags": []
          },
          "execution_count": 7
        }
      ]
    },
    {
      "cell_type": "code",
      "metadata": {
        "colab": {
          "base_uri": "https://localhost:8080/"
        },
        "id": "e-STzBL2mjoy",
        "outputId": "f67b9298-d230-4f9d-ba6e-ecd29bffd965"
      },
      "source": [
        "print(f.read())  # read the entire file"
      ],
      "execution_count": 8,
      "outputs": [
        {
          "output_type": "stream",
          "text": [
            "my first file\n",
            "This file\n",
            "\n",
            "contains three lines\n",
            "\n"
          ],
          "name": "stdout"
        }
      ]
    },
    {
      "cell_type": "markdown",
      "metadata": {
        "id": "Klr5LeGHmzYs"
      },
      "source": [
        "- We can read a file line-by-line using a [for loop](https://www.programiz.com/python-programming/for-loop). This is both efficient and fast."
      ]
    },
    {
      "cell_type": "code",
      "metadata": {
        "id": "o-gGAzyTmpZ9"
      },
      "source": [
        "for line in f:\r\n",
        "    print(line, end = '')"
      ],
      "execution_count": 9,
      "outputs": []
    },
    {
      "cell_type": "markdown",
      "metadata": {
        "id": "8znTxtn3q-c2"
      },
      "source": [
        "- `This is my first file`\r\n",
        "- `This file`\r\n",
        "- `contains three lines`"
      ]
    },
    {
      "cell_type": "markdown",
      "metadata": {
        "id": "_J8AVw7gq-R0"
      },
      "source": [
        "- In this program, the lines in the file itself include a newline character `\\n`. \r\n",
        "- So, we use the end parameter of the `print()` function to avoid two newlines when printing."
      ]
    },
    {
      "cell_type": "markdown",
      "metadata": {
        "id": "vcYfL2DtrXvx"
      },
      "source": [
        "- Alternatively, we can use the `readline()` method to read individual lines of a file. This method reads a file till the newline, including the newline character."
      ]
    },
    {
      "cell_type": "code",
      "metadata": {
        "colab": {
          "base_uri": "https://localhost:8080/",
          "height": 35
        },
        "id": "xGu7pioho8il",
        "outputId": "8d008580-e00d-4879-d796-0f2071cb8ba2"
      },
      "source": [
        "f.readline()\r\n",
        "'This is my first file\\n'"
      ],
      "execution_count": 10,
      "outputs": [
        {
          "output_type": "execute_result",
          "data": {
            "application/vnd.google.colaboratory.intrinsic+json": {
              "type": "string"
            },
            "text/plain": [
              "'This is my first file\\n'"
            ]
          },
          "metadata": {
            "tags": []
          },
          "execution_count": 10
        }
      ]
    },
    {
      "cell_type": "code",
      "metadata": {
        "colab": {
          "base_uri": "https://localhost:8080/",
          "height": 35
        },
        "id": "jdRdgJ5esG1A",
        "outputId": "ff51c9ba-48c8-4681-9f2b-d77265f2c32d"
      },
      "source": [
        "f.readline()\r\n",
        "'This file\\n'"
      ],
      "execution_count": 11,
      "outputs": [
        {
          "output_type": "execute_result",
          "data": {
            "application/vnd.google.colaboratory.intrinsic+json": {
              "type": "string"
            },
            "text/plain": [
              "'This file\\n'"
            ]
          },
          "metadata": {
            "tags": []
          },
          "execution_count": 11
        }
      ]
    },
    {
      "cell_type": "code",
      "metadata": {
        "colab": {
          "base_uri": "https://localhost:8080/",
          "height": 35
        },
        "id": "aHvocHqlsqXY",
        "outputId": "a277dc47-0ad9-4816-9fe3-7289ef345edd"
      },
      "source": [
        "f.readline()\r\n",
        "'contains three lines\\n'"
      ],
      "execution_count": 12,
      "outputs": [
        {
          "output_type": "execute_result",
          "data": {
            "application/vnd.google.colaboratory.intrinsic+json": {
              "type": "string"
            },
            "text/plain": [
              "'contains three lines\\n'"
            ]
          },
          "metadata": {
            "tags": []
          },
          "execution_count": 12
        }
      ]
    },
    {
      "cell_type": "code",
      "metadata": {
        "colab": {
          "base_uri": "https://localhost:8080/",
          "height": 35
        },
        "id": "xkHRsYFBsufj",
        "outputId": "339a0a84-92cb-4364-82ec-42a03397469b"
      },
      "source": [
        "f.readline()"
      ],
      "execution_count": 13,
      "outputs": [
        {
          "output_type": "execute_result",
          "data": {
            "application/vnd.google.colaboratory.intrinsic+json": {
              "type": "string"
            },
            "text/plain": [
              "''"
            ]
          },
          "metadata": {
            "tags": []
          },
          "execution_count": 13
        }
      ]
    },
    {
      "cell_type": "markdown",
      "metadata": {
        "id": "QrWin295vY1E"
      },
      "source": [
        "- Lastly, the `readlines()` method returns a list of remaining lines of the entire file. All these reading methods return empty values when the end of file (EOF) is reached."
      ]
    },
    {
      "cell_type": "code",
      "metadata": {
        "colab": {
          "base_uri": "https://localhost:8080/"
        },
        "id": "UjNGKStOsyeA",
        "outputId": "655a1449-5c5c-4c90-e83c-61af00196f37"
      },
      "source": [
        "f.readlines()\r\n",
        "['This is my first file\\n', 'This file\\n', 'contains three lines\\n']"
      ],
      "execution_count": 14,
      "outputs": [
        {
          "output_type": "execute_result",
          "data": {
            "text/plain": [
              "['This is my first file\\n', 'This file\\n', 'contains three lines\\n']"
            ]
          },
          "metadata": {
            "tags": []
          },
          "execution_count": 14
        }
      ]
    },
    {
      "cell_type": "markdown",
      "metadata": {
        "id": "7ggOHU66NB1f"
      },
      "source": [
        "## **6. Python File Methods**"
      ]
    },
    {
      "cell_type": "markdown",
      "metadata": {
        "id": "KCJ4PZ18v04q"
      },
      "source": [
        "- There are various methods available with the file object. Some of them have been used in the above examples.\r\n",
        "\r\n",
        "- Here is the complete list of methods in text mode with a brief description:"
      ]
    },
    {
      "cell_type": "markdown",
      "metadata": {
        "id": "rUGcbJT8v4kR"
      },
      "source": [
        "- **Method** - **Description**\r\n",
        "- `close()`  - `Closes an opened file. It has no effect if the file is already closed.`\r\n",
        "- `detach()` - `Separates the underlying binary buffer from the **TextIOBase** and returns it.`\r\n",
        "- `fileno()` - `Returns an integer number (file descriptor) of the file.`\r\n",
        "- `flush()`  - `Flushes the write buffer of the file stream.`\r\n",
        "- `isatty()` - `Returns True if the file stream is interactive.`\r\n",
        "- `read(n)`  - `Reads at most n characters from the file. Reads till end of file if it is negative or None.`\r\n",
        "- `readable()` - `Returns True if the file stream can be read from.`\r\n",
        "- `readline(n=-1)` - `Reads and returns one line from the file. Reads in at most n bytes if specified.`\r\n",
        "- `readlines(n=-1)` - `Reads and returns a list of lines from the file. Reads in at most n bytes/characters if specified.`\r\n",
        "`seek(offset,from=SEEK_SET)` - `Changes the file position to offset bytes, in reference to from (start, current, end).`\r\n",
        "- `seekable()` - `Returns True if the file stream supports random access.`\r\n",
        "- `tell()`  - `Returns the current file location.`\r\n",
        "- `truncate(size=None)` - `Resizes the file stream to size bytes. If size is not specified, resizes to current location.`\r\n",
        "- `writable()` - `Returns True if the file stream can be written to.`\r\n",
        "- `write(s)` - `Writes the string s to the file and returns the number of characters written.`\r\n",
        "- `writelines(lines)` - `Writes a list of lines to the file.`"
      ]
    },
    {
      "cell_type": "markdown",
      "metadata": {
        "id": "HJsMYF02UWmo"
      },
      "source": [
        "https://www.programiz.com/python-programming/file-operation"
      ]
    }
  ]
}