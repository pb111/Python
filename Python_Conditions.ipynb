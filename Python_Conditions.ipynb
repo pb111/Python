{
  "nbformat": 4,
  "nbformat_minor": 0,
  "metadata": {
    "colab": {
      "name": "Python Conditions",
      "provenance": [],
      "authorship_tag": "ABX9TyNbuH/d4q4LgyXc76UeoymN",
      "include_colab_link": true
    },
    "kernelspec": {
      "name": "python3",
      "display_name": "Python 3"
    }
  },
  "cells": [
    {
      "cell_type": "markdown",
      "metadata": {
        "id": "view-in-github",
        "colab_type": "text"
      },
      "source": [
        "<a href=\"https://colab.research.google.com/github/pb111/Python/blob/master/Python_Conditions.ipynb\" target=\"_parent\"><img src=\"https://colab.research.google.com/assets/colab-badge.svg\" alt=\"Open In Colab\"/></a>"
      ]
    },
    {
      "cell_type": "markdown",
      "metadata": {
        "id": "rx_Y4RQFuWVQ",
        "colab_type": "text"
      },
      "source": [
        "# **Python Conditions**"
      ]
    },
    {
      "cell_type": "markdown",
      "metadata": {
        "id": "pgg7ziR_ujid",
        "colab_type": "text"
      },
      "source": [
        "## **1. Python Conditions**\n",
        "\n",
        "Python supports the usual logical conditions from mathematics:\n",
        "\n",
        "- Equals: a == b\n",
        "- Not Equals: a != b\n",
        "- Less than: a < b\n",
        "- Less than or equal to: a <= b\n",
        "- Greater than: a > b\n",
        "- Greater than or equal to: a >= b\n",
        "\n",
        "These conditions can be used in several ways, most commonly in \"if statements\" and loops."
      ]
    },
    {
      "cell_type": "code",
      "metadata": {
        "id": "uRtRSlkLtCdG",
        "colab_type": "code",
        "colab": {}
      },
      "source": [
        ""
      ],
      "execution_count": null,
      "outputs": []
    }
  ]
}