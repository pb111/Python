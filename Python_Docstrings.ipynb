{
  "nbformat": 4,
  "nbformat_minor": 0,
  "metadata": {
    "colab": {
      "name": "Python Docstrings",
      "provenance": [],
      "authorship_tag": "ABX9TyOBOCq84JvVPgijzMJ1jALf",
      "include_colab_link": true
    },
    "kernelspec": {
      "name": "python3",
      "display_name": "Python 3"
    }
  },
  "cells": [
    {
      "cell_type": "markdown",
      "metadata": {
        "id": "view-in-github",
        "colab_type": "text"
      },
      "source": [
        "<a href=\"https://colab.research.google.com/github/pb111/Python/blob/master/Python_Docstrings.ipynb\" target=\"_parent\"><img src=\"https://colab.research.google.com/assets/colab-badge.svg\" alt=\"Open In Colab\"/></a>"
      ]
    },
    {
      "cell_type": "markdown",
      "metadata": {
        "id": "XYsx0gKvC6Pf",
        "colab_type": "text"
      },
      "source": [
        "# **Python Docstrings**\n",
        "\n",
        "- In this tutorial, we will learn about Python docstrings. More specifically, we will learn how and why docstrings are used with the help of examples."
      ]
    },
    {
      "cell_type": "markdown",
      "metadata": {
        "id": "dmCbwVQhDpgz",
        "colab_type": "text"
      },
      "source": [
        "## **1. Python Docstrings**\n",
        "\n",
        "\n",
        "- A docstring is short for **documentation string**.\n",
        "\n",
        "- Python docstrings (documentation strings) are the string literals that appear right after the definition of a function, method, class, or module.\n",
        "\n",
        "- Triple quotes are used while writing docstrings. For example:"
      ]
    },
    {
      "cell_type": "code",
      "metadata": {
        "id": "j_h_N1orFU2u",
        "colab_type": "code",
        "colab": {}
      },
      "source": [
        "def double(num):\n",
        "  \"\"\"Function to double the value\"\"\"\n",
        "  return 2*num"
      ],
      "execution_count": 1,
      "outputs": []
    },
    {
      "cell_type": "markdown",
      "metadata": {
        "id": "PKKAY-M0GbWJ",
        "colab_type": "text"
      },
      "source": [
        "- Docstrings appear right after the definition of a function, class, or a module. This separates docstrings from multiline comments using triple quotes.\n",
        "\n",
        "- The docstrings are associated with the object as their **doc** attribute."
      ]
    },
    {
      "cell_type": "markdown",
      "metadata": {
        "id": "4LnunG77GvBZ",
        "colab_type": "text"
      },
      "source": [
        "- So, we can access the docstrings of the above function with the following lines of code:"
      ]
    },
    {
      "cell_type": "code",
      "metadata": {
        "id": "FrDWWH8gC1zR",
        "colab_type": "code",
        "colab": {
          "base_uri": "https://localhost:8080/",
          "height": 34
        },
        "outputId": "f302f267-3949-414d-b907-b979062c6a25"
      },
      "source": [
        "def double(num):\n",
        "  \"\"\"Function to double the value\"\"\"\n",
        "  return 2*num\n",
        "\n",
        "print(double.__doc__)"
      ],
      "execution_count": 2,
      "outputs": [
        {
          "output_type": "stream",
          "text": [
            "Function to double the value\n"
          ],
          "name": "stdout"
        }
      ]
    },
    {
      "cell_type": "markdown",
      "metadata": {
        "id": "rKX1pyN9IlWv",
        "colab_type": "text"
      },
      "source": [
        "### **Python docstrings**\n",
        "\n",
        "- By convention, the triple quotes that appear right after the function, method or class definition are docstrings (documentation strings).\n",
        "\n",
        "- **Docstrings** are associated with objects and can be accessed using the __doc__ attribute."
      ]
    },
    {
      "cell_type": "markdown",
      "metadata": {
        "id": "43JRcgToJaT1",
        "colab_type": "text"
      },
      "source": [
        "- Python docstrings are the string literals that appear right after the definition of a function, method, class or module. \n",
        "\n",
        "- Let's take an example:"
      ]
    },
    {
      "cell_type": "markdown",
      "metadata": {
        "id": "43K7HOLNJurh",
        "colab_type": "text"
      },
      "source": [
        "#### **Example 1: Docstrings**"
      ]
    },
    {
      "cell_type": "code",
      "metadata": {
        "id": "Ql2FeN2PJyJ_",
        "colab_type": "code",
        "colab": {}
      },
      "source": [
        "def square(n):\n",
        "  '''Takes in a number n, returns the square of n'''\n",
        "  return n**2"
      ],
      "execution_count": 3,
      "outputs": []
    },
    {
      "cell_type": "markdown",
      "metadata": {
        "id": "BBp4fiKGKUqv",
        "colab_type": "text"
      },
      "source": [
        "- Here, the string literal:\n",
        "\n",
        "- *Takes in a number n, returns the square of n* \n",
        "\n",
        "- inside the triple quotation marks is the **docstring** of the function square() as it appears right after its definition.\n",
        "\n",
        "- **Note**: We can also use triple ''' quotations to create docstrings."
      ]
    },
    {
      "cell_type": "markdown",
      "metadata": {
        "id": "U_F_VQX5K3cR",
        "colab_type": "text"
      },
      "source": [
        "- Python docstrings are strings used right after the definition of a function, method, class or module (like in Example 1). They are used to document our code.\n",
        "\n",
        "- We can access these docstrings using the __doc__ attribute.\n",
        "\n"
      ]
    },
    {
      "cell_type": "markdown",
      "metadata": {
        "id": "m6YdZ_8jMi-4",
        "colab_type": "text"
      },
      "source": [
        "## **2. Python __doc__ attribute**\n",
        "\n",
        "- Whenever string literals are present just after the definition of a function, module, class or a method, they are associated with the object as their __doc__ attribute. \n",
        "\n",
        "- We can later use this attribute to retrieve this docstring."
      ]
    },
    {
      "cell_type": "markdown",
      "metadata": {
        "id": "8YOKnABNM7Ry",
        "colab_type": "text"
      },
      "source": [
        "#### **Example 2: Printing docstring**"
      ]
    },
    {
      "cell_type": "code",
      "metadata": {
        "id": "SYmLUhMiG4qm",
        "colab_type": "code",
        "colab": {
          "base_uri": "https://localhost:8080/",
          "height": 34
        },
        "outputId": "3c3353d8-7fc7-4c36-cbeb-cf5c7c818cf8"
      },
      "source": [
        "def square(n):\n",
        "  '''Takes in a number n, returns the square of n'''\n",
        "  return n**2\n",
        "\n",
        "\n",
        "print(square.__doc__)"
      ],
      "execution_count": 4,
      "outputs": [
        {
          "output_type": "stream",
          "text": [
            "Takes in a number n, returns the square of n\n"
          ],
          "name": "stdout"
        }
      ]
    },
    {
      "cell_type": "markdown",
      "metadata": {
        "id": "xhw-3CoOPSw-",
        "colab_type": "text"
      },
      "source": [
        "- Here, the documentation of our **square()** function can be accessed using the __doc__ attribute."
      ]
    },
    {
      "cell_type": "markdown",
      "metadata": {
        "id": "GNYBFL98PhdG",
        "colab_type": "text"
      },
      "source": [
        "- Now, let's look at docstrings for the built-in function print():"
      ]
    },
    {
      "cell_type": "markdown",
      "metadata": {
        "id": "l1iDzFwlPui6",
        "colab_type": "text"
      },
      "source": [
        "#### **Example 3: Docstrings for the built-in print() function**"
      ]
    },
    {
      "cell_type": "code",
      "metadata": {
        "id": "9P2E_JlzP0LM",
        "colab_type": "code",
        "colab": {
          "base_uri": "https://localhost:8080/",
          "height": 153
        },
        "outputId": "3f033888-cc23-4da6-968a-a46506df7328"
      },
      "source": [
        "print(print.__doc__)"
      ],
      "execution_count": 5,
      "outputs": [
        {
          "output_type": "stream",
          "text": [
            "print(value, ..., sep=' ', end='\\n', file=sys.stdout, flush=False)\n",
            "\n",
            "Prints the values to a stream, or to sys.stdout by default.\n",
            "Optional keyword arguments:\n",
            "file:  a file-like object (stream); defaults to the current sys.stdout.\n",
            "sep:   string inserted between values, default a space.\n",
            "end:   string appended after the last value, default a newline.\n",
            "flush: whether to forcibly flush the stream.\n"
          ],
          "name": "stdout"
        }
      ]
    },
    {
      "cell_type": "markdown",
      "metadata": {
        "id": "6FtIhbzQP_FQ",
        "colab_type": "text"
      },
      "source": [
        "- Here, we can see that the documentation of the **print()** function is present as the __doc__ attribute of this function."
      ]
    },
    {
      "cell_type": "markdown",
      "metadata": {
        "id": "K5aaOdTBRaDR",
        "colab_type": "text"
      },
      "source": [
        "## **3. Single-line docstrings in Python**\n",
        "\n",
        "- Single line docstrings are the documents that fit in one line."
      ]
    },
    {
      "cell_type": "markdown",
      "metadata": {
        "id": "Kw9cSU-BSEuE",
        "colab_type": "text"
      },
      "source": [
        "#### **3.1 Standard conventions to write single-line docstrings**\n",
        "\n",
        "- Even though they are single-lined, we still use the triple quotes around these docstrings as they can be expanded easily later.\n",
        "\n",
        "- The closing quotes are on the same line as the opening quotes.\n",
        "\n",
        "- There's no blank line either before or after the docstring.\n",
        "\n",
        "- They should not be descriptive, rather they must follow \"Do this, return that\" structure ending with a period."
      ]
    },
    {
      "cell_type": "markdown",
      "metadata": {
        "id": "uYa3lzfCSfMN",
        "colab_type": "text"
      },
      "source": [
        "Let's take an example."
      ]
    },
    {
      "cell_type": "markdown",
      "metadata": {
        "id": "3WnQ6owdSv0w",
        "colab_type": "text"
      },
      "source": [
        "#### **Example 4: Write single-line docstrings for a function**"
      ]
    },
    {
      "cell_type": "code",
      "metadata": {
        "id": "gNvBczJ8SzKV",
        "colab_type": "code",
        "colab": {}
      },
      "source": [
        "def multiplier(a, b):\n",
        "  \"\"\"Takes in two numbers, returns their product\"\"\"\n",
        "  return a*b"
      ],
      "execution_count": 6,
      "outputs": []
    },
    {
      "cell_type": "markdown",
      "metadata": {
        "id": "e4XsIhFQTRAl",
        "colab_type": "text"
      },
      "source": [
        "## **4. Multi-line Docstrings in Python**\n",
        "\n",
        "- Multi-line docstrings consist of a summary line just like a one-line docstring, followed by a blank line, followed by a more elaborate description."
      ]
    },
    {
      "cell_type": "markdown",
      "metadata": {
        "id": "PQNT9PyWTv2S",
        "colab_type": "text"
      },
      "source": [
        "- The PEP 257 document provides the standard conventions to write multi-line docstrings for various objects.\n",
        "\n",
        "- Some have been listed below:"
      ]
    },
    {
      "cell_type": "markdown",
      "metadata": {
        "id": "Uv9EdJKwUHNS",
        "colab_type": "text"
      },
      "source": [
        "## **5. Docstrings for Python Modules**\n",
        "\n",
        "- The docstrings for Python Modules should list all the available classes, functions, objects and exceptions that are imported when the module is imported.\n",
        "\n",
        "- They should also have a one-line summary for each item.\n",
        "\n",
        "- They are written at the beginning of the Python file.\n",
        "\n",
        "- Let's look at the docstrings for the builtin module in Python called **pickle**."
      ]
    },
    {
      "cell_type": "markdown",
      "metadata": {
        "id": "yF2EVmyAUjTo",
        "colab_type": "text"
      },
      "source": [
        "#### **Example 5: Docstrings of Python module**"
      ]
    },
    {
      "cell_type": "code",
      "metadata": {
        "id": "uRJVu_m_UsbN",
        "colab_type": "code",
        "colab": {
          "base_uri": "https://localhost:8080/",
          "height": 425
        },
        "outputId": "ce7c90a7-54b8-4cc6-a28d-7f41bd92c7ed"
      },
      "source": [
        "import pickle\n",
        "print(pickle.__doc__)"
      ],
      "execution_count": 7,
      "outputs": [
        {
          "output_type": "stream",
          "text": [
            "Create portable serialized representations of Python objects.\n",
            "\n",
            "See module copyreg for a mechanism for registering custom picklers.\n",
            "See module pickletools source for extensive comments.\n",
            "\n",
            "Classes:\n",
            "\n",
            "    Pickler\n",
            "    Unpickler\n",
            "\n",
            "Functions:\n",
            "\n",
            "    dump(object, file)\n",
            "    dumps(object) -> string\n",
            "    load(file) -> object\n",
            "    loads(string) -> object\n",
            "\n",
            "Misc variables:\n",
            "\n",
            "    __version__\n",
            "    format_version\n",
            "    compatible_formats\n",
            "\n",
            "\n"
          ],
          "name": "stdout"
        }
      ]
    },
    {
      "cell_type": "markdown",
      "metadata": {
        "id": "Q-3mVBOTVbAa",
        "colab_type": "text"
      },
      "source": [
        "- Here, we can see that the docstring written at the beginning of the **pickle.py** module file can be accessed as its docstring."
      ]
    },
    {
      "cell_type": "markdown",
      "metadata": {
        "id": "RAicxbaDVrGB",
        "colab_type": "text"
      },
      "source": [
        "## **6. Docstrings for Python Functions**\n",
        "\n",
        "- The docstring for a function or method should summarize its behavior and document its arguments and return values.\n",
        "\n",
        "- It should also list all the exceptions that can be raised and other optional arguments."
      ]
    },
    {
      "cell_type": "markdown",
      "metadata": {
        "id": "bB8t8a2aWEN3",
        "colab_type": "text"
      },
      "source": [
        "#### **Example 6: Docstrings for Python functions**"
      ]
    },
    {
      "cell_type": "code",
      "metadata": {
        "id": "ymPyWR3vV6uD",
        "colab_type": "code",
        "colab": {
          "base_uri": "https://localhost:8080/",
          "height": 204
        },
        "outputId": "15dac761-4d8b-4ad1-82c9-77cc64db779f"
      },
      "source": [
        "def add_binary(a, b):\n",
        "    '''\n",
        "\n",
        "    Returns the sum of two decimal numbers in binary digits.\n",
        "\n",
        "            Parameters:\n",
        "                  a (int): A decimal integer\n",
        "                  b (int): Another decimal integer\n",
        "          \n",
        "            Returns:\n",
        "                  binary_sum(str): Binary string of the sum of a and b\n",
        "    '''\n",
        "    binary_sum = bin(a+b)[2:]\n",
        "    return binary_sum\n",
        "\n",
        "\n",
        "print(add_binary.__doc__)\n",
        "\n",
        "\n",
        "          \n",
        "             \n"
      ],
      "execution_count": 8,
      "outputs": [
        {
          "output_type": "stream",
          "text": [
            "\n",
            "\n",
            "    Returns the sum of two decimal numbers in binary digits.\n",
            "\n",
            "            Parameters:\n",
            "                  a (int): A decimal integer\n",
            "                  b (int): Another decimal integer\n",
            "          \n",
            "            Returns:\n",
            "                  binary_sum(str): Binary string of the sum of a and b\n",
            "    \n"
          ],
          "name": "stdout"
        }
      ]
    },
    {
      "cell_type": "markdown",
      "metadata": {
        "id": "MbLdTDCoaonY",
        "colab_type": "text"
      },
      "source": [
        "- As you can see, we have included a short description of what the function does, the parameter it takes in and the value it returns. \n",
        "\n",
        "- The string literal is embedded to the function **add_binary** as its __doc__ attribute."
      ]
    },
    {
      "cell_type": "markdown",
      "metadata": {
        "id": "UXDktjSgb1p7",
        "colab_type": "text"
      },
      "source": [
        "## **7. Docstrings for Python Classes**\n",
        "\n",
        "- The docstrings for classes should summarize its behavior and list the public methods and instance variables.\n",
        "\n",
        "- The subclasses, constructors, and methods should each have their own docstrings.\n"
      ]
    },
    {
      "cell_type": "markdown",
      "metadata": {
        "id": "KRt1RoiGb7Mw",
        "colab_type": "text"
      },
      "source": [
        "#### **Example 7: Docstrings for Python class**\n",
        "\n",
        "- Suppose we have a **Person.py** file with the following code:"
      ]
    },
    {
      "cell_type": "code",
      "metadata": {
        "id": "CggQT54pdlWD",
        "colab_type": "code",
        "colab": {}
      },
      "source": [
        "class Person:\n",
        "    \"\"\"\n",
        "    A class to represent a person.\n",
        "\n",
        "    ...\n",
        "\n",
        "    Attributes\n",
        "    ----------\n",
        "    name : str\n",
        "        first name of the person\n",
        "    surname : str\n",
        "        family name of the person\n",
        "    age : int\n",
        "        age of the person\n",
        "\n",
        "\n",
        "    Methods\n",
        "    -------\n",
        "    info(additional=\"\"):\n",
        "        Prints the person's name and age.\n",
        "    \"\"\"\n",
        "    \n",
        "\n",
        "    def __init__(self, name, surname, age):\n",
        "        \"\"\"\n",
        "        Constructs all the necessary attributes for the person object.\n",
        "\n",
        "        Parameters\n",
        "        ----------\n",
        "            name : str\n",
        "                first name of the person\n",
        "            surname : str\n",
        "                family name of the person\n",
        "            age : int\n",
        "                age of the person\n",
        "        \"\"\"\n",
        "\n",
        "        self.name = name\n",
        "        self.surname = surname\n",
        "        self.age = age\n",
        "\n",
        "    def info(self, additional=\"\"):\n",
        "        \"\"\"\n",
        "        Prints the person's name and age.\n",
        "\n",
        "        If the argument 'additional' is passed, then it is appended after the main info.\n",
        "\n",
        "        Parameters\n",
        "        ----------\n",
        "        additional : str, optional\n",
        "            More info to be displayed (default is None)\n",
        "\n",
        "        Returns\n",
        "        -------\n",
        "        None\n",
        "        \"\"\"\n",
        "\n",
        "        print(f'My name is {self.name} {self.surname}. I am {self.age} years old.' + additional)\n"
      ],
      "execution_count": 9,
      "outputs": []
    },
    {
      "cell_type": "markdown",
      "metadata": {
        "id": "xYOd6RvegDNn",
        "colab_type": "text"
      },
      "source": [
        "- Here, we can use the following code to access only the docstrings of the Person class:"
      ]
    },
    {
      "cell_type": "code",
      "metadata": {
        "id": "mzbWMR41gFjW",
        "colab_type": "code",
        "colab": {
          "base_uri": "https://localhost:8080/",
          "height": 357
        },
        "outputId": "a53fd912-a45d-4cd3-d8f5-d761e10e27db"
      },
      "source": [
        "print(Person.__doc__)"
      ],
      "execution_count": 10,
      "outputs": [
        {
          "output_type": "stream",
          "text": [
            "\n",
            "    A class to represent a person.\n",
            "\n",
            "    ...\n",
            "\n",
            "    Attributes\n",
            "    ----------\n",
            "    name : str\n",
            "        first name of the person\n",
            "    surname : str\n",
            "        family name of the person\n",
            "    age : int\n",
            "        age of the person\n",
            "\n",
            "\n",
            "    Methods\n",
            "    -------\n",
            "    info(additional=\"\"):\n",
            "        Prints the person's name and age.\n",
            "    \n"
          ],
          "name": "stdout"
        }
      ]
    },
    {
      "cell_type": "markdown",
      "metadata": {
        "id": "u47TNmSUg3sG",
        "colab_type": "text"
      },
      "source": [
        "## **8. Using the help() Function for Docstrings**\n",
        "\n",
        "- We can also use the **help()** function to read the docstrings associated with various objects."
      ]
    },
    {
      "cell_type": "markdown",
      "metadata": {
        "id": "dvs5fCtVlWuN",
        "colab_type": "text"
      },
      "source": [
        "#### **Example 8: Read Docstrings with the help() function**\n",
        "\n",
        "- We can use the **help()** function on the class Person in Example 7 as:"
      ]
    },
    {
      "cell_type": "code",
      "metadata": {
        "id": "i4VYYKemhRQZ",
        "colab_type": "code",
        "colab": {
          "base_uri": "https://localhost:8080/",
          "height": 1000
        },
        "outputId": "824a9864-7909-40aa-aff5-2cd6d8c54fd3"
      },
      "source": [
        "help(Person)"
      ],
      "execution_count": 11,
      "outputs": [
        {
          "output_type": "stream",
          "text": [
            "Help on class Person in module __main__:\n",
            "\n",
            "class Person(builtins.object)\n",
            " |  A class to represent a person.\n",
            " |  \n",
            " |  ...\n",
            " |  \n",
            " |  Attributes\n",
            " |  ----------\n",
            " |  name : str\n",
            " |      first name of the person\n",
            " |  surname : str\n",
            " |      family name of the person\n",
            " |  age : int\n",
            " |      age of the person\n",
            " |  \n",
            " |  \n",
            " |  Methods\n",
            " |  -------\n",
            " |  info(additional=\"\"):\n",
            " |      Prints the person's name and age.\n",
            " |  \n",
            " |  Methods defined here:\n",
            " |  \n",
            " |  __init__(self, name, surname, age)\n",
            " |      Constructs all the necessary attributes for the person object.\n",
            " |      \n",
            " |      Parameters\n",
            " |      ----------\n",
            " |          name : str\n",
            " |              first name of the person\n",
            " |          surname : str\n",
            " |              family name of the person\n",
            " |          age : int\n",
            " |              age of the person\n",
            " |  \n",
            " |  info(self, additional='')\n",
            " |      Prints the person's name and age.\n",
            " |      \n",
            " |      If the argument 'additional' is passed, then it is appended after the main info.\n",
            " |      \n",
            " |      Parameters\n",
            " |      ----------\n",
            " |      additional : str, optional\n",
            " |          More info to be displayed (default is None)\n",
            " |      \n",
            " |      Returns\n",
            " |      -------\n",
            " |      None\n",
            " |  \n",
            " |  ----------------------------------------------------------------------\n",
            " |  Data descriptors defined here:\n",
            " |  \n",
            " |  __dict__\n",
            " |      dictionary for instance variables (if defined)\n",
            " |  \n",
            " |  __weakref__\n",
            " |      list of weak references to the object (if defined)\n",
            "\n"
          ],
          "name": "stdout"
        }
      ]
    },
    {
      "cell_type": "markdown",
      "metadata": {
        "id": "ieJptfbHmMOe",
        "colab_type": "text"
      },
      "source": [
        "- Here, we can see that the **help()** function retrieves the docstrings of the Person class along with the methods associated with that class."
      ]
    },
    {
      "cell_type": "markdown",
      "metadata": {
        "id": "sbTHyHzemg-r",
        "colab_type": "text"
      },
      "source": [
        "## **9. Docstrings for Python Scripts**\n",
        "\n",
        "- The docstrings for Python script should document the script's functions and command-line syntax as a usable message.\n",
        "\n",
        "- It should serve as a quick reference to all the functions and arguments.\n"
      ]
    },
    {
      "cell_type": "markdown",
      "metadata": {
        "id": "wMonhjv5m3Hm",
        "colab_type": "text"
      },
      "source": [
        "## **10. Docstrings for Python Packages**\n",
        "\n",
        "- The docstrings for a Python package is written in the package's __init__.py file.\n",
        "\n",
        "- It should contain all the available modules and sub-packages exported by the package."
      ]
    },
    {
      "cell_type": "markdown",
      "metadata": {
        "id": "z99z9scZnGXf",
        "colab_type": "text"
      },
      "source": [
        "## **11. Docstring Formats**\n",
        "\n",
        "- We can write docstring in many formats like the reStructured text (reST) format, Google format or the NumPy documentation format. To learn more, visit [Popular Docstring Formats](https://stackoverflow.com/questions/3898572/what-is-the-standard-python-docstring-format)\n",
        "\n",
        "- We can also generate documentation from docstrings using tools like Sphinx. To learn more, visit [Official Sphinx Documentation](https://www.sphinx-doc.org/en/master/)."
      ]
    }
  ]
}