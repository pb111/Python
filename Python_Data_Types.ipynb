{
  "nbformat": 4,
  "nbformat_minor": 0,
  "metadata": {
    "colab": {
      "name": "Python Data Types",
      "provenance": [],
      "authorship_tag": "ABX9TyMXzOEUtJ4mpjQ5jszPBr7c",
      "include_colab_link": true
    },
    "kernelspec": {
      "name": "python3",
      "display_name": "Python 3"
    }
  },
  "cells": [
    {
      "cell_type": "markdown",
      "metadata": {
        "id": "view-in-github",
        "colab_type": "text"
      },
      "source": [
        "<a href=\"https://colab.research.google.com/github/pb111/Python-tutorials-and-projects/blob/master/Python_Data_Types.ipynb\" target=\"_parent\"><img src=\"https://colab.research.google.com/assets/colab-badge.svg\" alt=\"Open In Colab\"/></a>"
      ]
    },
    {
      "cell_type": "markdown",
      "metadata": {
        "id": "8SgQkLTXvz2B"
      },
      "source": [
        "# **Python Data Types**\n",
        "\n",
        "- In this tutorial, you will learn about different data types you can use in Python."
      ]
    },
    {
      "cell_type": "markdown",
      "metadata": {
        "id": "xjT3cqW5X64U"
      },
      "source": [
        "## **Data types in Python**\n",
        "\n",
        "- Every value in Python has a datatype. \n",
        "\n",
        "- Since everything is an object in Python programming, \n",
        "  - data types are actually classes, and \n",
        "  - variables are instance (object) of these classes.\n",
        "\n",
        "- There are various data types in Python. Some of the important types are listed below."
      ]
    },
    {
      "cell_type": "markdown",
      "metadata": {
        "id": "ScnztKYiYtOL"
      },
      "source": [
        "#### **[1. Python Numbers](https://www.programiz.com/python-programming/numbers)**\n",
        "#### **[2. Python List](https://www.programiz.com/python-programming/list)**\n",
        "\n",
        "#### **[3. Python Tuple](https://www.programiz.com/python-programming/tuple)**\n",
        "\n",
        "#### **[4. Python Strings](https://www.programiz.com/python-programming/string)**\n",
        "#### **[5. Python Set](https://www.programiz.com/python-programming/set)**\n",
        "\n",
        "#### **[6. Python Dictionary](https://www.programiz.com/python-programming/dictionary)**"
      ]
    },
    {
      "cell_type": "markdown",
      "metadata": {
        "id": "Xk8scvFld7M3"
      },
      "source": [
        "## **[1. Python Numbers](https://www.programiz.com/python-programming/numbers)**\n",
        "\n",
        "- Integers, floating point numbers and complex numbers fall under [Python numbers](https://www.programiz.com/python-programming/numbers) category. \n",
        "\n",
        "- They are defined as `int`, `float` and `complex` classes in Python.\n",
        "\n",
        "- We can use the `type()` function to know which class a variable or a value belongs to. \n",
        "\n",
        "- Similarly, the `isinstance()` function is used to check if an object belongs to a particular class."
      ]
    },
    {
      "cell_type": "code",
      "metadata": {
        "id": "zzaGOOvgvu2S",
        "colab": {
          "base_uri": "https://localhost:8080/"
        },
        "outputId": "5f2672e6-80d2-46c4-cc74-e3fe466ae5be"
      },
      "source": [
        "a = 5\n",
        "print(a, \"is of type\", type(a))\n",
        "\n",
        "a = 2.0\n",
        "print(a, \"is of type\", type(a))\n",
        "\n",
        "a = 1+2j\n",
        "print(a, \"is complex number?\", isinstance(1+2j,complex))"
      ],
      "execution_count": 1,
      "outputs": [
        {
          "output_type": "stream",
          "text": [
            "5 is of type <class 'int'>\n",
            "2.0 is of type <class 'float'>\n",
            "(1+2j) is complex number? True\n"
          ],
          "name": "stdout"
        }
      ]
    },
    {
      "cell_type": "markdown",
      "metadata": {
        "id": "WfP6f5dZDSb1"
      },
      "source": [
        "- Integers can be of any length, it is only limited by the memory available.\n",
        "\n",
        "- A floating-point number is accurate up to 15 decimal places. Integer and floating points are separated by decimal points. `1` is an integer, `1.0` is a floating-point number.\n",
        "\n",
        "- Complex numbers are written in the form, `x + yj`, where x is the real part and y is the imaginary part. \n",
        "\n",
        "- Here are some examples."
      ]
    },
    {
      "cell_type": "code",
      "metadata": {
        "colab": {
          "base_uri": "https://localhost:8080/"
        },
        "id": "aCky16UnDmrR",
        "outputId": "670cc26d-7ce2-4321-914d-a78eb35491e2"
      },
      "source": [
        "a = 1234567890123456789\n",
        "a"
      ],
      "execution_count": 2,
      "outputs": [
        {
          "output_type": "execute_result",
          "data": {
            "text/plain": [
              "1234567890123456789"
            ]
          },
          "metadata": {
            "tags": []
          },
          "execution_count": 2
        }
      ]
    },
    {
      "cell_type": "code",
      "metadata": {
        "colab": {
          "base_uri": "https://localhost:8080/"
        },
        "id": "FmkBzGocEDIB",
        "outputId": "f5dec524-7b01-4e5f-8a07-f1e8dcd5c63e"
      },
      "source": [
        "b = 0.1234567890123456789\n",
        "b"
      ],
      "execution_count": 3,
      "outputs": [
        {
          "output_type": "execute_result",
          "data": {
            "text/plain": [
              "0.12345678901234568"
            ]
          },
          "metadata": {
            "tags": []
          },
          "execution_count": 3
        }
      ]
    },
    {
      "cell_type": "markdown",
      "metadata": {
        "id": "zCYnVvW4ELUv"
      },
      "source": [
        "- Notice that the float variable `b` got truncated."
      ]
    },
    {
      "cell_type": "code",
      "metadata": {
        "colab": {
          "base_uri": "https://localhost:8080/"
        },
        "id": "joTVfgBUEYO0",
        "outputId": "d36834c4-5eaf-498b-cb49-fdb5e4056525"
      },
      "source": [
        "c = 1+2j\n",
        "c"
      ],
      "execution_count": 4,
      "outputs": [
        {
          "output_type": "execute_result",
          "data": {
            "text/plain": [
              "(1+2j)"
            ]
          },
          "metadata": {
            "tags": []
          },
          "execution_count": 4
        }
      ]
    },
    {
      "cell_type": "markdown",
      "metadata": {
        "id": "v-re5ROxFyoO"
      },
      "source": [
        "## **[2. Python List](https://www.programiz.com/python-programming/list)**\n",
        "\n",
        "- [List](https://www.programiz.com/python-programming/list) is an ordered sequence of items. It is one of the most used datatype in Python and is very flexible. All the items in a list do not need to be of the same type.\n",
        "\n",
        "- Declaring a list is pretty straight forward. Items separated by commas are enclosed within brackets [ ]."
      ]
    },
    {
      "cell_type": "code",
      "metadata": {
        "colab": {
          "base_uri": "https://localhost:8080/"
        },
        "id": "mU1zGfbxEg_G",
        "outputId": "ea58430a-c9fd-417a-d23a-5108bea59dba"
      },
      "source": [
        "a = [1, 2.2, 'python']\n",
        "a"
      ],
      "execution_count": 5,
      "outputs": [
        {
          "output_type": "execute_result",
          "data": {
            "text/plain": [
              "[1, 2.2, 'python']"
            ]
          },
          "metadata": {
            "tags": []
          },
          "execution_count": 5
        }
      ]
    },
    {
      "cell_type": "markdown",
      "metadata": {
        "id": "SWL-aMYMHDnh"
      },
      "source": [
        "- We can use the slicing operator [ ] to extract an item or a range of items from a list. \r\n",
        "- **The index starts from 0 in Python**."
      ]
    },
    {
      "cell_type": "code",
      "metadata": {
        "colab": {
          "base_uri": "https://localhost:8080/"
        },
        "id": "PcJ9T0_0MuBn",
        "outputId": "fca03e7a-1372-4ba5-bb40-90f54c5a1d4a"
      },
      "source": [
        "a = [5,10,15,20,25,30,35,40]\r\n",
        "\r\n",
        "# a[2] = 15\r\n",
        "print(\"a[2] = \", a[2])\r\n",
        "\r\n",
        "# a[0:3] = [5, 10, 15]\r\n",
        "print(\"a[0:3] = \", a[0:3])\r\n",
        "\r\n",
        "# a[5:] = [30, 35, 40]\r\n",
        "print(\"a[5:] = \", a[5:])"
      ],
      "execution_count": 6,
      "outputs": [
        {
          "output_type": "stream",
          "text": [
            "a[2] =  15\n",
            "a[0:3] =  [5, 10, 15]\n",
            "a[5:] =  [30, 35, 40]\n"
          ],
          "name": "stdout"
        }
      ]
    },
    {
      "cell_type": "markdown",
      "metadata": {
        "id": "5Xr37ybsNC6H"
      },
      "source": [
        "- Lists are mutable, meaning, the value of elements of a list can be altered."
      ]
    },
    {
      "cell_type": "code",
      "metadata": {
        "colab": {
          "base_uri": "https://localhost:8080/"
        },
        "id": "K6qXb1IaM6K-",
        "outputId": "df036639-814f-455f-92e8-f291cdc5eab7"
      },
      "source": [
        "a = [1, 2, 3]\r\n",
        "a[2] = 4\r\n",
        "print(a)"
      ],
      "execution_count": 7,
      "outputs": [
        {
          "output_type": "stream",
          "text": [
            "[1, 2, 4]\n"
          ],
          "name": "stdout"
        }
      ]
    },
    {
      "cell_type": "markdown",
      "metadata": {
        "id": "G8EHWkJCNU40"
      },
      "source": [
        "## **[3. Python Tuple](https://www.programiz.com/python-programming/tuple)**\r\n",
        "\r\n",
        "\r\n",
        "- [Tuple](https://www.programiz.com/python-programming/tuple) is an ordered sequence of items same as a list. The only difference is that tuples are immutable. Tuples once created cannot be modified.\r\n",
        "\r\n",
        "- Tuples are used to write-protect data and are usually faster than lists as they cannot change dynamically.\r\n",
        "\r\n",
        "- It is defined within parentheses () where items are separated by commas."
      ]
    },
    {
      "cell_type": "code",
      "metadata": {
        "id": "hsbJD7vbG8EA",
        "colab": {
          "base_uri": "https://localhost:8080/"
        },
        "outputId": "27b908c3-4714-4419-8d22-f3a0e5aac480"
      },
      "source": [
        "t = (5,'program', 1+3j)\r\n",
        "type(t)"
      ],
      "execution_count": 8,
      "outputs": [
        {
          "output_type": "execute_result",
          "data": {
            "text/plain": [
              "tuple"
            ]
          },
          "metadata": {
            "tags": []
          },
          "execution_count": 8
        }
      ]
    },
    {
      "cell_type": "markdown",
      "metadata": {
        "id": "KA4dONGEODG2"
      },
      "source": [
        "- We can use the slicing operator [] to extract items but we cannot change its value."
      ]
    },
    {
      "cell_type": "code",
      "metadata": {
        "id": "E2WAlD8YEHGf",
        "colab": {
          "base_uri": "https://localhost:8080/",
          "height": 231
        },
        "outputId": "e39e0a76-1b17-41a0-b6c9-bac9fd58cb51"
      },
      "source": [
        "t = (5,'program', 1+3j)\r\n",
        "\r\n",
        "# t[1] = 'program'\r\n",
        "print(\"t[1] = \", t[1])\r\n",
        "\r\n",
        "# t[0:3] = (5, 'program', (1+3j))\r\n",
        "print(\"t[0:3] = \", t[0:3])\r\n",
        "\r\n",
        "# Generates error\r\n",
        "# Tuples are immutable\r\n",
        "t[0] = 10"
      ],
      "execution_count": 9,
      "outputs": [
        {
          "output_type": "stream",
          "text": [
            "t[1] =  program\n",
            "t[0:3] =  (5, 'program', (1+3j))\n"
          ],
          "name": "stdout"
        },
        {
          "output_type": "error",
          "ename": "TypeError",
          "evalue": "ignored",
          "traceback": [
            "\u001b[0;31m---------------------------------------------------------------------------\u001b[0m",
            "\u001b[0;31mTypeError\u001b[0m                                 Traceback (most recent call last)",
            "\u001b[0;32m<ipython-input-9-4413355158bb>\u001b[0m in \u001b[0;36m<module>\u001b[0;34m()\u001b[0m\n\u001b[1;32m      9\u001b[0m \u001b[0;31m# Generates error\u001b[0m\u001b[0;34m\u001b[0m\u001b[0;34m\u001b[0m\u001b[0;34m\u001b[0m\u001b[0m\n\u001b[1;32m     10\u001b[0m \u001b[0;31m# Tuples are immutable\u001b[0m\u001b[0;34m\u001b[0m\u001b[0;34m\u001b[0m\u001b[0;34m\u001b[0m\u001b[0m\n\u001b[0;32m---> 11\u001b[0;31m \u001b[0mt\u001b[0m\u001b[0;34m[\u001b[0m\u001b[0;36m0\u001b[0m\u001b[0;34m]\u001b[0m \u001b[0;34m=\u001b[0m \u001b[0;36m10\u001b[0m\u001b[0;34m\u001b[0m\u001b[0;34m\u001b[0m\u001b[0m\n\u001b[0m",
            "\u001b[0;31mTypeError\u001b[0m: 'tuple' object does not support item assignment"
          ]
        }
      ]
    },
    {
      "cell_type": "markdown",
      "metadata": {
        "id": "cXvJHJPmOWi2"
      },
      "source": [
        "## **[4. Python Strings](https://www.programiz.com/python-programming/string)**\r\n",
        "\r\n",
        "\r\n",
        "- [String](https://www.programiz.com/python-programming/string) is sequence of Unicode characters. \r\n",
        "- We can use single quotes or double quotes to represent strings. \r\n",
        "- Multi-line strings can be denoted using triple quotes, ''' or \"\"\"."
      ]
    },
    {
      "cell_type": "code",
      "metadata": {
        "id": "slhX-FdeB2Bx",
        "colab": {
          "base_uri": "https://localhost:8080/"
        },
        "outputId": "a8681360-22b1-4673-b986-45f22b0121a2"
      },
      "source": [
        "s = \"This is a string\"\r\n",
        "print(s)"
      ],
      "execution_count": 10,
      "outputs": [
        {
          "output_type": "stream",
          "text": [
            "This is a string\n"
          ],
          "name": "stdout"
        }
      ]
    },
    {
      "cell_type": "code",
      "metadata": {
        "colab": {
          "base_uri": "https://localhost:8080/"
        },
        "id": "hqenIvOlsHvL",
        "outputId": "1183adf4-e557-4d34-8a7f-fc46135aadb7"
      },
      "source": [
        "s = '''A multiline\r\n",
        "string'''\r\n",
        "print(s)"
      ],
      "execution_count": 11,
      "outputs": [
        {
          "output_type": "stream",
          "text": [
            "A multiline\n",
            "string\n"
          ],
          "name": "stdout"
        }
      ]
    },
    {
      "cell_type": "markdown",
      "metadata": {
        "id": "GdihCaOysfCr"
      },
      "source": [
        "- Just like a list and tuple, the slicing operator [ ] can be used with strings. \r\n",
        "\r\n",
        "- **Strings, however, are immutable**."
      ]
    },
    {
      "cell_type": "code",
      "metadata": {
        "colab": {
          "base_uri": "https://localhost:8080/",
          "height": 231
        },
        "id": "YiDowsvjslUU",
        "outputId": "fd4fe65c-57a7-411e-cc5e-7e0bf39ea4db"
      },
      "source": [
        "s = 'Hello world!'\r\n",
        "\r\n",
        "# s[4] = 'o'\r\n",
        "print(\"s[4] = \", s[4])\r\n",
        "\r\n",
        "# s[6:11] = 'world'\r\n",
        "print(\"s[6:11] = \", s[6:11])\r\n",
        "\r\n",
        "# Generates error\r\n",
        "# Strings are immutable in Python\r\n",
        "s[5] ='d'"
      ],
      "execution_count": 12,
      "outputs": [
        {
          "output_type": "stream",
          "text": [
            "s[4] =  o\n",
            "s[6:11] =  world\n"
          ],
          "name": "stdout"
        },
        {
          "output_type": "error",
          "ename": "TypeError",
          "evalue": "ignored",
          "traceback": [
            "\u001b[0;31m---------------------------------------------------------------------------\u001b[0m",
            "\u001b[0;31mTypeError\u001b[0m                                 Traceback (most recent call last)",
            "\u001b[0;32m<ipython-input-12-430a1bc5a714>\u001b[0m in \u001b[0;36m<module>\u001b[0;34m()\u001b[0m\n\u001b[1;32m      9\u001b[0m \u001b[0;31m# Generates error\u001b[0m\u001b[0;34m\u001b[0m\u001b[0;34m\u001b[0m\u001b[0;34m\u001b[0m\u001b[0m\n\u001b[1;32m     10\u001b[0m \u001b[0;31m# Strings are immutable in Python\u001b[0m\u001b[0;34m\u001b[0m\u001b[0;34m\u001b[0m\u001b[0;34m\u001b[0m\u001b[0m\n\u001b[0;32m---> 11\u001b[0;31m \u001b[0ms\u001b[0m\u001b[0;34m[\u001b[0m\u001b[0;36m5\u001b[0m\u001b[0;34m]\u001b[0m \u001b[0;34m=\u001b[0m\u001b[0;34m'd'\u001b[0m\u001b[0;34m\u001b[0m\u001b[0;34m\u001b[0m\u001b[0m\n\u001b[0m",
            "\u001b[0;31mTypeError\u001b[0m: 'str' object does not support item assignment"
          ]
        }
      ]
    },
    {
      "cell_type": "markdown",
      "metadata": {
        "id": "-QgjSNA7Om_S"
      },
      "source": [
        "## **[5. Python Set](https://www.programiz.com/python-programming/set)**\r\n",
        "\r\n",
        "\r\n",
        "- [Set](https://www.programiz.com/python-programming/set) is an unordered collection of unique items. \r\n",
        "- Set is defined by values separated by comma inside braces { }. \r\n",
        "- Items in a set are not ordered."
      ]
    },
    {
      "cell_type": "code",
      "metadata": {
        "id": "uebZjk6vOwf2",
        "colab": {
          "base_uri": "https://localhost:8080/"
        },
        "outputId": "6ba7ad29-0e37-4ad9-b84a-aec7c3d70fc8"
      },
      "source": [
        "a = {5,2,3,1,4}\r\n",
        "\r\n",
        "# printing set variable\r\n",
        "print(\"a = \", a)\r\n",
        "\r\n",
        "# data type of variable a\r\n",
        "print(type(a))"
      ],
      "execution_count": 13,
      "outputs": [
        {
          "output_type": "stream",
          "text": [
            "a =  {1, 2, 3, 4, 5}\n",
            "<class 'set'>\n"
          ],
          "name": "stdout"
        }
      ]
    },
    {
      "cell_type": "markdown",
      "metadata": {
        "id": "daGZ7Mimt_nd"
      },
      "source": [
        "- We can perform set operations like union, intersection on two sets. \r\n",
        "- **Sets have unique values. They eliminate duplicates.**"
      ]
    },
    {
      "cell_type": "code",
      "metadata": {
        "colab": {
          "base_uri": "https://localhost:8080/"
        },
        "id": "5d38EJ65uQEv",
        "outputId": "84c636ab-be48-4c03-a669-a4375cd370bb"
      },
      "source": [
        "a = {1,2,2,3,3,3}\r\n",
        "print(a)"
      ],
      "execution_count": 14,
      "outputs": [
        {
          "output_type": "stream",
          "text": [
            "{1, 2, 3}\n"
          ],
          "name": "stdout"
        }
      ]
    },
    {
      "cell_type": "markdown",
      "metadata": {
        "id": "tQPATBRBueXI"
      },
      "source": [
        "- Since, set are unordered collection, indexing has no meaning. Hence, the slicing operator [] does not work."
      ]
    },
    {
      "cell_type": "code",
      "metadata": {
        "colab": {
          "base_uri": "https://localhost:8080/",
          "height": 180
        },
        "id": "abmfckwjuVdz",
        "outputId": "16c1a69c-93d3-43eb-93ad-969a35c92ba8"
      },
      "source": [
        "a = {1,2,3}\r\n",
        "a[1]"
      ],
      "execution_count": 15,
      "outputs": [
        {
          "output_type": "error",
          "ename": "TypeError",
          "evalue": "ignored",
          "traceback": [
            "\u001b[0;31m---------------------------------------------------------------------------\u001b[0m",
            "\u001b[0;31mTypeError\u001b[0m                                 Traceback (most recent call last)",
            "\u001b[0;32m<ipython-input-15-dcc17a4df178>\u001b[0m in \u001b[0;36m<module>\u001b[0;34m()\u001b[0m\n\u001b[1;32m      1\u001b[0m \u001b[0ma\u001b[0m \u001b[0;34m=\u001b[0m \u001b[0;34m{\u001b[0m\u001b[0;36m1\u001b[0m\u001b[0;34m,\u001b[0m\u001b[0;36m2\u001b[0m\u001b[0;34m,\u001b[0m\u001b[0;36m3\u001b[0m\u001b[0;34m}\u001b[0m\u001b[0;34m\u001b[0m\u001b[0;34m\u001b[0m\u001b[0m\n\u001b[0;32m----> 2\u001b[0;31m \u001b[0ma\u001b[0m\u001b[0;34m[\u001b[0m\u001b[0;36m1\u001b[0m\u001b[0;34m]\u001b[0m\u001b[0;34m\u001b[0m\u001b[0;34m\u001b[0m\u001b[0m\n\u001b[0m",
            "\u001b[0;31mTypeError\u001b[0m: 'set' object does not support indexing"
          ]
        }
      ]
    },
    {
      "cell_type": "markdown",
      "metadata": {
        "id": "iCWBmwqrOw8v"
      },
      "source": [
        "## **[6. Python Dictionary](https://www.programiz.com/python-programming/dictionary)**\r\n",
        "\r\n",
        "\r\n",
        "- [Dictionary](https://www.programiz.com/python-programming/dictionary) is an unordered collection of key-value pairs.\r\n",
        "\r\n",
        "- It is generally used when we have a huge amount of data. Dictionaries are optimized for retrieving data. We must know the key to retrieve the value.\r\n",
        "\r\n",
        "- In Python, dictionaries are defined within braces `{}` with each item being a pair in the form `key:value`. Key and value can be of any type."
      ]
    },
    {
      "cell_type": "code",
      "metadata": {
        "id": "MoSqJJmFPD1_",
        "colab": {
          "base_uri": "https://localhost:8080/"
        },
        "outputId": "504b1d9f-349c-41a8-ea62-5ca9798bbae3"
      },
      "source": [
        "d = {1:'value','key':2}\r\n",
        "type(d)"
      ],
      "execution_count": 16,
      "outputs": [
        {
          "output_type": "execute_result",
          "data": {
            "text/plain": [
              "dict"
            ]
          },
          "metadata": {
            "tags": []
          },
          "execution_count": 16
        }
      ]
    },
    {
      "cell_type": "markdown",
      "metadata": {
        "id": "iz0_IXRKv1fP"
      },
      "source": [
        "- We use key to retrieve the respective value. But not the other way around."
      ]
    },
    {
      "cell_type": "code",
      "metadata": {
        "colab": {
          "base_uri": "https://localhost:8080/",
          "height": 248
        },
        "id": "Cr4qi_Ngvu9q",
        "outputId": "626b8f6f-5a4e-47d6-ac72-51dbd067dbe7"
      },
      "source": [
        "d = {1:'value','key':2}\r\n",
        "print(type(d))\r\n",
        "\r\n",
        "print(\"d[1] = \", d[1]);\r\n",
        "\r\n",
        "print(\"d['key'] = \", d['key']);\r\n",
        "\r\n",
        "# Generates error\r\n",
        "print(\"d[2] = \", d[2]);"
      ],
      "execution_count": 17,
      "outputs": [
        {
          "output_type": "stream",
          "text": [
            "<class 'dict'>\n",
            "d[1] =  value\n",
            "d['key'] =  2\n"
          ],
          "name": "stdout"
        },
        {
          "output_type": "error",
          "ename": "KeyError",
          "evalue": "ignored",
          "traceback": [
            "\u001b[0;31m---------------------------------------------------------------------------\u001b[0m",
            "\u001b[0;31mKeyError\u001b[0m                                  Traceback (most recent call last)",
            "\u001b[0;32m<ipython-input-17-b9f9781edfec>\u001b[0m in \u001b[0;36m<module>\u001b[0;34m()\u001b[0m\n\u001b[1;32m      7\u001b[0m \u001b[0;34m\u001b[0m\u001b[0m\n\u001b[1;32m      8\u001b[0m \u001b[0;31m# Generates error\u001b[0m\u001b[0;34m\u001b[0m\u001b[0;34m\u001b[0m\u001b[0;34m\u001b[0m\u001b[0m\n\u001b[0;32m----> 9\u001b[0;31m \u001b[0mprint\u001b[0m\u001b[0;34m(\u001b[0m\u001b[0;34m\"d[2] = \"\u001b[0m\u001b[0;34m,\u001b[0m \u001b[0md\u001b[0m\u001b[0;34m[\u001b[0m\u001b[0;36m2\u001b[0m\u001b[0;34m]\u001b[0m\u001b[0;34m)\u001b[0m\u001b[0;34m;\u001b[0m\u001b[0;34m\u001b[0m\u001b[0;34m\u001b[0m\u001b[0m\n\u001b[0m",
            "\u001b[0;31mKeyError\u001b[0m: 2"
          ]
        }
      ]
    },
    {
      "cell_type": "markdown",
      "metadata": {
        "id": "wfg6DdRxqq7M"
      },
      "source": [
        "## **7. Conversion between data types**\r\n",
        "\r\n",
        "- We can convert between different data types by using different type conversion functions like - `int()`, `float()`, `str()`, etc."
      ]
    },
    {
      "cell_type": "code",
      "metadata": {
        "id": "PQzkub2qv7fA",
        "colab": {
          "base_uri": "https://localhost:8080/"
        },
        "outputId": "05b0ad3a-3053-4a78-8960-6c9ab502ddc9"
      },
      "source": [
        "float(5)"
      ],
      "execution_count": 18,
      "outputs": [
        {
          "output_type": "execute_result",
          "data": {
            "text/plain": [
              "5.0"
            ]
          },
          "metadata": {
            "tags": []
          },
          "execution_count": 18
        }
      ]
    },
    {
      "cell_type": "markdown",
      "metadata": {
        "id": "Rd5rmVyRrNMH"
      },
      "source": [
        "- Conversion from float to int will truncate the value (make it closer to zero)."
      ]
    },
    {
      "cell_type": "code",
      "metadata": {
        "colab": {
          "base_uri": "https://localhost:8080/"
        },
        "id": "k4N8DXOVrEG0",
        "outputId": "dabf9847-435a-48e8-bff6-74dd1f8a8798"
      },
      "source": [
        "int(10.6)"
      ],
      "execution_count": 19,
      "outputs": [
        {
          "output_type": "execute_result",
          "data": {
            "text/plain": [
              "10"
            ]
          },
          "metadata": {
            "tags": []
          },
          "execution_count": 19
        }
      ]
    },
    {
      "cell_type": "code",
      "metadata": {
        "colab": {
          "base_uri": "https://localhost:8080/"
        },
        "id": "K3cwpo3UrV8e",
        "outputId": "04b4cfed-14ed-47df-f055-dabdfc2e5e4c"
      },
      "source": [
        "int(-10.6)"
      ],
      "execution_count": 20,
      "outputs": [
        {
          "output_type": "execute_result",
          "data": {
            "text/plain": [
              "-10"
            ]
          },
          "metadata": {
            "tags": []
          },
          "execution_count": 20
        }
      ]
    },
    {
      "cell_type": "markdown",
      "metadata": {
        "id": "ZMu43YNHrmAK"
      },
      "source": [
        "- Conversion to and from string must contain compatible values."
      ]
    },
    {
      "cell_type": "code",
      "metadata": {
        "colab": {
          "base_uri": "https://localhost:8080/"
        },
        "id": "345feqncrbrQ",
        "outputId": "c3b1ea5e-1c68-4ca6-dbd5-b8ec00b3a37b"
      },
      "source": [
        "float('2.5')"
      ],
      "execution_count": 21,
      "outputs": [
        {
          "output_type": "execute_result",
          "data": {
            "text/plain": [
              "2.5"
            ]
          },
          "metadata": {
            "tags": []
          },
          "execution_count": 21
        }
      ]
    },
    {
      "cell_type": "code",
      "metadata": {
        "colab": {
          "base_uri": "https://localhost:8080/",
          "height": 35
        },
        "id": "bbLv31dIrs9c",
        "outputId": "f2059948-c424-4cd1-9193-e73fb82271db"
      },
      "source": [
        "str(25)"
      ],
      "execution_count": 22,
      "outputs": [
        {
          "output_type": "execute_result",
          "data": {
            "application/vnd.google.colaboratory.intrinsic+json": {
              "type": "string"
            },
            "text/plain": [
              "'25'"
            ]
          },
          "metadata": {
            "tags": []
          },
          "execution_count": 22
        }
      ]
    },
    {
      "cell_type": "code",
      "metadata": {
        "colab": {
          "base_uri": "https://localhost:8080/",
          "height": 163
        },
        "id": "Mxn4-pJ2r_NJ",
        "outputId": "26515525-2155-4514-b349-b0b065f39daf"
      },
      "source": [
        "int('1p')"
      ],
      "execution_count": 23,
      "outputs": [
        {
          "output_type": "error",
          "ename": "ValueError",
          "evalue": "ignored",
          "traceback": [
            "\u001b[0;31m---------------------------------------------------------------------------\u001b[0m",
            "\u001b[0;31mValueError\u001b[0m                                Traceback (most recent call last)",
            "\u001b[0;32m<ipython-input-23-74ab929f204c>\u001b[0m in \u001b[0;36m<module>\u001b[0;34m()\u001b[0m\n\u001b[0;32m----> 1\u001b[0;31m \u001b[0mint\u001b[0m\u001b[0;34m(\u001b[0m\u001b[0;34m'1p'\u001b[0m\u001b[0;34m)\u001b[0m\u001b[0;34m\u001b[0m\u001b[0;34m\u001b[0m\u001b[0m\n\u001b[0m",
            "\u001b[0;31mValueError\u001b[0m: invalid literal for int() with base 10: '1p'"
          ]
        }
      ]
    },
    {
      "cell_type": "markdown",
      "metadata": {
        "id": "JciU0_hDvOb5"
      },
      "source": [
        "- We can even convert one sequence to another."
      ]
    },
    {
      "cell_type": "code",
      "metadata": {
        "colab": {
          "base_uri": "https://localhost:8080/"
        },
        "id": "k4ceECI0sH_2",
        "outputId": "5a4e97bf-fdb0-4da4-c410-579903a12753"
      },
      "source": [
        "set([1,2,3])"
      ],
      "execution_count": 24,
      "outputs": [
        {
          "output_type": "execute_result",
          "data": {
            "text/plain": [
              "{1, 2, 3}"
            ]
          },
          "metadata": {
            "tags": []
          },
          "execution_count": 24
        }
      ]
    },
    {
      "cell_type": "code",
      "metadata": {
        "colab": {
          "base_uri": "https://localhost:8080/"
        },
        "id": "KatFLfDLvaEV",
        "outputId": "bc2217cb-8f3d-41d7-8b0f-e777452f684b"
      },
      "source": [
        "tuple({5,6,7})"
      ],
      "execution_count": 25,
      "outputs": [
        {
          "output_type": "execute_result",
          "data": {
            "text/plain": [
              "(5, 6, 7)"
            ]
          },
          "metadata": {
            "tags": []
          },
          "execution_count": 25
        }
      ]
    },
    {
      "cell_type": "code",
      "metadata": {
        "colab": {
          "base_uri": "https://localhost:8080/"
        },
        "id": "1lSwLTyBveQL",
        "outputId": "20a71d4a-b900-4ccc-955a-5ed347f744b1"
      },
      "source": [
        "list('hello')"
      ],
      "execution_count": 26,
      "outputs": [
        {
          "output_type": "execute_result",
          "data": {
            "text/plain": [
              "['h', 'e', 'l', 'l', 'o']"
            ]
          },
          "metadata": {
            "tags": []
          },
          "execution_count": 26
        }
      ]
    },
    {
      "cell_type": "markdown",
      "metadata": {
        "id": "zjCQJx45vn1T"
      },
      "source": [
        "- To convert to dictionary, each element must be a pair:"
      ]
    },
    {
      "cell_type": "code",
      "metadata": {
        "colab": {
          "base_uri": "https://localhost:8080/"
        },
        "id": "Rhgr3NHcvhrL",
        "outputId": "18f64379-b47e-444a-88e2-01090810f0ca"
      },
      "source": [
        "dict([[1,2],[3,4]])"
      ],
      "execution_count": 27,
      "outputs": [
        {
          "output_type": "execute_result",
          "data": {
            "text/plain": [
              "{1: 2, 3: 4}"
            ]
          },
          "metadata": {
            "tags": []
          },
          "execution_count": 27
        }
      ]
    },
    {
      "cell_type": "code",
      "metadata": {
        "colab": {
          "base_uri": "https://localhost:8080/"
        },
        "id": "RakknT8HvtjR",
        "outputId": "dad9b621-eb5a-41db-acaa-7bd5614bff77"
      },
      "source": [
        "dict([(3,26),(4,44)])"
      ],
      "execution_count": 28,
      "outputs": [
        {
          "output_type": "execute_result",
          "data": {
            "text/plain": [
              "{3: 26, 4: 44}"
            ]
          },
          "metadata": {
            "tags": []
          },
          "execution_count": 28
        }
      ]
    },
    {
      "cell_type": "markdown",
      "metadata": {
        "id": "kEcXSIeav94m"
      },
      "source": [
        "https://www.programiz.com/python-programming/variables-datatypes"
      ]
    }
  ]
}