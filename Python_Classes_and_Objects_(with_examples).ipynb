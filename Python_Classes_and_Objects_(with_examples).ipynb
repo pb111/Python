{
  "nbformat": 4,
  "nbformat_minor": 0,
  "metadata": {
    "colab": {
      "name": "Python Classes and Objects (with examples)",
      "provenance": [],
      "authorship_tag": "ABX9TyPifd82SJMT0gqrZY6LyZHB",
      "include_colab_link": true
    },
    "kernelspec": {
      "name": "python3",
      "display_name": "Python 3"
    }
  },
  "cells": [
    {
      "cell_type": "markdown",
      "metadata": {
        "id": "view-in-github",
        "colab_type": "text"
      },
      "source": [
        "<a href=\"https://colab.research.google.com/github/pb111/Python-tutorials-and-projects/blob/master/Python_Classes_and_Objects_(with_examples).ipynb\" target=\"_parent\"><img src=\"https://colab.research.google.com/assets/colab-badge.svg\" alt=\"Open In Colab\"/></a>"
      ]
    },
    {
      "cell_type": "markdown",
      "metadata": {
        "id": "qEkM-qERdG76"
      },
      "source": [
        "# **Python Classes and Objects (with examples)**\r\n",
        "\r\n",
        "- In this tutorial, you will learn about the core functionality of Python **objects and classes**. \r\n",
        "- You'll learn \r\n",
        "  - what a class is, \r\n",
        "  - how to create it, and \r\n",
        "  - use it in your program."
      ]
    },
    {
      "cell_type": "markdown",
      "metadata": {
        "id": "uxy3w2nTdoR0"
      },
      "source": [
        "## **1. Python Objects and Classes**\r\n",
        "\r\n",
        "- **Python is an object oriented programming language**. \r\n",
        "- Unlike procedure oriented programming, where the main emphasis is on functions, **object oriented programming stresses on objects**.\r\n",
        "\r\n",
        "- An object is simply a collection of data (variables) and methods (functions) that act on those data. Similarly, a class is a blueprint for that object.\r\n",
        "\r\n",
        "- We can think of class as a sketch (prototype) of a house. It contains all the details about the floors, doors, windows etc. Based on these descriptions we build the house. House is the object.\r\n",
        "\r\n",
        "- As many houses can be made from a house's blueprint, we can create many objects from a class. An object is also called an instance of a class and the process of creating this object is called **instantiation**."
      ]
    },
    {
      "cell_type": "markdown",
      "metadata": {
        "id": "AAyGH-REiV7t"
      },
      "source": [
        "## **2. Defining a Class in Python**\r\n",
        "\r\n",
        "- Like function definitions begin with the [def](https://www.programiz.com/python-programming/keyword-list#def) keyword in Python, class definitions begin with a [class](https://www.programiz.com/python-programming/keyword-list#class) keyword.\r\n",
        "\r\n",
        "- The first string inside the class is called `docstring` and has a brief description about the class. Although not mandatory, this is highly recommended.\r\n",
        "\r\n",
        "- Here is a simple class definition."
      ]
    },
    {
      "cell_type": "code",
      "metadata": {
        "id": "W80bUfXzjJ0H"
      },
      "source": [
        "class MyNewClass:\r\n",
        "    '''This is a docstring. I have created a new class.'''\r\n",
        "    pass"
      ],
      "execution_count": 1,
      "outputs": []
    },
    {
      "cell_type": "markdown",
      "metadata": {
        "id": "t78RATsXkDO3"
      },
      "source": [
        "- A class creates a new local [namespace](https://www.programiz.com/python-programming/namespace) where all its attributes are defined. Attributes may be data or functions.\r\n",
        "\r\n",
        "- There are also special attributes in it that begins with double underscores `__`. For example, `__doc__` gives us the docstring of that class.\r\n",
        "\r\n",
        "- As soon as we define a class, a new class object is created with the same name. This class object allows us to access the different attributes as well as to instantiate new objects of that class."
      ]
    },
    {
      "cell_type": "code",
      "metadata": {
        "colab": {
          "base_uri": "https://localhost:8080/"
        },
        "id": "lQKAy81tjtXx",
        "outputId": "33f89534-8217-4bff-99fc-602454e5902e"
      },
      "source": [
        "class Person:\r\n",
        "    \"This is a person class\"\r\n",
        "    age = 10\r\n",
        "\r\n",
        "    def greet(self):\r\n",
        "        print('Hello')\r\n",
        "\r\n",
        "\r\n",
        "# Output:10\r\n",
        "print(Person.age)\r\n",
        "\r\n",
        "# Output: <function Person.greet>\r\n",
        "print(Person.greet)\r\n",
        "\r\n",
        "# Output: 'This is my second class'\r\n",
        "print(Person.__doc__)"
      ],
      "execution_count": 2,
      "outputs": [
        {
          "output_type": "stream",
          "text": [
            "10\n",
            "<function Person.greet at 0x7fe8136f7ea0>\n",
            "This is a person class\n"
          ],
          "name": "stdout"
        }
      ]
    },
    {
      "cell_type": "markdown",
      "metadata": {
        "id": "8mB1tS8CoDGF"
      },
      "source": [
        "## **3. Creating an Object in Python**\r\n",
        "\r\n",
        "- We saw that the class object could be used to access different attributes.\r\n",
        "\r\n",
        "- It can also be used to create new object instances (instantiation) of that class. The procedure to create an object is similar to a function call."
      ]
    },
    {
      "cell_type": "code",
      "metadata": {
        "id": "TTx4O0FYl7Ln"
      },
      "source": [
        "harry = Person()"
      ],
      "execution_count": 3,
      "outputs": []
    },
    {
      "cell_type": "markdown",
      "metadata": {
        "id": "PyMkt8nDob8r"
      },
      "source": [
        "- This will create a new object instance named `harry`. We can access the attributes of objects using the object name prefix.\r\n",
        "\r\n",
        "- Attributes may be data or method. Methods of an object are corresponding functions of that class.\r\n",
        "\r\n",
        "- This means to say, since `Person.greet` is a function object (attribute of class), `Person.greet` will be a method object."
      ]
    },
    {
      "cell_type": "code",
      "metadata": {
        "colab": {
          "base_uri": "https://localhost:8080/"
        },
        "id": "f3ESir5fRQcL",
        "outputId": "0e476072-acee-4c6d-d570-098558e35579"
      },
      "source": [
        "class Person:\r\n",
        "    \"This is a person class\"\r\n",
        "    age = 10\r\n",
        "\r\n",
        "    def greet(self):\r\n",
        "        print('Hello')\r\n",
        "\r\n",
        "\r\n",
        "# create a new object of Person class\r\n",
        "harry = Person()\r\n",
        "\r\n",
        "# Output: <function Person.greet>\r\n",
        "print(Person.greet)\r\n",
        "\r\n",
        "# Output: <bound method Person.greet of <__main__.Person object>>\r\n",
        "print(harry.greet)\r\n",
        "\r\n",
        "# Calling object's greet() method\r\n",
        "# Output: Hello\r\n",
        "harry.greet()"
      ],
      "execution_count": 4,
      "outputs": [
        {
          "output_type": "stream",
          "text": [
            "<function Person.greet at 0x7fe81366c2f0>\n",
            "<bound method Person.greet of <__main__.Person object at 0x7fe8136a5588>>\n",
            "Hello\n"
          ],
          "name": "stdout"
        }
      ]
    },
    {
      "cell_type": "markdown",
      "metadata": {
        "id": "_gWP6eNnpGzG"
      },
      "source": [
        "- You may have noticed the `self` parameter in function definition inside the class but we called the method simply as `harry.greet()` without any [arguments](https://www.programiz.com/python-programming/function-argument). It still worked.\r\n",
        "\r\n",
        "- This is because, whenever an object calls its method, the object itself is passed as the first argument. So, `harry.greet()` translates into `Person.greet(harry)`.\r\n",
        "\r\n",
        "- In general, calling a method with a list of n arguments is equivalent to calling the corresponding function with an argument list that is created by inserting the method's object before the first argument.\r\n",
        "\r\n",
        "- For these reasons, the first argument of the function in class must be the object itself. This is conventionally called `self`. It can be named otherwise but we highly recommend to follow the convention.\r\n",
        "\r\n",
        "- Now you must be familiar with class object, instance object, function object, method object and their differences."
      ]
    },
    {
      "cell_type": "markdown",
      "metadata": {
        "id": "8aI1xsw9pxcO"
      },
      "source": [
        "https://www.programiz.com/python-programming/class"
      ]
    }
  ]
}