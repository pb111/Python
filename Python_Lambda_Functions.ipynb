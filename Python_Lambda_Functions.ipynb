{
  "nbformat": 4,
  "nbformat_minor": 0,
  "metadata": {
    "colab": {
      "name": "Python Lambda Functions",
      "provenance": [],
      "authorship_tag": "ABX9TyOzkCvL9A8J78+OCFvPsa5V",
      "include_colab_link": true
    },
    "kernelspec": {
      "name": "python3",
      "display_name": "Python 3"
    }
  },
  "cells": [
    {
      "cell_type": "markdown",
      "metadata": {
        "id": "view-in-github",
        "colab_type": "text"
      },
      "source": [
        "<a href=\"https://colab.research.google.com/github/pb111/Python-tutorials-and-projects/blob/master/Python_Lambda_Functions.ipynb\" target=\"_parent\"><img src=\"https://colab.research.google.com/assets/colab-badge.svg\" alt=\"Open In Colab\"/></a>"
      ]
    },
    {
      "cell_type": "markdown",
      "metadata": {
        "id": "W1-u9bSzXFLq"
      },
      "source": [
        "# **Python Lambda Functions**\n",
        "\n",
        "\n",
        "- In this article, you'll learn about the anonymous function, also known as **lambda functions**. You'll learn what they are, their syntax and how to use them (with examples)."
      ]
    },
    {
      "cell_type": "markdown",
      "metadata": {
        "id": "uvnoJsazaDPL"
      },
      "source": [
        "## **1. What are lambda functions in Python?**\n",
        "\n",
        "- In Python, an anonymous function is a [function](https://www.programiz.com/python-programming/function) that is defined without a name.\n",
        "\n",
        "- While normal functions are defined using the `def` keyword in Python, anonymous functions are defined using the `lambda` keyword.\n",
        "\n",
        "- Hence, anonymous functions are also called **lambda functions**."
      ]
    },
    {
      "cell_type": "markdown",
      "metadata": {
        "id": "QViuxYUzbHd6"
      },
      "source": [
        "## **2. How to use lambda Functions in Python?**\n",
        "\n",
        "- A **lambda function** in python has the following syntax.\n",
        "\n"
      ]
    },
    {
      "cell_type": "markdown",
      "metadata": {
        "id": "5pS0w5KqbYiM"
      },
      "source": [
        "#### **2.1 Syntax of Lambda Function in python**\n",
        "\n",
        "- `lambda arguments: expression`"
      ]
    },
    {
      "cell_type": "markdown",
      "metadata": {
        "id": "ZXGGtNrob0Lm"
      },
      "source": [
        "- Lambda functions can have any number of arguments but only one expression. \n",
        "- The expression is evaluated and returned. \n",
        "- Lambda functions can be used wherever function objects are required."
      ]
    },
    {
      "cell_type": "markdown",
      "metadata": {
        "id": "fQCTN-8ScHth"
      },
      "source": [
        "#### **2.2 Example of Lambda Function in python**\n",
        "\n",
        "- Here is an example of lambda function that doubles the input value."
      ]
    },
    {
      "cell_type": "markdown",
      "metadata": {
        "id": "YgTOuPAsirz7"
      },
      "source": [
        ""
      ]
    },
    {
      "cell_type": "code",
      "metadata": {
        "colab": {
          "base_uri": "https://localhost:8080/"
        },
        "id": "nuuPLZ-zbVl0",
        "outputId": "cdf3748d-8c0b-4965-c8af-f3514e718f65"
      },
      "source": [
        "# Program to show the use of lambda functions\n",
        "double = lambda x : x * 2\n",
        "\n",
        "print(double(5))\n"
      ],
      "execution_count": 1,
      "outputs": [
        {
          "output_type": "stream",
          "text": [
            "10\n"
          ],
          "name": "stdout"
        }
      ]
    },
    {
      "cell_type": "markdown",
      "metadata": {
        "id": "t9pH4JAfi-BP"
      },
      "source": [
        "- In the above program, `lambda x: x * 2` is the lambda function. \n",
        "\n",
        "- Here `x` is the argument and `x * 2` is the expression that gets evaluated and returned."
      ]
    },
    {
      "cell_type": "markdown",
      "metadata": {
        "id": "xZy3t9OWjVrV"
      },
      "source": [
        "- This function has no name. \n",
        "- It returns a function object which is assigned to the identifier `double`. \n",
        "- We can now call it as a normal function. \n",
        "- The statement\n",
        "\n",
        "- `double = lambda x: x * 2`\n",
        "\n",
        "\n",
        "- is nearly the same as:"
      ]
    },
    {
      "cell_type": "code",
      "metadata": {
        "id": "ENwiNT3zdARZ"
      },
      "source": [
        "def double(x):\n",
        "   return x * 2"
      ],
      "execution_count": 2,
      "outputs": []
    },
    {
      "cell_type": "code",
      "metadata": {
        "colab": {
          "base_uri": "https://localhost:8080/"
        },
        "id": "Xc7cqsBzjxhf",
        "outputId": "903f21f7-7b4e-4953-87a7-348e109af3ed"
      },
      "source": [
        "double(10)"
      ],
      "execution_count": 3,
      "outputs": [
        {
          "output_type": "execute_result",
          "data": {
            "text/plain": [
              "20"
            ]
          },
          "metadata": {
            "tags": []
          },
          "execution_count": 3
        }
      ]
    },
    {
      "cell_type": "markdown",
      "metadata": {
        "id": "AOwtelJrkHZy"
      },
      "source": [
        "## **3. Use of Lambda Function in python**\n",
        "\n",
        "- We use lambda functions when we require a nameless function for a short period of time.\n",
        "\n",
        "- In Python, we generally use it as an argument to a higher-order function (a function that takes in other functions as [arguments](https://www.programiz.com/python-programming/function-argument)). Lambda functions are used along with built-in functions like `filter()`, `map()` etc."
      ]
    },
    {
      "cell_type": "markdown",
      "metadata": {
        "id": "lVd0zLk2km54"
      },
      "source": [
        "#### **3.1 Lambda functions with filter()**\n",
        "\n",
        "- The `filter()` function in Python takes in a function and a list as arguments.\n",
        "\n",
        "- The function is called with all the items in the list and a new list is returned which contains items for which the function evaluates to `True`.\n",
        "\n",
        "- Here is an example use of `filter()` function to filter out only even numbers from a list."
      ]
    },
    {
      "cell_type": "code",
      "metadata": {
        "colab": {
          "base_uri": "https://localhost:8080/"
        },
        "id": "T4rty9N9na_e",
        "outputId": "159a64e0-93b6-4748-c88d-7ad75ab9b045"
      },
      "source": [
        "# Program to filter out only the even items from a list\n",
        "my_list = [1, 5, 4, 6, 8, 11, 3, 12]\n",
        "\n",
        "new_list = list(filter(lambda x : (x%2 == 0), my_list))\n",
        "\n",
        "print(new_list)\n"
      ],
      "execution_count": 4,
      "outputs": [
        {
          "output_type": "stream",
          "text": [
            "[4, 6, 8, 12]\n"
          ],
          "name": "stdout"
        }
      ]
    },
    {
      "cell_type": "markdown",
      "metadata": {
        "id": "UZ8a2578poqQ"
      },
      "source": [
        "#### **3.2 Lambda functions with map()**\n",
        "\n",
        "- The `map()` function in Python takes in a function and a list.\n",
        "\n",
        "- The function is called with all the items in the list and a new list is returned which contains items returned by that function for each item.\n",
        "\n",
        "- Here is an example use of `map()` function to double all the items in a list."
      ]
    },
    {
      "cell_type": "code",
      "metadata": {
        "colab": {
          "base_uri": "https://localhost:8080/"
        },
        "id": "NPWmAEmioNJs",
        "outputId": "cfeba204-55fb-4316-826f-5d26564c9c36"
      },
      "source": [
        "# Program to double each item in a list using map()\n",
        "my_list1 = [1, 5, 4, 6, 8, 11, 3, 12]\n",
        "\n",
        "new_list1 = list(map(lambda x : (x * 2), my_list1))\n",
        "\n",
        "new_list1\n"
      ],
      "execution_count": 5,
      "outputs": [
        {
          "output_type": "execute_result",
          "data": {
            "text/plain": [
              "[2, 10, 8, 12, 16, 22, 6, 24]"
            ]
          },
          "metadata": {
            "tags": []
          },
          "execution_count": 5
        }
      ]
    },
    {
      "cell_type": "markdown",
      "metadata": {
        "id": "pBQhxnftqh0S"
      },
      "source": [
        "https://www.programiz.com/python-programming/anonymous-function"
      ]
    }
  ]
}