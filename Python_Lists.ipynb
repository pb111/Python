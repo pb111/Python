{
  "nbformat": 4,
  "nbformat_minor": 0,
  "metadata": {
    "kernelspec": {
      "display_name": "Python 3",
      "language": "python",
      "name": "python3"
    },
    "language_info": {
      "name": "python",
      "version": "3.6.4",
      "mimetype": "text/x-python",
      "codemirror_mode": {
        "name": "ipython",
        "version": 3
      },
      "pygments_lexer": "ipython3",
      "nbconvert_exporter": "python",
      "file_extension": ".py"
    },
    "colab": {
      "name": "Python Lists.ipynb",
      "provenance": [],
      "include_colab_link": true
    }
  },
  "cells": [
    {
      "cell_type": "markdown",
      "metadata": {
        "id": "view-in-github",
        "colab_type": "text"
      },
      "source": [
        "<a href=\"https://colab.research.google.com/github/pb111/Python/blob/master/Python_Lists.ipynb\" target=\"_parent\"><img src=\"https://colab.research.google.com/assets/colab-badge.svg\" alt=\"Open In Colab\"/></a>"
      ]
    },
    {
      "cell_type": "markdown",
      "metadata": {
        "id": "uYDmy2ItcMji",
        "colab_type": "text"
      },
      "source": [
        "# **Python Lists**"
      ]
    },
    {
      "cell_type": "markdown",
      "metadata": {
        "id": "5x0SjWDdcMjk",
        "colab_type": "text"
      },
      "source": [
        "## **1. Python Collections (Arrays)**\n",
        "\n",
        "\n",
        "- There are four collection data types in the Python programming language:\n",
        "\n",
        "\n",
        "- **1. List** - List is a collection which is ordered and changeable. Allows duplicate members.\n",
        "- **2. Tuple** - Tuple is a collection which is ordered and unchangeable. Allows duplicate members.\n",
        "- **3. Set** - Set is a collection which is unordered and unindexed. No duplicate members.\n",
        "- **4. Dictionary** - Dictionary is a collection which is unordered, changeable and indexed. No duplicate members.\n",
        "\n",
        "\n",
        "- When choosing a collection type, it is useful to understand the properties of that type. Choosing the right type for a particular data set could mean retention of meaning, and, it could mean an increase in efficiency or security."
      ]
    },
    {
      "cell_type": "markdown",
      "metadata": {
        "id": "yQ0Tnrk7cMjl",
        "colab_type": "text"
      },
      "source": [
        "## **2. List**\n",
        "\n",
        "- A list is a collection which is ordered and changeable. \n",
        "\n",
        "- In Python lists are written with square brackets."
      ]
    },
    {
      "cell_type": "code",
      "metadata": {
        "trusted": true,
        "id": "axJfCXkzcMjm",
        "colab_type": "code",
        "colab": {
          "base_uri": "https://localhost:8080/",
          "height": 34
        },
        "outputId": "55705392-318e-4156-a378-9741ba304201"
      },
      "source": [
        "# create a list\n",
        "thislist = [\"apple\", \"banana\", \"cherry\"]\n",
        "print(thislist)\n"
      ],
      "execution_count": 1,
      "outputs": [
        {
          "output_type": "stream",
          "text": [
            "['apple', 'banana', 'cherry']\n"
          ],
          "name": "stdout"
        }
      ]
    },
    {
      "cell_type": "markdown",
      "metadata": {
        "id": "nJcFIQ1fcMju",
        "colab_type": "text"
      },
      "source": [
        "### 2.1 Access Items in a list\n",
        "\n",
        "- You access the list items by referring to the index number:"
      ]
    },
    {
      "cell_type": "code",
      "metadata": {
        "trusted": true,
        "id": "Jj05MUuQcMjw",
        "colab_type": "code",
        "colab": {
          "base_uri": "https://localhost:8080/",
          "height": 34
        },
        "outputId": "469a3058-1eea-451c-926b-9dfdaf5172bf"
      },
      "source": [
        "# print second item of the list.\n",
        "thislist = [\"apple\", \"banana\", \"cherry\"]\n",
        "print(thislist[1])"
      ],
      "execution_count": 2,
      "outputs": [
        {
          "output_type": "stream",
          "text": [
            "banana\n"
          ],
          "name": "stdout"
        }
      ]
    },
    {
      "cell_type": "markdown",
      "metadata": {
        "id": "LNgxDXjYcMj2",
        "colab_type": "text"
      },
      "source": [
        "### 2.2 Negative Indexing\n",
        "\n",
        "- Negative indexing means beginning from the end, -1 refers to the last item, -2 refers to the second last item etc."
      ]
    },
    {
      "cell_type": "code",
      "metadata": {
        "trusted": true,
        "id": "DN0gtw2lcMj7",
        "colab_type": "code",
        "colab": {
          "base_uri": "https://localhost:8080/",
          "height": 34
        },
        "outputId": "bd65db7f-ad97-4444-8140-46a61f0d6a09"
      },
      "source": [
        "# print the last item of the list:\n",
        "thislist = [\"apple\", \"banana\", \"cherry\"]\n",
        "print(thislist[-1])"
      ],
      "execution_count": 3,
      "outputs": [
        {
          "output_type": "stream",
          "text": [
            "cherry\n"
          ],
          "name": "stdout"
        }
      ]
    },
    {
      "cell_type": "markdown",
      "metadata": {
        "id": "WIrryR2ucMkG",
        "colab_type": "text"
      },
      "source": [
        "### 2.3 Range of Indexes\n",
        "\n",
        "- You can specify a range of indexes by specifying where to start and where to end the range.\n",
        "\n",
        "- When specifying a range, the return value will be a new list with the specified items.\n",
        "\n",
        "- **Note** : The search will start at index 2 (included) and end at index 5 (not included).\n",
        "\n",
        "- Remember that the first item has index 0."
      ]
    },
    {
      "cell_type": "code",
      "metadata": {
        "trusted": true,
        "id": "YQwDZqeUcMkH",
        "colab_type": "code",
        "colab": {
          "base_uri": "https://localhost:8080/",
          "height": 34
        },
        "outputId": "099c0651-35e6-488e-f980-1554525e453e"
      },
      "source": [
        "# return the third, fourth, and fifth item.\n",
        "thislist = [\"apple\", \"banana\", \"cherry\", \"orange\", \"kiwi\", \"melon\", \"mango\"]\n",
        "print(thislist[2:5])"
      ],
      "execution_count": 4,
      "outputs": [
        {
          "output_type": "stream",
          "text": [
            "['cherry', 'orange', 'kiwi']\n"
          ],
          "name": "stdout"
        }
      ]
    },
    {
      "cell_type": "markdown",
      "metadata": {
        "id": "5x8bm4evcMkO",
        "colab_type": "text"
      },
      "source": [
        "### 2.4 Leave out the start value\n",
        "\n",
        "- Remember that the first item has index 0.\n",
        "\n",
        "- By leaving out the start value, the range will start at the first item.\n",
        "\n",
        "- This example returns the items from the beginning to \"orange\"."
      ]
    },
    {
      "cell_type": "code",
      "metadata": {
        "trusted": true,
        "id": "GDzm88YKcMkR",
        "colab_type": "code",
        "colab": {
          "base_uri": "https://localhost:8080/",
          "height": 34
        },
        "outputId": "5fc3aaf6-abbd-4798-b592-7cd282c57dae"
      },
      "source": [
        "thislist = [\"apple\", \"banana\", \"cherry\", \"orange\", \"kiwi\", \"melon\", \"mango\"]\n",
        "print(thislist[:4])"
      ],
      "execution_count": 5,
      "outputs": [
        {
          "output_type": "stream",
          "text": [
            "['apple', 'banana', 'cherry', 'orange']\n"
          ],
          "name": "stdout"
        }
      ]
    },
    {
      "cell_type": "markdown",
      "metadata": {
        "id": "FB0U-j08cMkX",
        "colab_type": "text"
      },
      "source": [
        "### 2.5 Leave out the end value\n",
        "\n",
        "- By leaving out the end value, the range will go on to the end of the list.\n",
        "\n",
        "- This example returns the items from \"cherry\" and to the end."
      ]
    },
    {
      "cell_type": "code",
      "metadata": {
        "trusted": true,
        "id": "T8oakKhAcMkZ",
        "colab_type": "code",
        "colab": {
          "base_uri": "https://localhost:8080/",
          "height": 34
        },
        "outputId": "83e31357-3a62-4c29-afca-d531b1f09d4e"
      },
      "source": [
        "thislist = [\"apple\", \"banana\", \"cherry\", \"orange\", \"kiwi\", \"melon\", \"mango\"]\n",
        "print(thislist[2:])"
      ],
      "execution_count": 6,
      "outputs": [
        {
          "output_type": "stream",
          "text": [
            "['cherry', 'orange', 'kiwi', 'melon', 'mango']\n"
          ],
          "name": "stdout"
        }
      ]
    },
    {
      "cell_type": "markdown",
      "metadata": {
        "id": "oQZhPmTHcMkh",
        "colab_type": "text"
      },
      "source": [
        "### 2.6 Range of Negative Indexes\n",
        "\n",
        "- Specify negative indexes if you want to start the search from the end of the list:\n",
        "\n",
        "- This example returns the items from index -4 (included) to index -1 (excluded)"
      ]
    },
    {
      "cell_type": "code",
      "metadata": {
        "trusted": true,
        "id": "yWMusfTkcMki",
        "colab_type": "code",
        "colab": {
          "base_uri": "https://localhost:8080/",
          "height": 34
        },
        "outputId": "ed5ddea1-ec49-4fa2-dfe5-e0738ebdce5b"
      },
      "source": [
        "thislist = [\"apple\", \"banana\", \"cherry\", \"orange\", \"kiwi\", \"melon\", \"mango\"]\n",
        "print(thislist[-4:-1])"
      ],
      "execution_count": 7,
      "outputs": [
        {
          "output_type": "stream",
          "text": [
            "['orange', 'kiwi', 'melon']\n"
          ],
          "name": "stdout"
        }
      ]
    },
    {
      "cell_type": "markdown",
      "metadata": {
        "id": "cjubQ1ascMkr",
        "colab_type": "text"
      },
      "source": [
        "## **3. Change List Item Value**\n",
        "\n",
        "- To change the value of a specific item, refer to the index number.\n",
        "\n",
        "- Example : Change the second item."
      ]
    },
    {
      "cell_type": "code",
      "metadata": {
        "trusted": true,
        "id": "N0-8H8qVcMkt",
        "colab_type": "code",
        "colab": {
          "base_uri": "https://localhost:8080/",
          "height": 34
        },
        "outputId": "62ea7dcd-f214-4d01-bc60-0fa5e54f4cc0"
      },
      "source": [
        "thislist = [\"apple\", \"banana\", \"cherry\"]\n",
        "thislist[1] = \"blackcurrant\"\n",
        "print(thislist)"
      ],
      "execution_count": 8,
      "outputs": [
        {
          "output_type": "stream",
          "text": [
            "['apple', 'blackcurrant', 'cherry']\n"
          ],
          "name": "stdout"
        }
      ]
    },
    {
      "cell_type": "markdown",
      "metadata": {
        "id": "LLWqgoPqcMkz",
        "colab_type": "text"
      },
      "source": [
        "## **4. Loop Through a List**\n",
        "\n",
        "- You can loop through the list items by using a for loop.\n",
        "\n",
        "- Example : Print all items in the list, one by one."
      ]
    },
    {
      "cell_type": "code",
      "metadata": {
        "trusted": true,
        "id": "AN754g8IcMk0",
        "colab_type": "code",
        "colab": {
          "base_uri": "https://localhost:8080/",
          "height": 68
        },
        "outputId": "2380fbcf-024b-4757-8af8-db98e1705523"
      },
      "source": [
        "thislist = [\"apple\", \"banana\", \"cherry\"]\n",
        "for x in thislist:\n",
        "    print(x)"
      ],
      "execution_count": 9,
      "outputs": [
        {
          "output_type": "stream",
          "text": [
            "apple\n",
            "banana\n",
            "cherry\n"
          ],
          "name": "stdout"
        }
      ]
    },
    {
      "cell_type": "markdown",
      "metadata": {
        "id": "YUV3KL_QcMk9",
        "colab_type": "text"
      },
      "source": [
        "## **5. Check if Item Exists**\n",
        "\n",
        "- To determine if a specified item is present in a list use the in keyword.\n",
        "\n",
        "- Example : Check if \"apple\" is present in the list:"
      ]
    },
    {
      "cell_type": "code",
      "metadata": {
        "trusted": true,
        "id": "NRBFBrrMcMk_",
        "colab_type": "code",
        "colab": {
          "base_uri": "https://localhost:8080/",
          "height": 34
        },
        "outputId": "f1c000f6-4253-4e4f-bd79-23bedf808337"
      },
      "source": [
        "thislist = [\"apple\", \"banana\", \"cherry\"]\n",
        "if \"apple\" in thislist:\n",
        "    print(\"Yes, 'apple' is in the fruits list\")\n"
      ],
      "execution_count": 10,
      "outputs": [
        {
          "output_type": "stream",
          "text": [
            "Yes, 'apple' is in the fruits list\n"
          ],
          "name": "stdout"
        }
      ]
    },
    {
      "cell_type": "markdown",
      "metadata": {
        "id": "WZe4PbIZcMlE",
        "colab_type": "text"
      },
      "source": [
        "## **6. List Length - len() function**\n",
        "\n",
        "- To determine how many items a list has, use the **len()** function.\n",
        "\n",
        "- Example : Print the number of items in the list."
      ]
    },
    {
      "cell_type": "code",
      "metadata": {
        "trusted": true,
        "id": "vabuxJyJcMlE",
        "colab_type": "code",
        "colab": {
          "base_uri": "https://localhost:8080/",
          "height": 34
        },
        "outputId": "318b66b3-0b03-4f02-8fd2-f6015b116d05"
      },
      "source": [
        "thislist = [\"apple\", \"banana\", \"cherry\"]\n",
        "print(len(thislist))"
      ],
      "execution_count": 11,
      "outputs": [
        {
          "output_type": "stream",
          "text": [
            "3\n"
          ],
          "name": "stdout"
        }
      ]
    },
    {
      "cell_type": "markdown",
      "metadata": {
        "id": "2QISt5kfcMlI",
        "colab_type": "text"
      },
      "source": [
        "## **7. Add Items**"
      ]
    },
    {
      "cell_type": "markdown",
      "metadata": {
        "id": "iXre1GgAcMlJ",
        "colab_type": "text"
      },
      "source": [
        "### 7.1 append() method\n",
        "\n",
        "- To add an item to the end of the list, use the **append()** method.\n",
        "\n",
        "- Example : Using the append() method to append an item."
      ]
    },
    {
      "cell_type": "code",
      "metadata": {
        "trusted": true,
        "id": "3UR24iaCcMlK",
        "colab_type": "code",
        "colab": {
          "base_uri": "https://localhost:8080/",
          "height": 34
        },
        "outputId": "69243a9b-c70c-4b53-b10d-1636ac8ee3fd"
      },
      "source": [
        "thislist = [\"apple\",\"banana\",\"cherry\"]\n",
        "thislist.append(\"orange\")\n",
        "print(thislist)"
      ],
      "execution_count": 12,
      "outputs": [
        {
          "output_type": "stream",
          "text": [
            "['apple', 'banana', 'cherry', 'orange']\n"
          ],
          "name": "stdout"
        }
      ]
    },
    {
      "cell_type": "markdown",
      "metadata": {
        "id": "9lRL4zGlcMlN",
        "colab_type": "text"
      },
      "source": [
        "### 7.2 insert() method\n",
        "\n",
        "- To add an item at the specified index, use the **insert()** method.\n",
        "\n",
        "- Example : Insert an item at the second position.\n"
      ]
    },
    {
      "cell_type": "code",
      "metadata": {
        "trusted": true,
        "id": "d8bLJjCCcMlO",
        "colab_type": "code",
        "colab": {
          "base_uri": "https://localhost:8080/",
          "height": 34
        },
        "outputId": "39381fce-d4c0-4836-dfbf-f9ee6f9d6858"
      },
      "source": [
        "thislist = [\"apple\",\"banana\",\"cherry\"]\n",
        "thislist.insert(1,\"orange\")\n",
        "print(thislist)"
      ],
      "execution_count": 13,
      "outputs": [
        {
          "output_type": "stream",
          "text": [
            "['apple', 'orange', 'banana', 'cherry']\n"
          ],
          "name": "stdout"
        }
      ]
    },
    {
      "cell_type": "markdown",
      "metadata": {
        "id": "tvDhS-oacMlV",
        "colab_type": "text"
      },
      "source": [
        "## **8. Remove Item**\n",
        "\n",
        "- There are several methods to remove items from a list."
      ]
    },
    {
      "cell_type": "markdown",
      "metadata": {
        "id": "mN_BFOeccMlW",
        "colab_type": "text"
      },
      "source": [
        "### 8.1 remove() method\n",
        "\n",
        "- The **remove()** method removes the specified item."
      ]
    },
    {
      "cell_type": "code",
      "metadata": {
        "trusted": true,
        "id": "mQXnfvadcMlX",
        "colab_type": "code",
        "colab": {
          "base_uri": "https://localhost:8080/",
          "height": 34
        },
        "outputId": "72d24d9d-72bc-4187-a70f-4bf4b4deca1e"
      },
      "source": [
        "thislist = [\"apple\", \"banana\", \"cherry\"]\n",
        "thislist.remove(\"banana\")\n",
        "print(thislist)"
      ],
      "execution_count": 14,
      "outputs": [
        {
          "output_type": "stream",
          "text": [
            "['apple', 'cherry']\n"
          ],
          "name": "stdout"
        }
      ]
    },
    {
      "cell_type": "markdown",
      "metadata": {
        "id": "erJjjiPFcMld",
        "colab_type": "text"
      },
      "source": [
        "### 8.2 pop() method\n",
        "\n",
        "- The **pop()** method removes the specified index, (or the last item if index is not specified)."
      ]
    },
    {
      "cell_type": "code",
      "metadata": {
        "trusted": true,
        "id": "UGvEHDaQcMle",
        "colab_type": "code",
        "colab": {
          "base_uri": "https://localhost:8080/",
          "height": 34
        },
        "outputId": "a5a88d84-b131-4348-f3bc-1c7f8b325a25"
      },
      "source": [
        "thislist = [\"apple\", \"banana\", \"cherry\"]\n",
        "thislist.pop()\n",
        "print(thislist)"
      ],
      "execution_count": 15,
      "outputs": [
        {
          "output_type": "stream",
          "text": [
            "['apple', 'banana']\n"
          ],
          "name": "stdout"
        }
      ]
    },
    {
      "cell_type": "markdown",
      "metadata": {
        "id": "80mIwEarcMlk",
        "colab_type": "text"
      },
      "source": [
        "### 8.3 del keyword\n",
        "\n",
        "- The **del** keyword removes the specified index."
      ]
    },
    {
      "cell_type": "code",
      "metadata": {
        "trusted": true,
        "id": "0zColiQ8cMll",
        "colab_type": "code",
        "colab": {
          "base_uri": "https://localhost:8080/",
          "height": 34
        },
        "outputId": "ce14b5de-e66c-4aa0-e380-949b05c72c9b"
      },
      "source": [
        "thislist = [\"apple\", \"banana\", \"cherry\"]\n",
        "del thislist[0]\n",
        "print(thislist)"
      ],
      "execution_count": 16,
      "outputs": [
        {
          "output_type": "stream",
          "text": [
            "['banana', 'cherry']\n"
          ],
          "name": "stdout"
        }
      ]
    },
    {
      "cell_type": "markdown",
      "metadata": {
        "id": "mOZTuV71cMlp",
        "colab_type": "text"
      },
      "source": [
        "### 8.4 del keyword\n",
        "\n",
        "- The del keyword can also delete the list completely."
      ]
    },
    {
      "cell_type": "code",
      "metadata": {
        "trusted": true,
        "id": "MOihRZZvcMlp",
        "colab_type": "code",
        "colab": {}
      },
      "source": [
        "thislist = [\"apple\", \"banana\", \"cherry\"]\n",
        "del thislist\n"
      ],
      "execution_count": 17,
      "outputs": []
    },
    {
      "cell_type": "markdown",
      "metadata": {
        "id": "xEfaYGOAcMlv",
        "colab_type": "text"
      },
      "source": [
        "### 8.5 clear() method\n",
        "\n",
        "- The **clear()** method empties the list."
      ]
    },
    {
      "cell_type": "code",
      "metadata": {
        "trusted": true,
        "id": "7ZKPeSWScMlv",
        "colab_type": "code",
        "colab": {
          "base_uri": "https://localhost:8080/",
          "height": 34
        },
        "outputId": "1acb0ebe-1cf2-4349-f968-91151baebd55"
      },
      "source": [
        "thislist = [\"apple\",\"banana\",\"cherry\"]\n",
        "thislist.clear()\n",
        "print(thislist)"
      ],
      "execution_count": 18,
      "outputs": [
        {
          "output_type": "stream",
          "text": [
            "[]\n"
          ],
          "name": "stdout"
        }
      ]
    },
    {
      "cell_type": "markdown",
      "metadata": {
        "id": "YgBUUCSScMly",
        "colab_type": "text"
      },
      "source": [
        "## **9. Copy a List**\n",
        "\n",
        "- You cannot copy a list simply by typing **list2 = list1** , \n",
        "- because: list2 will only be a reference to list1, and changes made in list1 will automatically also be made in list2."
      ]
    },
    {
      "cell_type": "markdown",
      "metadata": {
        "id": "9WfIYZfTcMl0",
        "colab_type": "text"
      },
      "source": [
        "### 9.1 copy() method\n",
        "\n",
        "- There are ways to make a copy, one way is to use the built-in List method **copy()**.\n",
        "\n",
        "- **Example** - Make a copy of a list with the **copy()** method."
      ]
    },
    {
      "cell_type": "code",
      "metadata": {
        "trusted": true,
        "id": "_7dS3kmvcMl1",
        "colab_type": "code",
        "colab": {
          "base_uri": "https://localhost:8080/",
          "height": 34
        },
        "outputId": "1636dd95-f47f-4c22-87c6-7ae1cbdaa86a"
      },
      "source": [
        "thislist = [\"apple\",\"banana\",\"cherry\"]\n",
        "mylist = thislist.copy()\n",
        "print(mylist)"
      ],
      "execution_count": 19,
      "outputs": [
        {
          "output_type": "stream",
          "text": [
            "['apple', 'banana', 'cherry']\n"
          ],
          "name": "stdout"
        }
      ]
    },
    {
      "cell_type": "markdown",
      "metadata": {
        "id": "eRZa70yFcMl6",
        "colab_type": "text"
      },
      "source": [
        "### 9.2 Built in method list()\n",
        "\n",
        "- Another way to make a copy is to use the built-in method list().\n",
        "\n",
        "- **Example** - Make a copy of a list with the list() method."
      ]
    },
    {
      "cell_type": "code",
      "metadata": {
        "trusted": true,
        "id": "tlCyCM-ZcMl6",
        "colab_type": "code",
        "colab": {
          "base_uri": "https://localhost:8080/",
          "height": 34
        },
        "outputId": "25a84abf-9756-44a3-fd89-e9bbaa215dac"
      },
      "source": [
        "thislist = [\"apple\",\"banana\",\"cherry\"]\n",
        "mylist = list(thislist)\n",
        "print(mylist)"
      ],
      "execution_count": 20,
      "outputs": [
        {
          "output_type": "stream",
          "text": [
            "['apple', 'banana', 'cherry']\n"
          ],
          "name": "stdout"
        }
      ]
    },
    {
      "cell_type": "markdown",
      "metadata": {
        "id": "mXhX0OhxcMmB",
        "colab_type": "text"
      },
      "source": [
        "## **10. Join Two Lists**\n",
        "\n",
        "- There are several ways to join, or concatenate, two or more lists in Python."
      ]
    },
    {
      "cell_type": "markdown",
      "metadata": {
        "id": "A-uzeIxHcMmC",
        "colab_type": "text"
      },
      "source": [
        "### 10.1 + Operator\n",
        "\n",
        "- One of the easiest ways are by using the + operator.\n",
        "\n",
        "- **Example** - Join two list."
      ]
    },
    {
      "cell_type": "code",
      "metadata": {
        "trusted": true,
        "id": "OcHEkNMJcMmE",
        "colab_type": "code",
        "colab": {
          "base_uri": "https://localhost:8080/",
          "height": 34
        },
        "outputId": "425be0e9-5a3d-405d-fdbc-c0ec51dc5afa"
      },
      "source": [
        "list1 = [\"a\",\"b\",\"c\"]\n",
        "list2 = [1,2,3]\n",
        "\n",
        "list3 = list1 + list2\n",
        "print(list3)"
      ],
      "execution_count": 21,
      "outputs": [
        {
          "output_type": "stream",
          "text": [
            "['a', 'b', 'c', 1, 2, 3]\n"
          ],
          "name": "stdout"
        }
      ]
    },
    {
      "cell_type": "markdown",
      "metadata": {
        "id": "ARozGpnacMmO",
        "colab_type": "text"
      },
      "source": [
        "### 10.2 Join two lists by appending them\n",
        "\n",
        "- Another way to join two lists are by appending all the items from list2 into list1, one by one."
      ]
    },
    {
      "cell_type": "code",
      "metadata": {
        "trusted": true,
        "id": "BJR33YHKcMmP",
        "colab_type": "code",
        "colab": {
          "base_uri": "https://localhost:8080/",
          "height": 34
        },
        "outputId": "445008fb-fded-4694-8ff5-84943a57fe68"
      },
      "source": [
        "list1 = [\"a\",\"b\",\"c\"]\n",
        "list2 = [1,2,3]\n",
        "\n",
        "for x in list2:\n",
        "    list1.append(x)\n",
        "    \n",
        "print(list1)"
      ],
      "execution_count": 22,
      "outputs": [
        {
          "output_type": "stream",
          "text": [
            "['a', 'b', 'c', 1, 2, 3]\n"
          ],
          "name": "stdout"
        }
      ]
    },
    {
      "cell_type": "markdown",
      "metadata": {
        "id": "cCqkSgy1cMmW",
        "colab_type": "text"
      },
      "source": [
        "### 10.3 extend() method\n",
        "\n",
        "- Use the extend() method to add list2 at the end of list1."
      ]
    },
    {
      "cell_type": "code",
      "metadata": {
        "trusted": true,
        "id": "V4BklcOfcMmY",
        "colab_type": "code",
        "colab": {
          "base_uri": "https://localhost:8080/",
          "height": 34
        },
        "outputId": "cad8f9b4-988d-4bcd-8840-9a6246014772"
      },
      "source": [
        "list1 = [\"a\", \"b\" , \"c\"]\n",
        "list2 = [1, 2, 3]\n",
        "\n",
        "list1.extend(list2)\n",
        "print(list1)"
      ],
      "execution_count": 23,
      "outputs": [
        {
          "output_type": "stream",
          "text": [
            "['a', 'b', 'c', 1, 2, 3]\n"
          ],
          "name": "stdout"
        }
      ]
    },
    {
      "cell_type": "markdown",
      "metadata": {
        "id": "haFlgccTcMmh",
        "colab_type": "text"
      },
      "source": [
        "## **11. The list() Constructor**\n",
        "\n",
        "- It is also possible to use the **list() constructor** to make a new list.\n",
        "\n",
        "- **Example** : Using the list() constructor to make a List:"
      ]
    },
    {
      "cell_type": "code",
      "metadata": {
        "trusted": true,
        "id": "kdSKB4GecMmh",
        "colab_type": "code",
        "colab": {
          "base_uri": "https://localhost:8080/",
          "height": 34
        },
        "outputId": "f4daa1cf-c538-479c-f020-cb8948d56c0e"
      },
      "source": [
        "thislist = list((\"apple\",\"banana\",\"cherry\"))  # note the double round-brackets\n",
        "print(thislist)"
      ],
      "execution_count": 24,
      "outputs": [
        {
          "output_type": "stream",
          "text": [
            "['apple', 'banana', 'cherry']\n"
          ],
          "name": "stdout"
        }
      ]
    },
    {
      "cell_type": "markdown",
      "metadata": {
        "id": "ix-LGcIbcMml",
        "colab_type": "text"
      },
      "source": [
        "# **12. List Methods**\n",
        "\n",
        "- Python has a set of built-in methods that you can use on lists.\n",
        "\n",
        "- Method\t- Description\n",
        "- append()\t- Adds an element at the end of the list\n",
        "- clear()\t- Removes all the elements from the list\n",
        "- copy()\t- Returns a copy of the list\n",
        "- count()\t- Returns the number of elements with the specified value\n",
        "- extend()\t- Add the elements of a list (or any iterable), to the end of the current list\n",
        "- index()\t- Returns the index of the first element with the specified value\n",
        "- insert()\t- Adds an element at the specified position\n",
        "- pop()\t    - Removes the element at the specified position\n",
        "- remove()\t- Removes the item with the specified value\n",
        "- reverse()\t- Reverses the order of the list\n",
        "- sort()\t- Sorts the list\n"
      ]
    }
  ]
}