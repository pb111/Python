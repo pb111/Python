{
  "nbformat": 4,
  "nbformat_minor": 0,
  "metadata": {
    "colab": {
      "name": "Variables, Constants and Literals",
      "provenance": [],
      "authorship_tag": "ABX9TyPYQst9Y2LD7IVacAU9ZrfT",
      "include_colab_link": true
    },
    "kernelspec": {
      "name": "python3",
      "display_name": "Python 3"
    }
  },
  "cells": [
    {
      "cell_type": "markdown",
      "metadata": {
        "id": "view-in-github",
        "colab_type": "text"
      },
      "source": [
        "<a href=\"https://colab.research.google.com/github/pb111/Python/blob/master/Variables%2C_Constants_and_Literals.ipynb\" target=\"_parent\"><img src=\"https://colab.research.google.com/assets/colab-badge.svg\" alt=\"Open In Colab\"/></a>"
      ]
    },
    {
      "cell_type": "markdown",
      "metadata": {
        "id": "rrDdqVrMsPR5",
        "colab_type": "text"
      },
      "source": [
        "# **Python Variables, Constants and Literals**"
      ]
    },
    {
      "cell_type": "markdown",
      "metadata": {
        "id": "sNNi9B7psdss",
        "colab_type": "text"
      },
      "source": [
        "In this tutorial, you will learn about Python variables, constants, literals and their use cases.\n"
      ]
    },
    {
      "cell_type": "markdown",
      "metadata": {
        "id": "Jy94yccOsrk8",
        "colab_type": "text"
      },
      "source": [
        "## **1. Variables**\n",
        "\n",
        "\n",
        "- A variable is a named location used to store data in the memory. It is helpful to think of variables as a container that holds data that can be changed later in the program. \n",
        "\n",
        "- For example:"
      ]
    },
    {
      "cell_type": "code",
      "metadata": {
        "id": "D-w9xrORs8J3",
        "colab_type": "code",
        "colab": {}
      },
      "source": [
        "number = 10"
      ],
      "execution_count": 1,
      "outputs": []
    },
    {
      "cell_type": "markdown",
      "metadata": {
        "id": "ICu-MPYptEKp",
        "colab_type": "text"
      },
      "source": [
        "Here, we have created a variable named number. We have assigned the value 10 to the variable."
      ]
    },
    {
      "cell_type": "markdown",
      "metadata": {
        "id": "vGyKFJTjtHJ5",
        "colab_type": "text"
      },
      "source": [
        "You can think of variables as a bag to store books in it and that book can be replaced at any time."
      ]
    },
    {
      "cell_type": "code",
      "metadata": {
        "id": "rM9_dHkotLSI",
        "colab_type": "code",
        "colab": {}
      },
      "source": [
        "number = 10\n",
        "number = 1.1\n"
      ],
      "execution_count": 2,
      "outputs": []
    },
    {
      "cell_type": "markdown",
      "metadata": {
        "id": "H95U4yC6tjcj",
        "colab_type": "text"
      },
      "source": [
        "- Initially, the value of number was 10. Later, it was changed to 1.1.\n",
        "\n",
        "- **Note**: In Python, we don't actually assign values to the variables. Instead, Python gives the reference of the object(value) to the variable."
      ]
    },
    {
      "cell_type": "markdown",
      "metadata": {
        "id": "8jg0QYhHq6gV",
        "colab_type": "text"
      },
      "source": [
        "### **1.1 Assigning values to Variables in Python**\n",
        "\n",
        "- As you can see from the above example, you can use the **assignment operator =** to assign a value to a variable."
      ]
    },
    {
      "cell_type": "markdown",
      "metadata": {
        "id": "xrTq1rqUrWrc",
        "colab_type": "text"
      },
      "source": [
        "#### **Example 1: Declaring and assigning value to a variable**"
      ]
    },
    {
      "cell_type": "code",
      "metadata": {
        "id": "gM-xmXv-rde8",
        "colab_type": "code",
        "colab": {
          "base_uri": "https://localhost:8080/",
          "height": 34
        },
        "outputId": "7a09c55e-535b-432a-c6b9-25ba896c5971"
      },
      "source": [
        "website = \"apple.com\"\n",
        "print(website)"
      ],
      "execution_count": 3,
      "outputs": [
        {
          "output_type": "stream",
          "text": [
            "apple.com\n"
          ],
          "name": "stdout"
        }
      ]
    },
    {
      "cell_type": "markdown",
      "metadata": {
        "id": "RUZy6vIAr2UR",
        "colab_type": "text"
      },
      "source": [
        "- In the above program, we assigned a value apple.com to the variable website. Then, we printed out the value assigned to website i.e. apple.com"
      ]
    },
    {
      "cell_type": "markdown",
      "metadata": {
        "id": "6A3ZbrI6sCTU",
        "colab_type": "text"
      },
      "source": [
        "- **Note**: Python is a [type-inferred](https://en.wikipedia.org/wiki/Type_inference) language, so you don't have to explicitly define the variable type. It automatically knows that apple.com is a string and declares the website variable as a string."
      ]
    },
    {
      "cell_type": "markdown",
      "metadata": {
        "id": "139r329ktYcJ",
        "colab_type": "text"
      },
      "source": [
        "#### **Example 2: Changing the value of a variable**"
      ]
    },
    {
      "cell_type": "code",
      "metadata": {
        "id": "N4k_R2drtdDB",
        "colab_type": "code",
        "colab": {
          "base_uri": "https://localhost:8080/",
          "height": 51
        },
        "outputId": "f802fb39-fc19-4d9e-b28d-a2288a56fddf"
      },
      "source": [
        "website = \"apple.com\"\n",
        "print(website)\n",
        "\n",
        "# assigning a new variable to website\n",
        "website = \"programiz.com\"\n",
        "\n",
        "print(website)"
      ],
      "execution_count": 4,
      "outputs": [
        {
          "output_type": "stream",
          "text": [
            "apple.com\n",
            "programiz.com\n"
          ],
          "name": "stdout"
        }
      ]
    },
    {
      "cell_type": "markdown",
      "metadata": {
        "id": "UC13bSgnw0zv",
        "colab_type": "text"
      },
      "source": [
        "- In the above program, we have assigned apple.com to the website variable initially. Then, the value is changed to programiz.com."
      ]
    },
    {
      "cell_type": "markdown",
      "metadata": {
        "id": "RrkEY3i1xDyD",
        "colab_type": "text"
      },
      "source": [
        "#### **Example 3: Assigning multiple values to multiple variables**"
      ]
    },
    {
      "cell_type": "code",
      "metadata": {
        "id": "6epDiqP9xLLk",
        "colab_type": "code",
        "colab": {
          "base_uri": "https://localhost:8080/",
          "height": 68
        },
        "outputId": "2c20ad07-b279-42f3-d353-e0ef021186f5"
      },
      "source": [
        "a, b, c = 5, 3.2, \"Hello\"\n",
        "\n",
        "print(a)\n",
        "print(b)\n",
        "print(c)"
      ],
      "execution_count": 5,
      "outputs": [
        {
          "output_type": "stream",
          "text": [
            "5\n",
            "3.2\n",
            "Hello\n"
          ],
          "name": "stdout"
        }
      ]
    },
    {
      "cell_type": "markdown",
      "metadata": {
        "id": "eerceyMBxh96",
        "colab_type": "text"
      },
      "source": [
        "- If we want to assign the same value to multiple variables at once, we can do this as:"
      ]
    },
    {
      "cell_type": "code",
      "metadata": {
        "id": "jBGrbEpMxj6O",
        "colab_type": "code",
        "colab": {
          "base_uri": "https://localhost:8080/",
          "height": 68
        },
        "outputId": "fde0b4a8-14da-4d56-b0eb-ba6cc5c9a9ea"
      },
      "source": [
        "x = y = z = \"same\"\n",
        "\n",
        "print(x)\n",
        "print(y)\n",
        "print(z)"
      ],
      "execution_count": 6,
      "outputs": [
        {
          "output_type": "stream",
          "text": [
            "same\n",
            "same\n",
            "same\n"
          ],
          "name": "stdout"
        }
      ]
    },
    {
      "cell_type": "markdown",
      "metadata": {
        "id": "DPZed2dsyQOS",
        "colab_type": "text"
      },
      "source": [
        "- The second program assigns the same string to all the three variables x, y and z."
      ]
    },
    {
      "cell_type": "markdown",
      "metadata": {
        "id": "VfEcDRrny2hT",
        "colab_type": "text"
      },
      "source": [
        "## **2. Constants**\n",
        "\n",
        "- A constant is a type of variable whose value cannot be changed. It is helpful to think of constants as containers that hold information which cannot be changed later.\n",
        "\n",
        "- You can think of constants as a bag to store some books which cannot be replaced once placed inside the bag.\n",
        "\n"
      ]
    },
    {
      "cell_type": "markdown",
      "metadata": {
        "id": "lnAS-CGAzH9C",
        "colab_type": "text"
      },
      "source": [
        "### **2.1 Assigning value to constant in Python**\n",
        "\n",
        "- In Python, constants are usually declared and assigned in a module. Here, the module is a new file containing variables, functions, etc which is imported to the main file. \n",
        "\n",
        "- Inside the module, constants are written in all capital letters and underscores separating the words."
      ]
    },
    {
      "cell_type": "markdown",
      "metadata": {
        "id": "1YLqNkH81odV",
        "colab_type": "text"
      },
      "source": [
        "#### **Example 4: Declaring and assigning value to a constant**\n",
        "\n",
        "Create a **constant.py**:\n",
        "\n",
        "- PI = 3.14\n",
        "- GRAVITY = 9.8\n",
        "\n",
        "==============================\n",
        "\n",
        "Create a **main.py**:\n",
        "\n",
        "- import constant\n",
        "\n",
        "- print(constant.PI)\n",
        "- print(constant.GRAVITY)\n",
        "\n",
        "==============================\n",
        "\n",
        "**Output**\n",
        "\n",
        "- 3.14\n",
        "- 9.8\n",
        "\n",
        "==============================\n",
        "\n",
        "**Explanation**\n",
        "\n",
        "- In the above program, we create a constant.py module file. Then, we assign the constant value to PI and GRAVITY. After that, we create a main.py file and import the constant module. Finally, we print the constant value.\n",
        "\n"
      ]
    },
    {
      "cell_type": "markdown",
      "metadata": {
        "id": "ApEcwpHq5tlq",
        "colab_type": "text"
      },
      "source": [
        "- **Note**: In reality, we don't use constants in Python. Naming them in all capital letters is a convention to separate them from variables, however, it does not actually prevent reassignment."
      ]
    },
    {
      "cell_type": "markdown",
      "metadata": {
        "id": "eXt9dv7a7vjm",
        "colab_type": "text"
      },
      "source": [
        "### **Rules and Naming Convention for Variables and constants**\n",
        "\n",
        "\n",
        "1. Constant and variable names should have a combination of letters in lowercase (a to z) or uppercase (A to Z) or digits (0 to 9) or an underscore (_). For example:\n",
        "\n",
        "- snake_case\n",
        "- MACRO_CASE\n",
        "- camelCase\n",
        "- CapWords\n",
        "\n",
        "2. Create a name that makes sense. For example, vowel makes more sense than v.\n",
        "\n",
        "3. If you want to create a variable name having two words, use underscore to separate them. For example:\n",
        "\n",
        "- my_name\n",
        "- current_salary\n",
        "\n",
        "4. Use capital letters possible to declare a constant. For example:\n",
        "\n",
        "- PI\n",
        "- G\n",
        "- MASS\n",
        "- SPEED_OF_LIGHT\n",
        "- TEMP\n",
        "\n",
        "5. Never use special symbols like !, @, #, $, %, etc.\n",
        "\n",
        "6. Don't start a variable name with a digit."
      ]
    },
    {
      "cell_type": "markdown",
      "metadata": {
        "id": "q4Dxq1qO87Rd",
        "colab_type": "text"
      },
      "source": [
        "## **3. Literals**\n",
        "\n",
        "\n",
        "- Literal is a raw data given in a variable or constant. In Python, there are various types of literals they are as follows:"
      ]
    },
    {
      "cell_type": "markdown",
      "metadata": {
        "id": "8GUL6FsSERkl",
        "colab_type": "text"
      },
      "source": [
        "### **3.1 Numeric Literals**\n",
        "\n",
        "Numeric Literals are immutable (unchangeable). \n",
        "\n",
        "Numeric literals can belong to 3 different numerical types: \n",
        "\n",
        "- Integer, \n",
        "- Float, and \n",
        "- Complex."
      ]
    },
    {
      "cell_type": "markdown",
      "metadata": {
        "id": "vu4iICETGlhh",
        "colab_type": "text"
      },
      "source": [
        "#### **Example 5: How to use Numeric literals in Python?**"
      ]
    },
    {
      "cell_type": "code",
      "metadata": {
        "id": "XuHFxL-2Gogh",
        "colab_type": "code",
        "colab": {
          "base_uri": "https://localhost:8080/",
          "height": 68
        },
        "outputId": "048cd255-3957-420d-c913-1acb86d9faf4"
      },
      "source": [
        "a = 0b1010 #Binary Literals\n",
        "b = 100 #Decimal Literal \n",
        "c = 0o310 #Octal Literal\n",
        "d = 0x12c #Hexadecimal Literal\n",
        "\n",
        "#Float Literal\n",
        "float_1 = 10.5 \n",
        "float_2 = 1.5e2\n",
        "\n",
        "#Complex Literal \n",
        "x = 3.14j\n",
        "\n",
        "print(a, b, c, d)\n",
        "print(float_1, float_2)\n",
        "print(x, x.imag, x.real)"
      ],
      "execution_count": 7,
      "outputs": [
        {
          "output_type": "stream",
          "text": [
            "10 100 200 300\n",
            "10.5 150.0\n",
            "3.14j 3.14 0.0\n"
          ],
          "name": "stdout"
        }
      ]
    },
    {
      "cell_type": "markdown",
      "metadata": {
        "id": "UXVlunKDI8cI",
        "colab_type": "text"
      },
      "source": [
        "In the above program,\n",
        "\n",
        "- We assigned integer literals into different variables. Here, a is binary literal, b is a decimal literal, c is an octal literal and d is a hexadecimal literal.\n",
        "\n",
        "- When we print the variables, all the literals are converted into decimal values.\n",
        "\n",
        "- 10.5 and 1.5e2 are floating-point literals. 1.5e2 is expressed with exponential and is equivalent to 1.5 * 10 ^ 2.\n",
        "\n",
        "- We assigned a complex literal i.e 3.14j in variable x. Then we use imaginary literal (x.imag) and real literal (x.real) to create imaginary and real parts of complex numbers."
      ]
    },
    {
      "cell_type": "markdown",
      "metadata": {
        "id": "vSvS0KZHJkBt",
        "colab_type": "text"
      },
      "source": [
        "- To learn more about Numeric Literals, refer to [Python Numbers](https://www.programiz.com/python-programming/numbers)."
      ]
    },
    {
      "cell_type": "markdown",
      "metadata": {
        "id": "Ebi3CRj0JttH",
        "colab_type": "text"
      },
      "source": [
        "### **3.2 String Literals**\n",
        "\n",
        "- A string literal is a sequence of characters surrounded by quotes. We can use both single, double, or triple quotes for a string. And, a character literal is a single character surrounded by single or double quotes."
      ]
    },
    {
      "cell_type": "markdown",
      "metadata": {
        "id": "21bMAbTaKeXZ",
        "colab_type": "text"
      },
      "source": [
        "#### **Example 6: How to use string literals in Python?**"
      ]
    },
    {
      "cell_type": "code",
      "metadata": {
        "id": "QM0LZ-5DKqob",
        "colab_type": "code",
        "colab": {
          "base_uri": "https://localhost:8080/",
          "height": 102
        },
        "outputId": "5e11b040-ae32-4ca9-e56a-2774818ef824"
      },
      "source": [
        "strings = \"This is Python\"\n",
        "char = \"C\"\n",
        "multiline_str = \"\"\"This is a multiline string with more than one line code.\"\"\"\n",
        "unicode = u\"\\u00dcnic\\u00f6de\"\n",
        "raw_str = r\"raw \\n string\"\n",
        "\n",
        "print(strings)\n",
        "print(char)\n",
        "print(multiline_str)\n",
        "print(unicode)\n",
        "print(raw_str)"
      ],
      "execution_count": 8,
      "outputs": [
        {
          "output_type": "stream",
          "text": [
            "This is Python\n",
            "C\n",
            "This is a multiline string with more than one line code.\n",
            "Ünicöde\n",
            "raw \\n string\n"
          ],
          "name": "stdout"
        }
      ]
    },
    {
      "cell_type": "markdown",
      "metadata": {
        "id": "t96h2c4ZK-jT",
        "colab_type": "text"
      },
      "source": [
        "- In the above program, This is Python is a string literal and C is a character literal.\n",
        "\n",
        "- The value in triple-quotes \"\"\" assigned to the multiline_str is a multi-line string literal.\n",
        "\n",
        "- The string u\"\\u00dcnic\\u00f6de\" is a Unicode literal which supports characters other than English. In this case, \\u00dc represents Ü and \\u00f6 represents ö.\n",
        "\n",
        "- r\"raw \\n string\" is a raw string literal."
      ]
    },
    {
      "cell_type": "markdown",
      "metadata": {
        "id": "UfEsQOHNLYTB",
        "colab_type": "text"
      },
      "source": [
        "### **3.3 Boolean literals**\n",
        "\n",
        "- A Boolean literal can have any of the two values: True or False."
      ]
    },
    {
      "cell_type": "markdown",
      "metadata": {
        "id": "DMsx2vvkLiZP",
        "colab_type": "text"
      },
      "source": [
        "#### **Example 7: How to use boolean literals in Python?**"
      ]
    },
    {
      "cell_type": "code",
      "metadata": {
        "id": "JSu4oDtCPvJR",
        "colab_type": "code",
        "colab": {}
      },
      "source": [
        ""
      ],
      "execution_count": 8,
      "outputs": []
    },
    {
      "cell_type": "code",
      "metadata": {
        "id": "vTs-8rjHLw8A",
        "colab_type": "code",
        "colab": {
          "base_uri": "https://localhost:8080/",
          "height": 85
        },
        "outputId": "ebf41595-7475-4b3e-f644-28254ec085d6"
      },
      "source": [
        "x = (1 == True)\n",
        "y = (1 == False)\n",
        "a = True + 4\n",
        "b = False + 10\n",
        "\n",
        "print(\"x is\", x)\n",
        "print(\"y is\", y)\n",
        "print(\"a:\", a)\n",
        "print(\"b:\", b)"
      ],
      "execution_count": 9,
      "outputs": [
        {
          "output_type": "stream",
          "text": [
            "x is True\n",
            "y is False\n",
            "a: 5\n",
            "b: 10\n"
          ],
          "name": "stdout"
        }
      ]
    },
    {
      "cell_type": "markdown",
      "metadata": {
        "id": "KBR66NGxO1KM",
        "colab_type": "text"
      },
      "source": [
        "- In the above program, we use boolean literal True and False. \n",
        "\n",
        "- In Python, **True represents the value as 1 and False as 0**. \n",
        "\n",
        "- The value of x is True because 1 is equal to True. And, the value of y is False because 1 is not equal to False.\n",
        "\n",
        "- Similarly, we can use the True and False in numeric expressions as the value. The value of a is 5 because we add True which has a value of 1 with 4. Similarly, b is 10 because we add the False having value of 0 with 10."
      ]
    },
    {
      "cell_type": "markdown",
      "metadata": {
        "id": "oWDxf5ZQPMEZ",
        "colab_type": "text"
      },
      "source": [
        "### **3.4 Special literals**\n",
        "\n",
        "- Python contains one special literal i.e. None. We use it to specify that the field has not been created."
      ]
    },
    {
      "cell_type": "markdown",
      "metadata": {
        "id": "Ulxd563PPe5I",
        "colab_type": "text"
      },
      "source": [
        "#### **Example 8: How to use special literals in Python?**"
      ]
    },
    {
      "cell_type": "code",
      "metadata": {
        "id": "RvCktqHnPlRJ",
        "colab_type": "code",
        "colab": {
          "base_uri": "https://localhost:8080/",
          "height": 51
        },
        "outputId": "f91d07a2-cab7-4abd-d77e-c64e1286cc62"
      },
      "source": [
        "drink = \"Available\"\n",
        "food = None\n",
        "\n",
        "def menu(x):\n",
        "    if x == drink:\n",
        "        print(drink)\n",
        "    else:\n",
        "        print(food)\n",
        "\n",
        "menu(drink)\n",
        "menu(food)"
      ],
      "execution_count": 10,
      "outputs": [
        {
          "output_type": "stream",
          "text": [
            "Available\n",
            "None\n"
          ],
          "name": "stdout"
        }
      ]
    },
    {
      "cell_type": "markdown",
      "metadata": {
        "id": "ppyrvcQLQFsf",
        "colab_type": "text"
      },
      "source": [
        "In the above program, we define a menu function. Inside menu, when we set the argument as drink then, it displays Available. And, when the argument is food, it displays None.\n",
        "\n"
      ]
    },
    {
      "cell_type": "markdown",
      "metadata": {
        "id": "0ddcUrSzQkNz",
        "colab_type": "text"
      },
      "source": [
        "### **3.5 Literal Collections**\n",
        "\n",
        "There are four different literal collections \n",
        "\n",
        "- List literals, \n",
        "- Tuple literals, \n",
        "- Dict literals, and \n",
        "- Set literals."
      ]
    },
    {
      "cell_type": "markdown",
      "metadata": {
        "id": "JfpL1DJoRS4T",
        "colab_type": "text"
      },
      "source": [
        "#### **Example 9: How to use literals collections in Python?**"
      ]
    },
    {
      "cell_type": "code",
      "metadata": {
        "id": "drF9eDFKRWcu",
        "colab_type": "code",
        "colab": {
          "base_uri": "https://localhost:8080/",
          "height": 85
        },
        "outputId": "7b6fbb02-56c6-484a-b944-0be08cd545b5"
      },
      "source": [
        "fruits = [\"apple\", \"mango\", \"orange\"] #list\n",
        "numbers = (1, 2, 3) #tuple\n",
        "alphabets = {'a':'apple', 'b':'ball', 'c':'cat'} #dictionary\n",
        "vowels = {'a', 'e', 'i' , 'o', 'u'} #set\n",
        "\n",
        "print(fruits)\n",
        "print(numbers)\n",
        "print(alphabets)\n",
        "print(vowels)"
      ],
      "execution_count": 11,
      "outputs": [
        {
          "output_type": "stream",
          "text": [
            "['apple', 'mango', 'orange']\n",
            "(1, 2, 3)\n",
            "{'a': 'apple', 'b': 'ball', 'c': 'cat'}\n",
            "{'a', 'u', 'e', 'o', 'i'}\n"
          ],
          "name": "stdout"
        }
      ]
    },
    {
      "cell_type": "markdown",
      "metadata": {
        "id": "m5qBxJxGRhfR",
        "colab_type": "text"
      },
      "source": [
        "- In the above program, we created a list of fruits, a tuple of numbers, a dictionary dict having values with keys designated to each value and a set of vowels.\n",
        "\n"
      ]
    },
    {
      "cell_type": "markdown",
      "metadata": {
        "id": "FY7FtnvXRmxu",
        "colab_type": "text"
      },
      "source": [
        "- To learn more about literal collections, refer to [Python Data Types](https://www.programiz.com/python-programming/variables-datatypes)."
      ]
    }
  ]
}