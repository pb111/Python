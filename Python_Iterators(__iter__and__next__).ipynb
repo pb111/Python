{
  "nbformat": 4,
  "nbformat_minor": 0,
  "metadata": {
    "colab": {
      "name": "Python Iterators(__iter__and__next__)",
      "provenance": [],
      "authorship_tag": "ABX9TyO9iy+q1G4BwRHw+E2bJLvu",
      "include_colab_link": true
    },
    "kernelspec": {
      "name": "python3",
      "display_name": "Python 3"
    }
  },
  "cells": [
    {
      "cell_type": "markdown",
      "metadata": {
        "id": "view-in-github",
        "colab_type": "text"
      },
      "source": [
        "<a href=\"https://colab.research.google.com/github/pb111/Python-tutorials-and-projects/blob/master/Python_Iterators(__iter__and__next__).ipynb\" target=\"_parent\"><img src=\"https://colab.research.google.com/assets/colab-badge.svg\" alt=\"Open In Colab\"/></a>"
      ]
    },
    {
      "cell_type": "markdown",
      "metadata": {
        "id": "IyEszCUkODRt"
      },
      "source": [
        "# **Python Iterators(`__iter__and__next__`)**\r\n",
        "\r\n",
        "- **Iterators** are objects that can be iterated upon. \r\n",
        "\r\n",
        "- In this tutorial, you will learn how iterator works and how you can build your own iterator using `__iter__ and __next__` methods."
      ]
    },
    {
      "cell_type": "markdown",
      "metadata": {
        "id": "PPj09v0Nm13z"
      },
      "source": [
        "## **1. Iterators in Python**\r\n",
        "\r\n",
        "- Iterators are everywhere in Python. They are elegantly implemented within `for` loops, comprehensions, generators etc. but are hidden in plain sight.\r\n",
        "\r\n",
        "- Iterator in Python is simply an [object](https://www.programiz.com/python-programming/class) that can be iterated upon. An object which will return data, one element at a time.\r\n",
        "\r\n",
        "- Technically speaking, a Python iterator object must implement two special methods, `__iter__()` and `__next__()`, collectively called the **iterator protocol**.\r\n",
        "\r\n",
        "- An object is called **iterable** if we can get an iterator from it. Most built-in containers in Python like: [list](https://www.programiz.com/python-programming/list), [tuple](https://www.programiz.com/python-programming/tuple), [string](https://www.programiz.com/python-programming/string) etc. are iterables.\r\n",
        "\r\n",
        "- The `iter()` function (which in turn calls the `__iter__()` method) returns an iterator from them."
      ]
    },
    {
      "cell_type": "markdown",
      "metadata": {
        "id": "yaHnUqnenBjE"
      },
      "source": [
        "## **2. Iterating Through an Iterator**\r\n",
        "\r\n",
        "- We use the `next()` function to manually iterate through all the items of an iterator. When we reach the end and there is no more data to be returned, it will raise the `StopIteration` Exception. \r\n",
        "\r\n",
        "- Following is an example."
      ]
    },
    {
      "cell_type": "code",
      "metadata": {
        "colab": {
          "base_uri": "https://localhost:8080/",
          "height": 265
        },
        "id": "4bJC-QJb10LL",
        "outputId": "1d805632-6a89-4d93-8c42-8b7a5ecbc320"
      },
      "source": [
        "# define a list\r\n",
        "my_list = [4, 7, 0, 3]\r\n",
        "\r\n",
        "# get an iterator using iter()\r\n",
        "my_iter = iter(my_list)\r\n",
        "\r\n",
        "# iterate through it using next()\r\n",
        "\r\n",
        "# Output : 4\r\n",
        "print(next(my_iter))\r\n",
        "\r\n",
        "# Output : 7\r\n",
        "print(next(my_iter))\r\n",
        "\r\n",
        "# next(obj) is same as obj.__next__()\r\n",
        "\r\n",
        "# Output : 0\r\n",
        "print(my_iter.__next__())\r\n",
        "\r\n",
        "# Output : 3\r\n",
        "print(my_iter.__next__())\r\n",
        "\r\n",
        "# This will raise error, no items left\r\n",
        "next(my_iter)"
      ],
      "execution_count": 1,
      "outputs": [
        {
          "output_type": "stream",
          "text": [
            "4\n",
            "7\n",
            "0\n",
            "3\n"
          ],
          "name": "stdout"
        },
        {
          "output_type": "error",
          "ename": "StopIteration",
          "evalue": "ignored",
          "traceback": [
            "\u001b[0;31m---------------------------------------------------------------------------\u001b[0m",
            "\u001b[0;31mStopIteration\u001b[0m                             Traceback (most recent call last)",
            "\u001b[0;32m<ipython-input-1-e11a40d24a75>\u001b[0m in \u001b[0;36m<module>\u001b[0;34m()\u001b[0m\n\u001b[1;32m     22\u001b[0m \u001b[0;34m\u001b[0m\u001b[0m\n\u001b[1;32m     23\u001b[0m \u001b[0;31m# This will raise error, no items left\u001b[0m\u001b[0;34m\u001b[0m\u001b[0;34m\u001b[0m\u001b[0;34m\u001b[0m\u001b[0m\n\u001b[0;32m---> 24\u001b[0;31m \u001b[0mnext\u001b[0m\u001b[0;34m(\u001b[0m\u001b[0mmy_iter\u001b[0m\u001b[0;34m)\u001b[0m\u001b[0;34m\u001b[0m\u001b[0;34m\u001b[0m\u001b[0m\n\u001b[0m",
            "\u001b[0;31mStopIteration\u001b[0m: "
          ]
        }
      ]
    },
    {
      "cell_type": "markdown",
      "metadata": {
        "id": "2j_8cFJu3oxG"
      },
      "source": [
        "- A more elegant way of automatically iterating is by using the [for loop](https://www.programiz.com/python-programming/for-loop). Using this, we can iterate over any object that can return an iterator, for example list, string, file etc."
      ]
    },
    {
      "cell_type": "code",
      "metadata": {
        "colab": {
          "base_uri": "https://localhost:8080/"
        },
        "id": "s9jt0TPA3PS3",
        "outputId": "de7aa690-7233-451f-90ae-bfe1efa5ab77"
      },
      "source": [
        "for element in my_list:\r\n",
        "    print(element)"
      ],
      "execution_count": 2,
      "outputs": [
        {
          "output_type": "stream",
          "text": [
            "4\n",
            "7\n",
            "0\n",
            "3\n"
          ],
          "name": "stdout"
        }
      ]
    },
    {
      "cell_type": "markdown",
      "metadata": {
        "id": "cgvFumjXnMkT"
      },
      "source": [
        "## **3. Working of for loop for Iterators**\r\n",
        "\r\n",
        "- As we see in the above example, the `for` loop was able to iterate automatically through the list.\r\n",
        "\r\n",
        "- In fact the `for` loop can iterate over any iterable. Let's take a closer look at how the `for` loop is actually implemented in Python."
      ]
    },
    {
      "cell_type": "markdown",
      "metadata": {
        "id": "-BKaE0Ec5iu0"
      },
      "source": [
        "- `for element in iterable:`\r\n",
        "   - `# do something with element`"
      ]
    },
    {
      "cell_type": "markdown",
      "metadata": {
        "id": "Li4GcYzs6Je1"
      },
      "source": [
        "- Is actually implemented as."
      ]
    },
    {
      "cell_type": "code",
      "metadata": {
        "colab": {
          "base_uri": "https://localhost:8080/",
          "height": 231
        },
        "id": "6LCY3noD5dz3",
        "outputId": "c011a721-58db-488c-f495-444766f9394a"
      },
      "source": [
        "# create an iterator object from that iterable\r\n",
        "iter_obj = iter(iterable)\r\n",
        "\r\n",
        "    # infinite loop\r\n",
        "    while True:\r\n",
        "        try:\r\n",
        "            # get the next item\r\n",
        "            element = next(iter_obj)\r\n",
        "            # do something with element\r\n",
        "        except StopIteration:\r\n",
        "            # if StopIteration is raised, break from loop\r\n",
        "            break"
      ],
      "execution_count": 5,
      "outputs": [
        {
          "output_type": "error",
          "ename": "NameError",
          "evalue": "ignored",
          "traceback": [
            "\u001b[0;31m---------------------------------------------------------------------------\u001b[0m",
            "\u001b[0;31mNameError\u001b[0m                                 Traceback (most recent call last)",
            "\u001b[0;32m<ipython-input-5-a238dc2232a8>\u001b[0m in \u001b[0;36m<module>\u001b[0;34m()\u001b[0m\n\u001b[0;32m----> 1\u001b[0;31m \u001b[0;32mfor\u001b[0m \u001b[0melement\u001b[0m \u001b[0;32min\u001b[0m \u001b[0miterable\u001b[0m\u001b[0;34m:\u001b[0m\u001b[0;34m\u001b[0m\u001b[0;34m\u001b[0m\u001b[0m\n\u001b[0m\u001b[1;32m      2\u001b[0m \u001b[0;34m\u001b[0m\u001b[0m\n\u001b[1;32m      3\u001b[0m     \u001b[0;31m# create an iterator object from that iterable\u001b[0m\u001b[0;34m\u001b[0m\u001b[0;34m\u001b[0m\u001b[0;34m\u001b[0m\u001b[0m\n\u001b[1;32m      4\u001b[0m     \u001b[0miter_obj\u001b[0m \u001b[0;34m=\u001b[0m \u001b[0miter\u001b[0m\u001b[0;34m(\u001b[0m\u001b[0miterable\u001b[0m\u001b[0;34m)\u001b[0m\u001b[0;34m\u001b[0m\u001b[0;34m\u001b[0m\u001b[0m\n\u001b[1;32m      5\u001b[0m \u001b[0;34m\u001b[0m\u001b[0m\n",
            "\u001b[0;31mNameError\u001b[0m: name 'iterable' is not defined"
          ]
        }
      ]
    },
    {
      "cell_type": "markdown",
      "metadata": {
        "id": "jAVGShGJ7jLN"
      },
      "source": [
        "- So internally, the `for` loop creates an iterator object, `iter_obj` by calling `iter()` on the iterable.\r\n",
        "\r\n",
        "- Ironically, this `for` loop is actually an infinite [while loop](https://www.programiz.com/python-programming/while-loop).\r\n",
        "\r\n",
        "- Inside the loop, it calls `next()` to get the next element and executes the body of the `for` loop with this value. After all the items exhaust, `StopIteration` is raised which is internally caught and the loop ends. Note that any other kind of exception will pass through."
      ]
    },
    {
      "cell_type": "markdown",
      "metadata": {
        "id": "fSH4K99ty-eb"
      },
      "source": [
        "## **4. Building Custom Iterators**\r\n",
        "\r\n",
        "- Building an iterator from scratch is easy in Python. We just have to implement the `__iter__()` and the `__next__()` methods.\r\n",
        "\r\n",
        "- The `__iter__()` method returns the iterator object itself. If required, some initialization can be performed.\r\n",
        "\r\n",
        "- The `__next__()` method must return the next item in the sequence. On reaching the end, and in subsequent calls, it must raise `StopIteration`.\r\n",
        "\r\n",
        "- Here, we show an example that will give us the next power of 2 in each iteration. Power exponent starts from zero up to a user set number.\r\n",
        "\r\n",
        "- If you do not have any idea about object-oriented programming, visit [Python Object-Oriented Programming](https://www.programiz.com/python-programming/object-oriented-programming)."
      ]
    },
    {
      "cell_type": "code",
      "metadata": {
        "colab": {
          "base_uri": "https://localhost:8080/",
          "height": 384
        },
        "id": "MPpQZjBfBAjX",
        "outputId": "8d67e205-c319-408f-d300-a42dcdccaf6e"
      },
      "source": [
        "class PowTwo:\r\n",
        "    \"\"\"Class to implement an iterator\r\n",
        "    of powers of two\"\"\"\r\n",
        "\r\n",
        "    def __init__(self, max=0):\r\n",
        "        self.max = max\r\n",
        "\r\n",
        "    def __iter__(self):\r\n",
        "        self.n = 0\r\n",
        "        return self\r\n",
        "\r\n",
        "    def __next__(self):\r\n",
        "        if self.n <= self.max:\r\n",
        "            result = 2 ** self.n\r\n",
        "            self.n += 1\r\n",
        "            return result\r\n",
        "        else:\r\n",
        "            raise StopIteration\r\n",
        "\r\n",
        "\r\n",
        "# create an object\r\n",
        "numbers = PowTwo(3)\r\n",
        "\r\n",
        "# create an iterable from the object\r\n",
        "i = iter(numbers)\r\n",
        "\r\n",
        "# Using next to get to the next iterator element\r\n",
        "print(next(i))\r\n",
        "print(next(i))\r\n",
        "print(next(i))\r\n",
        "print(next(i))\r\n",
        "print(next(i))"
      ],
      "execution_count": 6,
      "outputs": [
        {
          "output_type": "stream",
          "text": [
            "1\n",
            "2\n",
            "4\n",
            "8\n"
          ],
          "name": "stdout"
        },
        {
          "output_type": "error",
          "ename": "StopIteration",
          "evalue": "ignored",
          "traceback": [
            "\u001b[0;31m---------------------------------------------------------------------------\u001b[0m",
            "\u001b[0;31mStopIteration\u001b[0m                             Traceback (most recent call last)",
            "\u001b[0;32m<ipython-input-6-e79078ee3bcd>\u001b[0m in \u001b[0;36m<module>\u001b[0;34m()\u001b[0m\n\u001b[1;32m     30\u001b[0m \u001b[0mprint\u001b[0m\u001b[0;34m(\u001b[0m\u001b[0mnext\u001b[0m\u001b[0;34m(\u001b[0m\u001b[0mi\u001b[0m\u001b[0;34m)\u001b[0m\u001b[0;34m)\u001b[0m\u001b[0;34m\u001b[0m\u001b[0;34m\u001b[0m\u001b[0m\n\u001b[1;32m     31\u001b[0m \u001b[0mprint\u001b[0m\u001b[0;34m(\u001b[0m\u001b[0mnext\u001b[0m\u001b[0;34m(\u001b[0m\u001b[0mi\u001b[0m\u001b[0;34m)\u001b[0m\u001b[0;34m)\u001b[0m\u001b[0;34m\u001b[0m\u001b[0;34m\u001b[0m\u001b[0m\n\u001b[0;32m---> 32\u001b[0;31m \u001b[0mprint\u001b[0m\u001b[0;34m(\u001b[0m\u001b[0mnext\u001b[0m\u001b[0;34m(\u001b[0m\u001b[0mi\u001b[0m\u001b[0;34m)\u001b[0m\u001b[0;34m)\u001b[0m\u001b[0;34m\u001b[0m\u001b[0;34m\u001b[0m\u001b[0m\n\u001b[0m",
            "\u001b[0;32m<ipython-input-6-e79078ee3bcd>\u001b[0m in \u001b[0;36m__next__\u001b[0;34m(self)\u001b[0m\n\u001b[1;32m     16\u001b[0m             \u001b[0;32mreturn\u001b[0m \u001b[0mresult\u001b[0m\u001b[0;34m\u001b[0m\u001b[0;34m\u001b[0m\u001b[0m\n\u001b[1;32m     17\u001b[0m         \u001b[0;32melse\u001b[0m\u001b[0;34m:\u001b[0m\u001b[0;34m\u001b[0m\u001b[0;34m\u001b[0m\u001b[0m\n\u001b[0;32m---> 18\u001b[0;31m             \u001b[0;32mraise\u001b[0m \u001b[0mStopIteration\u001b[0m\u001b[0;34m\u001b[0m\u001b[0;34m\u001b[0m\u001b[0m\n\u001b[0m\u001b[1;32m     19\u001b[0m \u001b[0;34m\u001b[0m\u001b[0m\n\u001b[1;32m     20\u001b[0m \u001b[0;34m\u001b[0m\u001b[0m\n",
            "\u001b[0;31mStopIteration\u001b[0m: "
          ]
        }
      ]
    },
    {
      "cell_type": "markdown",
      "metadata": {
        "id": "sQ0sfoh_CBSU"
      },
      "source": [
        "- We can also use a `for` loop to iterate over our iterator class."
      ]
    },
    {
      "cell_type": "code",
      "metadata": {
        "colab": {
          "base_uri": "https://localhost:8080/"
        },
        "id": "Buk-3n7NBiw4",
        "outputId": "76eb4a37-07e5-4ba2-ee75-ce142ee4976d"
      },
      "source": [
        "for i in PowTwo(5):\r\n",
        "    print(i)"
      ],
      "execution_count": 7,
      "outputs": [
        {
          "output_type": "stream",
          "text": [
            "1\n",
            "2\n",
            "4\n",
            "8\n",
            "16\n",
            "32\n"
          ],
          "name": "stdout"
        }
      ]
    },
    {
      "cell_type": "markdown",
      "metadata": {
        "id": "G-E9nxGZzI49"
      },
      "source": [
        "## **5. Python Infinite Iterators**\r\n",
        "\r\n",
        "- It is not necessary that the item in an iterator object has to be exhausted. There can be infinite iterators (which never ends). We must be careful when handling such iterators.\r\n",
        "\r\n",
        "- Here is a simple example to demonstrate infinite iterators.\r\n",
        "\r\n",
        "- The [built-in function](https://www.programiz.com/python-programming/methods/built-in) `iter()` function can be called with two arguments where the first argument must be a callable object (function) and second is the sentinel. The iterator calls this function until the returned value is equal to the sentinel."
      ]
    },
    {
      "cell_type": "code",
      "metadata": {
        "colab": {
          "base_uri": "https://localhost:8080/"
        },
        "id": "KXMkZQZcEc2r",
        "outputId": "6a99aa61-87ec-40fa-e80b-afb4ad9546ab"
      },
      "source": [
        "int()"
      ],
      "execution_count": 8,
      "outputs": [
        {
          "output_type": "execute_result",
          "data": {
            "text/plain": [
              "0"
            ]
          },
          "metadata": {
            "tags": []
          },
          "execution_count": 8
        }
      ]
    },
    {
      "cell_type": "code",
      "metadata": {
        "colab": {
          "base_uri": "https://localhost:8080/"
        },
        "id": "p8z0zBo5EtAG",
        "outputId": "b334070b-d8b3-410f-ff0f-cb2cbf261192"
      },
      "source": [
        "inf = iter(int,1)\r\n",
        "next(inf)"
      ],
      "execution_count": 9,
      "outputs": [
        {
          "output_type": "execute_result",
          "data": {
            "text/plain": [
              "0"
            ]
          },
          "metadata": {
            "tags": []
          },
          "execution_count": 9
        }
      ]
    },
    {
      "cell_type": "code",
      "metadata": {
        "colab": {
          "base_uri": "https://localhost:8080/"
        },
        "id": "E_NScxckEw3f",
        "outputId": "5ef77ca0-63bb-405a-b6f8-ed8925cd71e8"
      },
      "source": [
        "next(inf)"
      ],
      "execution_count": 10,
      "outputs": [
        {
          "output_type": "execute_result",
          "data": {
            "text/plain": [
              "0"
            ]
          },
          "metadata": {
            "tags": []
          },
          "execution_count": 10
        }
      ]
    },
    {
      "cell_type": "markdown",
      "metadata": {
        "id": "C8WeMUi7E6QV"
      },
      "source": [
        "- We can see that the `int()` function always returns 0. \r\n",
        "\r\n",
        "- So passing it as `iter(int,1)` will return an iterator that calls `int()` until the returned value equals 1. \r\n",
        "\r\n",
        "- This never happens and we get an infinite iterator."
      ]
    },
    {
      "cell_type": "markdown",
      "metadata": {
        "id": "lnbH_FssFO0b"
      },
      "source": [
        "- We can also build our own infinite iterators. The following iterator will, theoretically, return all the odd numbers."
      ]
    },
    {
      "cell_type": "code",
      "metadata": {
        "id": "UJA3560jE0WJ"
      },
      "source": [
        "class InfIter:\r\n",
        "    \"\"\"Infinite iterator to return all\r\n",
        "        odd numbers\"\"\"\r\n",
        "\r\n",
        "    def __iter__(self):\r\n",
        "        self.num = 1\r\n",
        "        return self\r\n",
        "\r\n",
        "    def __next__(self):\r\n",
        "        num = self.num\r\n",
        "        self.num += 2\r\n",
        "        return num"
      ],
      "execution_count": 11,
      "outputs": []
    },
    {
      "cell_type": "markdown",
      "metadata": {
        "id": "4tTdZX0AFjtO"
      },
      "source": [
        "- A sample run would be as follows."
      ]
    },
    {
      "cell_type": "code",
      "metadata": {
        "colab": {
          "base_uri": "https://localhost:8080/"
        },
        "id": "okzaArr8Fdqh",
        "outputId": "db7f2a5f-e708-437e-ed57-da80c4ef2fc5"
      },
      "source": [
        "a = iter(InfIter())\r\n",
        "next(a)"
      ],
      "execution_count": 12,
      "outputs": [
        {
          "output_type": "execute_result",
          "data": {
            "text/plain": [
              "1"
            ]
          },
          "metadata": {
            "tags": []
          },
          "execution_count": 12
        }
      ]
    },
    {
      "cell_type": "code",
      "metadata": {
        "colab": {
          "base_uri": "https://localhost:8080/"
        },
        "id": "qGcsjuOaFuYA",
        "outputId": "1001ae15-0279-48ce-f2cd-d29f7bfae3aa"
      },
      "source": [
        "next(a)"
      ],
      "execution_count": 13,
      "outputs": [
        {
          "output_type": "execute_result",
          "data": {
            "text/plain": [
              "3"
            ]
          },
          "metadata": {
            "tags": []
          },
          "execution_count": 13
        }
      ]
    },
    {
      "cell_type": "code",
      "metadata": {
        "colab": {
          "base_uri": "https://localhost:8080/"
        },
        "id": "ylt6RXGgFxaZ",
        "outputId": "aae39a07-29c3-48d2-e12d-f7009f8b1ea7"
      },
      "source": [
        "next(a)"
      ],
      "execution_count": 14,
      "outputs": [
        {
          "output_type": "execute_result",
          "data": {
            "text/plain": [
              "5"
            ]
          },
          "metadata": {
            "tags": []
          },
          "execution_count": 14
        }
      ]
    },
    {
      "cell_type": "code",
      "metadata": {
        "colab": {
          "base_uri": "https://localhost:8080/"
        },
        "id": "oyFMZ2MLFyqb",
        "outputId": "d9afe721-ef14-4aea-91a9-2ac4ca9bde61"
      },
      "source": [
        "next(a)"
      ],
      "execution_count": 15,
      "outputs": [
        {
          "output_type": "execute_result",
          "data": {
            "text/plain": [
              "7"
            ]
          },
          "metadata": {
            "tags": []
          },
          "execution_count": 15
        }
      ]
    },
    {
      "cell_type": "markdown",
      "metadata": {
        "id": "4zQ0ze0SGAgs"
      },
      "source": [
        "- And so on...\r\n",
        "\r\n",
        "- Be careful to include a terminating condition, when iterating over these types of infinite iterators.\r\n",
        "\r\n",
        "- The advantage of using iterators is that they save resources. Like shown above, we could get all the odd numbers without storing the entire number system in memory. We can have infinite items (theoretically) in finite memory.\r\n",
        "\r\n",
        "- There's an easier way to create iterators in Python. To learn more visit: [Python generators using yield](https://www.programiz.com/python-programming/generator)."
      ]
    },
    {
      "cell_type": "markdown",
      "metadata": {
        "id": "jsSgzUzyOU6_"
      },
      "source": [
        "https://www.programiz.com/python-programming/iterator"
      ]
    }
  ]
}