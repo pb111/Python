{
  "nbformat": 4,
  "nbformat_minor": 0,
  "metadata": {
    "colab": {
      "name": "Python Multiple Inheritance",
      "provenance": [],
      "authorship_tag": "ABX9TyNIviNBdUBAC0+2EyHkTEVV",
      "include_colab_link": true
    },
    "kernelspec": {
      "name": "python3",
      "display_name": "Python 3"
    }
  },
  "cells": [
    {
      "cell_type": "markdown",
      "metadata": {
        "id": "view-in-github",
        "colab_type": "text"
      },
      "source": [
        "<a href=\"https://colab.research.google.com/github/pb111/Python-tutorials-and-projects/blob/master/Python_Multiple_Inheritance.ipynb\" target=\"_parent\"><img src=\"https://colab.research.google.com/assets/colab-badge.svg\" alt=\"Open In Colab\"/></a>"
      ]
    },
    {
      "cell_type": "markdown",
      "metadata": {
        "id": "7sbNv9afOtse"
      },
      "source": [
        "# **Python Multiple Inheritance**\n",
        "\n",
        "\n",
        "- In this tutorial, you'll learn about **multiple inheritance in Python** and how to use it in your program. \n",
        "\n",
        "\n",
        "- You'll also learn about **multi-level inheritance** and the **method resolution order**."
      ]
    },
    {
      "cell_type": "markdown",
      "metadata": {
        "id": "_PJhsVoYOyTz"
      },
      "source": [
        "## **1. Python Multiple Inheritance**\n",
        "\n",
        "- A [class](https://www.programiz.com/python-programming/class) can be derived from more than one base class in Python, similar to C++. This is called **multiple inheritance**.\n",
        "\n",
        "- In multiple inheritance, the features of all the base classes are inherited into the derived class. The syntax for multiple inheritance is similar to single [inheritance](https://www.programiz.com/python-programming/inheritance)."
      ]
    },
    {
      "cell_type": "markdown",
      "metadata": {
        "id": "zN6jKoBZSSRX"
      },
      "source": [
        "#### **Example**"
      ]
    },
    {
      "cell_type": "code",
      "metadata": {
        "id": "766fIbxkNe5C"
      },
      "source": [
        "class Base1:\n",
        "    pass\n",
        "\n",
        "class Base2:\n",
        "    pass\n",
        "\n",
        "class MultiDerived(Base1, Base2):\n",
        "    pass\n",
        "    "
      ],
      "execution_count": 1,
      "outputs": []
    },
    {
      "cell_type": "markdown",
      "metadata": {
        "id": "PAjVz_28TAGh"
      },
      "source": [
        "- Here, the `MultiDerived` class is derived from `Base1` and `Base2` classes."
      ]
    },
    {
      "cell_type": "markdown",
      "metadata": {
        "id": "jI1_YA_lTyDH"
      },
      "source": [
        "- Multiple Inheritance in Python\n",
        "\n",
        "\n",
        "![Multiple Inheritance in Python](https://cdn.programiz.com/sites/tutorial2program/files/MultipleInheritance.jpg)"
      ]
    },
    {
      "cell_type": "markdown",
      "metadata": {
        "id": "DU8t3cEQUpyi"
      },
      "source": [
        "- The `MultiDerived` class inherits from both `Base1` and `Base2` classes."
      ]
    },
    {
      "cell_type": "markdown",
      "metadata": {
        "id": "m54JAR3ha2me"
      },
      "source": [
        "## **2. Python Multilevel Inheritance**\n",
        "\n",
        "- We can also inherit from a derived class. This is called **multilevel inheritance**. It can be of any depth in Python.\n",
        "\n",
        "- In multilevel inheritance, features of the base class and the derived class are inherited into the new derived class.\n",
        "\n",
        "- An example with corresponding visualization is given below."
      ]
    },
    {
      "cell_type": "code",
      "metadata": {
        "id": "H2x_QpZcSypJ"
      },
      "source": [
        "class Base:\n",
        "    pass\n",
        "\n",
        "class Derived1(Base):\n",
        "    pass\n",
        "\n",
        "class Derived2(Derived1):\n",
        "    pass"
      ],
      "execution_count": 2,
      "outputs": []
    },
    {
      "cell_type": "markdown",
      "metadata": {
        "id": "u9t1VH2_b3uI"
      },
      "source": [
        "- Here, the `Derived1` class is derived from the `Base` class, and the `Derived2` class is derived from the `Derived1` class."
      ]
    },
    {
      "cell_type": "markdown",
      "metadata": {
        "id": "k5-UKnlycFai"
      },
      "source": [
        "- Multilevel Inheritance in Python\n",
        "\n",
        "![Multilevel Inheritance in Python](https://cdn.programiz.com/sites/tutorial2program/files/MultilevelInheritance.jpg)"
      ]
    },
    {
      "cell_type": "markdown",
      "metadata": {
        "id": "3jQiBjBdcaRW"
      },
      "source": [
        "## **3. Method Resolution Order in Python**\n",
        "\n",
        "- Every class in Python is derived from the `object` class. It is the most base type in Python.\n",
        "\n",
        "- So technically, all other classes, either built-in or user-defined, are derived classes and all objects are instances of the `object` class."
      ]
    },
    {
      "cell_type": "code",
      "metadata": {
        "colab": {
          "base_uri": "https://localhost:8080/"
        },
        "id": "6ynT_yQldmTG",
        "outputId": "dd29492a-385c-4994-828d-483847af8dd9"
      },
      "source": [
        "# Output: True\n",
        "print(issubclass(list,object))"
      ],
      "execution_count": 3,
      "outputs": [
        {
          "output_type": "stream",
          "text": [
            "True\n"
          ],
          "name": "stdout"
        }
      ]
    },
    {
      "cell_type": "code",
      "metadata": {
        "colab": {
          "base_uri": "https://localhost:8080/"
        },
        "id": "53Oc8OTodn8Y",
        "outputId": "6b8989dc-c967-484e-f9b9-e1444e171bde"
      },
      "source": [
        "# Output: True\n",
        "print(isinstance(5.5,object))"
      ],
      "execution_count": 4,
      "outputs": [
        {
          "output_type": "stream",
          "text": [
            "True\n"
          ],
          "name": "stdout"
        }
      ]
    },
    {
      "cell_type": "code",
      "metadata": {
        "colab": {
          "base_uri": "https://localhost:8080/"
        },
        "id": "PVUgXPxUdt2w",
        "outputId": "80d10050-df7a-4fa5-a1b2-9beca52a9d5e"
      },
      "source": [
        "# Output: True\n",
        "print(isinstance(\"Hello\",object))"
      ],
      "execution_count": 5,
      "outputs": [
        {
          "output_type": "stream",
          "text": [
            "True\n"
          ],
          "name": "stdout"
        }
      ]
    },
    {
      "cell_type": "markdown",
      "metadata": {
        "id": "ldPcjXWYfIM8"
      },
      "source": [
        "- In the multiple inheritance scenario, any specified attribute is searched first in the current class. If not found, the search continues into parent classes in depth-first, left-right fashion without searching the same class twice.\n",
        "\n",
        "- So, in the above example of `MultiDerived` class the search order is [`MultiDerived`, `Base1`, `Base2`, `object`]. This order is also called linearization of `MultiDerived` class and the set of rules used to find this order is called **Method Resolution Order (MRO)**.\n",
        "\n",
        "\n",
        "- MRO must prevent local precedence ordering and also provide monotonicity. It ensures that a class always appears before its parents. In case of multiple parents, the order is the same as tuples of base classes.\n",
        "\n",
        "\n",
        "- MRO of a class can be viewed as the `__mro__` attribute or the `mro()` method. The former(`__mro__` attribute) returns a tuple while the latter(`mro()` method) returns a list."
      ]
    },
    {
      "cell_type": "code",
      "metadata": {
        "colab": {
          "base_uri": "https://localhost:8080/"
        },
        "id": "XSVWHh19I2ng",
        "outputId": "ef189a74-05c9-4530-93d7-0638bb62589e"
      },
      "source": [
        "print(MultiDerived.__mro__)"
      ],
      "execution_count": 7,
      "outputs": [
        {
          "output_type": "stream",
          "text": [
            "(<class '__main__.MultiDerived'>, <class '__main__.Base1'>, <class '__main__.Base2'>, <class 'object'>)\n"
          ],
          "name": "stdout"
        }
      ]
    },
    {
      "cell_type": "code",
      "metadata": {
        "colab": {
          "base_uri": "https://localhost:8080/"
        },
        "id": "tcyRbHQlI9yV",
        "outputId": "40b15a8f-1270-45fc-be2e-3a5393b2df24"
      },
      "source": [
        "print(MultiDerived.mro())"
      ],
      "execution_count": 8,
      "outputs": [
        {
          "output_type": "stream",
          "text": [
            "[<class '__main__.MultiDerived'>, <class '__main__.Base1'>, <class '__main__.Base2'>, <class 'object'>]\n"
          ],
          "name": "stdout"
        }
      ]
    },
    {
      "cell_type": "markdown",
      "metadata": {
        "id": "8Dh1TZxZOo5s"
      },
      "source": [
        "- Here is a little more complex multiple inheritance example and its visualization along with the MRO."
      ]
    },
    {
      "cell_type": "markdown",
      "metadata": {
        "id": "ZnsCeRnzO0al"
      },
      "source": [
        "##### Visualizing Multiple Inheritance in Python\n",
        "\n",
        "![Visualizing Multiple Inheritance in Python](https://cdn.programiz.com/sites/tutorial2program/files/MRO.jpg)"
      ]
    },
    {
      "cell_type": "code",
      "metadata": {
        "id": "sjVGHl4BJjYA"
      },
      "source": [
        "# Demonstration of MRO\n",
        "\n",
        "class X:\n",
        "    pass\n",
        "\n",
        "\n",
        "class Y:\n",
        "    pass\n",
        "\n",
        "\n",
        "class Z:\n",
        "    pass\n",
        "\n",
        "\n",
        "class A(X, Y):\n",
        "    pass\n",
        "\n",
        "\n",
        "class B(Y, Z):\n",
        "    pass\n",
        "\n",
        "\n",
        "class M(B, A, Z):\n",
        "    pass"
      ],
      "execution_count": 9,
      "outputs": []
    },
    {
      "cell_type": "code",
      "metadata": {
        "colab": {
          "base_uri": "https://localhost:8080/"
        },
        "id": "s8EhrKpdQGUi",
        "outputId": "6362e285-9eed-48d0-9870-71c211de6505"
      },
      "source": [
        "print(M.mro())"
      ],
      "execution_count": 10,
      "outputs": [
        {
          "output_type": "stream",
          "text": [
            "[<class '__main__.M'>, <class '__main__.B'>, <class '__main__.A'>, <class '__main__.X'>, <class '__main__.Y'>, <class '__main__.Z'>, <class 'object'>]\n"
          ],
          "name": "stdout"
        }
      ]
    },
    {
      "cell_type": "markdown",
      "metadata": {
        "id": "UICVNJaXOzf6"
      },
      "source": [
        "https://www.programiz.com/python-programming/multiple-inheritance"
      ]
    }
  ]
}