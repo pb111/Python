{
  "nbformat": 4,
  "nbformat_minor": 0,
  "metadata": {
    "colab": {
      "name": "Python Operators",
      "provenance": [],
      "authorship_tag": "ABX9TyMBwfKNYjrEvKxyq0DqTq92",
      "include_colab_link": true
    },
    "kernelspec": {
      "name": "python3",
      "display_name": "Python 3"
    }
  },
  "cells": [
    {
      "cell_type": "markdown",
      "metadata": {
        "id": "view-in-github",
        "colab_type": "text"
      },
      "source": [
        "<a href=\"https://colab.research.google.com/github/pb111/Python-tutorials-and-projects/blob/master/Python_Operators.ipynb\" target=\"_parent\"><img src=\"https://colab.research.google.com/assets/colab-badge.svg\" alt=\"Open In Colab\"/></a>"
      ]
    },
    {
      "cell_type": "markdown",
      "metadata": {
        "id": "c6xRDVMHTvuC"
      },
      "source": [
        "# **Python Operators**\n",
        "\n",
        "- In this tutorial, you'll learn everything about different types of operators in Python, their syntax and how to use them with examples."
      ]
    },
    {
      "cell_type": "markdown",
      "metadata": {
        "id": "OfFr9pZw9Dlj"
      },
      "source": [
        "\n",
        "## **1. What are operators in python?**\n",
        "\n",
        "- **Operators** are special symbols in Python that carry out arithmetic or logical computation. \n",
        "- The value that the operator operates on is called the **operand**."
      ]
    },
    {
      "cell_type": "code",
      "metadata": {
        "colab": {
          "base_uri": "https://localhost:8080/"
        },
        "id": "5GVpC2la9T3x",
        "outputId": "74304bf7-66f6-4d59-c04f-406070f95a4c"
      },
      "source": [
        "2+3"
      ],
      "execution_count": 1,
      "outputs": [
        {
          "output_type": "execute_result",
          "data": {
            "text/plain": [
              "5"
            ]
          },
          "metadata": {
            "tags": []
          },
          "execution_count": 1
        }
      ]
    },
    {
      "cell_type": "markdown",
      "metadata": {
        "id": "0ExGBT0P9gb8"
      },
      "source": [
        "Here, \n",
        "\n",
        "- `+` is the `operator` that performs addition. \n",
        "- `2` and `3` are the `operands` and \n",
        "- `5` is the `output` of the operation."
      ]
    },
    {
      "cell_type": "markdown",
      "metadata": {
        "id": "h626TPub90uM"
      },
      "source": [
        "## **2. Arithmetic Operators**\n",
        "\n",
        "- Arithmetic operators are used to perform mathematical operations like addition, subtraction, multiplication, etc."
      ]
    },
    {
      "cell_type": "markdown",
      "metadata": {
        "id": "9YbDvxgxASgo"
      },
      "source": [
        "- **Operator** - **Meaning** - **Example** - **(x = 15, y = 4)**\n",
        "- `+` - `Add two operands or unary plus` - `(x + y = 19)`\n",
        "- `-` - `Subtract right operand from the left or unary minus` -\t`(x - y = 11)`\n",
        "- `*` - `Multiply two operands` - `(x * y = 60)`\n",
        "- `/` - `Divide left operand by the right one (always results into float)` - `(x / y = 3.75)`\n",
        "- `%` - `Modulus` - `remainder of the division of left operand by the right` -\t`(x % y = 3) (remainder of x/y)`\n",
        "- `//` - `Floor division - division that results into whole number adjusted to the left in the number line` -\t`(x // y = 3)`\n",
        "- `**` - `Exponent - left operand raised to the power of right` -\t`(x**y = 50625) (x to the power y)`"
      ]
    },
    {
      "cell_type": "markdown",
      "metadata": {
        "id": "k38nuM3kCCSz"
      },
      "source": [
        "#### **Example 1: Arithmetic operators in Python**"
      ]
    },
    {
      "cell_type": "code",
      "metadata": {
        "colab": {
          "base_uri": "https://localhost:8080/"
        },
        "id": "5uItTxPJ9VNY",
        "outputId": "e3b5e274-6d6f-4eb3-fcc2-87f6c850de70"
      },
      "source": [
        "x = 15\n",
        "y = 4\n",
        "\n",
        "# Output: x + y = 19\n",
        "print('x + y =',x+y)\n",
        "\n",
        "# Output: x - y = 11\n",
        "print('x - y =',x-y)\n",
        "\n",
        "# Output: x * y = 60\n",
        "print('x * y =',x*y)\n",
        "\n",
        "# Output: x / y = 3.75\n",
        "print('x / y =',x/y)\n",
        "\n",
        "# Output: x % y = 3\n",
        "print('x % y =',x%y)\n",
        "\n",
        "# Output: x // y = 3\n",
        "print('x // y =',x//y)\n",
        "\n",
        "# Output: x ** y = 50625\n",
        "print('x ** y =',x**y)"
      ],
      "execution_count": 2,
      "outputs": [
        {
          "output_type": "stream",
          "text": [
            "x + y = 19\n",
            "x - y = 11\n",
            "x * y = 60\n",
            "x / y = 3.75\n",
            "x % y = 3\n",
            "x // y = 3\n",
            "x ** y = 50625\n"
          ],
          "name": "stdout"
        }
      ]
    },
    {
      "cell_type": "markdown",
      "metadata": {
        "id": "wxvsexIPE4Rq"
      },
      "source": [
        "## **3. Comparison (Relational) Operators**\n",
        "\n",
        "- Comparison operators are used to compare values. \n",
        "- It returns either `True` or `False` according to the condition."
      ]
    },
    {
      "cell_type": "markdown",
      "metadata": {
        "id": "qpNtHn67FMnI"
      },
      "source": [
        "- **Operator** - **Meaning** - **Example** - **(x = 10, y = 12)**\n",
        "- `>` - `Greater than - True if left operand is greater than the right` - `(x > y is False)`\n",
        "- `<` - `Less than - True if left operand is less than the right` - `(x < y is True)`\n",
        "- `==` - `Equal to - True if both operands are equal`\t- `(x == y is False)`\n",
        "- `!=` - `Not equal to - True if operands are not equal` - `(x != y is True)`\n",
        "- `>=` - `Greater than or equal to - True if left operand is greater than or equal to the right` - `(x >= y is False)`\n",
        "- `<=` - `Less than or equal to - True if left operand is less than or equal to the right` - `(x <= y is True)`"
      ]
    },
    {
      "cell_type": "markdown",
      "metadata": {
        "id": "pILez-JtN3WT"
      },
      "source": [
        "#### **Example 2: Comparison operators in Python**"
      ]
    },
    {
      "cell_type": "code",
      "metadata": {
        "colab": {
          "base_uri": "https://localhost:8080/"
        },
        "id": "N8pdgbLMCkAq",
        "outputId": "ddc72a37-8232-4240-918b-bba7733eb6fe"
      },
      "source": [
        "x = 10\n",
        "y = 12\n",
        "\n",
        "# Output: x > y is False\n",
        "print('x > y is',x>y)\n",
        "\n",
        "# Output: x < y is True\n",
        "print('x < y is',x<y)\n",
        "\n",
        "# Output: x == y is False\n",
        "print('x == y is',x==y)\n",
        "\n",
        "# Output: x != y is True\n",
        "print('x != y is',x!=y)\n",
        "\n",
        "# Output: x >= y is False\n",
        "print('x >= y is',x>=y)\n",
        "\n",
        "# Output: x <= y is True\n",
        "print('x <= y is',x<=y)"
      ],
      "execution_count": 3,
      "outputs": [
        {
          "output_type": "stream",
          "text": [
            "x > y is False\n",
            "x < y is True\n",
            "x == y is False\n",
            "x != y is True\n",
            "x >= y is False\n",
            "x <= y is True\n"
          ],
          "name": "stdout"
        }
      ]
    },
    {
      "cell_type": "markdown",
      "metadata": {
        "id": "gQJv8dgrO1QG"
      },
      "source": [
        "## **4. Logical (Boolean) Operators**\n",
        "\n",
        "\n",
        "- Logical operators are the `and`, `or`, `not` operators.\n",
        "\n",
        "- Here is the [truth table](https://www.programiz.com/python-programming/keyword-list#and_or_not) for these operators."
      ]
    },
    {
      "cell_type": "markdown",
      "metadata": {
        "id": "FXUM2ZWCQ5hb"
      },
      "source": [
        "- **Operator** - **Meaning** - **Example** - **(x = True, y = False)**\n",
        "- `and` - `True if both the operands are true` - `(x and y is False)`\n",
        "- `or`  - `True if either of the operands is true` -`(x or y is True)`\n",
        "- `not` - `True if operand is false (complements the operand)` - `(not x is False)`"
      ]
    },
    {
      "cell_type": "markdown",
      "metadata": {
        "id": "uESoVAU5SHAJ"
      },
      "source": [
        "#### **Example 3: Logical Operators in Python**"
      ]
    },
    {
      "cell_type": "code",
      "metadata": {
        "colab": {
          "base_uri": "https://localhost:8080/"
        },
        "id": "gf_4dl8tOBVK",
        "outputId": "b6788956-9bd7-4df3-d0cc-87d97b8513d6"
      },
      "source": [
        "x = True\n",
        "y = False\n",
        "\n",
        "print('x and y is',x and y)\n",
        "\n",
        "print('x or y is',x or y)\n",
        "\n",
        "print('not x is',not x)"
      ],
      "execution_count": 4,
      "outputs": [
        {
          "output_type": "stream",
          "text": [
            "x and y is False\n",
            "x or y is True\n",
            "not x is False\n"
          ],
          "name": "stdout"
        }
      ]
    },
    {
      "cell_type": "markdown",
      "metadata": {
        "id": "PZ9jz-vvSaSi"
      },
      "source": [
        "- Here is the [truth table](https://www.programiz.com/python-programming/keyword-list#and_or_not) for these operators."
      ]
    },
    {
      "cell_type": "markdown",
      "metadata": {
        "id": "_3O10v0_TVSb"
      },
      "source": [
        "## **5. Bitwise Operators**\n",
        "\n",
        "- Bitwise operators act on operands as if they were strings of binary digits. They operate bit by bit, hence the name.\n",
        "\n",
        "- For example, 2 is `10` in binary and 7 is `111`.\n",
        "\n",
        "- **In the table below**: Let `x` = 10 (`0000 1010` in binary) and `y` = 4 (`0000 0100` in binary)"
      ]
    },
    {
      "cell_type": "markdown",
      "metadata": {
        "id": "XrSRC91iUXlV"
      },
      "source": [
        "- **Operator** - **Meaning** - **Example**\n",
        "- `&` -\t`Bitwise AND` -\t`x & y = 0 (0000 0000)`\n",
        "- `|` - `Bitwise OR`  - `x | y = 14 (0000 1110)`\n",
        "- `~` - `Bitwise NOT` - `~x = -11 (1111 0101)`\n",
        "- `^` - `Bitwise XOR` - `x ^ y = 14 (0000 1110)`\n",
        "- `>>` - `Bitwise right shift` - `x >> 2 = 2 (0000 0010)`\n",
        "- `<<` - `Bitwise left shift` - `x << 2 = 40 (0010 1000)`"
      ]
    },
    {
      "cell_type": "markdown",
      "metadata": {
        "id": "65I5oyekVzyJ"
      },
      "source": [
        "## **6. Assignment Operators**\n",
        "\n",
        "\n",
        "- Assignment operators are used in Python to assign values to variables.\n",
        "\n",
        "- `a = 5` is a simple assignment operator that assigns the value `5` on the right to the variable `a` on the left.\n",
        "\n",
        "- There are various compound operators in Python like `a += 5` that adds to the variable and later assigns the same. It is equivalent to `a = a + 5`."
      ]
    },
    {
      "cell_type": "markdown",
      "metadata": {
        "id": "F-4H4Z0peI7Y"
      },
      "source": [
        "- **Operator** - **Example** - **Equivalent to**\n",
        "- `=` -\t`x = 5` -\t`x = 5`\n",
        "- `+=` -\t`x += 5` - `x = x + 5`\n",
        "- `-=` -  `x -= 5` - `x = x - 5`\n",
        "- `*=` -  `x *= 5` - `x = x * 5`\n",
        "- `/=` -  `x /= 5` - `x = x / 5`\n",
        "- `%=` -  `x %= 5` - `x = x % 5`\n",
        "- `//=` - `x //= 5` - `x = x // 5`\n",
        "- `**=` - `x **= 5` - `x = x ** 5`\n",
        "- `&=`  - `x &= 5`  - `x = x & 5`\n",
        "- `|=`  - `x |= 5`  - `x = x | 5`\n",
        "- `^=`  - `x ^= 5`  - `x = x ^ 5`\n",
        "- `>>=` - `x >>= 5` - `x = x >> 5`\n",
        "- `<<=` - `x <<= 5` - `x = x << 5`"
      ]
    },
    {
      "cell_type": "markdown",
      "metadata": {
        "id": "Tzzcpeauget3"
      },
      "source": [
        "## **7. Special Operators**\n",
        "\n",
        "Python language offers some special types of operators like the \n",
        "\n",
        "- **identity operator** ,or the \n",
        "- **membership operator**. \n",
        "\n",
        "They are described below with examples."
      ]
    },
    {
      "cell_type": "markdown",
      "metadata": {
        "id": "dSIZkHDMg4xN"
      },
      "source": [
        "## **8. Identity Operators**\n",
        "\n",
        "- There are two identity operators in Python. They are -\n",
        "\n",
        "  - `is`,\n",
        "  - `is not`\n",
        "\n",
        "- `is` and `is not` are the identity operators in Python. \n",
        "\n",
        "- They are used to check if two values (or variables) are located on the same part of the memory. \n",
        "\n",
        "- **Two variables that are equal does not imply that they are identical**."
      ]
    },
    {
      "cell_type": "markdown",
      "metadata": {
        "id": "by_Jxa8WkJHh"
      },
      "source": [
        "- **Operator** - **Meaning** - **Example**\n",
        "- `is` - \t`True if the operands are identical (refer to the same object)` -\t`x is True`\n",
        "- `is not` - `True if the operands are not identical (do not refer to the same object)` -\t`x is not True`"
      ]
    },
    {
      "cell_type": "markdown",
      "metadata": {
        "id": "dXth8sbmpDWi"
      },
      "source": [
        "#### **Example 4: Identity operators in Python**"
      ]
    },
    {
      "cell_type": "code",
      "metadata": {
        "colab": {
          "base_uri": "https://localhost:8080/"
        },
        "id": "8nRrWHMGpJGT",
        "outputId": "ce4afc17-c963-43f8-acc7-239d8dfff3d4"
      },
      "source": [
        "x1 = 5\n",
        "y1 = 5\n",
        "x2 = 'Hello'\n",
        "y2 = 'Hello'\n",
        "x3 = [1,2,3]\n",
        "y3 = [1,2,3]\n",
        "\n",
        "# Output: False\n",
        "print(x1 is not y1)\n",
        "\n",
        "# Output: True\n",
        "print(x2 is y2)\n",
        "\n",
        "# Output: False\n",
        "print(x3 is y3)"
      ],
      "execution_count": 5,
      "outputs": [
        {
          "output_type": "stream",
          "text": [
            "False\n",
            "True\n",
            "False\n"
          ],
          "name": "stdout"
        }
      ]
    },
    {
      "cell_type": "markdown",
      "metadata": {
        "id": "zNxzB7rxqAk2"
      },
      "source": [
        "- Here, we see that `x1` and `y1` are integers of the same values, so they are equal as well as identical. Same is the case with `x2` and `y2` (strings).\n",
        "\n",
        "- But `x3` and `y3` are lists. They are equal but not identical. It is because the interpreter locates them separately in memory although they are equal."
      ]
    },
    {
      "cell_type": "markdown",
      "metadata": {
        "id": "8sY9bb1qsAQf"
      },
      "source": [
        "## **9. Membership Operators**\n",
        "\n",
        "- There are two membership operators in Python. They are -\n",
        "\n",
        "  - `in`,\n",
        "  - `not in`\n",
        "\n",
        "- `in` and `not in` are the membership operators in Python. \n",
        "\n",
        "- They are used to test whether a value or variable is found in a sequence ([string](https://www.programiz.com/python-programming/string), [list](https://www.programiz.com/python-programming/list), [tuple](https://www.programiz.com/python-programming/tuple), [set](https://www.programiz.com/python-programming/set) and [dictionary](https://www.programiz.com/python-programming/dictionary).\n",
        "\n",
        "\n",
        "- **In a dictionary we can only test for presence of key, not the value**."
      ]
    },
    {
      "cell_type": "markdown",
      "metadata": {
        "id": "tiFi7FAwuDOR"
      },
      "source": [
        "- **Operator** - **Meaning** - **Example**\n",
        "\n",
        "- `in` - `True if value/variable is found in the sequence` - `5 in x`\n",
        "- `not in` - `True if value/variable is not found in the sequence` - `5 not in x`"
      ]
    },
    {
      "cell_type": "markdown",
      "metadata": {
        "id": "BqCVH7b0udA0"
      },
      "source": [
        "#### **Example #5: Membership operators in Python**"
      ]
    },
    {
      "cell_type": "code",
      "metadata": {
        "colab": {
          "base_uri": "https://localhost:8080/"
        },
        "id": "9Msvf6AmpMD6",
        "outputId": "4c2a7c20-d0c9-42a2-8351-f79cb30fe589"
      },
      "source": [
        "x = 'Hello world'\n",
        "y = {1:'a',2:'b'}\n",
        "\n",
        "# Output: True\n",
        "print('H' in x)\n",
        "\n",
        "# Output: True\n",
        "print('hello' not in x)\n",
        "\n",
        "# Output: True\n",
        "print(1 in y)\n",
        "\n",
        "# Output: False\n",
        "print('a' in y)"
      ],
      "execution_count": 6,
      "outputs": [
        {
          "output_type": "stream",
          "text": [
            "True\n",
            "True\n",
            "True\n",
            "False\n"
          ],
          "name": "stdout"
        }
      ]
    },
    {
      "cell_type": "markdown",
      "metadata": {
        "id": "w3pKzoE_uvDX"
      },
      "source": [
        "- Here, `'H'` is in `x` but `'hello'` is not present in `x` (**remember, Python is case sensitive**). \n",
        "- Similarly, `1` is key and `'a'` is the value in dictionary `y`. \n",
        "- Hence, `'a'` in `y` returns `False`."
      ]
    },
    {
      "cell_type": "markdown",
      "metadata": {
        "id": "77kQ7oTOT3_A"
      },
      "source": [
        "https://www.programiz.com/python-programming/operators"
      ]
    }
  ]
}