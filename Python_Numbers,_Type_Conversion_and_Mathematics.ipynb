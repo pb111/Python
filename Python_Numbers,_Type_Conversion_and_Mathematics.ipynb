{
  "nbformat": 4,
  "nbformat_minor": 0,
  "metadata": {
    "colab": {
      "name": "Python Numbers, Type Conversion and Mathematics",
      "provenance": [],
      "authorship_tag": "ABX9TyOJffjkpclHBbQW+6zu0YlB",
      "include_colab_link": true
    },
    "kernelspec": {
      "name": "python3",
      "display_name": "Python 3"
    }
  },
  "cells": [
    {
      "cell_type": "markdown",
      "metadata": {
        "id": "view-in-github",
        "colab_type": "text"
      },
      "source": [
        "<a href=\"https://colab.research.google.com/github/pb111/Python-tutorials-and-projects/blob/master/Python_Numbers%2C_Type_Conversion_and_Mathematics.ipynb\" target=\"_parent\"><img src=\"https://colab.research.google.com/assets/colab-badge.svg\" alt=\"Open In Colab\"/></a>"
      ]
    },
    {
      "cell_type": "markdown",
      "metadata": {
        "id": "og0tGIBO9n0C"
      },
      "source": [
        "# **Python Numbers, Type Conversion and Mathematics**\r\n",
        "\r\n",
        "- In this article, you'll learn about \r\n",
        "  - the different numbers used in Python, \r\n",
        "  - how to convert from one data type to the other, and \r\n",
        "  - the mathematical operations supported in Python."
      ]
    },
    {
      "cell_type": "markdown",
      "metadata": {
        "id": "eY05AEhLEVZX"
      },
      "source": [
        "## **1. Number Data Type in Python**\r\n",
        "\r\n",
        "- Python supports integers, floating-point numbers and complex numbers. They are defined as `int`, `float`, and `complex` classes in Python.\r\n",
        "\r\n",
        "- Integers and floating points are separated by the presence or absence of a decimal point. For instance, 5 is an integer whereas 5.0 is a floating-point number.\r\n",
        "\r\n",
        "- Complex numbers are written in the form, `x + yj`, where `x` is the real part and `y` is the imaginary part.\r\n",
        "\r\n",
        "- We can use the `type()` function to know which class a variable or a value belongs to and `isinstance()` function to check if it belongs to a particular class.\r\n",
        "\r\n",
        "- Let's look at an example:"
      ]
    },
    {
      "cell_type": "code",
      "metadata": {
        "colab": {
          "base_uri": "https://localhost:8080/"
        },
        "id": "qfZ8Ge-mGdJU",
        "outputId": "feade2e3-82a9-474e-aecc-016d8c3faa7f"
      },
      "source": [
        "a = 5\r\n",
        "\r\n",
        "print(type(a))\r\n",
        "\r\n",
        "print(type(5.0))\r\n",
        "\r\n",
        "c = 5 + 3j\r\n",
        "print(c + 3)\r\n",
        "\r\n",
        "print(isinstance(c, complex))"
      ],
      "execution_count": 1,
      "outputs": [
        {
          "output_type": "stream",
          "text": [
            "<class 'int'>\n",
            "<class 'float'>\n",
            "(8+3j)\n",
            "True\n"
          ],
          "name": "stdout"
        }
      ]
    },
    {
      "cell_type": "markdown",
      "metadata": {
        "id": "tnI94rs1HyCw"
      },
      "source": [
        "- While integers can be of any length, a floating-point number is accurate only up to 15 decimal places (the 16th place is inaccurate).\r\n",
        "\r\n",
        "- The numbers we deal with every day are of the decimal (base 10) number system. But computer programmers (generally embedded programmers) need to work with binary (base 2), hexadecimal (base 16) and octal (base 8) number systems.\r\n",
        "\r\n",
        "- In Python, we can represent these numbers by appropriately placing a prefix before that number. The following table lists these prefixes."
      ]
    },
    {
      "cell_type": "markdown",
      "metadata": {
        "id": "qqKureV3IMLQ"
      },
      "source": [
        "**Number System** - **Prefix**\r\n",
        "- Binary -\t'0b' or '0B'\r\n",
        "- Octal\t -  '0o' or '0O'\r\n",
        "- Hexadecimal\t- '0x' or '0X'"
      ]
    },
    {
      "cell_type": "markdown",
      "metadata": {
        "id": "D_0WMMO0KWk8"
      },
      "source": [
        "Here are some examples:"
      ]
    },
    {
      "cell_type": "code",
      "metadata": {
        "colab": {
          "base_uri": "https://localhost:8080/"
        },
        "id": "UZGx9oncG84x",
        "outputId": "e31ad082-4105-40b2-f5c8-2e460b494bce"
      },
      "source": [
        "# Output: 107\r\n",
        "print(0b1101011)\r\n",
        "\r\n",
        "# Output: 253 (251 + 2)\r\n",
        "print(0xFB + 0b10)\r\n",
        "\r\n",
        "# Output: 13\r\n",
        "print(0o15)"
      ],
      "execution_count": 2,
      "outputs": [
        {
          "output_type": "stream",
          "text": [
            "107\n",
            "253\n",
            "13\n"
          ],
          "name": "stdout"
        }
      ]
    },
    {
      "cell_type": "markdown",
      "metadata": {
        "id": "uxYhrk2eEdXB"
      },
      "source": [
        "## **2. Type Conversion**\r\n",
        "\r\n",
        "- We can convert one type of number into another. This is also known as **coercion**.\r\n",
        "\r\n",
        "- Operations like addition, subtraction coerce integer to float implicitly (automatically), if one of the operands is float."
      ]
    },
    {
      "cell_type": "code",
      "metadata": {
        "colab": {
          "base_uri": "https://localhost:8080/"
        },
        "id": "QWRoF_YGLJUO",
        "outputId": "372bb271-e1d9-43cf-9b92-8d27c56f0a8f"
      },
      "source": [
        "1 + 2.0"
      ],
      "execution_count": 3,
      "outputs": [
        {
          "output_type": "execute_result",
          "data": {
            "text/plain": [
              "3.0"
            ]
          },
          "metadata": {
            "tags": []
          },
          "execution_count": 3
        }
      ]
    },
    {
      "cell_type": "markdown",
      "metadata": {
        "id": "T0-Sd0aSLSux"
      },
      "source": [
        "- We can see above that 1 (integer) is coerced into 1.0 (float) for addition and the result is also a floating point number."
      ]
    },
    {
      "cell_type": "markdown",
      "metadata": {
        "id": "9TpIT99SLj4x"
      },
      "source": [
        "- We can also use built-in functions like `int()`, `float()` and `complex()` to convert between types explicitly. These functions can even convert from [strings](https://www.programiz.com/python-programming/string)."
      ]
    },
    {
      "cell_type": "code",
      "metadata": {
        "colab": {
          "base_uri": "https://localhost:8080/"
        },
        "id": "XYMT1Y8tLKT2",
        "outputId": "96db0339-8693-4535-dfdd-090b3900e157"
      },
      "source": [
        "int(2.3)"
      ],
      "execution_count": 4,
      "outputs": [
        {
          "output_type": "execute_result",
          "data": {
            "text/plain": [
              "2"
            ]
          },
          "metadata": {
            "tags": []
          },
          "execution_count": 4
        }
      ]
    },
    {
      "cell_type": "code",
      "metadata": {
        "colab": {
          "base_uri": "https://localhost:8080/"
        },
        "id": "XRhHDWUgMJm8",
        "outputId": "aebd1e08-e2c6-4ef0-c009-b4da26bba170"
      },
      "source": [
        "int(-2.8)"
      ],
      "execution_count": 5,
      "outputs": [
        {
          "output_type": "execute_result",
          "data": {
            "text/plain": [
              "-2"
            ]
          },
          "metadata": {
            "tags": []
          },
          "execution_count": 5
        }
      ]
    },
    {
      "cell_type": "code",
      "metadata": {
        "colab": {
          "base_uri": "https://localhost:8080/"
        },
        "id": "qqNxqyq2MX_7",
        "outputId": "fe55d3e7-b060-4d53-a605-cfa1d8b643b2"
      },
      "source": [
        "float(5)"
      ],
      "execution_count": 6,
      "outputs": [
        {
          "output_type": "execute_result",
          "data": {
            "text/plain": [
              "5.0"
            ]
          },
          "metadata": {
            "tags": []
          },
          "execution_count": 6
        }
      ]
    },
    {
      "cell_type": "code",
      "metadata": {
        "colab": {
          "base_uri": "https://localhost:8080/"
        },
        "id": "jrsD4btJMegx",
        "outputId": "5bb3f114-2f73-48f8-b427-4fa4b32b04c5"
      },
      "source": [
        "complex('3+5j')"
      ],
      "execution_count": 7,
      "outputs": [
        {
          "output_type": "execute_result",
          "data": {
            "text/plain": [
              "(3+5j)"
            ]
          },
          "metadata": {
            "tags": []
          },
          "execution_count": 7
        }
      ]
    },
    {
      "cell_type": "markdown",
      "metadata": {
        "id": "xY3Sd4B-MrL-"
      },
      "source": [
        "- When converting from float to integer, the number gets truncated (decimal parts are removed)."
      ]
    },
    {
      "cell_type": "markdown",
      "metadata": {
        "id": "3IdiwWfPEgno"
      },
      "source": [
        "## **3. Python Decimal**\r\n",
        "\r\n",
        "- Python built-in class float performs some calculations that might amaze us. \r\n",
        "- We all know that the sum of 1.1 and 2.2 is 3.3, but Python seems to disagree."
      ]
    },
    {
      "cell_type": "code",
      "metadata": {
        "colab": {
          "base_uri": "https://localhost:8080/"
        },
        "id": "HK2UYPieZno5",
        "outputId": "d0fb486f-a50d-4695-da79-9bbb9cdaed47"
      },
      "source": [
        "(1.1 + 2.2) == 3.3"
      ],
      "execution_count": 8,
      "outputs": [
        {
          "output_type": "execute_result",
          "data": {
            "text/plain": [
              "False"
            ]
          },
          "metadata": {
            "tags": []
          },
          "execution_count": 8
        }
      ]
    },
    {
      "cell_type": "markdown",
      "metadata": {
        "id": "oCbM97ejakQ_"
      },
      "source": [
        "- What is going on?\r\n",
        "\r\n",
        "- It turns out that floating-point numbers are implemented in computer hardware as binary fractions as the computer only understands binary (0 and 1). Due to this reason, most of the decimal fractions we know, cannot be accurately stored in our computer.\r\n",
        "\r\n",
        "- Let's take an example. We cannot represent the fraction 1/3 as a decimal number. This will give 0.33333333... which is infinitely long, and we can only approximate it.\r\n",
        "\r\n",
        "- It turns out that the decimal fraction 0.1 will result in an infinitely long binary fraction of 0.000110011001100110011... and our computer only stores a finite number of it.\r\n",
        "\r\n",
        "- This will only approximate 0.1 but never be equal. Hence, it is the limitation of our computer hardware and not an error in Python."
      ]
    },
    {
      "cell_type": "code",
      "metadata": {
        "colab": {
          "base_uri": "https://localhost:8080/"
        },
        "id": "pDw54dGVZs39",
        "outputId": "655accf6-a7fe-4b25-8eac-9b0f17a042f3"
      },
      "source": [
        "1.1 + 2.2"
      ],
      "execution_count": 9,
      "outputs": [
        {
          "output_type": "execute_result",
          "data": {
            "text/plain": [
              "3.3000000000000003"
            ]
          },
          "metadata": {
            "tags": []
          },
          "execution_count": 9
        }
      ]
    },
    {
      "cell_type": "markdown",
      "metadata": {
        "id": "TzQGqizhbHt5"
      },
      "source": [
        "- To overcome this issue, we can use the decimal module that comes with Python. While floating-point numbers have precision up to 15 decimal places, the decimal module has user-settable precision."
      ]
    },
    {
      "cell_type": "markdown",
      "metadata": {
        "id": "0UGjbXhFbRkm"
      },
      "source": [
        "- Let's see the difference:"
      ]
    },
    {
      "cell_type": "code",
      "metadata": {
        "colab": {
          "base_uri": "https://localhost:8080/"
        },
        "id": "AiKRUzaqa3ZP",
        "outputId": "46e272ad-c40a-4299-f8fd-e80787bd59f0"
      },
      "source": [
        "import decimal\r\n",
        "\r\n",
        "print(0.1)\r\n",
        "\r\n",
        "print(decimal.Decimal(0.1))"
      ],
      "execution_count": 10,
      "outputs": [
        {
          "output_type": "stream",
          "text": [
            "0.1\n",
            "0.1000000000000000055511151231257827021181583404541015625\n"
          ],
          "name": "stdout"
        }
      ]
    },
    {
      "cell_type": "markdown",
      "metadata": {
        "id": "Hmtlyq-TbrTu"
      },
      "source": [
        "- This module is used when we want to carry out decimal calculations as we learned in school."
      ]
    },
    {
      "cell_type": "markdown",
      "metadata": {
        "id": "r-Zg5-KEbxsq"
      },
      "source": [
        "- It also preserves significance. We know 25.50 kg is more accurate than 25.5 kg as it has two significant decimal places compared to one."
      ]
    },
    {
      "cell_type": "code",
      "metadata": {
        "colab": {
          "base_uri": "https://localhost:8080/"
        },
        "id": "wHEe33e8baAD",
        "outputId": "9281fcb1-881e-4fd9-fa8a-aada6e888c6b"
      },
      "source": [
        "from decimal import Decimal as D\r\n",
        "\r\n",
        "print(D('1.1') + D('2.2'))\r\n",
        "\r\n",
        "print(D('1.2') * D('2.50'))"
      ],
      "execution_count": 11,
      "outputs": [
        {
          "output_type": "stream",
          "text": [
            "3.3\n",
            "3.000\n"
          ],
          "name": "stdout"
        }
      ]
    },
    {
      "cell_type": "markdown",
      "metadata": {
        "id": "v5UZWlK8cJY4"
      },
      "source": [
        "- Notice the trailing zeroes in the above example.\r\n",
        "\r\n",
        "- We might ask, why not implement `Decimal` every time, instead of `float`? \r\n",
        "\r\n",
        "- **The main reason is efficiency. Floating point operations are carried out much faster than Decimal operations**."
      ]
    },
    {
      "cell_type": "markdown",
      "metadata": {
        "id": "9UUivmlcEl6n"
      },
      "source": [
        "## **4. When to use Decimal instead of float**\r\n",
        "\r\n",
        "We generally use Decimal in the following cases.\r\n",
        "\r\n",
        "- When we are making financial applications that need exact decimal representation.\r\n",
        "- When we want to control the level of precision required.\r\n",
        "- When we want to implement the notion of significant decimal places."
      ]
    },
    {
      "cell_type": "markdown",
      "metadata": {
        "id": "Pq8KRT61EzMm"
      },
      "source": [
        "## **5. Python Fractions**\r\n",
        "\r\n",
        "- Python provides operations involving fractional numbers through its `fractions` module.\r\n",
        "\r\n",
        "- A fraction has a numerator and a denominator, both of which are integers. This module has support for rational number arithmetic.\r\n",
        "\r\n",
        "- We can create Fraction objects in various ways. Let's have a look at them."
      ]
    },
    {
      "cell_type": "code",
      "metadata": {
        "colab": {
          "base_uri": "https://localhost:8080/"
        },
        "id": "aTnNYWgQGSzM",
        "outputId": "ebd9fbdc-4214-40a5-d498-b69aa1b83e72"
      },
      "source": [
        "import fractions\r\n",
        "\r\n",
        "print(fractions.Fraction(1.5))\r\n",
        "\r\n",
        "print(fractions.Fraction(5))\r\n",
        "\r\n",
        "print(fractions.Fraction(1,3))"
      ],
      "execution_count": 12,
      "outputs": [
        {
          "output_type": "stream",
          "text": [
            "3/2\n",
            "5\n",
            "1/3\n"
          ],
          "name": "stdout"
        }
      ]
    },
    {
      "cell_type": "markdown",
      "metadata": {
        "id": "BcCeI91TIFc9"
      },
      "source": [
        "- While creating `Fraction` from `float`, we might get some unusual results. This is due to the imperfect binary floating point number representation as discussed in the previous section."
      ]
    },
    {
      "cell_type": "markdown",
      "metadata": {
        "id": "98UsfsGpIP-9"
      },
      "source": [
        "- Fortunately, `Fraction` allows us to instantiate with string as well. This is the preferred option when using decimal numbers."
      ]
    },
    {
      "cell_type": "code",
      "metadata": {
        "colab": {
          "base_uri": "https://localhost:8080/"
        },
        "id": "GU4msehuGeM8",
        "outputId": "4d3d1114-ef78-4ee0-f129-fa5cfc95cf7b"
      },
      "source": [
        "import fractions\r\n",
        "\r\n",
        "# As float\r\n",
        "# Output: 2476979795053773/2251799813685248\r\n",
        "print(fractions.Fraction(1.1))\r\n",
        "\r\n",
        "# As string\r\n",
        "# Output: 11/10\r\n",
        "print(fractions.Fraction('1.1'))"
      ],
      "execution_count": 13,
      "outputs": [
        {
          "output_type": "stream",
          "text": [
            "2476979795053773/2251799813685248\n",
            "11/10\n"
          ],
          "name": "stdout"
        }
      ]
    },
    {
      "cell_type": "markdown",
      "metadata": {
        "id": "In50TlisJtwo"
      },
      "source": [
        "- This data type supports all basic operations. Here are a few examples."
      ]
    },
    {
      "cell_type": "code",
      "metadata": {
        "colab": {
          "base_uri": "https://localhost:8080/"
        },
        "id": "xsSEhpw2I2tq",
        "outputId": "885a1fa4-7718-4ac3-d924-fbd5605ce865"
      },
      "source": [
        "from fractions import Fraction as F\r\n",
        "\r\n",
        "print(F(1, 3) + F(1, 3))\r\n",
        "\r\n",
        "print(1 / F(5, 6))\r\n",
        "\r\n",
        "print(F(-3, 10) > 0)\r\n",
        "\r\n",
        "print(F(-3, 10) < 0)"
      ],
      "execution_count": 14,
      "outputs": [
        {
          "output_type": "stream",
          "text": [
            "2/3\n",
            "6/5\n",
            "False\n",
            "True\n"
          ],
          "name": "stdout"
        }
      ]
    },
    {
      "cell_type": "markdown",
      "metadata": {
        "id": "a21VpIO8E-VM"
      },
      "source": [
        "## **6. Python Mathematics**\r\n",
        "\r\n",
        "- Python offers modules like `math` and `random` to carry out different mathematics like trigonometry, logarithms, probability and statistics, etc."
      ]
    },
    {
      "cell_type": "code",
      "metadata": {
        "id": "tjWFJXfE9iSW",
        "colab": {
          "base_uri": "https://localhost:8080/"
        },
        "outputId": "92f607bc-3284-40f6-a3b5-96eaf3689a03"
      },
      "source": [
        "import math\r\n",
        "\r\n",
        "print(math.pi)\r\n",
        "\r\n",
        "print(math.cos(math.pi))\r\n",
        "\r\n",
        "print(math.exp(10))\r\n",
        "\r\n",
        "print(math.log10(1000))\r\n",
        "\r\n",
        "print(math.sinh(1))\r\n",
        "\r\n",
        "print(math.factorial(6))"
      ],
      "execution_count": 15,
      "outputs": [
        {
          "output_type": "stream",
          "text": [
            "3.141592653589793\n",
            "-1.0\n",
            "22026.465794806718\n",
            "3.0\n",
            "1.1752011936438014\n",
            "720\n"
          ],
          "name": "stdout"
        }
      ]
    },
    {
      "cell_type": "markdown",
      "metadata": {
        "id": "ODe7fZdeLiO3"
      },
      "source": [
        "- Here is the full list of functions and attributes available in the [Python math module](https://www.programiz.com/python-programming/modules/math)."
      ]
    },
    {
      "cell_type": "code",
      "metadata": {
        "colab": {
          "base_uri": "https://localhost:8080/"
        },
        "id": "igSVXCdmLZAZ",
        "outputId": "f14db95d-2b1c-4e88-ef85-5eaa1fe7bffa"
      },
      "source": [
        "import random\r\n",
        "\r\n",
        "print(random.randrange(10, 20))\r\n",
        "\r\n",
        "x = ['a', 'b', 'c', 'd', 'e']\r\n",
        "\r\n",
        "# Get random choice\r\n",
        "print(random.choice(x))\r\n",
        "\r\n",
        "# Shuffle x\r\n",
        "random.shuffle(x)\r\n",
        "\r\n",
        "# Print the shuffled x\r\n",
        "print(x)\r\n",
        "\r\n",
        "# Print random element\r\n",
        "print(random.random())"
      ],
      "execution_count": 16,
      "outputs": [
        {
          "output_type": "stream",
          "text": [
            "17\n",
            "e\n",
            "['e', 'd', 'b', 'c', 'a']\n",
            "0.017498222791133333\n"
          ],
          "name": "stdout"
        }
      ]
    },
    {
      "cell_type": "markdown",
      "metadata": {
        "id": "iS9qIjaKMGeH"
      },
      "source": [
        "- Here is the full list of functions and attributes available in the [Python random module](https://www.programiz.com/python-programming/modules/random)."
      ]
    },
    {
      "cell_type": "markdown",
      "metadata": {
        "id": "WM96L4jl9sxK"
      },
      "source": [
        "https://www.programiz.com/python-programming/numbers"
      ]
    }
  ]
}