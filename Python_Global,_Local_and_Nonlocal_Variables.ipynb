{
  "nbformat": 4,
  "nbformat_minor": 0,
  "metadata": {
    "colab": {
      "name": "Python Global, Local and Nonlocal Variables",
      "provenance": [],
      "authorship_tag": "ABX9TyMSlVVOYWq9JGFmozr3oVtF",
      "include_colab_link": true
    },
    "kernelspec": {
      "name": "python3",
      "display_name": "Python 3"
    }
  },
  "cells": [
    {
      "cell_type": "markdown",
      "metadata": {
        "id": "view-in-github",
        "colab_type": "text"
      },
      "source": [
        "<a href=\"https://colab.research.google.com/github/pb111/Python-tutorials-and-projects/blob/master/Python_Global%2C_Local_and_Nonlocal_Variables.ipynb\" target=\"_parent\"><img src=\"https://colab.research.google.com/assets/colab-badge.svg\" alt=\"Open In Colab\"/></a>"
      ]
    },
    {
      "cell_type": "markdown",
      "metadata": {
        "id": "ewj7rNeaWLUG"
      },
      "source": [
        "# **Python Global, Local and Nonlocal Variables**\n",
        "\n",
        "\n",
        "- In this tutorial, you’ll learn about Python Global variables, Local variables, Nonlocal variables and where to use them.\n"
      ]
    },
    {
      "cell_type": "markdown",
      "metadata": {
        "id": "0BPbTItLY3mp"
      },
      "source": [
        "\n",
        "## **1. Global Variables**\n",
        "\n",
        "- In Python, a variable declared outside of the function or in global scope is known as a **global variable**. This means that a global variable can be accessed inside or outside of the function.\n",
        "\n",
        "- Let's see an example of how a global variable is created in Python."
      ]
    },
    {
      "cell_type": "markdown",
      "metadata": {
        "id": "a-qoD_pTZMEt"
      },
      "source": [
        "### **1.1 Example 1: Create a Global Variable**"
      ]
    },
    {
      "cell_type": "code",
      "metadata": {
        "colab": {
          "base_uri": "https://localhost:8080/"
        },
        "id": "W3YJQVRFWk8M",
        "outputId": "372ed9e0-bc9b-49d5-e25d-90fd70c558f9"
      },
      "source": [
        "x = \"global\"\n",
        "\n",
        "def foo():\n",
        "    print(\"x inside:\", x)\n",
        "\n",
        "foo()\n",
        "print(\"x outside:\", x)"
      ],
      "execution_count": 1,
      "outputs": [
        {
          "output_type": "stream",
          "text": [
            "x inside: global\n",
            "x outside: global\n"
          ],
          "name": "stdout"
        }
      ]
    },
    {
      "cell_type": "markdown",
      "metadata": {
        "id": "Lcq3BgsxZi9S"
      },
      "source": [
        "- In the above code, we created `x` as a global variable and defined a `foo()` to print the global variable `x`. Finally, we call the `foo()` which will print the value of `x`."
      ]
    },
    {
      "cell_type": "markdown",
      "metadata": {
        "id": "_nj-EeJpZvwy"
      },
      "source": [
        "- What if you want to change the value of `x` inside a function?"
      ]
    },
    {
      "cell_type": "code",
      "metadata": {
        "colab": {
          "base_uri": "https://localhost:8080/",
          "height": 316
        },
        "id": "P30_NK5xZYbd",
        "outputId": "23ae6f79-f17b-4402-cbd8-dc0f9db6d0a2"
      },
      "source": [
        "x = \"global\"\n",
        "\n",
        "def foo():\n",
        "    x = x * 2\n",
        "    print(x)\n",
        "\n",
        "foo()"
      ],
      "execution_count": 2,
      "outputs": [
        {
          "output_type": "error",
          "ename": "UnboundLocalError",
          "evalue": "ignored",
          "traceback": [
            "\u001b[0;31m---------------------------------------------------------------------------\u001b[0m",
            "\u001b[0;31mUnboundLocalError\u001b[0m                         Traceback (most recent call last)",
            "\u001b[0;32m<ipython-input-2-5bb9d7e58dc3>\u001b[0m in \u001b[0;36m<module>\u001b[0;34m()\u001b[0m\n\u001b[1;32m      5\u001b[0m     \u001b[0mprint\u001b[0m\u001b[0;34m(\u001b[0m\u001b[0mx\u001b[0m\u001b[0;34m)\u001b[0m\u001b[0;34m\u001b[0m\u001b[0;34m\u001b[0m\u001b[0m\n\u001b[1;32m      6\u001b[0m \u001b[0;34m\u001b[0m\u001b[0m\n\u001b[0;32m----> 7\u001b[0;31m \u001b[0mfoo\u001b[0m\u001b[0;34m(\u001b[0m\u001b[0;34m)\u001b[0m\u001b[0;34m\u001b[0m\u001b[0;34m\u001b[0m\u001b[0m\n\u001b[0m",
            "\u001b[0;32m<ipython-input-2-5bb9d7e58dc3>\u001b[0m in \u001b[0;36mfoo\u001b[0;34m()\u001b[0m\n\u001b[1;32m      2\u001b[0m \u001b[0;34m\u001b[0m\u001b[0m\n\u001b[1;32m      3\u001b[0m \u001b[0;32mdef\u001b[0m \u001b[0mfoo\u001b[0m\u001b[0;34m(\u001b[0m\u001b[0;34m)\u001b[0m\u001b[0;34m:\u001b[0m\u001b[0;34m\u001b[0m\u001b[0;34m\u001b[0m\u001b[0m\n\u001b[0;32m----> 4\u001b[0;31m     \u001b[0mx\u001b[0m \u001b[0;34m=\u001b[0m \u001b[0mx\u001b[0m \u001b[0;34m*\u001b[0m \u001b[0;36m2\u001b[0m\u001b[0;34m\u001b[0m\u001b[0;34m\u001b[0m\u001b[0m\n\u001b[0m\u001b[1;32m      5\u001b[0m     \u001b[0mprint\u001b[0m\u001b[0;34m(\u001b[0m\u001b[0mx\u001b[0m\u001b[0;34m)\u001b[0m\u001b[0;34m\u001b[0m\u001b[0;34m\u001b[0m\u001b[0m\n\u001b[1;32m      6\u001b[0m \u001b[0;34m\u001b[0m\u001b[0m\n",
            "\u001b[0;31mUnboundLocalError\u001b[0m: local variable 'x' referenced before assignment"
          ]
        }
      ]
    },
    {
      "cell_type": "markdown",
      "metadata": {
        "id": "L_NmMk2faJdG"
      },
      "source": [
        "- The output shows an error because Python treats `x` as a local variable and `x` is also not defined inside `foo()`."
      ]
    },
    {
      "cell_type": "markdown",
      "metadata": {
        "id": "d6x7bI0xacAu"
      },
      "source": [
        "- To make this work, we use the **global** keyword. \n",
        "\n",
        "- Please visit [Python Global Keyword](https://www.programiz.com/python-programming/global-keyword) to learn more.\n",
        "\n"
      ]
    },
    {
      "cell_type": "markdown",
      "metadata": {
        "id": "XCYaoC8iasOH"
      },
      "source": [
        "## **2. Local Variables**\n",
        "\n",
        "- A variable declared inside the function's body or in the local scope is known as a **local variable**."
      ]
    },
    {
      "cell_type": "markdown",
      "metadata": {
        "id": "qk_R0xKDbESS"
      },
      "source": [
        "### **2.1 Example 2: Accessing local variable outside the scope**"
      ]
    },
    {
      "cell_type": "code",
      "metadata": {
        "colab": {
          "base_uri": "https://localhost:8080/",
          "height": 197
        },
        "id": "RrdbY815Z-c6",
        "outputId": "4a752c2d-128d-4bac-a652-7558b36483bd"
      },
      "source": [
        "def foo():\n",
        "    y = \"local\"\n",
        "\n",
        "foo()\n",
        "print(y)"
      ],
      "execution_count": 3,
      "outputs": [
        {
          "output_type": "error",
          "ename": "NameError",
          "evalue": "ignored",
          "traceback": [
            "\u001b[0;31m---------------------------------------------------------------------------\u001b[0m",
            "\u001b[0;31mNameError\u001b[0m                                 Traceback (most recent call last)",
            "\u001b[0;32m<ipython-input-3-92f817b0ade3>\u001b[0m in \u001b[0;36m<module>\u001b[0;34m()\u001b[0m\n\u001b[1;32m      3\u001b[0m \u001b[0;34m\u001b[0m\u001b[0m\n\u001b[1;32m      4\u001b[0m \u001b[0mfoo\u001b[0m\u001b[0;34m(\u001b[0m\u001b[0;34m)\u001b[0m\u001b[0;34m\u001b[0m\u001b[0;34m\u001b[0m\u001b[0m\n\u001b[0;32m----> 5\u001b[0;31m \u001b[0mprint\u001b[0m\u001b[0;34m(\u001b[0m\u001b[0my\u001b[0m\u001b[0;34m)\u001b[0m\u001b[0;34m\u001b[0m\u001b[0;34m\u001b[0m\u001b[0m\n\u001b[0m",
            "\u001b[0;31mNameError\u001b[0m: name 'y' is not defined"
          ]
        }
      ]
    },
    {
      "cell_type": "markdown",
      "metadata": {
        "id": "TQbx_uUhb1NB"
      },
      "source": [
        "- The output shows an error because we are trying to access a local variable `y` in a global scope whereas the local variable only works inside `foo()` or local scope."
      ]
    },
    {
      "cell_type": "markdown",
      "metadata": {
        "id": "AhbtwLFrcDey"
      },
      "source": [
        "- Let's see an example on how a local variable is created in Python."
      ]
    },
    {
      "cell_type": "markdown",
      "metadata": {
        "id": "Pqc1HKpmcL9k"
      },
      "source": [
        "### **2.2 Example 3: Create a Local Variable**\n",
        "\n",
        "- Normally, we declare a variable inside the function to create a local variable."
      ]
    },
    {
      "cell_type": "code",
      "metadata": {
        "colab": {
          "base_uri": "https://localhost:8080/"
        },
        "id": "q756RgtObSIu",
        "outputId": "2dcb79bf-2fa0-42fe-c034-481111e510f5"
      },
      "source": [
        "def foo():\n",
        "    y = \"local\"\n",
        "    print(y)\n",
        "\n",
        "foo()"
      ],
      "execution_count": 4,
      "outputs": [
        {
          "output_type": "stream",
          "text": [
            "local\n"
          ],
          "name": "stdout"
        }
      ]
    },
    {
      "cell_type": "markdown",
      "metadata": {
        "id": "6riCf69dcm4I"
      },
      "source": [
        "- Let's take a look at the [earlier problem](https://www.programiz.com/python-programming/global-local-nonlocal-variables#change-x) where `x` was a global variable and we wanted to modify `x` inside `foo()`."
      ]
    },
    {
      "cell_type": "markdown",
      "metadata": {
        "id": "AVZD7-COdFci"
      },
      "source": [
        "## **3. Global and local variables**\n",
        "\n",
        "\n",
        "- Here, we will show how to use global variables and local variables in the same code."
      ]
    },
    {
      "cell_type": "markdown",
      "metadata": {
        "id": "TnOOYmSPdWD5"
      },
      "source": [
        "### **3.1 Example 4: Using Global and Local variables in the same code**"
      ]
    },
    {
      "cell_type": "code",
      "metadata": {
        "colab": {
          "base_uri": "https://localhost:8080/"
        },
        "id": "G6D-rXhCcc0K",
        "outputId": "0dc67250-85c0-4783-9b20-359c59ccb4d0"
      },
      "source": [
        "x = \"global \"\n",
        "\n",
        "def foo():\n",
        "    global x\n",
        "    y = \"local\"\n",
        "    x = x * 2\n",
        "    print(x)\n",
        "    print(y)\n",
        "\n",
        "foo()"
      ],
      "execution_count": 5,
      "outputs": [
        {
          "output_type": "stream",
          "text": [
            "global global \n",
            "local\n"
          ],
          "name": "stdout"
        }
      ]
    },
    {
      "cell_type": "markdown",
      "metadata": {
        "id": "PEq9J8nleYKH"
      },
      "source": [
        "- In the above code, we declare `x` as a global and `y` as a local variable in the `foo()`. Then, we use multiplication operator `*` to modify the global variable `x` and we print both `x` and `y`.\n",
        "\n",
        "- After calling the `foo()`, the value of `x` becomes `global global` because we used the `x * 2` to print two times `global`. After that, we print the value of local variable `y` i.e `local`.\n",
        "\n"
      ]
    },
    {
      "cell_type": "markdown",
      "metadata": {
        "id": "BHZZ8MvqfBX3"
      },
      "source": [
        "### **3.2 Example 5: Global variable and Local variable with same name**"
      ]
    },
    {
      "cell_type": "code",
      "metadata": {
        "colab": {
          "base_uri": "https://localhost:8080/"
        },
        "id": "SxeiWapgdgwd",
        "outputId": "49c6987e-8ea6-47be-e41a-a6daadfbfa70"
      },
      "source": [
        "x = 5\n",
        "\n",
        "def foo():\n",
        "    x = 10\n",
        "    print(\"local x:\", x)\n",
        "\n",
        "foo()\n",
        "print(\"global x:\", x)"
      ],
      "execution_count": 6,
      "outputs": [
        {
          "output_type": "stream",
          "text": [
            "local x: 10\n",
            "global x: 5\n"
          ],
          "name": "stdout"
        }
      ]
    },
    {
      "cell_type": "markdown",
      "metadata": {
        "id": "AS7FpY7NfvHH"
      },
      "source": [
        "- In the above code, we used the same name `x` for both global variable and local variable. \n",
        "\n",
        "- We get a different result when we print the same variable because the variable is declared in both scopes, i.e. the local scope inside `foo()` and global scope outside `foo()`.\n",
        "\n",
        "- When we print the variable inside `foo()` it outputs `local x: 10`. This is called the **local scope of the variable**.\n",
        "\n",
        "- Similarly, when we print the variable outside the `foo()`, it outputs \n",
        "`global x: 5`. This is called the **global scope of the variable**.\n",
        "\n"
      ]
    },
    {
      "cell_type": "markdown",
      "metadata": {
        "id": "8Y_drNSzgn8l"
      },
      "source": [
        "## **4. Nonlocal Variables**\n",
        "\n",
        "\n",
        "- Nonlocal variables are used in nested functions whose local scope is not defined. This means that the variable can be neither in the local nor the global scope.\n",
        "\n",
        "- Let's see an example of how a nonlocal variable is used in Python.\n",
        "\n",
        "- We use `nonlocal` keywords to create nonlocal variables."
      ]
    },
    {
      "cell_type": "markdown",
      "metadata": {
        "id": "xHnaU-Z9g_u7"
      },
      "source": [
        "### **4.1 Example 6: Create a nonlocal variable**"
      ]
    },
    {
      "cell_type": "code",
      "metadata": {
        "colab": {
          "base_uri": "https://localhost:8080/"
        },
        "id": "pslcPjA6fXmy",
        "outputId": "d423e1bc-34b7-4b48-ef6a-e1eca678b2e4"
      },
      "source": [
        "def outer():\n",
        "    x = \"local\"\n",
        "\n",
        "    def inner():\n",
        "        nonlocal x\n",
        "        x = \"nonlocal\"\n",
        "        print(\"inner:\", x)\n",
        "\n",
        "    inner()\n",
        "    print(\"outer:\", x)\n",
        "\n",
        "outer()"
      ],
      "execution_count": 7,
      "outputs": [
        {
          "output_type": "stream",
          "text": [
            "inner: nonlocal\n",
            "outer: nonlocal\n"
          ],
          "name": "stdout"
        }
      ]
    },
    {
      "cell_type": "markdown",
      "metadata": {
        "id": "eCkJU96uhVUL"
      },
      "source": [
        "- In the above code, there is a nested `inner()` function. We use `nonlocal` keywords to create a nonlocal variable. The `inner()` function is defined in the scope of another function `outer()`."
      ]
    },
    {
      "cell_type": "markdown",
      "metadata": {
        "id": "9rdzABUWhtM4"
      },
      "source": [
        "- **Note** : If we change the value of a nonlocal variable, the changes appear in the local variable."
      ]
    },
    {
      "cell_type": "markdown",
      "metadata": {
        "id": "NYAEsUgdh2rT"
      },
      "source": [
        "https://www.programiz.com/python-programming/global-local-nonlocal-variables"
      ]
    }
  ]
}