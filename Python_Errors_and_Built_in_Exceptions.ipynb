{
  "nbformat": 4,
  "nbformat_minor": 0,
  "metadata": {
    "colab": {
      "name": "Python Errors and Built-in Exceptions",
      "provenance": [],
      "authorship_tag": "ABX9TyNh2tq7mLRhMWYY+OAF6Gxp",
      "include_colab_link": true
    },
    "kernelspec": {
      "name": "python3",
      "display_name": "Python 3"
    }
  },
  "cells": [
    {
      "cell_type": "markdown",
      "metadata": {
        "id": "view-in-github",
        "colab_type": "text"
      },
      "source": [
        "<a href=\"https://colab.research.google.com/github/pb111/Python-tutorials-and-projects/blob/master/Python_Errors_and_Built_in_Exceptions.ipynb\" target=\"_parent\"><img src=\"https://colab.research.google.com/assets/colab-badge.svg\" alt=\"Open In Colab\"/></a>"
      ]
    },
    {
      "cell_type": "markdown",
      "metadata": {
        "id": "bdRFfVK3ZMX2"
      },
      "source": [
        "# **Python Errors and Built-in Exceptions**\r\n",
        "\r\n",
        "\r\n",
        "- In this tutorial, you will learn about different types of errors and exceptions that are built-in to Python. \r\n",
        "- They are raised whenever the Python interpreter encounters errors."
      ]
    },
    {
      "cell_type": "markdown",
      "metadata": {
        "id": "EI4ykrOeZX4H"
      },
      "source": [
        "## **1. Introduction**\r\n",
        "\r\n",
        "- We can make certain mistakes while writing a program that lead to errors when we try to run it. \r\n",
        "- A python program terminates as soon as it encounters an unhandled error. \r\n",
        "- These errors can be broadly classified into two classes:\r\n",
        "\r\n",
        " 1. Syntax errors\r\n",
        " 2. Logical errors (Exceptions)"
      ]
    },
    {
      "cell_type": "markdown",
      "metadata": {
        "id": "k4o-RVMmcliT"
      },
      "source": [
        "## **2. Python Syntax Errors**\r\n",
        "\r\n",
        "- Error caused by not following the proper structure (syntax) of the language is called **syntax error** or **parsing error**.\r\n",
        "\r\n",
        "- Let's look at one example:"
      ]
    },
    {
      "cell_type": "code",
      "metadata": {
        "colab": {
          "base_uri": "https://localhost:8080/",
          "height": 129
        },
        "id": "Gv0aquBdOniU",
        "outputId": "e7e6c094-0be4-4cb8-a8ee-78f7ba07d47d"
      },
      "source": [
        "if a < 3"
      ],
      "execution_count": 1,
      "outputs": [
        {
          "output_type": "error",
          "ename": "SyntaxError",
          "evalue": "ignored",
          "traceback": [
            "\u001b[0;36m  File \u001b[0;32m\"<ipython-input-1-3e28e520013d>\"\u001b[0;36m, line \u001b[0;32m1\u001b[0m\n\u001b[0;31m    if a < 3\u001b[0m\n\u001b[0m            ^\u001b[0m\n\u001b[0;31mSyntaxError\u001b[0m\u001b[0;31m:\u001b[0m invalid syntax\n"
          ]
        }
      ]
    },
    {
      "cell_type": "markdown",
      "metadata": {
        "id": "7oEugLGwgwAz"
      },
      "source": [
        "- As shown in the example, an arrow indicates where the parser ran into the syntax error.\r\n",
        "\r\n",
        "- We can notice here that a colon `:` is missing in the `if` statement."
      ]
    },
    {
      "cell_type": "markdown",
      "metadata": {
        "id": "K7ucQmqog8Eo"
      },
      "source": [
        "## **3. Python Logical Errors (Exceptions)**\r\n",
        "\r\n",
        "- Errors that occur at runtime (after passing the syntax test) are called **exceptions** or **logical errors**.\r\n",
        "\r\n",
        "- For instance, they occur when \r\n",
        " - we try to open a file(for reading) that does not exist(`FileNotFoundError`),  \r\n",
        " - try to divide a number by zero (`ZeroDivisionError`), or \r\n",
        " - try to import a module that does not exist (`ImportError`).\r\n",
        "\r\n",
        "- Whenever these types of runtime errors occur, Python creates an exception object.\r\n",
        "\r\n",
        "- If not handled properly, it prints a traceback to that error along with some details about why that error occurred.\r\n",
        "\r\n",
        "- Let's look at how Python treats these errors:"
      ]
    },
    {
      "cell_type": "code",
      "metadata": {
        "colab": {
          "base_uri": "https://localhost:8080/",
          "height": 163
        },
        "id": "6JHHhonCnT2U",
        "outputId": "3d40fc7f-3bda-41fd-ba39-bf0569ba5b87"
      },
      "source": [
        "1/0"
      ],
      "execution_count": 2,
      "outputs": [
        {
          "output_type": "error",
          "ename": "ZeroDivisionError",
          "evalue": "ignored",
          "traceback": [
            "\u001b[0;31m---------------------------------------------------------------------------\u001b[0m",
            "\u001b[0;31mZeroDivisionError\u001b[0m                         Traceback (most recent call last)",
            "\u001b[0;32m<ipython-input-2-9e1622b385b6>\u001b[0m in \u001b[0;36m<module>\u001b[0;34m()\u001b[0m\n\u001b[0;32m----> 1\u001b[0;31m \u001b[0;36m1\u001b[0m\u001b[0;34m/\u001b[0m\u001b[0;36m0\u001b[0m\u001b[0;34m\u001b[0m\u001b[0;34m\u001b[0m\u001b[0m\n\u001b[0m",
            "\u001b[0;31mZeroDivisionError\u001b[0m: division by zero"
          ]
        }
      ]
    },
    {
      "cell_type": "code",
      "metadata": {
        "colab": {
          "base_uri": "https://localhost:8080/",
          "height": 163
        },
        "id": "YlBIimzLndfq",
        "outputId": "dba262b1-3341-4454-a423-a24143afea64"
      },
      "source": [
        "open(\"imaginary.txt\")"
      ],
      "execution_count": 3,
      "outputs": [
        {
          "output_type": "error",
          "ename": "FileNotFoundError",
          "evalue": "ignored",
          "traceback": [
            "\u001b[0;31m---------------------------------------------------------------------------\u001b[0m",
            "\u001b[0;31mFileNotFoundError\u001b[0m                         Traceback (most recent call last)",
            "\u001b[0;32m<ipython-input-3-2bedf9c67314>\u001b[0m in \u001b[0;36m<module>\u001b[0;34m()\u001b[0m\n\u001b[0;32m----> 1\u001b[0;31m \u001b[0mopen\u001b[0m\u001b[0;34m(\u001b[0m\u001b[0;34m\"imaginary.txt\"\u001b[0m\u001b[0;34m)\u001b[0m\u001b[0;34m\u001b[0m\u001b[0;34m\u001b[0m\u001b[0m\n\u001b[0m",
            "\u001b[0;31mFileNotFoundError\u001b[0m: [Errno 2] No such file or directory: 'imaginary.txt'"
          ]
        }
      ]
    },
    {
      "cell_type": "markdown",
      "metadata": {
        "id": "-ub_il-En4Vi"
      },
      "source": [
        "## **4. Python Built-in Exceptions**\r\n",
        "\r\n",
        "- Illegal operations can raise exceptions. There are plenty of built-in exceptions in Python that are raised when corresponding errors occur. \r\n",
        "\r\n",
        "- We can view all the built-in exceptions using the built-in `local()` function as follows:"
      ]
    },
    {
      "cell_type": "code",
      "metadata": {
        "colab": {
          "base_uri": "https://localhost:8080/"
        },
        "id": "R3F7yIwonpaW",
        "outputId": "d8c68b74-2bf1-48f9-fc51-512cb3c9b886"
      },
      "source": [
        "print(dir(locals()['__builtins__']))"
      ],
      "execution_count": 4,
      "outputs": [
        {
          "output_type": "stream",
          "text": [
            "['ArithmeticError', 'AssertionError', 'AttributeError', 'BaseException', 'BlockingIOError', 'BrokenPipeError', 'BufferError', 'BytesWarning', 'ChildProcessError', 'ConnectionAbortedError', 'ConnectionError', 'ConnectionRefusedError', 'ConnectionResetError', 'DeprecationWarning', 'EOFError', 'Ellipsis', 'EnvironmentError', 'Exception', 'False', 'FileExistsError', 'FileNotFoundError', 'FloatingPointError', 'FutureWarning', 'GeneratorExit', 'IOError', 'ImportError', 'ImportWarning', 'IndentationError', 'IndexError', 'InterruptedError', 'IsADirectoryError', 'KeyError', 'KeyboardInterrupt', 'LookupError', 'MemoryError', 'ModuleNotFoundError', 'NameError', 'None', 'NotADirectoryError', 'NotImplemented', 'NotImplementedError', 'OSError', 'OverflowError', 'PendingDeprecationWarning', 'PermissionError', 'ProcessLookupError', 'RecursionError', 'ReferenceError', 'ResourceWarning', 'RuntimeError', 'RuntimeWarning', 'StopAsyncIteration', 'StopIteration', 'SyntaxError', 'SyntaxWarning', 'SystemError', 'SystemExit', 'TabError', 'TimeoutError', 'True', 'TypeError', 'UnboundLocalError', 'UnicodeDecodeError', 'UnicodeEncodeError', 'UnicodeError', 'UnicodeTranslateError', 'UnicodeWarning', 'UserWarning', 'ValueError', 'Warning', 'ZeroDivisionError', '__IPYTHON__', '__build_class__', '__debug__', '__doc__', '__import__', '__loader__', '__name__', '__package__', '__spec__', 'abs', 'all', 'any', 'ascii', 'bin', 'bool', 'bytearray', 'bytes', 'callable', 'chr', 'classmethod', 'compile', 'complex', 'copyright', 'credits', 'delattr', 'dict', 'dir', 'display', 'divmod', 'dreload', 'enumerate', 'eval', 'exec', 'filter', 'float', 'format', 'frozenset', 'get_ipython', 'getattr', 'globals', 'hasattr', 'hash', 'help', 'hex', 'id', 'input', 'int', 'isinstance', 'issubclass', 'iter', 'len', 'license', 'list', 'locals', 'map', 'max', 'memoryview', 'min', 'next', 'object', 'oct', 'open', 'ord', 'pow', 'print', 'property', 'range', 'repr', 'reversed', 'round', 'set', 'setattr', 'slice', 'sorted', 'staticmethod', 'str', 'sum', 'super', 'tuple', 'type', 'vars', 'zip']\n"
          ],
          "name": "stdout"
        }
      ]
    },
    {
      "cell_type": "markdown",
      "metadata": {
        "id": "oUfFVPhZqJh-"
      },
      "source": [
        "- `locals()['__builtins__']` will return a module of built-in exceptions, functions and attributes. \r\n",
        "- `dir` allows us to list these attributes as strings."
      ]
    },
    {
      "cell_type": "markdown",
      "metadata": {
        "id": "rEWbuLHsqdVK"
      },
      "source": [
        "- Some of the common built-in exceptions in Python programming along with the error that cause them are listed below:"
      ]
    },
    {
      "cell_type": "markdown",
      "metadata": {
        "id": "cCC024EMrWZf"
      },
      "source": [
        "- **Exception** -\t**Cause of Error**\r\n",
        "- `AssertionError` -\tRaised when an `assert` statement fails.\r\n",
        "- `AttributeError` -\tRaised when attribute assignment or reference fails.\r\n",
        "- `EOFError` -\tRaised when the `input()` function hits end-of-file condition.\r\n",
        "- `FloatingPointError` -\tRaised when a floating point operation fails.\r\n",
        "- `GeneratorExit` -\tRaise when a generator's `close()` method is called.\r\n",
        "- `ImportError` -\tRaised when the imported module is not found.\r\n",
        "- `IndexError` -\tRaised when the index of a sequence is out of range.\r\n",
        "- `KeyError` -\tRaised when a key is not found in a dictionary.\r\n",
        "- `KeyboardInterrupt` -\tRaised when the user hits the interrupt key (`Ctrl+C` or `Delete`).\r\n",
        "- `MemoryError` -\tRaised when an operation runs out of memory.\r\n",
        "- `NameError` -\tRaised when a variable is not found in local or global scope.\r\n",
        "- `NotImplementedError` -\tRaised by abstract methods.\r\n",
        "- `OSError` -\tRaised when system operation causes system related error.\r\n",
        "- `OverflowError` -\tRaised when the result of an arithmetic operation is too large to be represented.\r\n",
        "- `ReferenceError` -\tRaised when a weak reference proxy is used to access a garbage collected referent.\r\n",
        "- `RuntimeError` -\tRaised when an error does not fall under any other category.\r\n",
        "- `StopIteration` -\tRaised by `next()` function to indicate that there is no further item to be returned by iterator.\r\n",
        "- `SyntaxError` -\tRaised by parser when syntax error is encountered.\r\n",
        "- `IndentationError` -\tRaised when there is incorrect indentation.\r\n",
        "- `TabError` -\tRaised when indentation consists of inconsistent tabs and spaces.\r\n",
        "- `SystemError` -\tRaised when interpreter detects internal error.\r\n",
        "- `SystemExit` -\tRaised by `sys.exit()` function.\r\n",
        "- `TypeError` -\tRaised when a function or operation is applied to an object of incorrect type.\r\n",
        "- `UnboundLocalError` -\tRaised when a reference is made to a local variable in a function or method, but no value has been bound to that variable.\r\n",
        "- `UnicodeError` -\tRaised when a Unicode-related encoding or decoding error occurs.\r\n",
        "- `UnicodeEncodeError` -\tRaised when a Unicode-related error occurs during encoding.\r\n",
        "- `UnicodeDecodeError` -\tRaised when a Unicode-related error occurs during decoding.\r\n",
        "- `UnicodeTranslateError` -\tRaised when a Unicode-related error occurs during translating.\r\n",
        "- `ValueError` -\tRaised when a function gets an argument of correct type but improper value.\r\n",
        "- `ZeroDivisionError` -\tRaised when the second operand of division or modulo operation is zero."
      ]
    },
    {
      "cell_type": "markdown",
      "metadata": {
        "id": "dbyoVbMht4iZ"
      },
      "source": [
        "- If required, we can also define our own exceptions in Python. To learn more about them, visit [Python User-defined Exceptions](https://www.programiz.com/python-programming/user-defined-exception).\r\n",
        "\r\n",
        "- We can handle these built-in and user-defined exceptions in Python using `try`, `except` and `finally` statements. To learn more about them, visit [Python try, except and finally statements](https://www.programiz.com/python-programming/exception-handling)."
      ]
    },
    {
      "cell_type": "markdown",
      "metadata": {
        "id": "bvvDiCUZbayi"
      },
      "source": [
        "https://www.programiz.com/python-programming/exceptions"
      ]
    }
  ]
}