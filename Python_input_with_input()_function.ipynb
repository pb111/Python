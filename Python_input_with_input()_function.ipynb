{
  "nbformat": 4,
  "nbformat_minor": 0,
  "metadata": {
    "colab": {
      "name": "Python input with input() function",
      "provenance": [],
      "authorship_tag": "ABX9TyNWc/z9OD0lxkT3s1+HHfA7",
      "include_colab_link": true
    },
    "kernelspec": {
      "name": "python3",
      "display_name": "Python 3"
    }
  },
  "cells": [
    {
      "cell_type": "markdown",
      "metadata": {
        "id": "view-in-github",
        "colab_type": "text"
      },
      "source": [
        "<a href=\"https://colab.research.google.com/github/pb111/Python-tutorials-and-projects/blob/master/Python_input_with_input()_function.ipynb\" target=\"_parent\"><img src=\"https://colab.research.google.com/assets/colab-badge.svg\" alt=\"Open In Colab\"/></a>"
      ]
    },
    {
      "cell_type": "markdown",
      "metadata": {
        "id": "7lDaCMtUUyoD"
      },
      "source": [
        "# **Python input with input() function**\r\n",
        "\r\n",
        "\r\n",
        "- In this tutorial, we will learn about the built-in `input()` function."
      ]
    },
    {
      "cell_type": "markdown",
      "metadata": {
        "id": "V3XqyeGT_MPb"
      },
      "source": [
        "- Up until now, our programs were static. The value of variables was defined or hard coded into the source code.\r\n",
        "\r\n",
        "- To allow flexibility, we might want to take the input from the user. \r\n",
        "\r\n",
        "- In Python, we have the `input()` function to allow this. \r\n",
        "\r\n",
        "- The syntax for `input()` is:\r\n",
        "\r\n",
        "    - input([prompt])\r\n",
        "\r\n",
        "- where `prompt` is the string we wish to display on the screen. It is optional."
      ]
    },
    {
      "cell_type": "code",
      "metadata": {
        "id": "nuCvjL4kUnm_",
        "colab": {
          "base_uri": "https://localhost:8080/"
        },
        "outputId": "05f7b746-b97d-4f4e-f927-528df8b594d5"
      },
      "source": [
        "num = input('Enter a number: ')"
      ],
      "execution_count": 1,
      "outputs": [
        {
          "output_type": "stream",
          "text": [
            "Enter a number: 10\n"
          ],
          "name": "stdout"
        }
      ]
    },
    {
      "cell_type": "code",
      "metadata": {
        "colab": {
          "base_uri": "https://localhost:8080/",
          "height": 35
        },
        "id": "y_dXy-8p_6Fo",
        "outputId": "2a230756-b0f8-4dd4-b57b-90a3da99e447"
      },
      "source": [
        "num"
      ],
      "execution_count": 2,
      "outputs": [
        {
          "output_type": "execute_result",
          "data": {
            "application/vnd.google.colaboratory.intrinsic+json": {
              "type": "string"
            },
            "text/plain": [
              "'10'"
            ]
          },
          "metadata": {
            "tags": []
          },
          "execution_count": 2
        }
      ]
    },
    {
      "cell_type": "markdown",
      "metadata": {
        "id": "9SPKhFJzAJXB"
      },
      "source": [
        "- Here, we can see that the entered value `10` is a string, not a number. \r\n",
        "\r\n",
        "- To convert this into a number we can use `int()` or `float()` functions."
      ]
    },
    {
      "cell_type": "code",
      "metadata": {
        "colab": {
          "base_uri": "https://localhost:8080/"
        },
        "id": "tmhbhxPw___b",
        "outputId": "b1eb864d-5d09-4895-978c-4c21e87511d0"
      },
      "source": [
        "int('10')"
      ],
      "execution_count": 3,
      "outputs": [
        {
          "output_type": "execute_result",
          "data": {
            "text/plain": [
              "10"
            ]
          },
          "metadata": {
            "tags": []
          },
          "execution_count": 3
        }
      ]
    },
    {
      "cell_type": "code",
      "metadata": {
        "colab": {
          "base_uri": "https://localhost:8080/"
        },
        "id": "KByxG-EwD4za",
        "outputId": "91054490-9568-4f6c-82aa-c2d70907535f"
      },
      "source": [
        "float('10')"
      ],
      "execution_count": 4,
      "outputs": [
        {
          "output_type": "execute_result",
          "data": {
            "text/plain": [
              "10.0"
            ]
          },
          "metadata": {
            "tags": []
          },
          "execution_count": 4
        }
      ]
    },
    {
      "cell_type": "markdown",
      "metadata": {
        "id": "UdA4rYWBEy1Q"
      },
      "source": [
        "- This same operation can be performed using the `eval()` function. \r\n",
        "- But eval takes it further. \r\n",
        "- It can evaluate even expressions, provided the input is a string."
      ]
    },
    {
      "cell_type": "code",
      "metadata": {
        "colab": {
          "base_uri": "https://localhost:8080/",
          "height": 163
        },
        "id": "UKCWJqBUD9ll",
        "outputId": "bda20f06-e92c-4a22-c902-59dd3f7ba8e1"
      },
      "source": [
        "int('2+3')"
      ],
      "execution_count": 5,
      "outputs": [
        {
          "output_type": "error",
          "ename": "ValueError",
          "evalue": "ignored",
          "traceback": [
            "\u001b[0;31m---------------------------------------------------------------------------\u001b[0m",
            "\u001b[0;31mValueError\u001b[0m                                Traceback (most recent call last)",
            "\u001b[0;32m<ipython-input-5-7dc57dc68b93>\u001b[0m in \u001b[0;36m<module>\u001b[0;34m()\u001b[0m\n\u001b[0;32m----> 1\u001b[0;31m \u001b[0mint\u001b[0m\u001b[0;34m(\u001b[0m\u001b[0;34m'2+3'\u001b[0m\u001b[0;34m)\u001b[0m\u001b[0;34m\u001b[0m\u001b[0;34m\u001b[0m\u001b[0m\n\u001b[0m",
            "\u001b[0;31mValueError\u001b[0m: invalid literal for int() with base 10: '2+3'"
          ]
        }
      ]
    },
    {
      "cell_type": "code",
      "metadata": {
        "colab": {
          "base_uri": "https://localhost:8080/"
        },
        "id": "6FtmAaHTFO5N",
        "outputId": "b55b52e6-69c9-4f60-c4c9-cb6737083353"
      },
      "source": [
        "eval('2+3')"
      ],
      "execution_count": 6,
      "outputs": [
        {
          "output_type": "execute_result",
          "data": {
            "text/plain": [
              "5"
            ]
          },
          "metadata": {
            "tags": []
          },
          "execution_count": 6
        }
      ]
    },
    {
      "cell_type": "markdown",
      "metadata": {
        "id": "S-An8BdFU6UZ"
      },
      "source": [
        "https://www.programiz.com/python-programming/input-output-import"
      ]
    }
  ]
}