{
  "nbformat": 4,
  "nbformat_minor": 0,
  "metadata": {
    "colab": {
      "name": "Python Keywords and Identifiers",
      "provenance": [],
      "authorship_tag": "ABX9TyPkiuNJcTAGldGVu9C23Rs5",
      "include_colab_link": true
    },
    "kernelspec": {
      "name": "python3",
      "display_name": "Python 3"
    }
  },
  "cells": [
    {
      "cell_type": "markdown",
      "metadata": {
        "id": "view-in-github",
        "colab_type": "text"
      },
      "source": [
        "<a href=\"https://colab.research.google.com/github/pb111/Python/blob/master/Python_Keywords_and_Identifiers.ipynb\" target=\"_parent\"><img src=\"https://colab.research.google.com/assets/colab-badge.svg\" alt=\"Open In Colab\"/></a>"
      ]
    },
    {
      "cell_type": "markdown",
      "metadata": {
        "id": "_yIikuSK3YmC",
        "colab_type": "text"
      },
      "source": [
        "# **Python Keywords and Identifiers**"
      ]
    },
    {
      "cell_type": "markdown",
      "metadata": {
        "id": "m77HjexV3mGW",
        "colab_type": "text"
      },
      "source": [
        "- In this tutorial, you will learn about keywords (reserved words in Python) and identifiers (names given to variables, functions, etc.)."
      ]
    },
    {
      "cell_type": "markdown",
      "metadata": {
        "id": "_CSITaSg30yY",
        "colab_type": "text"
      },
      "source": [
        "## **Python is a case-sensitive language**"
      ]
    },
    {
      "cell_type": "markdown",
      "metadata": {
        "id": "AgpgkU4I55R1",
        "colab_type": "text"
      },
      "source": [
        "## **1. Python Keywords**\n",
        "\n",
        "- Keywords are the reserved words in Python.\n",
        "\n",
        "- We cannot use a keyword as a variable name, function name or any other identifier. They are used to define the syntax and structure of the Python language.\n",
        "\n",
        "- **In Python, keywords are case sensitive.**\n",
        "\n",
        "- There are 33 keywords in Python 3.7. This number can vary slightly over the course of time.\n",
        "\n",
        "- All the keywords except **True**, **False** and **None** are in lowercase and they must be written as they are. \n",
        "\n",
        "- The list of all the keywords is given below.\n",
        "\n",
        "- Complete list of keywords with their examples can be found [here](https://www.programiz.com/python-programming/keyword-list)"
      ]
    },
    {
      "cell_type": "markdown",
      "metadata": {
        "id": "MsvLuX5w6SVn",
        "colab_type": "text"
      },
      "source": [
        "- and\n",
        "- as\n",
        "- assert\t\n",
        "- async\t\n",
        "- await\t\n",
        "- break\t\n",
        "- class\t\n",
        "- continue\n",
        "- def\t\n",
        "- del\n",
        "- elif\t\t\n",
        "- else\n",
        "- except\t\n",
        "- **False**\n",
        "- finally\t\n",
        "- for\n",
        "- from\n",
        "- global\t\n",
        "- import\n",
        "- if\n",
        "- in\n",
        "- is\n",
        "- lambda\t\n",
        "- **None**\n",
        "- nonlocal\t\n",
        "- not\n",
        "- or\t\t\n",
        "- pass\t\t\n",
        "- raise\n",
        "- return\n",
        "- **True**\n",
        "- try\t\t\n",
        "- while\n",
        "- with\t\n",
        "- yield"
      ]
    },
    {
      "cell_type": "markdown",
      "metadata": {
        "id": "0F7aJYMgAU6U",
        "colab_type": "text"
      },
      "source": [
        "## **2. Python Identifiers**\n",
        "\n",
        "- An identifier is a name given to entities like class, functions, variables, etc. \n",
        "\n",
        "- It helps to differentiate one entity from another."
      ]
    },
    {
      "cell_type": "markdown",
      "metadata": {
        "id": "UK9yul2FBdyh",
        "colab_type": "text"
      },
      "source": [
        "### **2.1 Rules for writing identifiers**\n",
        "\n",
        "1. Identifiers can be a combination of letters in lowercase (a to z) or uppercase (A to Z) or digits (0 to 9) or an underscore _. Names like **myClass**, **var_1** and **print_this_to_screen**, all are valid example.\n",
        "\n",
        "2. An identifier cannot start with a digit. **1variable** is invalid, but variable1 is a valid name.\n",
        "\n",
        "3. Keywords cannot be used as identifiers.\n",
        "\n",
        "- *global = 1* - invalid identifier\n",
        "\n",
        "4. We cannot use special symbols like !, @, #, $, % etc. in our identifier.\n",
        "\n",
        "- *a@ = 0* - invalid identifier\n",
        "\n",
        "5. An identifier can be of any length."
      ]
    },
    {
      "cell_type": "markdown",
      "metadata": {
        "id": "3yPbUM0yDPOL",
        "colab_type": "text"
      },
      "source": [
        "## **3. Conclusion**\n",
        "\n",
        "#### **Python is a case-sensitive language**. This means, Variable and variable are not the same.\n",
        "\n",
        "- Always give the identifiers a name that makes sense. While c = 10 is a valid name, writing count = 10 would make more sense, and it would be easier to figure out what it represents when you look at your code after a long gap.\n",
        "\n",
        "- Multiple words can be separated using an underscore, like this_is_a_long_variable."
      ]
    }
  ]
}