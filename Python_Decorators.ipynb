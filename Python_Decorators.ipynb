{
  "nbformat": 4,
  "nbformat_minor": 0,
  "metadata": {
    "colab": {
      "name": "Python Decorators",
      "provenance": [],
      "authorship_tag": "ABX9TyM535HCUyNGVc7JD6aBdbKy",
      "include_colab_link": true
    },
    "kernelspec": {
      "name": "python3",
      "display_name": "Python 3"
    }
  },
  "cells": [
    {
      "cell_type": "markdown",
      "metadata": {
        "id": "view-in-github",
        "colab_type": "text"
      },
      "source": [
        "<a href=\"https://colab.research.google.com/github/pb111/Python-tutorials-and-projects/blob/master/Python_Decorators.ipynb\" target=\"_parent\"><img src=\"https://colab.research.google.com/assets/colab-badge.svg\" alt=\"Open In Colab\"/></a>"
      ]
    },
    {
      "cell_type": "markdown",
      "metadata": {
        "id": "EtmLNWzfRPCY"
      },
      "source": [
        "# **Python Decorators**\r\n",
        "\r\n",
        "- A **decorator** takes in a function, adds some functionality and returns it. \r\n",
        "\r\n",
        "- In this tutorial, you will learn how you can create a decorator and why you should use it."
      ]
    },
    {
      "cell_type": "markdown",
      "metadata": {
        "id": "Z_364DupdJJB"
      },
      "source": [
        "## **1. Decorators in Python**\r\n",
        "\r\n",
        "- Python has an interesting feature called **decorators** to add functionality to an existing code.\r\n",
        "\r\n",
        "- This is also called **metaprogramming** because a part of the program tries to modify another part of the program at compile time."
      ]
    },
    {
      "cell_type": "markdown",
      "metadata": {
        "id": "dJEkc08sdONE"
      },
      "source": [
        "## **2. Prerequisites for learning decorators**\r\n",
        "\r\n",
        "- In order to understand about decorators, we must first know a few basic things in Python.\r\n",
        "\r\n",
        "- We must be comfortable with the fact that everything in Python (Yes! Even classes), are [objects](https://www.programiz.com/python-programming/class). Names that we define are simply identifiers bound to these objects. [Functions] (https://www.programiz.com/python-programming/function) are no exceptions, they are objects too (with attributes). Various different names can be bound to the same function object.\r\n",
        "\r\n",
        "Here is an example."
      ]
    },
    {
      "cell_type": "code",
      "metadata": {
        "colab": {
          "base_uri": "https://localhost:8080/"
        },
        "id": "Esm9Pj5nf_DA",
        "outputId": "7821c3a8-3caf-45c0-fc75-26bd89ea49eb"
      },
      "source": [
        "def first(msg):\r\n",
        "    print(msg)\r\n",
        "\r\n",
        "\r\n",
        "first(\"Hello\")\r\n",
        "\r\n",
        "second = first\r\n",
        "second(\"Hello\")"
      ],
      "execution_count": 1,
      "outputs": [
        {
          "output_type": "stream",
          "text": [
            "Hello\n",
            "Hello\n"
          ],
          "name": "stdout"
        }
      ]
    },
    {
      "cell_type": "markdown",
      "metadata": {
        "id": "QYRR5I4BgRTx"
      },
      "source": [
        "- When you run the code, both functions `first` and `second` give the same output. Here, the names `first` and `second` refer to the same function object.\r\n",
        "\r\n",
        "- Now things start getting weirder.\r\n",
        "\r\n",
        "- Functions can be passed as arguments to another function.\r\n",
        "\r\n",
        "- If you have used functions like `map`, `filter` and `reduce` in Python, then you already know about this.\r\n",
        "\r\n",
        "- Such functions that take other functions as arguments are also called **higher order functions**. Here is an example of such a function."
      ]
    },
    {
      "cell_type": "code",
      "metadata": {
        "id": "phcAqRTggAA3"
      },
      "source": [
        "def inc(x):\r\n",
        "    return x + 1\r\n",
        "\r\n",
        "\r\n",
        "def dec(x):\r\n",
        "    return x - 1\r\n",
        "\r\n",
        "\r\n",
        "def operate(func, x):\r\n",
        "    result = func(x)\r\n",
        "    return result"
      ],
      "execution_count": 2,
      "outputs": []
    },
    {
      "cell_type": "markdown",
      "metadata": {
        "id": "1CchEa-gg3Bu"
      },
      "source": [
        "- We invoke the function as follows."
      ]
    },
    {
      "cell_type": "code",
      "metadata": {
        "colab": {
          "base_uri": "https://localhost:8080/"
        },
        "id": "7Bi9kYj1gx7I",
        "outputId": "5f1e21a0-c017-4dfc-cbbb-e9ae67fb3ce6"
      },
      "source": [
        "operate(inc,3)"
      ],
      "execution_count": 3,
      "outputs": [
        {
          "output_type": "execute_result",
          "data": {
            "text/plain": [
              "4"
            ]
          },
          "metadata": {
            "tags": []
          },
          "execution_count": 3
        }
      ]
    },
    {
      "cell_type": "code",
      "metadata": {
        "colab": {
          "base_uri": "https://localhost:8080/"
        },
        "id": "RvoedPK-g-vs",
        "outputId": "0213b7a3-7079-4425-95b3-6afd26673d14"
      },
      "source": [
        "operate(dec,3)"
      ],
      "execution_count": 4,
      "outputs": [
        {
          "output_type": "execute_result",
          "data": {
            "text/plain": [
              "2"
            ]
          },
          "metadata": {
            "tags": []
          },
          "execution_count": 4
        }
      ]
    },
    {
      "cell_type": "markdown",
      "metadata": {
        "id": "hhwGKmhphNTd"
      },
      "source": [
        "- Furthermore, a function can return another function."
      ]
    },
    {
      "cell_type": "code",
      "metadata": {
        "colab": {
          "base_uri": "https://localhost:8080/"
        },
        "id": "HuJT6Y7phF85",
        "outputId": "081df5a2-3213-4fb7-8b77-75f84fa63dbc"
      },
      "source": [
        "def is_called():\r\n",
        "    def is_returned():\r\n",
        "        print(\"Hello\")\r\n",
        "    return is_returned\r\n",
        "\r\n",
        "\r\n",
        "new = is_called()\r\n",
        "\r\n",
        "# Outputs \"Hello\"\r\n",
        "new()"
      ],
      "execution_count": 5,
      "outputs": [
        {
          "output_type": "stream",
          "text": [
            "Hello\n"
          ],
          "name": "stdout"
        }
      ]
    },
    {
      "cell_type": "markdown",
      "metadata": {
        "id": "ZIEpteCzhgZi"
      },
      "source": [
        "- Here, `is_returned()` is a nested function which is defined and returned each time we call `is_called()`."
      ]
    },
    {
      "cell_type": "markdown",
      "metadata": {
        "id": "LjUbygxdhrh5"
      },
      "source": [
        "- Finally, we must know about [Closures in Python](https://www.programiz.com/python-programming/closure)."
      ]
    },
    {
      "cell_type": "markdown",
      "metadata": {
        "id": "JbzyYOTBdvb5"
      },
      "source": [
        "## **3. Getting back to Decorators**\r\n",
        "\r\n",
        "- Functions and methods are called **callable** as they can be called.\r\n",
        "\r\n",
        "- In fact, any object which implements the special `__call__()` method is termed **callable**. So, in the most basic sense, **a decorator is a callable that returns a callable**.\r\n",
        "\r\n",
        "- Basically, a decorator takes in a function, adds some functionality and returns it."
      ]
    },
    {
      "cell_type": "code",
      "metadata": {
        "id": "gaF8AeUU72NW"
      },
      "source": [
        "def make_pretty(func):\r\n",
        "    def inner():\r\n",
        "        print(\"I got decorated\")\r\n",
        "        func()\r\n",
        "    return inner\r\n",
        "\r\n",
        "\r\n",
        "def ordinary():\r\n",
        "    print(\"I am ordinary\")"
      ],
      "execution_count": 6,
      "outputs": []
    },
    {
      "cell_type": "markdown",
      "metadata": {
        "id": "3UtDcrqY9Rbx"
      },
      "source": [
        "- When you run the following codes in shell,"
      ]
    },
    {
      "cell_type": "code",
      "metadata": {
        "colab": {
          "base_uri": "https://localhost:8080/"
        },
        "id": "HhJMu0YR9IZ9",
        "outputId": "db720234-44b3-4e14-f465-7ca274faf409"
      },
      "source": [
        "ordinary()"
      ],
      "execution_count": 7,
      "outputs": [
        {
          "output_type": "stream",
          "text": [
            "I am ordinary\n"
          ],
          "name": "stdout"
        }
      ]
    },
    {
      "cell_type": "code",
      "metadata": {
        "colab": {
          "base_uri": "https://localhost:8080/"
        },
        "id": "BiTN37N09dkd",
        "outputId": "7ff6cb55-ee7e-49cf-a67b-fb49d05e270a"
      },
      "source": [
        "# let's decorate this ordinary function\r\n",
        "pretty = make_pretty(ordinary)\r\n",
        "pretty()"
      ],
      "execution_count": 8,
      "outputs": [
        {
          "output_type": "stream",
          "text": [
            "I got decorated\n",
            "I am ordinary\n"
          ],
          "name": "stdout"
        }
      ]
    },
    {
      "cell_type": "markdown",
      "metadata": {
        "id": "UmCrlDYW_EVW"
      },
      "source": [
        "- In the example shown above, `make_pretty()` is a decorator. \r\n",
        "\r\n",
        "- In the assignment step:\r\n",
        "\r\n",
        "  - `pretty = make_pretty(ordinary)`\r\n",
        "\r\n",
        "- The function `ordinary()` got decorated and the returned function was given the name `pretty`.\r\n",
        "\r\n",
        "- We can see that the decorator function added some new functionality to the original function. This is similar to packing a gift. The decorator acts as a wrapper. The nature of the object that got decorated (actual gift inside) does not alter. But now, it looks pretty (since it got decorated).\r\n",
        "\r\n",
        "- Generally, we decorate a function and reassign it as,\r\n",
        "\r\n",
        "  - `ordinary = make_pretty(ordinary)`\r\n",
        "\r\n",
        "- This is a common construct and for this reason, Python has a syntax to simplify this."
      ]
    },
    {
      "cell_type": "markdown",
      "metadata": {
        "id": "td-vaBj2AcKx"
      },
      "source": [
        "- We can use the `@` symbol along with the name of the decorator function and place it above the definition of the function to be decorated. For example,"
      ]
    },
    {
      "cell_type": "code",
      "metadata": {
        "id": "0_O-6-jEA8yV"
      },
      "source": [
        "@make_pretty\r\n",
        "def ordinary():\r\n",
        "    print(\"I am ordinary\")"
      ],
      "execution_count": 9,
      "outputs": []
    },
    {
      "cell_type": "markdown",
      "metadata": {
        "id": "6IrhLLvhBCar"
      },
      "source": [
        "is equivalent to"
      ]
    },
    {
      "cell_type": "code",
      "metadata": {
        "id": "REpAUgd5BBRj"
      },
      "source": [
        "def ordinary():\r\n",
        "    print(\"I am ordinary\")\r\n",
        "ordinary = make_pretty(ordinary)"
      ],
      "execution_count": 10,
      "outputs": []
    },
    {
      "cell_type": "markdown",
      "metadata": {
        "id": "nbnz2mQ8BQnq"
      },
      "source": [
        "This is just a syntactic sugar to implement decorators."
      ]
    },
    {
      "cell_type": "markdown",
      "metadata": {
        "id": "vKwPP8Gbd6rx"
      },
      "source": [
        "## **4. Decorating Functions with Parameters**\r\n",
        "\r\n",
        "- The above decorator was simple and it only worked with functions that did not have any parameters. What if we had functions that took in parameters like:"
      ]
    },
    {
      "cell_type": "code",
      "metadata": {
        "id": "XwPPVS7MFmlF"
      },
      "source": [
        "def divide(a, b):\r\n",
        "    return a/b"
      ],
      "execution_count": 11,
      "outputs": []
    },
    {
      "cell_type": "markdown",
      "metadata": {
        "id": "ZDKa_-EiGFFu"
      },
      "source": [
        "- This function has two parameters, `a` and `b`. We know it will give an error if we pass in `b` as 0."
      ]
    },
    {
      "cell_type": "code",
      "metadata": {
        "colab": {
          "base_uri": "https://localhost:8080/"
        },
        "id": "szTEdKRpGPoy",
        "outputId": "275355d2-8a31-4886-b678-6a8bce282b13"
      },
      "source": [
        "divide(2,5)"
      ],
      "execution_count": 12,
      "outputs": [
        {
          "output_type": "execute_result",
          "data": {
            "text/plain": [
              "0.4"
            ]
          },
          "metadata": {
            "tags": []
          },
          "execution_count": 12
        }
      ]
    },
    {
      "cell_type": "code",
      "metadata": {
        "colab": {
          "base_uri": "https://localhost:8080/",
          "height": 231
        },
        "id": "OOpzZ4lqGUkk",
        "outputId": "16caac16-15c9-47ff-9237-1e0b3ee664be"
      },
      "source": [
        "divide(2,0)"
      ],
      "execution_count": 13,
      "outputs": [
        {
          "output_type": "error",
          "ename": "ZeroDivisionError",
          "evalue": "ignored",
          "traceback": [
            "\u001b[0;31m---------------------------------------------------------------------------\u001b[0m",
            "\u001b[0;31mZeroDivisionError\u001b[0m                         Traceback (most recent call last)",
            "\u001b[0;32m<ipython-input-13-030e2eec799d>\u001b[0m in \u001b[0;36m<module>\u001b[0;34m()\u001b[0m\n\u001b[0;32m----> 1\u001b[0;31m \u001b[0mdivide\u001b[0m\u001b[0;34m(\u001b[0m\u001b[0;36m2\u001b[0m\u001b[0;34m,\u001b[0m\u001b[0;36m0\u001b[0m\u001b[0;34m)\u001b[0m\u001b[0;34m\u001b[0m\u001b[0;34m\u001b[0m\u001b[0m\n\u001b[0m",
            "\u001b[0;32m<ipython-input-11-7507bdc665d5>\u001b[0m in \u001b[0;36mdivide\u001b[0;34m(a, b)\u001b[0m\n\u001b[1;32m      1\u001b[0m \u001b[0;32mdef\u001b[0m \u001b[0mdivide\u001b[0m\u001b[0;34m(\u001b[0m\u001b[0ma\u001b[0m\u001b[0;34m,\u001b[0m \u001b[0mb\u001b[0m\u001b[0;34m)\u001b[0m\u001b[0;34m:\u001b[0m\u001b[0;34m\u001b[0m\u001b[0;34m\u001b[0m\u001b[0m\n\u001b[0;32m----> 2\u001b[0;31m     \u001b[0;32mreturn\u001b[0m \u001b[0ma\u001b[0m\u001b[0;34m/\u001b[0m\u001b[0mb\u001b[0m\u001b[0;34m\u001b[0m\u001b[0;34m\u001b[0m\u001b[0m\n\u001b[0m",
            "\u001b[0;31mZeroDivisionError\u001b[0m: division by zero"
          ]
        }
      ]
    },
    {
      "cell_type": "markdown",
      "metadata": {
        "id": "IxrMAkb_GpIn"
      },
      "source": [
        "- Now let's make a decorator to check for this case that will cause the error."
      ]
    },
    {
      "cell_type": "code",
      "metadata": {
        "id": "ulFt2ihHGakg"
      },
      "source": [
        "def smart_divide(func):\r\n",
        "    def inner(a, b):\r\n",
        "        print(\"I am going to divide\", a, \"and\", b)\r\n",
        "        if b == 0:\r\n",
        "            print(\"Whoops! cannot divide\")\r\n",
        "            return\r\n",
        "\r\n",
        "        return func(a, b)\r\n",
        "    return inner\r\n",
        "\r\n",
        "\r\n",
        "@smart_divide\r\n",
        "def divide(a, b):\r\n",
        "    print(a/b)"
      ],
      "execution_count": 14,
      "outputs": []
    },
    {
      "cell_type": "markdown",
      "metadata": {
        "id": "o5nA0JiKG3vo"
      },
      "source": [
        "- This new implementation will return `None` if the error condition arises."
      ]
    },
    {
      "cell_type": "code",
      "metadata": {
        "colab": {
          "base_uri": "https://localhost:8080/"
        },
        "id": "LbdEQnAJGyke",
        "outputId": "26866c3e-8816-4b34-a502-f4401c9a6de8"
      },
      "source": [
        "divide(2,5)"
      ],
      "execution_count": 15,
      "outputs": [
        {
          "output_type": "stream",
          "text": [
            "I am going to divide 2 and 5\n",
            "0.4\n"
          ],
          "name": "stdout"
        }
      ]
    },
    {
      "cell_type": "code",
      "metadata": {
        "colab": {
          "base_uri": "https://localhost:8080/"
        },
        "id": "QzfdPIoUHGdv",
        "outputId": "0935a744-8bac-47c4-b1ba-2bce668b591e"
      },
      "source": [
        "divide(2,0)"
      ],
      "execution_count": 16,
      "outputs": [
        {
          "output_type": "stream",
          "text": [
            "I am going to divide 2 and 0\n",
            "Whoops! cannot divide\n"
          ],
          "name": "stdout"
        }
      ]
    },
    {
      "cell_type": "markdown",
      "metadata": {
        "id": "cCUGmfZyHU2W"
      },
      "source": [
        "- In this manner, we can decorate functions that take parameters."
      ]
    },
    {
      "cell_type": "markdown",
      "metadata": {
        "id": "7MH2ozj-H1VH"
      },
      "source": [
        "- A keen observer will notice that parameters of the nested `inner()` function inside the decorator is the same as the parameters of functions it decorates. Taking this into account, now we can make general decorators that work with any number of parameters."
      ]
    },
    {
      "cell_type": "markdown",
      "metadata": {
        "id": "xeMW6bQIICmL"
      },
      "source": [
        "- In Python, this magic is done as function(`*args`, `**kwargs`). \r\n",
        "\r\n",
        "- In this way, `args` will be the [tuple](https://www.programiz.com/python-programming/tuple) of positional arguments and kwargs will be the [dictionary](https://www.programiz.com/python-programming/dictionary) of keyword arguments. \r\n",
        "\r\n",
        "- An example of such a decorator will be:"
      ]
    },
    {
      "cell_type": "code",
      "metadata": {
        "id": "RThAtO4-HMlH"
      },
      "source": [
        "def works_for_all(func):\r\n",
        "    def inner(*args, **kwargs):\r\n",
        "        print(\"I can decorate any function\")\r\n",
        "        return func(*args, **kwargs)\r\n",
        "    return inner"
      ],
      "execution_count": 17,
      "outputs": []
    },
    {
      "cell_type": "markdown",
      "metadata": {
        "id": "a4yA2ZQTeGX9"
      },
      "source": [
        "## **5. Chaining Decorators in Python**\r\n",
        "\r\n",
        "- Multiple decorators can be chained in Python.\r\n",
        "\r\n",
        "- This is to say, a function can be decorated multiple times with different (or same) decorators. We simply place the decorators above the desired function."
      ]
    },
    {
      "cell_type": "code",
      "metadata": {
        "id": "57Nd_FLsRI8x",
        "colab": {
          "base_uri": "https://localhost:8080/"
        },
        "outputId": "025e6fcf-636a-46ba-ec28-5b2fe5f96301"
      },
      "source": [
        "def star(func):\r\n",
        "    def inner(*args, **kwargs):\r\n",
        "        print(\"*\" * 30)\r\n",
        "        func(*args, **kwargs)\r\n",
        "        print(\"*\" * 30)\r\n",
        "    return inner\r\n",
        "\r\n",
        "\r\n",
        "def percent(func):\r\n",
        "    def inner(*args, **kwargs):\r\n",
        "        print(\"%\" * 30)\r\n",
        "        func(*args, **kwargs)\r\n",
        "        print(\"%\" * 30)\r\n",
        "    return inner\r\n",
        "\r\n",
        "\r\n",
        "@star\r\n",
        "@percent\r\n",
        "def printer(msg):\r\n",
        "    print(msg)\r\n",
        "\r\n",
        "\r\n",
        "printer(\"Hello\")"
      ],
      "execution_count": 18,
      "outputs": [
        {
          "output_type": "stream",
          "text": [
            "******************************\n",
            "%%%%%%%%%%%%%%%%%%%%%%%%%%%%%%\n",
            "Hello\n",
            "%%%%%%%%%%%%%%%%%%%%%%%%%%%%%%\n",
            "******************************\n"
          ],
          "name": "stdout"
        }
      ]
    },
    {
      "cell_type": "markdown",
      "metadata": {
        "id": "O-21BcIpKoG4"
      },
      "source": [
        "- The above syntax of,"
      ]
    },
    {
      "cell_type": "code",
      "metadata": {
        "id": "HK1xxNMtKgsy"
      },
      "source": [
        "@star\r\n",
        "@percent\r\n",
        "def printer(msg):\r\n",
        "    print(msg)"
      ],
      "execution_count": 19,
      "outputs": []
    },
    {
      "cell_type": "markdown",
      "metadata": {
        "id": "fr-NRkzEKwH4"
      },
      "source": [
        "is equivalent to"
      ]
    },
    {
      "cell_type": "code",
      "metadata": {
        "id": "UyRvBGjUKs1H"
      },
      "source": [
        "def printer(msg):\r\n",
        "    print(msg)\r\n",
        "printer = star(percent(printer))"
      ],
      "execution_count": 20,
      "outputs": []
    },
    {
      "cell_type": "markdown",
      "metadata": {
        "id": "z2ZjEFO2K5u7"
      },
      "source": [
        "- The order in which we chain decorators matter. If we had reversed the order as,"
      ]
    },
    {
      "cell_type": "code",
      "metadata": {
        "id": "OlRCQZYvK1Qv"
      },
      "source": [
        "@percent\r\n",
        "@star\r\n",
        "def printer(msg):\r\n",
        "    print(msg)"
      ],
      "execution_count": 21,
      "outputs": []
    },
    {
      "cell_type": "markdown",
      "metadata": {
        "id": "9sdYaQFrLXrz"
      },
      "source": [
        "The output would be:"
      ]
    },
    {
      "cell_type": "code",
      "metadata": {
        "colab": {
          "base_uri": "https://localhost:8080/"
        },
        "id": "yCSKpLl7LYiU",
        "outputId": "c9f9c685-96ca-482a-c805-3b26459c744b"
      },
      "source": [
        "printer(\"Hello\")"
      ],
      "execution_count": 22,
      "outputs": [
        {
          "output_type": "stream",
          "text": [
            "%%%%%%%%%%%%%%%%%%%%%%%%%%%%%%\n",
            "******************************\n",
            "Hello\n",
            "******************************\n",
            "%%%%%%%%%%%%%%%%%%%%%%%%%%%%%%\n"
          ],
          "name": "stdout"
        }
      ]
    },
    {
      "cell_type": "markdown",
      "metadata": {
        "id": "OF5NYYuoRcgh"
      },
      "source": [
        "https://www.programiz.com/python-programming/decorator"
      ]
    }
  ]
}