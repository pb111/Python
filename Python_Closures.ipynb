{
  "nbformat": 4,
  "nbformat_minor": 0,
  "metadata": {
    "colab": {
      "name": "Python Closures",
      "provenance": [],
      "authorship_tag": "ABX9TyNPUnYjI4uoVea+rZI0XwZb",
      "include_colab_link": true
    },
    "kernelspec": {
      "name": "python3",
      "display_name": "Python 3"
    }
  },
  "cells": [
    {
      "cell_type": "markdown",
      "metadata": {
        "id": "view-in-github",
        "colab_type": "text"
      },
      "source": [
        "<a href=\"https://colab.research.google.com/github/pb111/Python-tutorials-and-projects/blob/master/Python_Closures.ipynb\" target=\"_parent\"><img src=\"https://colab.research.google.com/assets/colab-badge.svg\" alt=\"Open In Colab\"/></a>"
      ]
    },
    {
      "cell_type": "markdown",
      "metadata": {
        "id": "ddwu3SMlQM3J"
      },
      "source": [
        "# **Python Closures**\r\n",
        "\r\n",
        "- In this tutorial, you'll learn about \r\n",
        "  - Python closure, \r\n",
        "  - how to define a closure, and \r\n",
        "  - the reasons you should use it."
      ]
    },
    {
      "cell_type": "markdown",
      "metadata": {
        "id": "1spZhJWMKrsp"
      },
      "source": [
        "## **1. Nonlocal variable in a nested function**\r\n",
        "\r\n",
        "- Before getting into what a closure is, we have to first understand what a nested function and nonlocal variable is.\r\n",
        "\r\n",
        "- **A function defined inside another function is called a nested function.** Nested functions can access variables of the enclosing scope.\r\n",
        "\r\n",
        "- In Python, these non-local variables are read-only by default and we must declare them explicitly as non-local (using [nonlocal keyword](https://www.programiz.com/python-programming/keyword-list#nonlocal)) in order to modify them.\r\n",
        "\r\n",
        "- Following is an example of a nested function accessing a non-local variable."
      ]
    },
    {
      "cell_type": "code",
      "metadata": {
        "colab": {
          "base_uri": "https://localhost:8080/"
        },
        "id": "7YpUXkNGMqvL",
        "outputId": "08c9218b-33a9-4645-e322-eb1543e27bbc"
      },
      "source": [
        "def print_msg(msg):\r\n",
        "    # This is the outer enclosing function\r\n",
        "\r\n",
        "    def printer():\r\n",
        "        # This is the nested function\r\n",
        "        print(msg)\r\n",
        "\r\n",
        "    printer()\r\n",
        "\r\n",
        "# We execute the function\r\n",
        "# Output: Hello\r\n",
        "print_msg(\"Hello\")"
      ],
      "execution_count": 1,
      "outputs": [
        {
          "output_type": "stream",
          "text": [
            "Hello\n"
          ],
          "name": "stdout"
        }
      ]
    },
    {
      "cell_type": "markdown",
      "metadata": {
        "id": "ifBEl0lnNI8d"
      },
      "source": [
        "- We can see that the nested `printer()` function was able to access the non-local `msg` variable of the enclosing function."
      ]
    },
    {
      "cell_type": "markdown",
      "metadata": {
        "id": "tyrc7he0KyPx"
      },
      "source": [
        "## **2. Defining a Closure Function**\r\n",
        "\r\n",
        "- In the example above, what would happen if the last line of the function `print_msg()` returned the `printer()` function instead of calling it? \r\n",
        "\r\n",
        "- This means the function was defined as follows:"
      ]
    },
    {
      "cell_type": "code",
      "metadata": {
        "colab": {
          "base_uri": "https://localhost:8080/"
        },
        "id": "rhcScGnOQjA0",
        "outputId": "d99ef5fc-3837-4282-aae8-2f5b65e4079b"
      },
      "source": [
        "def print_msg(msg):\r\n",
        "    # This is the outer enclosing function\r\n",
        "\r\n",
        "    def printer():\r\n",
        "        # This is the nested function\r\n",
        "        print(msg)\r\n",
        "\r\n",
        "    return printer  # returns the nested function\r\n",
        "\r\n",
        "\r\n",
        "# Now let's try calling this function.\r\n",
        "# Output: Hello\r\n",
        "another = print_msg(\"Hello\")\r\n",
        "another()"
      ],
      "execution_count": 2,
      "outputs": [
        {
          "output_type": "stream",
          "text": [
            "Hello\n"
          ],
          "name": "stdout"
        }
      ]
    },
    {
      "cell_type": "markdown",
      "metadata": {
        "id": "p8qpRxk4QuA0"
      },
      "source": [
        "- That's unusual."
      ]
    },
    {
      "cell_type": "markdown",
      "metadata": {
        "id": "e6X27zU2Q4h3"
      },
      "source": [
        "- The `print_msg()` function was called with the string `\"Hello\"` and the returned function was bound to the name `another`. On calling `another()`, the message was still remembered although we had already finished executing the `print_msg()` function.\r\n",
        "\r\n",
        "- This technique by which some data (`\"Hello\"` in this case) gets attached to the code is called **closure in Python**.\r\n",
        "\r\n",
        "- This value in the enclosing scope is remembered even when the variable goes out of scope or the function itself is removed from the current namespace.\r\n",
        "\r\n",
        "- Try running the following in the Python shell to see the output."
      ]
    },
    {
      "cell_type": "code",
      "metadata": {
        "colab": {
          "base_uri": "https://localhost:8080/"
        },
        "id": "KXCFBS_AQnbF",
        "outputId": "3aa262d3-3ac1-4b54-9c2c-6b533db45b58"
      },
      "source": [
        "del print_msg\r\n",
        "another()"
      ],
      "execution_count": 3,
      "outputs": [
        {
          "output_type": "stream",
          "text": [
            "Hello\n"
          ],
          "name": "stdout"
        }
      ]
    },
    {
      "cell_type": "code",
      "metadata": {
        "colab": {
          "base_uri": "https://localhost:8080/",
          "height": 163
        },
        "id": "okCXjKk7Ryx0",
        "outputId": "c4b3a684-8c56-48b0-e4a3-f4850d90f41d"
      },
      "source": [
        "print_msg(\"Hello\")"
      ],
      "execution_count": 4,
      "outputs": [
        {
          "output_type": "error",
          "ename": "NameError",
          "evalue": "ignored",
          "traceback": [
            "\u001b[0;31m---------------------------------------------------------------------------\u001b[0m",
            "\u001b[0;31mNameError\u001b[0m                                 Traceback (most recent call last)",
            "\u001b[0;32m<ipython-input-4-af0f59439c9b>\u001b[0m in \u001b[0;36m<module>\u001b[0;34m()\u001b[0m\n\u001b[0;32m----> 1\u001b[0;31m \u001b[0mprint_msg\u001b[0m\u001b[0;34m(\u001b[0m\u001b[0;34m\"Hello\"\u001b[0m\u001b[0;34m)\u001b[0m\u001b[0;34m\u001b[0m\u001b[0;34m\u001b[0m\u001b[0m\n\u001b[0m",
            "\u001b[0;31mNameError\u001b[0m: name 'print_msg' is not defined"
          ]
        }
      ]
    },
    {
      "cell_type": "markdown",
      "metadata": {
        "id": "kbfmXtZjSCvh"
      },
      "source": [
        "Here, the returned function still works even when the original function was deleted."
      ]
    },
    {
      "cell_type": "markdown",
      "metadata": {
        "id": "2A_tAdy2K9B6"
      },
      "source": [
        "## **3. When do we have closures?**\r\n",
        "\r\n",
        "\r\n",
        "- As seen from the above example, we have a **closure in Python** when a nested function references a value in its enclosing scope.\r\n",
        "\r\n",
        "- The criteria that must be met to create closure in Python are summarized in the following points.\r\n",
        "\r\n",
        "  - We must have a nested function (function inside a function).\r\n",
        "  - The nested function must refer to a value defined in the enclosing function.\r\n",
        "  - The enclosing function must return the nested function."
      ]
    },
    {
      "cell_type": "markdown",
      "metadata": {
        "id": "faA19-Y6LIPr"
      },
      "source": [
        "## **4. When to use closures?**\r\n",
        "\r\n",
        "- So what are closures good for?\r\n",
        "\r\n",
        "- Closures can avoid the use of global values and provides some form of data hiding. It can also provide an object oriented solution to the problem.\r\n",
        "\r\n",
        "- When there are few methods (one method in most cases) to be implemented in a class, closures can provide an alternate and more elegant solution. But when the number of attributes and methods get larger, it's better to implement a class.\r\n",
        "\r\n",
        "- Here is a simple example where a closure might be more preferable than defining a class and making objects. But the preference is all yours."
      ]
    },
    {
      "cell_type": "code",
      "metadata": {
        "id": "gKg0fCDRQJLX",
        "colab": {
          "base_uri": "https://localhost:8080/"
        },
        "outputId": "b10e97bf-9967-4743-8424-69708f028101"
      },
      "source": [
        "def make_multiplier_of(n):\r\n",
        "    def multiplier(x):\r\n",
        "        return x * n\r\n",
        "    return multiplier\r\n",
        "\r\n",
        "\r\n",
        "# Multiplier of 3\r\n",
        "times3 = make_multiplier_of(3)\r\n",
        "\r\n",
        "# Multiplier of 5\r\n",
        "times5 = make_multiplier_of(5)\r\n",
        "\r\n",
        "# Output: 27\r\n",
        "print(times3(9))\r\n",
        "\r\n",
        "# Output: 15\r\n",
        "print(times5(3))\r\n",
        "\r\n",
        "# Output: 30\r\n",
        "print(times5(times3(2)))"
      ],
      "execution_count": 5,
      "outputs": [
        {
          "output_type": "stream",
          "text": [
            "27\n",
            "15\n",
            "30\n"
          ],
          "name": "stdout"
        }
      ]
    },
    {
      "cell_type": "markdown",
      "metadata": {
        "id": "VBlBiujoU0_v"
      },
      "source": [
        "- [Python Decorators](https://www.programiz.com/python-programming/decorator) make an extensive use of closures as well.\r\n",
        "\r\n",
        "- On a concluding note, it is good to point out that the values that get enclosed in the closure function can be found out."
      ]
    },
    {
      "cell_type": "markdown",
      "metadata": {
        "id": "DJQazL_FVAHp"
      },
      "source": [
        "- All function objects have a `__closure__` attribute that returns a tuple of cell objects if it is a closure function. Referring to the example above, we know `times3` and `times5` are closure functions."
      ]
    },
    {
      "cell_type": "code",
      "metadata": {
        "colab": {
          "base_uri": "https://localhost:8080/"
        },
        "id": "B9XKbm72Uqms",
        "outputId": "73e70675-b659-4dc6-e647-d24256705414"
      },
      "source": [
        "make_multiplier_of.__closure__\r\n",
        "times3.__closure__"
      ],
      "execution_count": 6,
      "outputs": [
        {
          "output_type": "execute_result",
          "data": {
            "text/plain": [
              "(<cell at 0x7f6d98e9c5b8: int object at 0xa68b00>,)"
            ]
          },
          "metadata": {
            "tags": []
          },
          "execution_count": 6
        }
      ]
    },
    {
      "cell_type": "markdown",
      "metadata": {
        "id": "C0RV1qYdVbxy"
      },
      "source": [
        "- The cell object has the attribute cell_contents which stores the closed value."
      ]
    },
    {
      "cell_type": "code",
      "metadata": {
        "colab": {
          "base_uri": "https://localhost:8080/"
        },
        "id": "2C48_DhxVUDF",
        "outputId": "5b80d707-ff1b-4a43-adf8-808734bb55a4"
      },
      "source": [
        "times3.__closure__[0].cell_contents"
      ],
      "execution_count": 7,
      "outputs": [
        {
          "output_type": "execute_result",
          "data": {
            "text/plain": [
              "3"
            ]
          },
          "metadata": {
            "tags": []
          },
          "execution_count": 7
        }
      ]
    },
    {
      "cell_type": "code",
      "metadata": {
        "colab": {
          "base_uri": "https://localhost:8080/"
        },
        "id": "bPQYJMi-VhBU",
        "outputId": "68ca470f-9d38-45f4-d778-7f9a233dc552"
      },
      "source": [
        "times5.__closure__[0].cell_contents"
      ],
      "execution_count": 8,
      "outputs": [
        {
          "output_type": "execute_result",
          "data": {
            "text/plain": [
              "5"
            ]
          },
          "metadata": {
            "tags": []
          },
          "execution_count": 8
        }
      ]
    },
    {
      "cell_type": "markdown",
      "metadata": {
        "id": "UqqR9iacQZn9"
      },
      "source": [
        "https://www.programiz.com/python-programming/closure"
      ]
    }
  ]
}