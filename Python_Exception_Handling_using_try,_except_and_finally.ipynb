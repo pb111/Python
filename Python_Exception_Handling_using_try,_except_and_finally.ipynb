{
  "nbformat": 4,
  "nbformat_minor": 0,
  "metadata": {
    "colab": {
      "name": "Python Exception Handling using try, except and finally",
      "provenance": [],
      "authorship_tag": "ABX9TyPDMNCE4RSoQa2WBfl3u/YP",
      "include_colab_link": true
    },
    "kernelspec": {
      "name": "python3",
      "display_name": "Python 3"
    }
  },
  "cells": [
    {
      "cell_type": "markdown",
      "metadata": {
        "id": "view-in-github",
        "colab_type": "text"
      },
      "source": [
        "<a href=\"https://colab.research.google.com/github/pb111/Python-tutorials-and-projects/blob/master/Python_Exception_Handling_using_try%2C_except_and_finally.ipynb\" target=\"_parent\"><img src=\"https://colab.research.google.com/assets/colab-badge.svg\" alt=\"Open In Colab\"/></a>"
      ]
    },
    {
      "cell_type": "markdown",
      "metadata": {
        "id": "axriiI2epM4S"
      },
      "source": [
        "# **Python Exception Handling using try, except and finally statement**\r\n",
        "\r\n",
        "\r\n",
        "- In this tutorial, you'll learn how to handle exceptions in your Python program using `try`, `except` and `finally` statements with the help of examples.\r\n",
        "\r\n",
        "\r\n"
      ]
    },
    {
      "cell_type": "markdown",
      "metadata": {
        "id": "ESokXo7de56A"
      },
      "source": [
        "## **1. Exceptions in Python**\r\n",
        "\r\n",
        "- Python has many [built-in exceptions](https://www.programiz.com/python-programming/exceptions) that are raised when your program encounters an error (something in the program goes wrong).\r\n",
        "\r\n",
        "- When these exceptions occur, the Python interpreter stops the current process and passes it to the calling process until it is handled. If not handled, the program will crash.\r\n",
        "\r\n",
        "- For example, let us consider a program where we have a [function](https://www.programiz.com/python-programming/function) `A` that calls function `B`, which in turn calls function `C`. If an exception occurs in function `C` but is not handled in `C`, the exception passes to `B` and then to `A`.\r\n",
        "\r\n",
        "- If never handled, an error message is displayed and our program comes to a sudden unexpected halt.\r\n"
      ]
    },
    {
      "cell_type": "markdown",
      "metadata": {
        "id": "uBnMcKu0hhbY"
      },
      "source": [
        "## **2. Catching Exceptions in Python**\r\n",
        "\r\n",
        "- In Python, exceptions can be handled using a `try` statement.\r\n",
        "\r\n",
        "- The critical operation which can raise an exception is placed inside the `try` clause. The code that handles the exceptions is written in the `except` clause.\r\n",
        "\r\n",
        "- We can thus choose what operations to perform once we have caught the exception. Here is a simple example.\r\n",
        "\r\n"
      ]
    },
    {
      "cell_type": "code",
      "metadata": {
        "id": "DaweplqypBS6",
        "colab": {
          "base_uri": "https://localhost:8080/"
        },
        "outputId": "ab13b9e4-a91e-4521-ec6f-381c952ad8ed"
      },
      "source": [
        "# import module sys to get the type of exception\r\n",
        "import sys\r\n",
        "\r\n",
        "randomList = ['a', 0, 2]\r\n",
        "\r\n",
        "for entry in randomList:\r\n",
        "    try:\r\n",
        "        print(\"The entry is\", entry)\r\n",
        "        r = 1/int(entry)\r\n",
        "        break\r\n",
        "    except:\r\n",
        "        print(\"Oops!\", sys.exc_info()[0], \"occurred.\")\r\n",
        "        print(\"Next entry.\")\r\n",
        "        print()\r\n",
        "print(\"The reciprocal of\", entry, \"is\", r)"
      ],
      "execution_count": 1,
      "outputs": [
        {
          "output_type": "stream",
          "text": [
            "The entry is a\n",
            "Oops! <class 'ValueError'> occurred.\n",
            "Next entry.\n",
            "\n",
            "The entry is 0\n",
            "Oops! <class 'ZeroDivisionError'> occurred.\n",
            "Next entry.\n",
            "\n",
            "The entry is 2\n",
            "The reciprocal of 2 is 0.5\n"
          ],
          "name": "stdout"
        }
      ]
    },
    {
      "cell_type": "markdown",
      "metadata": {
        "id": "wM42skKQsQ5U"
      },
      "source": [
        "- In this program, we loop through the values of the `randomList` list. As previously mentioned, the portion that can cause an exception is placed inside the `try` block.\r\n",
        "\r\n",
        "- If no exception occurs, the `except` block is skipped and normal flow continues(for last value). But if any exception occurs, it is caught by the `except` block (first and second values).\r\n",
        "\r\n",
        "- Here, we print the name of the exception using the `exc_info()` function inside `sys` module. We can see that `a` causes `ValueError` and `0` causes `ZeroDivisionError`.\r\n",
        "\r\n",
        "- Since every exception in Python inherits from the base `Exception` class, we can also perform the above task in the following way:"
      ]
    },
    {
      "cell_type": "code",
      "metadata": {
        "colab": {
          "base_uri": "https://localhost:8080/"
        },
        "id": "bXjosxx3tCIv",
        "outputId": "b460de78-56fe-4ec3-bd07-bdb0852628d6"
      },
      "source": [
        "# import module sys to get the type of exception\r\n",
        "import sys\r\n",
        "\r\n",
        "randomList = ['a', 0, 2]\r\n",
        "\r\n",
        "for entry in randomList:\r\n",
        "    try:\r\n",
        "        print(\"The entry is\", entry)\r\n",
        "        r = 1/int(entry)\r\n",
        "        break\r\n",
        "    except Exception as e:\r\n",
        "        print(\"Oops!\", e.__class__, \"occurred.\")\r\n",
        "        print(\"Next entry.\")\r\n",
        "        print()\r\n",
        "print(\"The reciprocal of\", entry, \"is\", r)\r\n",
        "\r\n"
      ],
      "execution_count": 2,
      "outputs": [
        {
          "output_type": "stream",
          "text": [
            "The entry is a\n",
            "Oops! <class 'ValueError'> occurred.\n",
            "Next entry.\n",
            "\n",
            "The entry is 0\n",
            "Oops! <class 'ZeroDivisionError'> occurred.\n",
            "Next entry.\n",
            "\n",
            "The entry is 2\n",
            "The reciprocal of 2 is 0.5\n"
          ],
          "name": "stdout"
        }
      ]
    },
    {
      "cell_type": "markdown",
      "metadata": {
        "id": "LZlTKoKTvX4X"
      },
      "source": [
        "- This program has the same output as the above program."
      ]
    },
    {
      "cell_type": "markdown",
      "metadata": {
        "id": "vP5TKTvLwPOJ"
      },
      "source": [
        "## **3. Catching Specific Exceptions in Python**\r\n",
        "\r\n",
        "- In the above example, we did not mention any specific exception in the `except` clause.\r\n",
        "\r\n",
        "- This is not a good programming practice as it will catch all exceptions and handle every case in the same way. We can specify which exceptions an `except` clause should catch.\r\n",
        "\r\n",
        "- A `try` clause can have any number of `except` clauses to handle different exceptions, however, only one will be executed in case an exception occurs.\r\n",
        "\r\n",
        "- We can use a tuple of values to specify multiple exceptions in an except clause. Here is an example pseudo code."
      ]
    },
    {
      "cell_type": "code",
      "metadata": {
        "id": "ef7JaiQexBYs"
      },
      "source": [
        "try:\r\n",
        "    # do something\r\n",
        "    pass\r\n",
        "\r\n",
        "except ValueError:\r\n",
        "    # handle ValueError exception\r\n",
        "    pass\r\n",
        "\r\n",
        "except (TypeError, ZeroDivisionError):\r\n",
        "    # handle multiple exceptions\r\n",
        "    # TypeError and ZeroDivisionError\r\n",
        "    pass\r\n",
        "\r\n",
        "except:\r\n",
        "    # handle all other exceptions\r\n",
        "    pass"
      ],
      "execution_count": 3,
      "outputs": []
    },
    {
      "cell_type": "markdown",
      "metadata": {
        "id": "AS7i_bddyhgw"
      },
      "source": [
        "## **4. Raising Exceptions in Python**\r\n",
        "\r\n",
        "- In Python programming, exceptions are raised when errors occur at runtime. \r\n",
        "\r\n",
        "- We can also manually raise exceptions using the `raise` keyword.\r\n",
        "\r\n",
        "- We can optionally pass values to the exception to clarify why that exception was raised."
      ]
    },
    {
      "cell_type": "code",
      "metadata": {
        "colab": {
          "base_uri": "https://localhost:8080/",
          "height": 163
        },
        "id": "oZiWVbX_yJ3r",
        "outputId": "81f6a719-7967-4e36-93f5-95610f919f21"
      },
      "source": [
        "raise KeyboardInterrupt"
      ],
      "execution_count": 4,
      "outputs": [
        {
          "output_type": "error",
          "ename": "KeyboardInterrupt",
          "evalue": "ignored",
          "traceback": [
            "\u001b[0;31m---------------------------------------------------------------------------\u001b[0m",
            "\u001b[0;31mKeyboardInterrupt\u001b[0m                         Traceback (most recent call last)",
            "\u001b[0;32m<ipython-input-4-c761920b81b0>\u001b[0m in \u001b[0;36m<module>\u001b[0;34m()\u001b[0m\n\u001b[0;32m----> 1\u001b[0;31m \u001b[0;32mraise\u001b[0m \u001b[0mKeyboardInterrupt\u001b[0m\u001b[0;34m\u001b[0m\u001b[0;34m\u001b[0m\u001b[0m\n\u001b[0m",
            "\u001b[0;31mKeyboardInterrupt\u001b[0m: "
          ]
        }
      ]
    },
    {
      "cell_type": "code",
      "metadata": {
        "colab": {
          "base_uri": "https://localhost:8080/",
          "height": 163
        },
        "id": "MWyeTIuCy6TE",
        "outputId": "370e4b26-b34f-4c6f-ebce-b9a8a4143df6"
      },
      "source": [
        "raise MemoryError(\"This is an argument\")"
      ],
      "execution_count": 5,
      "outputs": [
        {
          "output_type": "error",
          "ename": "MemoryError",
          "evalue": "ignored",
          "traceback": [
            "\u001b[0;31m---------------------------------------------------------------------------\u001b[0m",
            "\u001b[0;31mMemoryError\u001b[0m                               Traceback (most recent call last)",
            "\u001b[0;32m<ipython-input-5-51782e52f201>\u001b[0m in \u001b[0;36m<module>\u001b[0;34m()\u001b[0m\n\u001b[0;32m----> 1\u001b[0;31m \u001b[0;32mraise\u001b[0m \u001b[0mMemoryError\u001b[0m\u001b[0;34m(\u001b[0m\u001b[0;34m\"This is an argument\"\u001b[0m\u001b[0;34m)\u001b[0m\u001b[0;34m\u001b[0m\u001b[0;34m\u001b[0m\u001b[0m\n\u001b[0m",
            "\u001b[0;31mMemoryError\u001b[0m: This is an argument"
          ]
        }
      ]
    },
    {
      "cell_type": "code",
      "metadata": {
        "colab": {
          "base_uri": "https://localhost:8080/"
        },
        "id": "NiuRiNeVzBXE",
        "outputId": "4ad28b18-403c-42a7-e3cf-b99a3bc3ef4b"
      },
      "source": [
        "try:\r\n",
        "    a = int(input(\"Enter a positive integer: \"))\r\n",
        "    if a <= 0:\r\n",
        "        raise ValueError(\"That is not a positive number!\")\r\n",
        "except ValueError as ve:\r\n",
        "    print(ve)"
      ],
      "execution_count": 6,
      "outputs": [
        {
          "output_type": "stream",
          "text": [
            "Enter a positive integer: -2\n",
            "That is not a positive number!\n"
          ],
          "name": "stdout"
        }
      ]
    },
    {
      "cell_type": "markdown",
      "metadata": {
        "id": "Xn-JKryD0wOi"
      },
      "source": [
        "## **5. Python try with else clause**\r\n",
        "\r\n",
        "- In some situations, you might want to run a certain block of code if the code block inside `try` ran without any errors. For these cases, you can use the optional `else` keyword with the `try` statement."
      ]
    },
    {
      "cell_type": "markdown",
      "metadata": {
        "id": "dvXs_pvp1bkQ"
      },
      "source": [
        "- **Note** : Exceptions in the else clause are not handled by the preceding except clauses."
      ]
    },
    {
      "cell_type": "markdown",
      "metadata": {
        "id": "zm-OSlS21kp0"
      },
      "source": [
        "- Let's look at an example:"
      ]
    },
    {
      "cell_type": "code",
      "metadata": {
        "colab": {
          "base_uri": "https://localhost:8080/"
        },
        "id": "XqLeTw0Yzg1R",
        "outputId": "603ea827-ac0a-4120-ae46-f6707fe10e3c"
      },
      "source": [
        "# program to print the reciprocal of even numbers\r\n",
        "\r\n",
        "try:\r\n",
        "    num = int(input(\"Enter a number: \"))\r\n",
        "    assert num%2 == 0\r\n",
        "except:\r\n",
        "    print(\"Not an even number!\")\r\n",
        "else:\r\n",
        "    reciprocal = 1/num\r\n",
        "    print(reciprocal)"
      ],
      "execution_count": 7,
      "outputs": [
        {
          "output_type": "stream",
          "text": [
            "Enter a number: 1\n",
            "Not an even number!\n"
          ],
          "name": "stdout"
        }
      ]
    },
    {
      "cell_type": "markdown",
      "metadata": {
        "id": "jPUjYmAI2oy-"
      },
      "source": [
        "- If we pass an even number, the reciprocal is computed and displayed."
      ]
    },
    {
      "cell_type": "code",
      "metadata": {
        "colab": {
          "base_uri": "https://localhost:8080/"
        },
        "id": "X-jS0DXT2hMy",
        "outputId": "35c76f6c-1ea0-47dd-8b90-8b9f3c16bb1e"
      },
      "source": [
        "# program to print the reciprocal of even numbers\r\n",
        "\r\n",
        "try:\r\n",
        "    num = int(input(\"Enter a number: \"))\r\n",
        "    assert num%2 == 0\r\n",
        "except:\r\n",
        "    print(\"Not an even number!\")\r\n",
        "else:\r\n",
        "    reciprocal = 1/num\r\n",
        "    print(reciprocal)"
      ],
      "execution_count": 8,
      "outputs": [
        {
          "output_type": "stream",
          "text": [
            "Enter a number: 4\n",
            "0.25\n"
          ],
          "name": "stdout"
        }
      ]
    },
    {
      "cell_type": "markdown",
      "metadata": {
        "id": "7P2r_7Hn24Hm"
      },
      "source": [
        "- However, if we pass 0, we get `ZeroDivisionError` as the code block inside `else` is not handled by preceding `except`."
      ]
    },
    {
      "cell_type": "code",
      "metadata": {
        "colab": {
          "base_uri": "https://localhost:8080/",
          "height": 231
        },
        "id": "u1s-JfNP2vUL",
        "outputId": "d3ae0fd2-19da-4814-b9e2-8f5b935af84d"
      },
      "source": [
        "# program to print the reciprocal of even numbers\r\n",
        "\r\n",
        "try:\r\n",
        "    num = int(input(\"Enter a number: \"))\r\n",
        "    assert num%2 == 0\r\n",
        "except:\r\n",
        "    print(\"Not an even number!\")\r\n",
        "else:\r\n",
        "    reciprocal = 1/num\r\n",
        "    print(reciprocal)"
      ],
      "execution_count": 9,
      "outputs": [
        {
          "output_type": "stream",
          "text": [
            "Enter a number: 0\n"
          ],
          "name": "stdout"
        },
        {
          "output_type": "error",
          "ename": "ZeroDivisionError",
          "evalue": "ignored",
          "traceback": [
            "\u001b[0;31m---------------------------------------------------------------------------\u001b[0m",
            "\u001b[0;31mZeroDivisionError\u001b[0m                         Traceback (most recent call last)",
            "\u001b[0;32m<ipython-input-9-be706274e1ef>\u001b[0m in \u001b[0;36m<module>\u001b[0;34m()\u001b[0m\n\u001b[1;32m      7\u001b[0m     \u001b[0mprint\u001b[0m\u001b[0;34m(\u001b[0m\u001b[0;34m\"Not an even number!\"\u001b[0m\u001b[0;34m)\u001b[0m\u001b[0;34m\u001b[0m\u001b[0;34m\u001b[0m\u001b[0m\n\u001b[1;32m      8\u001b[0m \u001b[0;32melse\u001b[0m\u001b[0;34m:\u001b[0m\u001b[0;34m\u001b[0m\u001b[0;34m\u001b[0m\u001b[0m\n\u001b[0;32m----> 9\u001b[0;31m     \u001b[0mreciprocal\u001b[0m \u001b[0;34m=\u001b[0m \u001b[0;36m1\u001b[0m\u001b[0;34m/\u001b[0m\u001b[0mnum\u001b[0m\u001b[0;34m\u001b[0m\u001b[0;34m\u001b[0m\u001b[0m\n\u001b[0m\u001b[1;32m     10\u001b[0m     \u001b[0mprint\u001b[0m\u001b[0;34m(\u001b[0m\u001b[0mreciprocal\u001b[0m\u001b[0;34m)\u001b[0m\u001b[0;34m\u001b[0m\u001b[0;34m\u001b[0m\u001b[0m\n",
            "\u001b[0;31mZeroDivisionError\u001b[0m: division by zero"
          ]
        }
      ]
    },
    {
      "cell_type": "markdown",
      "metadata": {
        "id": "VuUiI1K54f4l"
      },
      "source": [
        "## **6. Python try...finally**\r\n",
        "\r\n",
        "- The `try` statement in Python can have an optional `finally` clause. This clause is executed no matter what, and is generally used to release external resources.\r\n",
        "\r\n",
        "- For example, we may be connected to a remote data center through the network or working with a file or a Graphical User Interface (GUI).\r\n",
        "\r\n",
        "- In all these circumstances, we must clean up the resource before the program comes to a halt whether it successfully ran or not. These actions (closing a file, GUI or disconnecting from network) are performed in the `finally` clause to guarantee the execution.\r\n",
        "\r\n",
        "- Here is an example of [file operations](https://www.programiz.com/python-programming/file-operation) to illustrate this."
      ]
    },
    {
      "cell_type": "markdown",
      "metadata": {
        "id": "wpuiMOrx5zSr"
      },
      "source": [
        "- `try:`\r\n",
        "  -  `f = open(\"test.txt\", encoding = 'utf-8')`\r\n",
        "  -  `# perform file operations`\r\n",
        "- `finally:`\r\n",
        "  - `f.close()`"
      ]
    },
    {
      "cell_type": "markdown",
      "metadata": {
        "id": "E9G06Iua6HTv"
      },
      "source": [
        "- This type of construct makes sure that the file is closed even if an exception occurs during the program execution."
      ]
    },
    {
      "cell_type": "markdown",
      "metadata": {
        "id": "GenkgLkzH0iQ"
      },
      "source": [
        "https://www.programiz.com/python-programming/exception-handling"
      ]
    }
  ]
}