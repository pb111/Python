{
  "nbformat": 4,
  "nbformat_minor": 0,
  "metadata": {
    "colab": {
      "name": "Python Namespace and Scope",
      "provenance": [],
      "authorship_tag": "ABX9TyORwLPXLzs4UKoYMUgsQnd3",
      "include_colab_link": true
    },
    "kernelspec": {
      "name": "python3",
      "display_name": "Python 3"
    }
  },
  "cells": [
    {
      "cell_type": "markdown",
      "metadata": {
        "id": "view-in-github",
        "colab_type": "text"
      },
      "source": [
        "<a href=\"https://colab.research.google.com/github/pb111/Python-tutorials-and-projects/blob/master/Python_Namespace_and_Scope.ipynb\" target=\"_parent\"><img src=\"https://colab.research.google.com/assets/colab-badge.svg\" alt=\"Open In Colab\"/></a>"
      ]
    },
    {
      "cell_type": "markdown",
      "metadata": {
        "id": "I11uk0MeUbZ8"
      },
      "source": [
        "# **Python Namespace and Scope**\r\n",
        "\r\n",
        "- In this tutorial, you will learn about **namespace**, **mapping from names to objects**, and **scope of a variable**."
      ]
    },
    {
      "cell_type": "markdown",
      "metadata": {
        "id": "uWZnhhw2VaH0"
      },
      "source": [
        "## **1. What is Name in Python?**\r\n",
        "\r\n",
        "- If you have ever read `'The Zen of Python'` (type `import this` in the Python interpreter), \r\n",
        "\r\n",
        "- the last line states, **Namespaces are one honking great idea** -- let's do more of those! \r\n",
        "\r\n",
        "- So what are these mysterious namespaces? Let us first look at what name is."
      ]
    },
    {
      "cell_type": "code",
      "metadata": {
        "id": "4MjZpIRoUW-f",
        "colab": {
          "base_uri": "https://localhost:8080/"
        },
        "outputId": "ade6143c-7708-4af1-ad84-27c7511c9039"
      },
      "source": [
        "import this"
      ],
      "execution_count": 1,
      "outputs": [
        {
          "output_type": "stream",
          "text": [
            "The Zen of Python, by Tim Peters\n",
            "\n",
            "Beautiful is better than ugly.\n",
            "Explicit is better than implicit.\n",
            "Simple is better than complex.\n",
            "Complex is better than complicated.\n",
            "Flat is better than nested.\n",
            "Sparse is better than dense.\n",
            "Readability counts.\n",
            "Special cases aren't special enough to break the rules.\n",
            "Although practicality beats purity.\n",
            "Errors should never pass silently.\n",
            "Unless explicitly silenced.\n",
            "In the face of ambiguity, refuse the temptation to guess.\n",
            "There should be one-- and preferably only one --obvious way to do it.\n",
            "Although that way may not be obvious at first unless you're Dutch.\n",
            "Now is better than never.\n",
            "Although never is often better than *right* now.\n",
            "If the implementation is hard to explain, it's a bad idea.\n",
            "If the implementation is easy to explain, it may be a good idea.\n",
            "Namespaces are one honking great idea -- let's do more of those!\n"
          ],
          "name": "stdout"
        }
      ]
    },
    {
      "cell_type": "markdown",
      "metadata": {
        "id": "aaVqBAMTXgnc"
      },
      "source": [
        "- **Name** (also called identifier) is simply a name given to objects. \r\n",
        "- Everything in Python is an [object](https://www.programiz.com/python-programming/class). \r\n",
        "- **Name** is a way to access the underlying object."
      ]
    },
    {
      "cell_type": "markdown",
      "metadata": {
        "id": "YGrWkLo_X6ND"
      },
      "source": [
        "- For example, when we do the assignment `a = 2`, 2 is an object stored in memory and `a` is the name we associate it with. \r\n",
        "- We can get the address (in RAM) of some object through the [built-in function](https://www.programiz.com/python-programming/methods/built-in) id(). \r\n",
        "- Let's look at how to use it."
      ]
    },
    {
      "cell_type": "code",
      "metadata": {
        "colab": {
          "base_uri": "https://localhost:8080/"
        },
        "id": "yO1MXbo_XOrC",
        "outputId": "cc89e7e0-8e79-405d-f2d9-33ab48cb2bee"
      },
      "source": [
        "# Note: You may get different values for the id\r\n",
        "\r\n",
        "a = 2\r\n",
        "print('id(2) =', id(2))\r\n",
        "\r\n",
        "print('id(a) =', id(a))"
      ],
      "execution_count": 2,
      "outputs": [
        {
          "output_type": "stream",
          "text": [
            "id(2) = 10914528\n",
            "id(a) = 10914528\n"
          ],
          "name": "stdout"
        }
      ]
    },
    {
      "cell_type": "markdown",
      "metadata": {
        "id": "7rB9t1h0YkqC"
      },
      "source": [
        "- Here, both refer to the same object `2`, so they have the same `id()`. \r\n",
        "- Let's make things a little more interesting."
      ]
    },
    {
      "cell_type": "code",
      "metadata": {
        "colab": {
          "base_uri": "https://localhost:8080/"
        },
        "id": "u4g5F-PEYbV-",
        "outputId": "e2d5c04b-0493-47d9-b237-104999842228"
      },
      "source": [
        "# Note: You may get different values for the id\r\n",
        "\r\n",
        "a = 2\r\n",
        "print('id(a) =', id(a))\r\n",
        "\r\n",
        "a = a+1\r\n",
        "print('id(a) =', id(a))\r\n",
        "\r\n",
        "print('id(3) =', id(3))\r\n",
        "\r\n",
        "b = 2\r\n",
        "print('id(b) =', id(b))\r\n",
        "print('id(2) =', id(2))"
      ],
      "execution_count": 3,
      "outputs": [
        {
          "output_type": "stream",
          "text": [
            "id(a) = 10914528\n",
            "id(a) = 10914560\n",
            "id(3) = 10914560\n",
            "id(b) = 10914528\n",
            "id(2) = 10914528\n"
          ],
          "name": "stdout"
        }
      ]
    },
    {
      "cell_type": "markdown",
      "metadata": {
        "id": "JpBMIsOuY_c6"
      },
      "source": [
        "- What is happening in the above sequence of steps? Let's use a diagram to explain this:"
      ]
    },
    {
      "cell_type": "markdown",
      "metadata": {
        "id": "yH7goSAbZCk7"
      },
      "source": [
        "#### **Memory diagram of variables in Python**\r\n",
        "\r\n",
        "![Memory diagram of variables in Python](https://cdn.programiz.com/sites/tutorial2program/files/aEquals2.jpg)"
      ]
    },
    {
      "cell_type": "markdown",
      "metadata": {
        "id": "Iy5YL3sQwgi8"
      },
      "source": [
        "- Initially, an object `2` is created and the name `a` is associated with it, when we do `a = a+1`, a new object `3` is created and now `a` is associated with this object.\r\n",
        "\r\n",
        "- Note that `id(a)` and `id(3)` have the same values.\r\n",
        "\r\n",
        "= Furthermore, when `b = 2` is executed, the new name `b` gets associated with the previous object `2`.\r\n",
        "\r\n",
        "- This is efficient as Python does not have to create a new duplicate object. This dynamic nature of name binding makes Python powerful; a name could refer to any type of object."
      ]
    },
    {
      "cell_type": "code",
      "metadata": {
        "id": "S4bOqz0BY1xX"
      },
      "source": [
        "a = 5\r\n",
        "a = 'Hello World!'\r\n",
        "a = [1,2,3]"
      ],
      "execution_count": 4,
      "outputs": []
    },
    {
      "cell_type": "markdown",
      "metadata": {
        "id": "F9RamqPAxevo"
      },
      "source": [
        "- All these are valid and a will refer to three different types of objects in different instances. \r\n",
        "- [Functions](https://www.programiz.com/python-programming/function) are objects too, so a name can refer to them as well."
      ]
    },
    {
      "cell_type": "code",
      "metadata": {
        "colab": {
          "base_uri": "https://localhost:8080/"
        },
        "id": "ivT6AGytxXwc",
        "outputId": "451e66a5-1e4d-402b-e168-671a7a526a0b"
      },
      "source": [
        "def printHello():\r\n",
        "    print(\"Hello\")\r\n",
        "\r\n",
        "\r\n",
        "a = printHello\r\n",
        "\r\n",
        "a()"
      ],
      "execution_count": 5,
      "outputs": [
        {
          "output_type": "stream",
          "text": [
            "Hello\n"
          ],
          "name": "stdout"
        }
      ]
    },
    {
      "cell_type": "markdown",
      "metadata": {
        "id": "jeZH97Unx0gU"
      },
      "source": [
        "- The same name `a` can refer to a function and we can call the function using this name."
      ]
    },
    {
      "cell_type": "markdown",
      "metadata": {
        "id": "ngsXE89oAxx_"
      },
      "source": [
        "## **2. What is a Namespace in Python?**\r\n",
        "\r\n",
        "- Now that we understand what names are, we can move on to the concept of **namespaces**.\r\n",
        "\r\n",
        "- To simply put it, **a namespace is a collection of names**.\r\n",
        "\r\n",
        "- In Python, you can **imagine a namespace as a mapping of every name you have defined to corresponding objects**.\r\n",
        "\r\n",
        "- Different namespaces can co-exist at a given time but are completely isolated.\r\n",
        "\r\n",
        "- A namespace containing all the built-in names is created when we start the Python interpreter and exists as long as the interpreter runs.\r\n",
        "\r\n",
        "- This is the reason that built-in functions like `id()`, `print()` etc. are always available to us from any part of the program. Each [module](https://www.programiz.com/python-programming/modules) creates its own global namespace.\r\n",
        "\r\n",
        "- These different namespaces are isolated. Hence, the same name that may exist in different modules do not collide.\r\n",
        "\r\n",
        "- Modules can have various functions and classes. A local namespace is created when a function is called, which has all the names defined in it. Similar, is the case with class. \r\n",
        "\r\n",
        "- Following diagram may help to clarify this concept."
      ]
    },
    {
      "cell_type": "markdown",
      "metadata": {
        "id": "WDrq75IADK_9"
      },
      "source": [
        "#### **A diagram of different namespaces in Python**\r\n",
        "\r\n",
        "![A diagram of different namespaces in Python](https://cdn.programiz.com/sites/tutorial2program/files/nested-namespaces-python.jpg)"
      ]
    },
    {
      "cell_type": "markdown",
      "metadata": {
        "id": "gJSBb-1zEC4B"
      },
      "source": [
        "## **3. Python Variable Scope**\r\n",
        "\r\n",
        "- Although there are various unique namespaces defined, we may not be able to access all of them from every part of the program. The concept of scope comes into play.\r\n",
        "\r\n",
        "- A scope is the portion of a program from where a namespace can be accessed directly without any prefix.\r\n",
        "\r\n",
        "- At any given moment, there are at least three nested scopes.\r\n",
        "\r\n",
        "  1. Scope of the current function which has local names\r\n",
        "  2. Scope of the module which has global names\r\n",
        "  3. Outermost scope which has built-in names\r\n",
        "\r\n",
        "- When a reference is made inside a function, the name is searched in the local namespace, then in the global namespace and finally in the built-in namespace.\r\n",
        "\r\n",
        "- If there is a function inside another function, a new scope is nested inside the local scope."
      ]
    },
    {
      "cell_type": "markdown",
      "metadata": {
        "id": "e-nKagJvEeLv"
      },
      "source": [
        "## **4. Example of Scope and Namespace in Python**"
      ]
    },
    {
      "cell_type": "code",
      "metadata": {
        "id": "0r2yFDbtxv_U"
      },
      "source": [
        "def outer_function():\r\n",
        "    b = 20\r\n",
        "    def inner_function():\r\n",
        "        c = 30\r\n",
        "\r\n",
        "a = 10\r\n"
      ],
      "execution_count": 7,
      "outputs": []
    },
    {
      "cell_type": "markdown",
      "metadata": {
        "id": "gMOjhjst3864"
      },
      "source": [
        "- Here, the variable `a` is in the global namespace. \r\n",
        "- Variable `b` is in the local namespace of `outer_function()` and \r\n",
        "- `c` is in the nested local namespace of `inner_function()`."
      ]
    },
    {
      "cell_type": "markdown",
      "metadata": {
        "id": "PEsIEKdr4YjN"
      },
      "source": [
        "- When we are in `inner_function()`, `c` is local to us, `b` is nonlocal and `a` is global. \r\n",
        "- We can read as well as assign new values to `c` but can only read `b` and `a` from `inner_function()`"
      ]
    },
    {
      "cell_type": "markdown",
      "metadata": {
        "id": "2D7oLTRk_CEA"
      },
      "source": [
        "- If we try to assign as a value to `b`, a new variable `b` is created in the local namespace which is different than the nonlocal `b`. \r\n",
        "- The same thing happens when we assign a value to `a`."
      ]
    },
    {
      "cell_type": "markdown",
      "metadata": {
        "id": "cMd3mH7w_Ucv"
      },
      "source": [
        "- However, if we declare `a` as global, all the reference and assignment go to the global `a`. \r\n",
        "- Similarly, if we want to rebind the variable `b`, it must be declared as nonlocal. \r\n",
        "- The following example will further clarify this."
      ]
    },
    {
      "cell_type": "code",
      "metadata": {
        "colab": {
          "base_uri": "https://localhost:8080/"
        },
        "id": "1K582MWg3xCy",
        "outputId": "8d86c84a-0223-4a5c-873d-2df6ef0130f6"
      },
      "source": [
        "def outer_function():\r\n",
        "    a = 20\r\n",
        "\r\n",
        "    def inner_function():\r\n",
        "        a = 30\r\n",
        "        print('a =', a)\r\n",
        "\r\n",
        "    inner_function()\r\n",
        "    print('a =', a)\r\n",
        "\r\n",
        "\r\n",
        "a = 10\r\n",
        "outer_function()\r\n",
        "print('a =', a)"
      ],
      "execution_count": 8,
      "outputs": [
        {
          "output_type": "stream",
          "text": [
            "a = 30\n",
            "a = 20\n",
            "a = 10\n"
          ],
          "name": "stdout"
        }
      ]
    },
    {
      "cell_type": "markdown",
      "metadata": {
        "id": "I9Ub4skG_9rP"
      },
      "source": [
        "- In this program, three different variables `a` are defined in separate namespaces and accessed accordingly. \r\n",
        "- While in the following program,"
      ]
    },
    {
      "cell_type": "code",
      "metadata": {
        "colab": {
          "base_uri": "https://localhost:8080/"
        },
        "id": "oqGT2Egz_xEP",
        "outputId": "c7a219f2-27d6-4c2e-f92f-7fdfb0637b4f"
      },
      "source": [
        "def outer_function():\r\n",
        "    global a\r\n",
        "    a = 20\r\n",
        "\r\n",
        "    def inner_function():\r\n",
        "        global a\r\n",
        "        a = 30\r\n",
        "        print('a =', a)\r\n",
        "\r\n",
        "    inner_function()\r\n",
        "    print('a =', a)\r\n",
        "\r\n",
        "\r\n",
        "a = 10\r\n",
        "outer_function()\r\n",
        "print('a =', a)"
      ],
      "execution_count": 9,
      "outputs": [
        {
          "output_type": "stream",
          "text": [
            "a = 30\n",
            "a = 30\n",
            "a = 30\n"
          ],
          "name": "stdout"
        }
      ]
    },
    {
      "cell_type": "markdown",
      "metadata": {
        "id": "y122HNEeAV19"
      },
      "source": [
        "- Here, all references and assignments are to the global `a` due to the use of keyword `global`."
      ]
    },
    {
      "cell_type": "markdown",
      "metadata": {
        "id": "El6Lr2PaVQ8B"
      },
      "source": [
        "https://www.programiz.com/python-programming/namespace"
      ]
    }
  ]
}