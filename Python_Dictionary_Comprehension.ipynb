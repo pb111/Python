{
  "nbformat": 4,
  "nbformat_minor": 0,
  "metadata": {
    "colab": {
      "name": "Python Dictionary Comprehension",
      "provenance": [],
      "authorship_tag": "ABX9TyPVFwTi8HOHJWCwSYunptn0",
      "include_colab_link": true
    },
    "kernelspec": {
      "name": "python3",
      "display_name": "Python 3"
    }
  },
  "cells": [
    {
      "cell_type": "markdown",
      "metadata": {
        "id": "view-in-github",
        "colab_type": "text"
      },
      "source": [
        "<a href=\"https://colab.research.google.com/github/pb111/Python-tutorials-and-projects/blob/master/Python_Dictionary_Comprehension.ipynb\" target=\"_parent\"><img src=\"https://colab.research.google.com/assets/colab-badge.svg\" alt=\"Open In Colab\"/></a>"
      ]
    },
    {
      "cell_type": "markdown",
      "metadata": {
        "id": "x8W1ouZqOoan"
      },
      "source": [
        "# **Python Dictionary Comprehension**\n",
        "\n",
        "- In this tutorial, we will learn about Python dictionary comprehension and how to use it with the help of examples."
      ]
    },
    {
      "cell_type": "markdown",
      "metadata": {
        "id": "ds3i74u7O2yU"
      },
      "source": [
        "- Dictionaries are data types in Python which allows us to store data in **key/value pair**. For example:"
      ]
    },
    {
      "cell_type": "code",
      "metadata": {
        "colab": {
          "base_uri": "https://localhost:8080/"
        },
        "id": "PkWXbRsKMzyY",
        "outputId": "742599b2-6c99-43a3-d299-a853797504ba"
      },
      "source": [
        "my_dict = {1 : 'apple' , 2 : 'ball'}\n",
        "my_dict"
      ],
      "execution_count": 1,
      "outputs": [
        {
          "output_type": "execute_result",
          "data": {
            "text/plain": [
              "{1: 'apple', 2: 'ball'}"
            ]
          },
          "metadata": {
            "tags": []
          },
          "execution_count": 1
        }
      ]
    },
    {
      "cell_type": "markdown",
      "metadata": {
        "id": "WrxWpZuTRFSI"
      },
      "source": [
        "- To learn more about them visit: [Python Dictionary](https://www.programiz.com/python-programming/dictionary)"
      ]
    },
    {
      "cell_type": "markdown",
      "metadata": {
        "id": "Rac3fO7tRMoa"
      },
      "source": [
        "## **1. Python Dictionary Comprehension**\n",
        "\n",
        "- Dictionary comprehension is an elegant and concise way to create a new dictionary from an iterable in Python.\n",
        "\n",
        "- Dictionary comprehension consists of an expression pair **(key: value)** followed by a `for` statement inside curly braces `{}`.\n",
        "\n",
        "- Here is an example to make a dictionary with each item being a pair of a number and its square.\n"
      ]
    },
    {
      "cell_type": "code",
      "metadata": {
        "colab": {
          "base_uri": "https://localhost:8080/"
        },
        "id": "_jEsV55DQ6uR",
        "outputId": "fd3b81b8-6de2-489e-f088-fa98404ab9bf"
      },
      "source": [
        "# Dictionary Comprehension\n",
        "squares = {x : x*x for x in range(6)}\n",
        "squares\n"
      ],
      "execution_count": 2,
      "outputs": [
        {
          "output_type": "execute_result",
          "data": {
            "text/plain": [
              "{0: 0, 1: 1, 2: 4, 3: 9, 4: 16, 5: 25}"
            ]
          },
          "metadata": {
            "tags": []
          },
          "execution_count": 2
        }
      ]
    },
    {
      "cell_type": "markdown",
      "metadata": {
        "id": "KA4cNGMYVJ4r"
      },
      "source": [
        "This code is equivalent to"
      ]
    },
    {
      "cell_type": "code",
      "metadata": {
        "colab": {
          "base_uri": "https://localhost:8080/"
        },
        "id": "Seuy7SLwUwaI",
        "outputId": "e98fb868-a813-48c9-f66d-26ec16ce560b"
      },
      "source": [
        "squares = {}\n",
        "for x in range(6):\n",
        "    squares[x] = x*x\n",
        "print(squares)"
      ],
      "execution_count": 3,
      "outputs": [
        {
          "output_type": "stream",
          "text": [
            "{0: 0, 1: 1, 2: 4, 3: 9, 4: 16, 5: 25}\n"
          ],
          "name": "stdout"
        }
      ]
    },
    {
      "cell_type": "markdown",
      "metadata": {
        "id": "u2C0dJEcVyC5"
      },
      "source": [
        "- A dictionary comprehension can optionally contain more [for](https://www.programiz.com/python-programming/for-loop) or [if](https://www.programiz.com/python-programming/if-elif-else) statements.\n",
        "\n",
        "- An optional `if` statement can filter out items to form the new dictionary.\n",
        "\n",
        "- Here are some examples to make a dictionary with only odd items."
      ]
    },
    {
      "cell_type": "code",
      "metadata": {
        "colab": {
          "base_uri": "https://localhost:8080/"
        },
        "id": "b1k1NsdUVnY8",
        "outputId": "5fc1dd0c-7450-430c-8713-bfd5f8be58e2"
      },
      "source": [
        "# Dictionary Comprehension with if conditional\n",
        "odd_squares = {x : x*x for x in range(11) if x%2 == 1}\n",
        "odd_squares"
      ],
      "execution_count": 4,
      "outputs": [
        {
          "output_type": "execute_result",
          "data": {
            "text/plain": [
              "{1: 1, 3: 9, 5: 25, 7: 49, 9: 81}"
            ]
          },
          "metadata": {
            "tags": []
          },
          "execution_count": 4
        }
      ]
    },
    {
      "cell_type": "markdown",
      "metadata": {
        "id": "8moAvNrJXV-P"
      },
      "source": [
        "https://www.programiz.com/python-programming/dictionary"
      ]
    },
    {
      "cell_type": "markdown",
      "metadata": {
        "id": "7hTOqDcYXYAQ"
      },
      "source": [
        "To learn more dictionary comprehensions, visit [Python Dictionary Comprehension](https://www.programiz.com/python-programming/dictionary-comprehension)."
      ]
    },
    {
      "cell_type": "markdown",
      "metadata": {
        "id": "9Dz3JuzKd8Yd"
      },
      "source": [
        "## **2. What is Dictionary Comprehension in Python?**\n",
        "\n",
        "- **Dictionary comprehension** is an elegant and concise way to create dictionaries."
      ]
    },
    {
      "cell_type": "markdown",
      "metadata": {
        "id": "scxwacOZeTfj"
      },
      "source": [
        "#### **Example 1: Dictionary Comprehension**\n",
        "\n",
        "- Consider the following code:\n",
        "\n"
      ]
    },
    {
      "cell_type": "code",
      "metadata": {
        "colab": {
          "base_uri": "https://localhost:8080/"
        },
        "id": "Ghn4z17GXMd6",
        "outputId": "e4c6ae15-b038-4912-fbf3-1f0d80136d44"
      },
      "source": [
        "square_dict = dict()\n",
        "for num in range(1, 11):\n",
        "    square_dict[num] = num*num\n",
        "print(square_dict)"
      ],
      "execution_count": 5,
      "outputs": [
        {
          "output_type": "stream",
          "text": [
            "{1: 1, 2: 4, 3: 9, 4: 16, 5: 25, 6: 36, 7: 49, 8: 64, 9: 81, 10: 100}\n"
          ],
          "name": "stdout"
        }
      ]
    },
    {
      "cell_type": "markdown",
      "metadata": {
        "id": "zlnEsI0lev1x"
      },
      "source": [
        "Now, let's create the dictionary in the above program using dictionary comprehension."
      ]
    },
    {
      "cell_type": "code",
      "metadata": {
        "colab": {
          "base_uri": "https://localhost:8080/"
        },
        "id": "TmSHTUgOenZR",
        "outputId": "02ed1b53-dbee-4d71-ef22-9d017c17bed5"
      },
      "source": [
        "# Dictionary comprehension example\n",
        "square_dict = {num : num*num for num in range(1,11)}\n",
        "print(square_dict)"
      ],
      "execution_count": 6,
      "outputs": [
        {
          "output_type": "stream",
          "text": [
            "{1: 1, 2: 4, 3: 9, 4: 16, 5: 25, 6: 36, 7: 49, 8: 64, 9: 81, 10: 100}\n"
          ],
          "name": "stdout"
        }
      ]
    },
    {
      "cell_type": "markdown",
      "metadata": {
        "id": "hsH3q4_tfZqZ"
      },
      "source": [
        "- The output of both programs will be the same.\n",
        "\n"
      ]
    },
    {
      "cell_type": "markdown",
      "metadata": {
        "id": "13T-3xnCfqd0"
      },
      "source": [
        "- In both programs, we have created a dictionary `square_dict` with **number-square key/value pair**.\n",
        "\n",
        "- However, using dictionary comprehension allowed us to **create a dictionary in a single line**.\n",
        "\n"
      ]
    },
    {
      "cell_type": "markdown",
      "metadata": {
        "id": "44f4a8EYf4hL"
      },
      "source": [
        "## **3. Using Dictionary Comprehension**\n",
        "\n",
        "- From the above example, we can see that dictionary comprehension should be written in a specific pattern.\n",
        "\n",
        "- The minimal syntax for dictionary comprehension is:\n",
        "\n",
        "- `dictionary = {key: value for vars in iterable}`\n",
        "\n",
        "- Let's compare this syntax with dictionary comprehension from the above example."
      ]
    },
    {
      "cell_type": "markdown",
      "metadata": {
        "id": "_LRKdn74guW-"
      },
      "source": [
        "![Dictionary Comprehension](https://cdn.programiz.com/sites/tutorial2program/files/Python-dictionary-comprehension.png)"
      ]
    },
    {
      "cell_type": "markdown",
      "metadata": {
        "id": "B5tSvodwhEwu"
      },
      "source": [
        "Now, let's see how we can use dictionary comprehension using data from another dictionary."
      ]
    },
    {
      "cell_type": "markdown",
      "metadata": {
        "id": "Scr34bxPhdMf"
      },
      "source": [
        "#### **Example 3: How to use Dictionary Comprehension**"
      ]
    },
    {
      "cell_type": "code",
      "metadata": {
        "id": "6Su6tUyofUVl",
        "colab": {
          "base_uri": "https://localhost:8080/"
        },
        "outputId": "c975bee3-53e3-4b0b-a844-21708ecdd909"
      },
      "source": [
        "#item price in dollars\n",
        "old_price = {'milk':1.02, 'coffee':2.5, 'bread':2.5}\n",
        "\n",
        "dollar_to_pound = 0.76\n",
        "\n",
        "new_price = {item : value*dollar_to_pound for (item, value) in old_price.items()}\n",
        "print(new_price)"
      ],
      "execution_count": 7,
      "outputs": [
        {
          "output_type": "stream",
          "text": [
            "{'milk': 0.7752, 'coffee': 1.9, 'bread': 1.9}\n"
          ],
          "name": "stdout"
        }
      ]
    },
    {
      "cell_type": "markdown",
      "metadata": {
        "id": "JS13sx2Fkcse"
      },
      "source": [
        "- Here, we can see that we retrieved the item prices in dollars and converted them to pounds. Using dictionary comprehension makes this task much simpler and shorter."
      ]
    },
    {
      "cell_type": "markdown",
      "metadata": {
        "id": "Z6zRP1MolG01"
      },
      "source": [
        "## **4. Conditionals in Dictionary Comprehension**\n",
        "\n",
        "- We can further customize dictionary comprehension by adding conditions to it. Let's look at an example."
      ]
    },
    {
      "cell_type": "markdown",
      "metadata": {
        "id": "HDFOeg3MlVC2"
      },
      "source": [
        "#### **Example 4: If Conditional Dictionary Comprehension**"
      ]
    },
    {
      "cell_type": "code",
      "metadata": {
        "colab": {
          "base_uri": "https://localhost:8080/"
        },
        "id": "nUfskZqGkQMJ",
        "outputId": "79e26519-4867-4641-cf65-0d3afa5b02be"
      },
      "source": [
        "original_dict = {'jack': 38, 'michael': 48, 'guido': 57, 'john': 33}\n",
        "\n",
        "even_dict = {k: v for (k, v) in original_dict.items() if v % 2 == 0}\n",
        "\n",
        "print(even_dict)"
      ],
      "execution_count": 8,
      "outputs": [
        {
          "output_type": "stream",
          "text": [
            "{'jack': 38, 'michael': 48}\n"
          ],
          "name": "stdout"
        }
      ]
    },
    {
      "cell_type": "markdown",
      "metadata": {
        "id": "ZHw7I4lWl7az"
      },
      "source": [
        "- As we can see, only the items with even value have been added, because of the `if` clause in the dictionary comprehension."
      ]
    },
    {
      "cell_type": "markdown",
      "metadata": {
        "id": "ZNkhCWMZnJZV"
      },
      "source": [
        "#### **Example 5: Multiple if Conditional Dictionary Comprehension**"
      ]
    },
    {
      "cell_type": "code",
      "metadata": {
        "colab": {
          "base_uri": "https://localhost:8080/"
        },
        "id": "vZ_5rrMplpzm",
        "outputId": "7166c49a-17d2-4b88-c607-2f83509b7183"
      },
      "source": [
        "original_dict = {'jack': 38, 'michael': 48, 'guido': 57, 'john': 33}\n",
        "\n",
        "new_dict = {k: v for (k, v) in original_dict.items() if v % 2 != 0 if v < 40}\n",
        "\n",
        "print(new_dict)"
      ],
      "execution_count": 9,
      "outputs": [
        {
          "output_type": "stream",
          "text": [
            "{'john': 33}\n"
          ],
          "name": "stdout"
        }
      ]
    },
    {
      "cell_type": "markdown",
      "metadata": {
        "id": "WzMy28mMoT_A"
      },
      "source": [
        "- In this case, only the items with an odd value of less than 40 have been added to the new dictionary.\n",
        "\n",
        "- It is because of the multiple `if` clauses in the dictionary comprehension. They are equivalent to `and` operation where both conditions have to be true."
      ]
    },
    {
      "cell_type": "markdown",
      "metadata": {
        "id": "-Bp_BjdsomRr"
      },
      "source": [
        "#### **Example 6: if-else Conditional Dictionary Comprehension**"
      ]
    },
    {
      "cell_type": "code",
      "metadata": {
        "colab": {
          "base_uri": "https://localhost:8080/"
        },
        "id": "5gaikvixnQ3L",
        "outputId": "9df18b34-7e0d-40ad-b63a-663872541141"
      },
      "source": [
        "original_dict = {'jack': 38, 'michael': 48, 'guido': 57, 'john': 33}\n",
        "\n",
        "new_dict_1 = {k: ('old' if v > 40 else 'young')\n",
        "    for (k, v) in original_dict.items()}\n",
        "print(new_dict_1)"
      ],
      "execution_count": 10,
      "outputs": [
        {
          "output_type": "stream",
          "text": [
            "{'jack': 'young', 'michael': 'old', 'guido': 'old', 'john': 'young'}\n"
          ],
          "name": "stdout"
        }
      ]
    },
    {
      "cell_type": "markdown",
      "metadata": {
        "id": "ulxItrbvv4IR"
      },
      "source": [
        "- In this case, a new dictionary is created via dictionary comprehension.\n",
        "\n",
        "- The items with a value of 40 or more have the value of 'old' while others have the value of 'young'."
      ]
    },
    {
      "cell_type": "markdown",
      "metadata": {
        "id": "ERFulAa03Hn2"
      },
      "source": [
        "## **5. Nested Dictionary Comprehension**\n",
        "\n",
        "- We can add dictionary comprehensions to dictionary comprehensions themselves to create nested dictionaries. Let's look at an example."
      ]
    },
    {
      "cell_type": "markdown",
      "metadata": {
        "id": "R9Ch97Qx3URu"
      },
      "source": [
        "#### **Example 7: Nested Dictionary with Two Dictionary Comprehensions**"
      ]
    },
    {
      "cell_type": "code",
      "metadata": {
        "colab": {
          "base_uri": "https://localhost:8080/"
        },
        "id": "KulK9zsBvs5v",
        "outputId": "ea56fb93-79ba-4d67-acde-5dcbd425b7ca"
      },
      "source": [
        "dictionary = {\n",
        "              k1: {k2: k1 * k2 for k2 in range(1, 6)} for k1 in range(2, 5)\n",
        "             }\n",
        "print(dictionary)"
      ],
      "execution_count": 12,
      "outputs": [
        {
          "output_type": "stream",
          "text": [
            "{2: {1: 2, 2: 4, 3: 6, 4: 8, 5: 10}, 3: {1: 3, 2: 6, 3: 9, 4: 12, 5: 15}, 4: {1: 4, 2: 8, 3: 12, 4: 16, 5: 20}}\n"
          ],
          "name": "stdout"
        }
      ]
    },
    {
      "cell_type": "markdown",
      "metadata": {
        "id": "SCKug8QH3zBJ"
      },
      "source": [
        "- As you can see, we have constructed a multiplication table in a nested dictionary, for numbers from 2 to 4.\n",
        "\n",
        "- Whenever nested dictionary comprehension is used, Python first starts from the outer loop and then goes to the inner one.\n",
        "\n",
        "- So, the above code would be equivalent to:"
      ]
    },
    {
      "cell_type": "code",
      "metadata": {
        "colab": {
          "base_uri": "https://localhost:8080/"
        },
        "id": "AIW0G7t53gxp",
        "outputId": "29edfbed-af97-47be-92c3-9d797c27d0ee"
      },
      "source": [
        "dictionary = dict()\n",
        "for k1 in range(11, 16):\n",
        "    dictionary[k1] = {k2: k1*k2 for k2 in range(1, 6)}\n",
        "print(dictionary)"
      ],
      "execution_count": 13,
      "outputs": [
        {
          "output_type": "stream",
          "text": [
            "{11: {1: 11, 2: 22, 3: 33, 4: 44, 5: 55}, 12: {1: 12, 2: 24, 3: 36, 4: 48, 5: 60}, 13: {1: 13, 2: 26, 3: 39, 4: 52, 5: 65}, 14: {1: 14, 2: 28, 3: 42, 4: 56, 5: 70}, 15: {1: 15, 2: 30, 3: 45, 4: 60, 5: 75}}\n"
          ],
          "name": "stdout"
        }
      ]
    },
    {
      "cell_type": "markdown",
      "metadata": {
        "id": "xtJ2JSnw4ExP"
      },
      "source": [
        "- It can further be unfolded:"
      ]
    },
    {
      "cell_type": "code",
      "metadata": {
        "colab": {
          "base_uri": "https://localhost:8080/"
        },
        "id": "PmWjMbFP3_wK",
        "outputId": "d36ec2d2-afc9-40d1-b94d-0a6074cfb4ae"
      },
      "source": [
        "dictionary = dict()\n",
        "for k1 in range(11, 16):\n",
        "    dictionary[k1] = dict()\n",
        "    for k2 in range(1, 6):\n",
        "        dictionary[k1][k2] = k1*k2\n",
        "print(dictionary)"
      ],
      "execution_count": 14,
      "outputs": [
        {
          "output_type": "stream",
          "text": [
            "{11: {1: 11, 2: 22, 3: 33, 4: 44, 5: 55}, 12: {1: 12, 2: 24, 3: 36, 4: 48, 5: 60}, 13: {1: 13, 2: 26, 3: 39, 4: 52, 5: 65}, 14: {1: 14, 2: 28, 3: 42, 4: 56, 5: 70}, 15: {1: 15, 2: 30, 3: 45, 4: 60, 5: 75}}\n"
          ],
          "name": "stdout"
        }
      ]
    },
    {
      "cell_type": "markdown",
      "metadata": {
        "id": "mrFV78cl4O90"
      },
      "source": [
        "All these three programs give us the same output."
      ]
    },
    {
      "cell_type": "markdown",
      "metadata": {
        "id": "4O4cZAQU4Th1"
      },
      "source": [
        "## **6. Advantages of Using Dictionary Comprehension**\n",
        "\n",
        "- As we can see, dictionary comprehension shortens the process of dictionary initialization by a lot. It makes the code more pythonic.\n",
        "\n",
        "- Using dictionary comprehension in our code can shorten the lines of code while keeping the logic intact."
      ]
    },
    {
      "cell_type": "markdown",
      "metadata": {
        "id": "s1E2kDo14hAr"
      },
      "source": [
        "## **7. Warnings on Using Dictionary Comprehension**\n",
        "\n",
        "- Even though dictionary comprehensions are great for writing elegant code that is easy to read, they are not always the right choice.\n",
        "\n",
        "- We must be careful while using them as :\n",
        "\n",
        "  - They can sometimes make the code run slower and consume more memory.\n",
        "\n",
        "  - They can also decrease the readability of the code.\n",
        "\n",
        "- We must not try to fit a difficult logic or a large number of dictionary comprehension inside them just for the sake of making the code single lined. In these cases, It is better to choose other alternatives like loops."
      ]
    },
    {
      "cell_type": "markdown",
      "metadata": {
        "id": "GximH_E2eysY"
      },
      "source": [
        "https://www.programiz.com/python-programming/dictionary-comprehension"
      ]
    }
  ]
}