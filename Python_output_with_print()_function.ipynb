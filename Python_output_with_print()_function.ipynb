{
  "nbformat": 4,
  "nbformat_minor": 0,
  "metadata": {
    "colab": {
      "name": "Python output with print() function",
      "provenance": [],
      "authorship_tag": "ABX9TyO+kLd+Lbm6LUQOiM/J8N0x",
      "include_colab_link": true
    },
    "kernelspec": {
      "name": "python3",
      "display_name": "Python 3"
    }
  },
  "cells": [
    {
      "cell_type": "markdown",
      "metadata": {
        "id": "view-in-github",
        "colab_type": "text"
      },
      "source": [
        "<a href=\"https://colab.research.google.com/github/pb111/Python-tutorials-and-projects/blob/master/Python_output_with_print()_function.ipynb\" target=\"_parent\"><img src=\"https://colab.research.google.com/assets/colab-badge.svg\" alt=\"Open In Colab\"/></a>"
      ]
    },
    {
      "cell_type": "markdown",
      "metadata": {
        "id": "fZr3IZs1VNEz"
      },
      "source": [
        "# **Python output with print() function**\r\n",
        "\r\n",
        "\r\n",
        "\r\n",
        "- Python provides numerous [built-in functions](https://www.programiz.com/python-programming/methods/built-in) that are readily available to us at the Python prompt.\r\n",
        "\r\n",
        "- Some of the functions like `input()` and `print()` are widely used for standard input and output operations respectively. Let us see the output section first.\r\n",
        "\r\n",
        "\r\n",
        "- In this tutorial, we will learn about the built-in `print()` function."
      ]
    },
    {
      "cell_type": "markdown",
      "metadata": {
        "id": "YoC-v8wDsLvC"
      },
      "source": [
        "## **1. Python Output Using print() function**\r\n",
        "\r\n",
        "- We use the `print()` function to output data to the standard output device (screen). \r\n",
        "\r\n",
        "- We can also [output data to a file](https://www.programiz.com/python-programming/file-operation), but this will be discussed later.\r\n",
        "\r\n",
        "\r\n",
        "- An example of its use is given below."
      ]
    },
    {
      "cell_type": "code",
      "metadata": {
        "colab": {
          "base_uri": "https://localhost:8080/"
        },
        "id": "PrzITme5vKFt",
        "outputId": "70d53c66-9cc3-4749-a801-f1997e9544a5"
      },
      "source": [
        "print('This sentence is output to the screen.')"
      ],
      "execution_count": 2,
      "outputs": [
        {
          "output_type": "stream",
          "text": [
            "This sentence is output to the screen.\n"
          ],
          "name": "stdout"
        }
      ]
    },
    {
      "cell_type": "markdown",
      "metadata": {
        "id": "y27GLGBev3nn"
      },
      "source": [
        "- Another example is given below:"
      ]
    },
    {
      "cell_type": "code",
      "metadata": {
        "colab": {
          "base_uri": "https://localhost:8080/"
        },
        "id": "gT0bZVmBv6dq",
        "outputId": "3eec3648-9c24-41cb-de8e-8de43394b0f0"
      },
      "source": [
        "a = 5\r\n",
        "print('The value of a is', a)"
      ],
      "execution_count": 3,
      "outputs": [
        {
          "output_type": "stream",
          "text": [
            "The value of a is 5\n"
          ],
          "name": "stdout"
        }
      ]
    },
    {
      "cell_type": "markdown",
      "metadata": {
        "id": "OP2mYQUpwQbv"
      },
      "source": [
        "- In the second `print()` statement, we can notice that space was added between the [string](https://www.programiz.com/python-programming/string) and the value of variable `a`. \r\n",
        "\r\n",
        "- This is by default, but we can change it."
      ]
    },
    {
      "cell_type": "markdown",
      "metadata": {
        "id": "vmXNA3J3xG3f"
      },
      "source": [
        "- The actual syntax of the `print()` function is:\r\n",
        "\r\n",
        "  - print(*objects, sep=' ', end='\\n', file=sys.stdout, flush=False)\r\n",
        "\r\n",
        "- Here, `objects` is the value(s) to be printed.\r\n",
        "\r\n",
        "- The `sep` separator is used between the values. It defaults into a space character.\r\n",
        "\r\n",
        "- After all values are printed, `end` is printed. It defaults into a new line.\r\n",
        "\r\n",
        "- The `file` is the object where the values are printed and its default value is `sys.stdout` (screen). Here is an example to illustrate this."
      ]
    },
    {
      "cell_type": "code",
      "metadata": {
        "colab": {
          "base_uri": "https://localhost:8080/"
        },
        "id": "1aBTLW8txFL1",
        "outputId": "cdd0c2ee-112d-4e89-89e6-6f3a7c64e6d1"
      },
      "source": [
        "print(1, 2, 3, 4)\r\n",
        "print(1, 2, 3, 4, sep='*')\r\n",
        "print(1, 2, 3, 4, sep='#', end='&')"
      ],
      "execution_count": 4,
      "outputs": [
        {
          "output_type": "stream",
          "text": [
            "1 2 3 4\n",
            "1*2*3*4\n",
            "1#2#3#4&"
          ],
          "name": "stdout"
        }
      ]
    },
    {
      "cell_type": "markdown",
      "metadata": {
        "id": "X3GhjKN40MX6"
      },
      "source": [
        "## **2. Output formatting**\r\n",
        "\r\n",
        "- Sometimes we would like to format our output to make it look attractive. \r\n",
        "- This can be done by using the `str.format()` method. This method is visible to any string object.\r\n"
      ]
    },
    {
      "cell_type": "code",
      "metadata": {
        "colab": {
          "base_uri": "https://localhost:8080/"
        },
        "id": "SlLr1MF8zdt2",
        "outputId": "7ba37ecd-dbd8-479f-a4cf-4f90abda44bf"
      },
      "source": [
        "x = 5; y = 10\r\n",
        "\r\n",
        "print('The value of x is {} and y is {}'.format(x,y))"
      ],
      "execution_count": 5,
      "outputs": [
        {
          "output_type": "stream",
          "text": [
            "The value of x is 5 and y is 10\n"
          ],
          "name": "stdout"
        }
      ]
    },
    {
      "cell_type": "markdown",
      "metadata": {
        "id": "W7WqZokj1miz"
      },
      "source": [
        "- Here, the curly braces `{}` are used as placeholders. \r\n",
        "- We can specify the order in which they are printed by using numbers (tuple index)."
      ]
    },
    {
      "cell_type": "code",
      "metadata": {
        "colab": {
          "base_uri": "https://localhost:8080/"
        },
        "id": "UH2Gz0ZEv-hw",
        "outputId": "3d696b69-1403-4e57-dcda-efc675759986"
      },
      "source": [
        "print('I love {0} and {1}'.format('bread','butter'))"
      ],
      "execution_count": 6,
      "outputs": [
        {
          "output_type": "stream",
          "text": [
            "I love bread and butter\n"
          ],
          "name": "stdout"
        }
      ]
    },
    {
      "cell_type": "code",
      "metadata": {
        "colab": {
          "base_uri": "https://localhost:8080/"
        },
        "id": "5fGbPAgG6GAO",
        "outputId": "757885c3-cedc-4f5c-df99-0012f9563876"
      },
      "source": [
        "print('I love {1} and {0}'.format('bread','butter'))"
      ],
      "execution_count": 7,
      "outputs": [
        {
          "output_type": "stream",
          "text": [
            "I love butter and bread\n"
          ],
          "name": "stdout"
        }
      ]
    },
    {
      "cell_type": "markdown",
      "metadata": {
        "id": "EPu2wcZN6aUV"
      },
      "source": [
        "- We can even use keyword arguments to format the string."
      ]
    },
    {
      "cell_type": "code",
      "metadata": {
        "colab": {
          "base_uri": "https://localhost:8080/"
        },
        "id": "_bULv0L-6Qbo",
        "outputId": "ac943caa-957b-45c3-8f04-8a1df0c1b716"
      },
      "source": [
        "print('Hello {name}, {greeting}'.format(greeting='Good Morning!', name='John'))"
      ],
      "execution_count": 9,
      "outputs": [
        {
          "output_type": "stream",
          "text": [
            "Hello John, Good Morning!\n"
          ],
          "name": "stdout"
        }
      ]
    },
    {
      "cell_type": "markdown",
      "metadata": {
        "id": "ud2W5rLf7WOz"
      },
      "source": [
        "- We can also format strings like the old `sprintf()` style used in [C programming language](https://www.programiz.com/c-programming).\r\n",
        " \r\n",
        "- We use the % operator to accomplish this."
      ]
    },
    {
      "cell_type": "code",
      "metadata": {
        "colab": {
          "base_uri": "https://localhost:8080/"
        },
        "id": "h6OTPt-I71dk",
        "outputId": "67a6392e-112d-47c6-b38a-99d076faba14"
      },
      "source": [
        "x = 12.3456789\r\n",
        "print('The value of x is %3.2f' %x)"
      ],
      "execution_count": 10,
      "outputs": [
        {
          "output_type": "stream",
          "text": [
            "The value of x is 12.35\n"
          ],
          "name": "stdout"
        }
      ]
    },
    {
      "cell_type": "code",
      "metadata": {
        "colab": {
          "base_uri": "https://localhost:8080/"
        },
        "id": "wn6vbAI877pe",
        "outputId": "8898b4ad-146a-48b3-fb2e-fa22391da4fd"
      },
      "source": [
        "x = 12.3456789\r\n",
        "print('The value of x is %3.4f' %x)"
      ],
      "execution_count": 11,
      "outputs": [
        {
          "output_type": "stream",
          "text": [
            "The value of x is 12.3457\n"
          ],
          "name": "stdout"
        }
      ]
    },
    {
      "cell_type": "markdown",
      "metadata": {
        "id": "wXe3ebLpVk-G"
      },
      "source": [
        "https://www.programiz.com/python-programming/input-output-import"
      ]
    }
  ]
}