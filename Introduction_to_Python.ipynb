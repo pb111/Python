{
  "nbformat": 4,
  "nbformat_minor": 0,
  "metadata": {
    "colab": {
      "name": "Introduction to Python",
      "provenance": [],
      "authorship_tag": "ABX9TyOurvjwsXwBhA7/udSeYaRM",
      "include_colab_link": true
    },
    "kernelspec": {
      "name": "python3",
      "display_name": "Python 3"
    }
  },
  "cells": [
    {
      "cell_type": "markdown",
      "metadata": {
        "id": "view-in-github",
        "colab_type": "text"
      },
      "source": [
        "<a href=\"https://colab.research.google.com/github/pb111/Python/blob/master/Introduction_to_Python.ipynb\" target=\"_parent\"><img src=\"https://colab.research.google.com/assets/colab-badge.svg\" alt=\"Open In Colab\"/></a>"
      ]
    },
    {
      "cell_type": "markdown",
      "metadata": {
        "id": "VcDw3vvSqAmC",
        "colab_type": "text"
      },
      "source": [
        "# **Introduction to Python**"
      ]
    },
    {
      "cell_type": "markdown",
      "metadata": {
        "id": "goAenDM2qdwY",
        "colab_type": "text"
      },
      "source": [
        "## **1. Python Programming**\n",
        "\n",
        "- Python is a powerful multipurpose programming language created by Guido van Rossum.\n",
        "\n",
        "- It has a simple and easy-to-use syntax, making it a popular first-choice programming language for beginners.\n",
        "\n",
        "- This is a comprehensive guide that explores the reasons you should consider learning Python and the ways you can get started with Python."
      ]
    },
    {
      "cell_type": "markdown",
      "metadata": {
        "id": "nSpkQD5_q3dN",
        "colab_type": "text"
      },
      "source": [
        "## **2. What is Python Programming Language?**\n",
        "\n",
        "- Python is an interpreted, object-oriented, high-level programming language. As it is general-purpose, it has a wide range of applications from web development, building desktop GUI to scientific and mathematical computing.\n",
        "\n",
        "- Python is popular for its simple and relatively straightforward syntax. Its syntax readability increases productivity as it allows us to focus more on the problem rather than structuring the code."
      ]
    },
    {
      "cell_type": "markdown",
      "metadata": {
        "id": "RstRkcSHrF3V",
        "colab_type": "text"
      },
      "source": [
        "## **3. Features of Python Programming**"
      ]
    },
    {
      "cell_type": "markdown",
      "metadata": {
        "id": "-Tkbh5m1rKtF",
        "colab_type": "text"
      },
      "source": [
        "#### **3.1 Simple and easy to learn**\n",
        "\n",
        "- Python has a very simple and elegant syntax. It is much easier to read and write programs in Python compared to other languages like C, C++, or Java.\n",
        "\n",
        "- Due to this reason, many beginners are introduced to programming with Python as their first programming language."
      ]
    },
    {
      "cell_type": "markdown",
      "metadata": {
        "id": "-vuEBoKFueB-",
        "colab_type": "text"
      },
      "source": [
        "#### **3.2 Free and open-source**\n",
        "\n",
        "- You can freely use and distribute Python programs even for commercial use. As it is open-source, you can even change Python's source code to fit your use case."
      ]
    },
    {
      "cell_type": "markdown",
      "metadata": {
        "id": "iFEFz6IOuvUa",
        "colab_type": "text"
      },
      "source": [
        "#### **3.3 Portability**\n",
        "\n",
        "- A single Python program can run on different platforms without any change in source code. It runs on almost all platforms including Windows, Mac OS X, and Linux."
      ]
    },
    {
      "cell_type": "markdown",
      "metadata": {
        "id": "7T79xGIXu82V",
        "colab_type": "text"
      },
      "source": [
        "#### **3.4 Extensible and Embeddable**\n",
        "\n",
        "- You can combine Python code with other programming languages like C or Java to increase efficiency. This allows high performance and scripting capabilities that other languages do not provide out of the box."
      ]
    },
    {
      "cell_type": "markdown",
      "metadata": {
        "id": "CBzSMfUfvMoC",
        "colab_type": "text"
      },
      "source": [
        "#### **3.5 High-Level Interpreted Language**\n",
        "\n",
        "- Python itself handles tasks like memory management and garbage collection. So unlike C or C++, you don't have to worry about system architecture or any other lower-level operations."
      ]
    },
    {
      "cell_type": "markdown",
      "metadata": {
        "id": "Kv8x2rCKvg4U",
        "colab_type": "text"
      },
      "source": [
        "#### **3.6 Rich library and large community**\n",
        "\n",
        "- Python has numerous reliable built-in libraries. Python programmers have developed tons of free and open-source libraries, so you don't have to code everything by yourself.\n",
        "\n",
        "- The Python community is very large and evergrowing. If you encounter errors while programming in Python, it's like that it has already been asked and solved by someone in this community."
      ]
    },
    {
      "cell_type": "markdown",
      "metadata": {
        "id": "sCK3Nidmv485",
        "colab_type": "text"
      },
      "source": [
        "## **4. Reasons to Choose Python as First Language**"
      ]
    },
    {
      "cell_type": "markdown",
      "metadata": {
        "id": "SPhXOL3QwARG",
        "colab_type": "text"
      },
      "source": [
        "#### **4.1 Simple Elegant Syntax**\n",
        "\n",
        "- Programming in Python is fun. It's easier to understand and write Python code. The syntax feels natural. Let's take the following example where we add two numbers:"
      ]
    },
    {
      "cell_type": "code",
      "metadata": {
        "id": "qH7u7lhEwLKF",
        "colab_type": "code",
        "colab": {
          "base_uri": "https://localhost:8080/",
          "height": 34
        },
        "outputId": "50ea8f6d-0569-4b87-d7ab-02588d24fbfb"
      },
      "source": [
        "a = 2\n",
        "b = 3\n",
        "sum = a + b\n",
        "print(sum)"
      ],
      "execution_count": 1,
      "outputs": [
        {
          "output_type": "stream",
          "text": [
            "5\n"
          ],
          "name": "stdout"
        }
      ]
    },
    {
      "cell_type": "markdown",
      "metadata": {
        "id": "uJB0d3RywWxk",
        "colab_type": "text"
      },
      "source": [
        "- Even if you have never programmed before, you can easily guess that this program adds two numbers and displays it."
      ]
    },
    {
      "cell_type": "markdown",
      "metadata": {
        "id": "0QDAsVdiwbPr",
        "colab_type": "text"
      },
      "source": [
        "#### **4.2 Not overly strict**\n",
        "\n",
        "- You don't need to define the type of a variable in Python. Also, it's not necessary to add a semicolon at the end of the statement.\n",
        "\n",
        "- Python enforces you to follow good practices (like proper indentation). These small things can make learning much easier for beginners."
      ]
    },
    {
      "cell_type": "markdown",
      "metadata": {
        "id": "x7LKZ_-PxFY2",
        "colab_type": "text"
      },
      "source": [
        "#### **4.3 The expressiveness of the language**\n",
        "\n",
        "- Python allows you to write programs having greater functionality with fewer lines of code. \n",
        "\n",
        "- Let's look at code to swap the values of two variables. It can be done in Python with the following lines of code:"
      ]
    },
    {
      "cell_type": "code",
      "metadata": {
        "id": "z4HodpiPxPvo",
        "colab_type": "code",
        "colab": {
          "base_uri": "https://localhost:8080/",
          "height": 51
        },
        "outputId": "be71f942-902d-4f54-c731-a5feb388ec61"
      },
      "source": [
        "a = 15\n",
        "b = 27\n",
        "print(f'Before swapping : a, b = {a}, {b}')\n",
        "a, b = b, a\n",
        "print(f'After swapping : a, b = {a}, {b}')"
      ],
      "execution_count": 2,
      "outputs": [
        {
          "output_type": "stream",
          "text": [
            "Before swapping : a, b = 15, 27\n",
            "After swapping : a, b = 27, 15\n"
          ],
          "name": "stdout"
        }
      ]
    },
    {
      "cell_type": "markdown",
      "metadata": {
        "id": "AtHtyCaByE5V",
        "colab_type": "text"
      },
      "source": [
        "- Here, we can see that the code is very less and more readable."
      ]
    },
    {
      "cell_type": "markdown",
      "metadata": {
        "id": "_eWttbkiyEbZ",
        "colab_type": "text"
      },
      "source": [
        "#### **4.4 Great Community and Support**\n",
        "\n",
        "- Python has a large supporting community. There are numerous active online forums which can come in handy if you are stuck anywhere in the learning process. Some of them are:\n",
        "\n",
        "- [Learn Python subreddit](https://www.reddit.com/r/learnpython/)\n",
        "\n",
        "- [Google Forum for Python](https://groups.google.com/forum/#!forum/comp.lang.python)\n",
        "\n",
        "- [Python Questions - Stack Overflow](https://stackoverflow.com/questions/tagged/python)"
      ]
    },
    {
      "cell_type": "markdown",
      "metadata": {
        "id": "mrymOeQlzCIu",
        "colab_type": "text"
      },
      "source": [
        "## **5. Conclusion**\n",
        "\n",
        "- If you are getting started in programming, Python is an awesome choice. You will be amazed by how much you can do in Python once you know the basics.\n",
        "\n",
        "- It is easy to overlook the fact that Python is a powerful language. Not only is Python good for learning programming, but it is also a good language to have in your arsenal.\n",
        "\n",
        "- Python can help you to get started in everything, whether it is changing your idea into a prototype, creating a game, or getting in Machine Learning and Artificial Intelligence."
      ]
    }
  ]
}