{
  "nbformat": 4,
  "nbformat_minor": 0,
  "metadata": {
    "colab": {
      "name": "Python While Loops",
      "provenance": [],
      "authorship_tag": "ABX9TyMArbECxrAL8L46juvxL9km",
      "include_colab_link": true
    },
    "kernelspec": {
      "name": "python3",
      "display_name": "Python 3"
    }
  },
  "cells": [
    {
      "cell_type": "markdown",
      "metadata": {
        "id": "view-in-github",
        "colab_type": "text"
      },
      "source": [
        "<a href=\"https://colab.research.google.com/github/pb111/Python/blob/master/Python_While_Loops.ipynb\" target=\"_parent\"><img src=\"https://colab.research.google.com/assets/colab-badge.svg\" alt=\"Open In Colab\"/></a>"
      ]
    },
    {
      "cell_type": "markdown",
      "metadata": {
        "id": "Ln943MWf6dYH",
        "colab_type": "text"
      },
      "source": [
        "# **Python While Loops**"
      ]
    },
    {
      "cell_type": "markdown",
      "metadata": {
        "id": "TwPgyORE7vwp",
        "colab_type": "text"
      },
      "source": [
        "## **1. Python Loops**\n",
        "\n",
        "Python has two primitive loop commands:\n",
        "\n",
        "- **while loops**\n",
        "- **for loops**"
      ]
    },
    {
      "cell_type": "markdown",
      "metadata": {
        "id": "R-E83DLIWj-W",
        "colab_type": "text"
      },
      "source": [
        "## **2. The while Loop**\n",
        "\n",
        "- With the while loop we can execute a set of statements as long as a condition is true."
      ]
    },
    {
      "cell_type": "code",
      "metadata": {
        "id": "_lGkVTnuW0ja",
        "colab_type": "code",
        "colab": {
          "base_uri": "https://localhost:8080/",
          "height": 102
        },
        "outputId": "d8866a0d-c65f-4860-9a2a-d174c9b44511"
      },
      "source": [
        "# Example - Print i as long as i is less than 6:\n",
        "\n",
        "i = 1\n",
        "while i < 6:\n",
        "  print(i)\n",
        "  i += 1"
      ],
      "execution_count": 1,
      "outputs": [
        {
          "output_type": "stream",
          "text": [
            "1\n",
            "2\n",
            "3\n",
            "4\n",
            "5\n"
          ],
          "name": "stdout"
        }
      ]
    },
    {
      "cell_type": "markdown",
      "metadata": {
        "id": "sla2q7JnYrUQ",
        "colab_type": "text"
      },
      "source": [
        "- **Note**: remember to increment i, or else the loop will continue forever."
      ]
    },
    {
      "cell_type": "markdown",
      "metadata": {
        "id": "vAAqUaDuYzJ1",
        "colab_type": "text"
      },
      "source": [
        "- The while loop requires relevant variables to be ready, in this example we need to define an indexing variable, i, which we set to 1."
      ]
    },
    {
      "cell_type": "markdown",
      "metadata": {
        "id": "A6cuqlEgY_hm",
        "colab_type": "text"
      },
      "source": [
        "## **3. The break Statement**\n",
        "\n",
        "- With the break statement we can stop the loop even if the while condition is true:"
      ]
    },
    {
      "cell_type": "code",
      "metadata": {
        "id": "rtljTo7-ZLZO",
        "colab_type": "code",
        "colab": {
          "base_uri": "https://localhost:8080/",
          "height": 68
        },
        "outputId": "04600300-fe7f-4ad3-bd27-011a60c88262"
      },
      "source": [
        "# Example - Exit the loop when i is 3:\n",
        "\n",
        "i = 1\n",
        "while i < 6:\n",
        "  print(i)\n",
        "  if i == 3:\n",
        "    break\n",
        "  i += 1"
      ],
      "execution_count": 2,
      "outputs": [
        {
          "output_type": "stream",
          "text": [
            "1\n",
            "2\n",
            "3\n"
          ],
          "name": "stdout"
        }
      ]
    },
    {
      "cell_type": "markdown",
      "metadata": {
        "id": "9ZGez_0wZRPs",
        "colab_type": "text"
      },
      "source": [
        "## **4. The continue Statement**\n",
        "\n",
        "- With the continue statement we can stop the current iteration, and continue with the next:"
      ]
    },
    {
      "cell_type": "code",
      "metadata": {
        "id": "rkMvxBnVaB2G",
        "colab_type": "code",
        "colab": {
          "base_uri": "https://localhost:8080/",
          "height": 102
        },
        "outputId": "8460e375-92e0-455c-ee5d-a9b8586f11f6"
      },
      "source": [
        "# Example - Continue to the next iteration if i is 3:\n",
        "\n",
        "i = 0\n",
        "while i < 6:\n",
        "  i += 1\n",
        "  if i == 3:\n",
        "    continue\n",
        "  print(i)\n"
      ],
      "execution_count": 3,
      "outputs": [
        {
          "output_type": "stream",
          "text": [
            "1\n",
            "2\n",
            "4\n",
            "5\n",
            "6\n"
          ],
          "name": "stdout"
        }
      ]
    },
    {
      "cell_type": "markdown",
      "metadata": {
        "id": "NfyTKkNVaplb",
        "colab_type": "text"
      },
      "source": [
        "## **5. The else Statement**\n",
        "\n",
        "- With the else statement we can run a block of code once when the condition no longer is true:"
      ]
    },
    {
      "cell_type": "code",
      "metadata": {
        "id": "LoqKn6cEawWt",
        "colab_type": "code",
        "colab": {
          "base_uri": "https://localhost:8080/",
          "height": 119
        },
        "outputId": "dc80a6aa-9881-41ff-a7e1-ae9559850409"
      },
      "source": [
        "# Example - Print a message once the condition is false:\n",
        "\n",
        "i = 1\n",
        "while i < 6:\n",
        "  print(i)\n",
        "  i += 1\n",
        "else:\n",
        "  print(\"i is no longer less than 6\")"
      ],
      "execution_count": 4,
      "outputs": [
        {
          "output_type": "stream",
          "text": [
            "1\n",
            "2\n",
            "3\n",
            "4\n",
            "5\n",
            "i is no longer less than 6\n"
          ],
          "name": "stdout"
        }
      ]
    }
  ]
}