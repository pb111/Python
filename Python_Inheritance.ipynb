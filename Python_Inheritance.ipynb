{
  "nbformat": 4,
  "nbformat_minor": 0,
  "metadata": {
    "colab": {
      "name": "Python Inheritance",
      "provenance": [],
      "authorship_tag": "ABX9TyOv/rmdIaghUEbRz4qWLBIP",
      "include_colab_link": true
    },
    "kernelspec": {
      "name": "python3",
      "display_name": "Python 3"
    }
  },
  "cells": [
    {
      "cell_type": "markdown",
      "metadata": {
        "id": "view-in-github",
        "colab_type": "text"
      },
      "source": [
        "<a href=\"https://colab.research.google.com/github/pb111/Python-tutorials-and-projects/blob/master/Python_Inheritance.ipynb\" target=\"_parent\"><img src=\"https://colab.research.google.com/assets/colab-badge.svg\" alt=\"Open In Colab\"/></a>"
      ]
    },
    {
      "cell_type": "markdown",
      "metadata": {
        "id": "RlG9nSFXSvq3"
      },
      "source": [
        "# **Python Inheritance**\n",
        "\n",
        "- **Inheritance** enables us to define a class that takes all the functionality from a parent class and allows us to add more. In this tutorial, you will learn to use inheritance in Python."
      ]
    },
    {
      "cell_type": "markdown",
      "metadata": {
        "id": "6kwQWVt-UHmN"
      },
      "source": [
        "## **1. Inheritance in Python**\n",
        "\n",
        "- **Inheritance** is a powerful feature in object oriented programming.\n",
        "\n",
        "- It refers to defining a new [class](https://www.programiz.com/python-programming/class) with little or no modification to an existing class. \n",
        "\n",
        "- The new class is called **derived (or child) class**. \n",
        "\n",
        "- The one from which it inherits is called the **base (or parent) class**."
      ]
    },
    {
      "cell_type": "markdown",
      "metadata": {
        "id": "kU8B70PiVUbY"
      },
      "source": [
        "## **2. Python Inheritance Syntax**\n",
        "\n",
        "\n",
        "- `class BaseClass:`\n",
        "  - Body of base class\n",
        "- `class DerivedClass(BaseClass):`\n",
        "  - Body of derived class\n",
        "\n",
        "\n",
        "- Derived class inherits features from the base class where new features can be added to it. This results in re-usability of code."
      ]
    },
    {
      "cell_type": "markdown",
      "metadata": {
        "id": "T-b3BpkxZlUs"
      },
      "source": [
        "https://www.programiz.com/python-programming/inheritance"
      ]
    },
    {
      "cell_type": "markdown",
      "metadata": {
        "id": "T-vwPyVSVu_p"
      },
      "source": [
        "## **3. Inheritance**\n",
        "\n",
        "- **Inheritance** is a way of creating a new class for using details of an existing class without modifying it. \n",
        "- The newly formed class is a **derived class (or child class)**. \n",
        "- Similarly, the existing class is a **base class (or parent class)**."
      ]
    },
    {
      "cell_type": "markdown",
      "metadata": {
        "id": "ibXUnc17a-SA"
      },
      "source": [
        "#### **Example 3: Use of Inheritance in Python**"
      ]
    },
    {
      "cell_type": "code",
      "metadata": {
        "colab": {
          "base_uri": "https://localhost:8080/"
        },
        "id": "5fw53uVSa3h8",
        "outputId": "40ea3047-8d6b-4169-cc6f-1d4e7d83ba71"
      },
      "source": [
        "# parent class\n",
        "class Bird:\n",
        "\n",
        "    def __init__(self):\n",
        "        print(\"Bird is ready\")\n",
        "\n",
        "    def whoisThis(self):\n",
        "        print(\"Bird\")\n",
        "\n",
        "    def swim(self):\n",
        "        print(\"Swim faster\")\n",
        "\n",
        "# child class\n",
        "class Penguin(Bird):\n",
        "\n",
        "    def __init__(self):\n",
        "        # call super function\n",
        "        super().__init__()\n",
        "        print(\"Penguin is ready\")\n",
        "\n",
        "    def whoisThis(self):\n",
        "        print(\"Penguin\")\n",
        "\n",
        "    def run(self):\n",
        "        print(\"Run faster\")\n",
        "\n",
        "peggy = Penguin()\n",
        "peggy.whoisThis()\n",
        "peggy.swim()\n",
        "peggy.run()"
      ],
      "execution_count": 1,
      "outputs": [
        {
          "output_type": "stream",
          "text": [
            "Bird is ready\n",
            "Penguin is ready\n",
            "Penguin\n",
            "Swim faster\n",
            "Run faster\n"
          ],
          "name": "stdout"
        }
      ]
    },
    {
      "cell_type": "markdown",
      "metadata": {
        "id": "xtungOWBf8v-"
      },
      "source": [
        "- In the above program, we created two classes i.e. `Bird` (parent class) and `Penguin` (child class). The child class inherits the functions of parent class. We can see this from the `swim()` method.\n",
        "\n",
        "- Again, the child class modified the behavior of the parent class. We can see this from the `whoisThis()` method. Furthermore, we extend the functions of the parent class, by creating a new `run()` method.\n",
        "\n",
        "- Additionally, we use the `super()` function inside the `__init__()` method. This allows us to run the `__init__()` method of the parent class inside the child class."
      ]
    },
    {
      "cell_type": "markdown",
      "metadata": {
        "id": "Rsi_PnTcxyUQ"
      },
      "source": [
        "https://www.programiz.com/python-programming/object-oriented-programming"
      ]
    },
    {
      "cell_type": "markdown",
      "metadata": {
        "id": "cAuvt06Sghe5"
      },
      "source": [
        "## **4. Example of Inheritance in Python**\n",
        "\n",
        "- To demonstrate the use of inheritance, let us take an example.\n",
        "\n",
        "- A polygon is a closed figure with 3 or more sides. Say, we have a class called Polygon defined as follows."
      ]
    },
    {
      "cell_type": "code",
      "metadata": {
        "id": "ND_xftTWdlaq"
      },
      "source": [
        "class Polygon:\n",
        "\n",
        "    def __init__(self, no_of_sides):\n",
        "        self.n = no_of_sides\n",
        "        self.sides = [0 for i in range(no_of_sides)]\n",
        "\n",
        "    def inputSides(self):\n",
        "        self.sides = [float(input(\"Enter side \" +str(i+1)+\" : \" )) for i in range(self.n)]\n",
        "    \n",
        "    def dispSides(self):\n",
        "        for i in range(self.n):\n",
        "            print(\"Side\", i+1, \"is\",self.sides[i])"
      ],
      "execution_count": 2,
      "outputs": []
    },
    {
      "cell_type": "markdown",
      "metadata": {
        "id": "UpOXQKzRaCbP"
      },
      "source": [
        "- This class has data attributes to store the number of sides `n` and magnitude of each side as a list called `sides`.\n",
        "\n",
        "- The `inputSides()` method takes in the magnitude of each side and `dispSides()` displays these side lengths.\n",
        "\n",
        "- A triangle is a polygon with 3 sides. So, we can create a class called `Triangle` which inherits from `Polygon`. This makes all the attributes of `Polygon` class available to the `Triangle` class.\n",
        "\n",
        "- We don't need to define them again (code reusability). `Triangle` can be defined as follows."
      ]
    },
    {
      "cell_type": "code",
      "metadata": {
        "id": "U_uk4sYDVcsL"
      },
      "source": [
        "class Triangle(Polygon):\n",
        "    def __init__(self):\n",
        "        Polygon.__init__(self,3)\n",
        "\n",
        "    def findArea(self):\n",
        "        a,b,c = self.sides\n",
        "        # calculate the semi-perimeter\n",
        "        s = (a + b + c)/2\n",
        "        area = (s*(s-a)*(s-b)*(s-c)) ** 0.5\n",
        "        print('The area of the triangle is %0.2f' %area)"
      ],
      "execution_count": 3,
      "outputs": []
    },
    {
      "cell_type": "markdown",
      "metadata": {
        "id": "FJwE3y4xw6C_"
      },
      "source": [
        "- However, class `Triangle` has a new method `findArea()` to find and print the area of the triangle. Here is a sample run."
      ]
    },
    {
      "cell_type": "code",
      "metadata": {
        "id": "5KzkbXeaxBue"
      },
      "source": [
        "t = Triangle()"
      ],
      "execution_count": 4,
      "outputs": []
    },
    {
      "cell_type": "code",
      "metadata": {
        "colab": {
          "base_uri": "https://localhost:8080/"
        },
        "id": "wrD5vJS5whur",
        "outputId": "05ae502f-0fc6-47f5-b31b-f6e3b2ef58ef"
      },
      "source": [
        "t.inputSides()"
      ],
      "execution_count": 5,
      "outputs": [
        {
          "output_type": "stream",
          "text": [
            "Enter side 1 : 3\n",
            "Enter side 2 : 5\n",
            "Enter side 3 : 4\n"
          ],
          "name": "stdout"
        }
      ]
    },
    {
      "cell_type": "code",
      "metadata": {
        "colab": {
          "base_uri": "https://localhost:8080/"
        },
        "id": "p8fKIshpx534",
        "outputId": "f740b1b4-f083-4bbf-d703-ff375c51b7c2"
      },
      "source": [
        "t.dispSides()"
      ],
      "execution_count": 6,
      "outputs": [
        {
          "output_type": "stream",
          "text": [
            "Side 1 is 3.0\n",
            "Side 2 is 5.0\n",
            "Side 3 is 4.0\n"
          ],
          "name": "stdout"
        }
      ]
    },
    {
      "cell_type": "code",
      "metadata": {
        "colab": {
          "base_uri": "https://localhost:8080/"
        },
        "id": "87AzUbF0x_P8",
        "outputId": "0bf052e6-8155-417a-b106-0d1d8e3fd54a"
      },
      "source": [
        "t.findArea()"
      ],
      "execution_count": 7,
      "outputs": [
        {
          "output_type": "stream",
          "text": [
            "The area of the triangle is 6.00\n"
          ],
          "name": "stdout"
        }
      ]
    },
    {
      "cell_type": "markdown",
      "metadata": {
        "id": "C-XYkOhJyQjM"
      },
      "source": [
        "- We can see that even though we did not define methods like `inputSides()` or `dispSides()` for class Triangle separately, we were able to use them.\n",
        "\n",
        "- If an attribute is not found in the class itself, the search continues to the base class. This repeats recursively, if the base class is itself derived from other classes."
      ]
    },
    {
      "cell_type": "markdown",
      "metadata": {
        "id": "AU_pcp6CukF3"
      },
      "source": [
        "https://www.programiz.com/python-programming/inheritance"
      ]
    },
    {
      "cell_type": "markdown",
      "metadata": {
        "id": "ezdU-gNpyoup"
      },
      "source": [
        "## **5. Method Overriding in Python**\n",
        "\n",
        "\n",
        "- In the above example, notice that `__init__()` method was defined in both classes, `Triangle` as well `Polygon`. When this happens, the method in the derived class overrides that in the base class. This is to say, `__init__()` in `Triangle` gets preference over the `__init__` in `Polygon`.\n",
        "\n",
        "- Generally, when overriding a base method, we tend to extend the definition rather than simply replace it. The same is being done by calling the method in base class from the one in derived class (calling `Polygon.__init__()` from `__init__()` in `Triangle`).\n",
        "\n",
        "- A better option would be to use the built-in function `super()`. So, `super().__init__(3)` is equivalent to `Polygon.__init__(self,3)` and is preferred. To learn more about the `super()` function in Python, visit [Python super() function](https://rhettinger.wordpress.com/2011/05/26/super-considered-super/) and [Python super() function](https://www.programiz.com/python-programming/methods/built-in/super).\n",
        "\n",
        "- Two built-in functions `isinstance()` and `issubclass()` are used to check inheritances.\n",
        "\n",
        "- The function `isinstance()` returns `True` if the object is an instance of the class or other classes derived from it. Each and every class in Python inherits from the base class `object`.\n"
      ]
    },
    {
      "cell_type": "code",
      "metadata": {
        "colab": {
          "base_uri": "https://localhost:8080/"
        },
        "id": "YnRmiGQB7Hl5",
        "outputId": "9da06b0a-d383-4a86-9da7-30932f53798c"
      },
      "source": [
        "isinstance(t,Triangle)"
      ],
      "execution_count": 8,
      "outputs": [
        {
          "output_type": "execute_result",
          "data": {
            "text/plain": [
              "True"
            ]
          },
          "metadata": {
            "tags": []
          },
          "execution_count": 8
        }
      ]
    },
    {
      "cell_type": "code",
      "metadata": {
        "colab": {
          "base_uri": "https://localhost:8080/"
        },
        "id": "P4WvENQt7NL5",
        "outputId": "8edb3293-986c-4f15-8177-0df98632e354"
      },
      "source": [
        "isinstance(t,Polygon)"
      ],
      "execution_count": 9,
      "outputs": [
        {
          "output_type": "execute_result",
          "data": {
            "text/plain": [
              "True"
            ]
          },
          "metadata": {
            "tags": []
          },
          "execution_count": 9
        }
      ]
    },
    {
      "cell_type": "code",
      "metadata": {
        "colab": {
          "base_uri": "https://localhost:8080/"
        },
        "id": "l0gvwKQ97SNk",
        "outputId": "fe703734-d16b-4e1f-e198-39c29e88dbfb"
      },
      "source": [
        "isinstance(t,int)"
      ],
      "execution_count": 10,
      "outputs": [
        {
          "output_type": "execute_result",
          "data": {
            "text/plain": [
              "False"
            ]
          },
          "metadata": {
            "tags": []
          },
          "execution_count": 10
        }
      ]
    },
    {
      "cell_type": "code",
      "metadata": {
        "colab": {
          "base_uri": "https://localhost:8080/"
        },
        "id": "qIxrfdGQ7YvS",
        "outputId": "2e2e6813-9507-48ee-fc6a-fa81b9f15d1d"
      },
      "source": [
        "isinstance(t,object)"
      ],
      "execution_count": 11,
      "outputs": [
        {
          "output_type": "execute_result",
          "data": {
            "text/plain": [
              "True"
            ]
          },
          "metadata": {
            "tags": []
          },
          "execution_count": 11
        }
      ]
    },
    {
      "cell_type": "markdown",
      "metadata": {
        "id": "S7z9w2hd7kls"
      },
      "source": [
        "- Similarly, `issubclass()` is used to check for class inheritance."
      ]
    },
    {
      "cell_type": "code",
      "metadata": {
        "colab": {
          "base_uri": "https://localhost:8080/"
        },
        "id": "pbHmGw0T7dGt",
        "outputId": "4c87f86f-2f07-4716-bf3d-bf02d30bf5ef"
      },
      "source": [
        "issubclass(Polygon,Triangle)"
      ],
      "execution_count": 12,
      "outputs": [
        {
          "output_type": "execute_result",
          "data": {
            "text/plain": [
              "False"
            ]
          },
          "metadata": {
            "tags": []
          },
          "execution_count": 12
        }
      ]
    },
    {
      "cell_type": "code",
      "metadata": {
        "colab": {
          "base_uri": "https://localhost:8080/"
        },
        "id": "n8BBt_WD7r_X",
        "outputId": "ba3f8552-c966-4560-df2f-df69684beed9"
      },
      "source": [
        "issubclass(Triangle,Polygon)"
      ],
      "execution_count": 13,
      "outputs": [
        {
          "output_type": "execute_result",
          "data": {
            "text/plain": [
              "True"
            ]
          },
          "metadata": {
            "tags": []
          },
          "execution_count": 13
        }
      ]
    },
    {
      "cell_type": "code",
      "metadata": {
        "colab": {
          "base_uri": "https://localhost:8080/"
        },
        "id": "JrIi4IIL7wDl",
        "outputId": "b73a1edb-d2b9-4dc8-f93b-8c6085af6461"
      },
      "source": [
        "issubclass(bool,int)"
      ],
      "execution_count": 14,
      "outputs": [
        {
          "output_type": "execute_result",
          "data": {
            "text/plain": [
              "True"
            ]
          },
          "metadata": {
            "tags": []
          },
          "execution_count": 14
        }
      ]
    },
    {
      "cell_type": "markdown",
      "metadata": {
        "id": "lCvG4Fnjyy11"
      },
      "source": [
        "https://www.programiz.com/python-programming/inheritance"
      ]
    }
  ]
}