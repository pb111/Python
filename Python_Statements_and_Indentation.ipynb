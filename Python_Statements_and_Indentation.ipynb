{
  "nbformat": 4,
  "nbformat_minor": 0,
  "metadata": {
    "colab": {
      "name": "Python Statements and Indentation",
      "provenance": [],
      "authorship_tag": "ABX9TyOWOmwo8dlL6KbkUViix1/F",
      "include_colab_link": true
    },
    "kernelspec": {
      "name": "python3",
      "display_name": "Python 3"
    }
  },
  "cells": [
    {
      "cell_type": "markdown",
      "metadata": {
        "id": "view-in-github",
        "colab_type": "text"
      },
      "source": [
        "<a href=\"https://colab.research.google.com/github/pb111/Python/blob/master/Python_Statements_and_Indentation.ipynb\" target=\"_parent\"><img src=\"https://colab.research.google.com/assets/colab-badge.svg\" alt=\"Open In Colab\"/></a>"
      ]
    },
    {
      "cell_type": "markdown",
      "metadata": {
        "id": "URzcMc6HBI0s",
        "colab_type": "text"
      },
      "source": [
        "# **Python Statements and Indentation**"
      ]
    },
    {
      "cell_type": "markdown",
      "metadata": {
        "id": "YA8V1oEPBam6",
        "colab_type": "text"
      },
      "source": [
        "In this tutorial, you will learn about Python statements, why indentation is important and use of comments in programming."
      ]
    },
    {
      "cell_type": "markdown",
      "metadata": {
        "id": "CfOH2imiBppw",
        "colab_type": "text"
      },
      "source": [
        "## **1. Python Statement**\n",
        "\n",
        "- Instructions that a Python interpreter can execute are called **statements**. \n",
        "\n",
        "- For example, a = 1 is an assignment statement. \n",
        "\n",
        "- if statement, for statement, while statement, etc. are other kinds of statements."
      ]
    },
    {
      "cell_type": "markdown",
      "metadata": {
        "id": "iqzNGc-ICiLa",
        "colab_type": "text"
      },
      "source": [
        "#### **1.1 Multi-line statement**\n",
        "\n",
        "- In Python, the end of a statement is marked by a newline character. \n",
        "\n",
        "- But we can make a statement extend over multiple lines with the line continuation character (\\). \n",
        "\n",
        "- For example:"
      ]
    },
    {
      "cell_type": "code",
      "metadata": {
        "id": "JuhGY4_gC2eJ",
        "colab_type": "code",
        "colab": {}
      },
      "source": [
        "a = 1 + 2 + 3 + \\\n",
        "    4 + 5 + 6 + \\\n",
        "    7 + 8 + 9"
      ],
      "execution_count": 1,
      "outputs": []
    },
    {
      "cell_type": "markdown",
      "metadata": {
        "id": "Ju0zePVQDHvh",
        "colab_type": "text"
      },
      "source": [
        "- This is an explicit line continuation. \n",
        "\n",
        "- In Python, line continuation is implied inside parentheses ( ), brackets [ ], and braces { }. \n",
        "\n",
        "- For instance, we can implement the above multi-line statement as:"
      ]
    },
    {
      "cell_type": "code",
      "metadata": {
        "id": "NRB_GQB1DRFV",
        "colab_type": "code",
        "colab": {}
      },
      "source": [
        "a = (1 + 2 + 3 +\n",
        "    4 + 5 + 6 +\n",
        "    7 + 8 + 9)"
      ],
      "execution_count": 2,
      "outputs": []
    },
    {
      "cell_type": "markdown",
      "metadata": {
        "id": "TT87AeRuDeUL",
        "colab_type": "text"
      },
      "source": [
        "- Here, the surrounding parentheses ( ) do the line continuation implicitly.\n",
        "\n",
        "- Same is the case with [ ] and { }. \n",
        "\n",
        "- For example:"
      ]
    },
    {
      "cell_type": "code",
      "metadata": {
        "id": "Qc4tV_JrDoEu",
        "colab_type": "code",
        "colab": {}
      },
      "source": [
        "colors = ['red',\n",
        "          'blue',\n",
        "          'green']"
      ],
      "execution_count": 3,
      "outputs": []
    },
    {
      "cell_type": "markdown",
      "metadata": {
        "id": "Vxcyuyw2Dyz3",
        "colab_type": "text"
      },
      "source": [
        "- We can also put multiple statements in a single line using semicolons, as follows:"
      ]
    },
    {
      "cell_type": "code",
      "metadata": {
        "id": "AUe5rEQND1nW",
        "colab_type": "code",
        "colab": {}
      },
      "source": [
        "a = 1; b = 2; c = 3"
      ],
      "execution_count": 4,
      "outputs": []
    },
    {
      "cell_type": "markdown",
      "metadata": {
        "id": "jMI48F0REblt",
        "colab_type": "text"
      },
      "source": [
        "## **2. Python Indentation**\n",
        "\n",
        "- Most of the programming languages like C, C++, and Java use braces { } to define a block of code. Python, however, uses indentation.\n",
        "\n",
        "- A code block (body of a function, loop, etc.) starts with indentation and ends with the first unindented line. The amount of indentation is up to you, but it must be consistent throughout that block.\n",
        "\n",
        "- Generally, four whitespaces are used for indentation and are preferred over tabs. \n",
        "\n",
        "- Here is an example."
      ]
    },
    {
      "cell_type": "code",
      "metadata": {
        "id": "bl34jy6XEplH",
        "colab_type": "code",
        "colab": {
          "base_uri": "https://localhost:8080/",
          "height": 102
        },
        "outputId": "d9529289-6f00-40b5-de15-333819cdcbb0"
      },
      "source": [
        "for i in range(1,11):\n",
        "    print(i)\n",
        "    if i == 5:\n",
        "        break"
      ],
      "execution_count": 5,
      "outputs": [
        {
          "output_type": "stream",
          "text": [
            "1\n",
            "2\n",
            "3\n",
            "4\n",
            "5\n"
          ],
          "name": "stdout"
        }
      ]
    },
    {
      "cell_type": "markdown",
      "metadata": {
        "id": "DeW1zVYGFSb3",
        "colab_type": "text"
      },
      "source": [
        "- The enforcement of indentation in Python makes the code look neat and clean.\n",
        "\n",
        "- This results in Python programs that look similar and consistent."
      ]
    },
    {
      "cell_type": "markdown",
      "metadata": {
        "id": "Fp6uzp7nFvK4",
        "colab_type": "text"
      },
      "source": [
        "- Indentation can be ignored in line continuation, but it's always a good idea to indent. \n",
        "\n",
        "- It makes the code more readable. \n",
        "\n",
        "- For example:"
      ]
    },
    {
      "cell_type": "code",
      "metadata": {
        "id": "3GpSlya_F03Z",
        "colab_type": "code",
        "colab": {
          "base_uri": "https://localhost:8080/",
          "height": 34
        },
        "outputId": "536ce1f5-7c91-4441-b06b-71731141d4ac"
      },
      "source": [
        "if True:\n",
        "    print('Hello')\n",
        "    a = 5"
      ],
      "execution_count": 6,
      "outputs": [
        {
          "output_type": "stream",
          "text": [
            "Hello\n"
          ],
          "name": "stdout"
        }
      ]
    },
    {
      "cell_type": "markdown",
      "metadata": {
        "id": "LVwDqJOoGUPn",
        "colab_type": "text"
      },
      "source": [
        "and"
      ]
    },
    {
      "cell_type": "code",
      "metadata": {
        "id": "e9ZWOcXpGW1b",
        "colab_type": "code",
        "colab": {
          "base_uri": "https://localhost:8080/",
          "height": 34
        },
        "outputId": "ff366fe1-7614-4e47-d4ae-81b37d9d63f6"
      },
      "source": [
        "if True: print('Hello'); a = 5"
      ],
      "execution_count": 7,
      "outputs": [
        {
          "output_type": "stream",
          "text": [
            "Hello\n"
          ],
          "name": "stdout"
        }
      ]
    },
    {
      "cell_type": "markdown",
      "metadata": {
        "id": "5C4hy7a5G9J3",
        "colab_type": "text"
      },
      "source": [
        "both are valid and do the same thing, but the former style is clearer."
      ]
    },
    {
      "cell_type": "markdown",
      "metadata": {
        "id": "pPAkRdzHHD48",
        "colab_type": "text"
      },
      "source": [
        "Incorrect indentation will result in IndentationError."
      ]
    }
  ]
}