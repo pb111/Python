{
  "nbformat": 4,
  "nbformat_minor": 0,
  "metadata": {
    "colab": {
      "name": "Python Comments ",
      "provenance": [],
      "authorship_tag": "ABX9TyM8kfVbmpOTA1JiwyUNk/DG",
      "include_colab_link": true
    },
    "kernelspec": {
      "name": "python3",
      "display_name": "Python 3"
    }
  },
  "cells": [
    {
      "cell_type": "markdown",
      "metadata": {
        "id": "view-in-github",
        "colab_type": "text"
      },
      "source": [
        "<a href=\"https://colab.research.google.com/github/pb111/Python/blob/master/Python_Comments.ipynb\" target=\"_parent\"><img src=\"https://colab.research.google.com/assets/colab-badge.svg\" alt=\"Open In Colab\"/></a>"
      ]
    },
    {
      "cell_type": "markdown",
      "metadata": {
        "id": "g_tiRJ_klMIK",
        "colab_type": "text"
      },
      "source": [
        "# **Python Comments**"
      ]
    },
    {
      "cell_type": "markdown",
      "metadata": {
        "id": "LdFxyQ8MlUMt",
        "colab_type": "text"
      },
      "source": [
        "## **1. Python Comments**"
      ]
    },
    {
      "cell_type": "markdown",
      "metadata": {
        "id": "Xlhi4aphlfpi",
        "colab_type": "text"
      },
      "source": [
        "- Comments are very important while writing a program. They describe what is going on inside a program, so that a person looking at the source code does not have a hard time figuring it out.\n",
        "\n",
        "- You might forget the key details of the program you just wrote in a month's time. So taking the time to explain these concepts in the form of comments is always fruitful.\n",
        "\n",
        "- In Python, we use the hash (#) symbol to start writing a comment.\n",
        "\n",
        "- It extends up to the newline character. Comments are for programmers to better understand a program. Python Interpreter ignores comments."
      ]
    },
    {
      "cell_type": "code",
      "metadata": {
        "id": "UZNxJa-ZnK-E",
        "colab_type": "code",
        "colab": {
          "base_uri": "https://localhost:8080/",
          "height": 34
        },
        "outputId": "9d10c8f7-65cc-4dd1-84e7-59d4a20dff32"
      },
      "source": [
        "# This is a comment\n",
        "# print out Hello\n",
        "print('Hello')"
      ],
      "execution_count": 1,
      "outputs": [
        {
          "output_type": "stream",
          "text": [
            "Hello\n"
          ],
          "name": "stdout"
        }
      ]
    },
    {
      "cell_type": "markdown",
      "metadata": {
        "id": "_ZN9u3mS6Z__",
        "colab_type": "text"
      },
      "source": [
        "- Comments are descriptions that help programmers better understand the intent and functionality of the program.\n",
        "\n",
        "- They are completely ignored by the Python interpreter."
      ]
    },
    {
      "cell_type": "markdown",
      "metadata": {
        "id": "VheiCQz96rOF",
        "colab_type": "text"
      },
      "source": [
        "### **Advantages of Using Comments**\n",
        "\n",
        "- Using comments in programs makes our code more understandable. It makes the program more readable which helps us remember why certain blocks of code were written.\n",
        "\n",
        "- Other than that, comments can also be used to ignore some code while testing other blocks of code. This offers a simple way to prevent the execution of some lines or write a quick pseudo-code for the program."
      ]
    },
    {
      "cell_type": "markdown",
      "metadata": {
        "id": "KdlFT8PS7Hqj",
        "colab_type": "text"
      },
      "source": [
        "### **1.1 Single-Line Comments in Python**\n",
        "\n",
        "- In Python, we use the hash symbol # to write a single-line comment."
      ]
    },
    {
      "cell_type": "markdown",
      "metadata": {
        "id": "4NQVQNNO7Z2x",
        "colab_type": "text"
      },
      "source": [
        "##### **Example 1: Writing Single-Line Comments**"
      ]
    },
    {
      "cell_type": "code",
      "metadata": {
        "id": "qNrEzF-z7cv5",
        "colab_type": "code",
        "colab": {
          "base_uri": "https://localhost:8080/",
          "height": 34
        },
        "outputId": "72c0228b-eb5e-44a5-9691-d868e99155ab"
      },
      "source": [
        "# printing a string\n",
        "print(\"Hello world\")"
      ],
      "execution_count": 2,
      "outputs": [
        {
          "output_type": "stream",
          "text": [
            "Hello world\n"
          ],
          "name": "stdout"
        }
      ]
    },
    {
      "cell_type": "markdown",
      "metadata": {
        "id": "4Can5MVG8d2z",
        "colab_type": "text"
      },
      "source": [
        "- Here, the comment is:\n",
        "\n",
        "- **# printing a string**"
      ]
    },
    {
      "cell_type": "markdown",
      "metadata": {
        "id": "8K2um72d8wbP",
        "colab_type": "text"
      },
      "source": [
        "- This line is ignored by the Python interpreter.\n",
        "\n",
        "- Everything that comes after # is ignored. So, we can also write the above program in a single line as:"
      ]
    },
    {
      "cell_type": "code",
      "metadata": {
        "id": "jqSMqhfw81k-",
        "colab_type": "code",
        "colab": {
          "base_uri": "https://localhost:8080/",
          "height": 34
        },
        "outputId": "35326219-13b0-4aca-8f14-63abc7bfada1"
      },
      "source": [
        "print(\"Hello world\") # printing a string"
      ],
      "execution_count": 3,
      "outputs": [
        {
          "output_type": "stream",
          "text": [
            "Hello world\n"
          ],
          "name": "stdout"
        }
      ]
    },
    {
      "cell_type": "markdown",
      "metadata": {
        "id": "B-NjyPVC9NKj",
        "colab_type": "text"
      },
      "source": [
        "- The output of this program will be the same as in Example 1. The interpreter ignores all the text after #."
      ]
    },
    {
      "cell_type": "markdown",
      "metadata": {
        "id": "kIaGODcUneDt",
        "colab_type": "text"
      },
      "source": [
        "### **1.2 Multi-line comments in Python**"
      ]
    },
    {
      "cell_type": "markdown",
      "metadata": {
        "id": "Jj8EpW_zpNvu",
        "colab_type": "text"
      },
      "source": [
        "- We can have comments that extend up to multiple lines. \n",
        "\n",
        "- One way is to use the hash(#) symbol at the beginning of each line. \n",
        "\n",
        "- For example:"
      ]
    },
    {
      "cell_type": "code",
      "metadata": {
        "id": "YPD7uFi-pZkN",
        "colab_type": "code",
        "colab": {}
      },
      "source": [
        "# This is a long comment\n",
        "# and it extends\n",
        "# to multiple lines"
      ],
      "execution_count": 4,
      "outputs": []
    },
    {
      "cell_type": "markdown",
      "metadata": {
        "id": "XJj5yJ2N9tMM",
        "colab_type": "text"
      },
      "source": [
        "- We can use # at the beginning of each line of comment on multiple lines."
      ]
    },
    {
      "cell_type": "markdown",
      "metadata": {
        "id": "JND07Qlf90hC",
        "colab_type": "text"
      },
      "source": [
        "#### **Example 2: Using multiple #**"
      ]
    },
    {
      "cell_type": "code",
      "metadata": {
        "id": "GsuNh98_93aU",
        "colab_type": "code",
        "colab": {}
      },
      "source": [
        "# it is a \n",
        "# multiline\n",
        "# comment"
      ],
      "execution_count": 5,
      "outputs": []
    },
    {
      "cell_type": "markdown",
      "metadata": {
        "id": "02OsiKGz-Q9l",
        "colab_type": "text"
      },
      "source": [
        "- Here, each line is treated as a single comment and all of them are ignored."
      ]
    },
    {
      "cell_type": "markdown",
      "metadata": {
        "id": "w6wCPVdO-gAy",
        "colab_type": "text"
      },
      "source": [
        "### **1.3 String Literals for Multi-line Comments in Python**"
      ]
    },
    {
      "cell_type": "markdown",
      "metadata": {
        "id": "pohqF61LqJCI",
        "colab_type": "text"
      },
      "source": [
        "- Another way of doing this is to use triple quotes, either ''' or \"\"\".\n",
        "\n"
      ]
    },
    {
      "cell_type": "markdown",
      "metadata": {
        "id": "PYaWQd5uqU89",
        "colab_type": "text"
      },
      "source": [
        "- These triple quotes are generally used for multi-line strings. \n",
        "\n",
        "- But they can be used as a multi-line comment as well. Unless they are not docstrings, they do not generate any extra code.\n",
        "\n",
        "- For example: the above multi-line comment can be written as follows-"
      ]
    },
    {
      "cell_type": "code",
      "metadata": {
        "id": "JnO2ws1CrMCj",
        "colab_type": "code",
        "colab": {
          "base_uri": "https://localhost:8080/",
          "height": 34
        },
        "outputId": "af734490-3c19-47ef-cfaf-26916e05bd84"
      },
      "source": [
        "'''\n",
        "This is a long comment\n",
        "and it extends\n",
        "to multiple lines\n",
        "\n",
        "''' \n",
        "print('Hello')"
      ],
      "execution_count": 6,
      "outputs": [
        {
          "output_type": "stream",
          "text": [
            "Hello\n"
          ],
          "name": "stdout"
        }
      ]
    },
    {
      "cell_type": "markdown",
      "metadata": {
        "id": "00a5HHXC_UTG",
        "colab_type": "text"
      },
      "source": [
        "- Even though there is no unique way to write multiline comments in Python, we know that the Python interpreter ignores the string literals that are not assigned to a variable.\n",
        "\n",
        "- So, we can even write a single-line comment as:"
      ]
    },
    {
      "cell_type": "code",
      "metadata": {
        "id": "c1o_Qb-h_ZgC",
        "colab_type": "code",
        "colab": {
          "base_uri": "https://localhost:8080/",
          "height": 35
        },
        "outputId": "84eb4600-cd92-48c3-c844-991adb5314d3"
      },
      "source": [
        "# this is a comment\n",
        "'this is an unassigned string as a comment'"
      ],
      "execution_count": 7,
      "outputs": [
        {
          "output_type": "execute_result",
          "data": {
            "application/vnd.google.colaboratory.intrinsic+json": {
              "type": "string"
            },
            "text/plain": [
              "'this is an unassigned string as a comment'"
            ]
          },
          "metadata": {
            "tags": []
          },
          "execution_count": 7
        }
      ]
    },
    {
      "cell_type": "markdown",
      "metadata": {
        "id": "taaUJeNa_2BQ",
        "colab_type": "text"
      },
      "source": [
        "- Here, we can see that the second line of the program is a string but is not assigned to any variable or function. So, the interpreter ignores the string.\n",
        "\n",
        "- In a similar way, we can use multiline strings (triple quotes) to write multiline comments.\n",
        "\n",
        "- The quotation character can either be ' or \"."
      ]
    },
    {
      "cell_type": "markdown",
      "metadata": {
        "id": "hxUeEowNADAK",
        "colab_type": "text"
      },
      "source": [
        "#### **Example 3: Using String Literals to write Multi-line Comments**"
      ]
    },
    {
      "cell_type": "code",
      "metadata": {
        "id": "dDv9KYMlAF_S",
        "colab_type": "code",
        "colab": {
          "base_uri": "https://localhost:8080/",
          "height": 34
        },
        "outputId": "bc587127-23fb-422a-fb89-2a2d9cb6ed57"
      },
      "source": [
        "'''\n",
        "\n",
        "I am a \n",
        "multiline comment!\n",
        "\n",
        "'''\n",
        "print(\"Hello World\")\n",
        "\n"
      ],
      "execution_count": 8,
      "outputs": [
        {
          "output_type": "stream",
          "text": [
            "Hello World\n"
          ],
          "name": "stdout"
        }
      ]
    },
    {
      "cell_type": "markdown",
      "metadata": {
        "id": "3C_-bU7sAc19",
        "colab_type": "text"
      },
      "source": [
        "- Here, the multiline string isn't assigned to any variable, so it is ignored by the interpreter. Even though it is not technically a multiline comment, it can be used as one."
      ]
    }
  ]
}